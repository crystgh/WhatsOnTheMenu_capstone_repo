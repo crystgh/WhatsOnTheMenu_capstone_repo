{
 "cells": [
  {
   "cell_type": "markdown",
   "id": "1949976b-8c4f-4cf8-8722-c6b07da1600c",
   "metadata": {},
   "source": [
    "# Recipe Recommendation System: What's On The Menu? 🍽️👩‍🍳\n",
    "# Data Cleaning and Preprocessing Steps"
   ]
  },
  {
   "attachments": {},
   "cell_type": "markdown",
   "id": "c122f7e4-8600-4a72-8989-c66041def731",
   "metadata": {},
   "source": [
    "## Table of contents\n",
    "* [1. Introduction](#introduction)\n",
    "* [2. Dataset](#dataset)\n",
    "    * [2.1 Data Import](#import)\n",
    "    * [2.2 Data Understanding](#understanding)\n",
    "    * [2.3 Data Dictionary](#dictionary)\n",
    "* [3. Data Cleaning](#cleaning)\n",
    "    * [3.1 Missing Data](#missing)\n",
    "    * [3.2 Duplicated Data](#duplicated)\n",
    "* [4. Data Preprocessing](#preprocessing)\n",
    "    * [4.1 Feature Engineering and Filtering](#featureeng)\n",
    "        * [4.1.1 Serving Size](#servings)\n",
    "            * [4.1.1.1 Measure Conversion: dozen to single units](#dozen)\n",
    "        * [4.1.3 Ingredient Counter](#counter)\n",
    "        * [4.1.4 Meal Types](#mealtypes)\n",
    "            * [4.1.4.1 First Round of Recipe Labelling](#firstlabel)\n",
    "            * [4.1.4.2 Second Round of Recipe Labelling](#secondlabel)\n",
    "* [5. Saving the Data](#saving)  \n",
    " * [6. Conclusion](#conclusion)\n",
    "\n",
    "---"
   ]
  },
  {
   "cell_type": "markdown",
   "id": "6ed6d22a-3325-4ee8-9445-95578b24503f",
   "metadata": {
    "jp-MarkdownHeadingCollapsed": true
   },
   "source": [
    "## 1. Introduction <a name=\"introduction\"></a>\n",
    "\n",
    "Households often face the challenge of managing food resources efficiently. A significant amount of food is wasted due to over purchasing, improper storage, and the inability to use ingredients before they spoil. Individuals often struggle to plan meals that make the best use of what they already have available at home, leading to unnecessary expenditure on groceries. To address this issue, I present a recipe recommendation system that provides relevant recipe options tailored to the ingredients users already have.\n",
    "\n",
    "The core idea behind an ingredient-based recipe recommendation system is to empower users with the ability to make the most of what is already in their kitchen. This approach can help in reducing expenses and food waste. Additionally, this system can simplify the meal planning process while inspiring culinary creativity and experimentation."
   ]
  },
  {
   "cell_type": "markdown",
   "id": "df560d92-e65d-4836-bd0f-8f53e23bc0f6",
   "metadata": {},
   "source": [
    "## 2. Dataset <a name=\"dataset\"></a>\n"
   ]
  },
  {
   "cell_type": "markdown",
   "id": "919e9ede-3606-44ed-a562-fcb9e0b29344",
   "metadata": {},
   "source": [
    "This dataset consists of cooking recipes from RecipeNLG, which is an expanded version of Recipe1M+. The new dataset provides over 1 million new, preprocessed and deduplicated recipes on top of the Recipe1M+ dataset. It offers a significantly large selection of recipes of approximately 2.2 million recipes in total. It emphasizes recipe text, structure and logic, rather than linking recipes to corresponding images."
   ]
  },
  {
   "cell_type": "markdown",
   "id": "7792e5ab-89d1-468a-b7a5-5379669d769a",
   "metadata": {},
   "source": [
    "### 2.1 Data Import <a name=\"import\"></a>"
   ]
  },
  {
   "cell_type": "code",
   "execution_count": 7,
   "id": "d89e9702-c161-4d46-91fc-70587c4e9407",
   "metadata": {},
   "outputs": [],
   "source": [
    "import numpy as np\n",
    "import pandas as pd\n",
    "import matplotlib.pyplot as plt\n",
    "import seaborn as sns\n",
    "import re\n",
    "import ast"
   ]
  },
  {
   "cell_type": "markdown",
   "id": "a45c92d7-ee6f-4dbd-a424-109128cfeacb",
   "metadata": {},
   "source": [
    "Load the recipe dataset and create dataframe."
   ]
  },
  {
   "cell_type": "code",
   "execution_count": 9,
   "id": "f76844be-50cd-4138-8d21-aba5ca783b41",
   "metadata": {},
   "outputs": [],
   "source": [
    "recipe_df = pd.read_csv(r\"C:\\Users\\cryst\\Desktop\\BrainStation - Data Science\\Capstone\\Capstone Files\\data\\recipe_dataset.csv\", index_col=0)"
   ]
  },
  {
   "cell_type": "markdown",
   "id": "3982c725-4ee4-4f87-a5cd-f334475d4ca5",
   "metadata": {},
   "source": [
    "Adjusting the width of the column to display all content in the columns to ensure that the dataset is not truncated."
   ]
  },
  {
   "cell_type": "code",
   "execution_count": 11,
   "id": "7b41dfe6-0725-4cc4-bbbf-bd869564cb45",
   "metadata": {},
   "outputs": [],
   "source": [
    "pd.set_option('display.max_colwidth', None)"
   ]
  },
  {
   "cell_type": "code",
   "execution_count": 12,
   "id": "257dfbc4-a625-4357-9d67-dc85604a018b",
   "metadata": {},
   "outputs": [],
   "source": [
    "#pd.reset_option('display.max_colwidth')"
   ]
  },
  {
   "cell_type": "code",
   "execution_count": 13,
   "id": "f1eebf15-9fc1-4eb5-a67b-e44823662166",
   "metadata": {},
   "outputs": [],
   "source": [
    "#pd.reset_option('display.max_rows')"
   ]
  },
  {
   "cell_type": "markdown",
   "id": "540e47c4-036f-4a60-833c-1bf8ddca6a02",
   "metadata": {},
   "source": [
    "### 2.2 Data Understanding <a name=\"understanding\"></a>"
   ]
  },
  {
   "cell_type": "markdown",
   "id": "5f8d6fab-1010-4539-8b80-eeecf2bc97e7",
   "metadata": {},
   "source": [
    "#### 2.2.1 Shape and First Look of the Dataframe"
   ]
  },
  {
   "cell_type": "code",
   "execution_count": 16,
   "id": "678cb571-3400-4a81-bf46-c922930bb95b",
   "metadata": {},
   "outputs": [
    {
     "name": "stdout",
     "output_type": "stream",
     "text": [
      "This dataset contains 2231142 rows and 6 columns\n"
     ]
    }
   ],
   "source": [
    "print(f'This dataset contains {recipe_df.shape[0]} rows and {recipe_df.shape[1]} columns')"
   ]
  },
  {
   "cell_type": "markdown",
   "id": "e962d20d-0b4f-40c8-b54c-2ca2f11a98bd",
   "metadata": {},
   "source": [
    "Peep into the dataframe."
   ]
  },
  {
   "cell_type": "code",
   "execution_count": 18,
   "id": "355a178c-17ad-47b7-bacf-d3c0181ca907",
   "metadata": {},
   "outputs": [
    {
     "data": {
      "text/html": [
       "<div>\n",
       "<style scoped>\n",
       "    .dataframe tbody tr th:only-of-type {\n",
       "        vertical-align: middle;\n",
       "    }\n",
       "\n",
       "    .dataframe tbody tr th {\n",
       "        vertical-align: top;\n",
       "    }\n",
       "\n",
       "    .dataframe thead th {\n",
       "        text-align: right;\n",
       "    }\n",
       "</style>\n",
       "<table border=\"1\" class=\"dataframe\">\n",
       "  <thead>\n",
       "    <tr style=\"text-align: right;\">\n",
       "      <th></th>\n",
       "      <th>title</th>\n",
       "      <th>ingredients</th>\n",
       "      <th>directions</th>\n",
       "      <th>link</th>\n",
       "      <th>source</th>\n",
       "      <th>NER</th>\n",
       "    </tr>\n",
       "  </thead>\n",
       "  <tbody>\n",
       "    <tr>\n",
       "      <th>0</th>\n",
       "      <td>No-Bake Nut Cookies</td>\n",
       "      <td>[\"1 c. firmly packed brown sugar\", \"1/2 c. evaporated milk\", \"1/2 tsp. vanilla\", \"1/2 c. broken nuts (pecans)\", \"2 Tbsp. butter or margarine\", \"3 1/2 c. bite size shredded rice biscuits\"]</td>\n",
       "      <td>[\"In a heavy 2-quart saucepan, mix brown sugar, nuts, evaporated milk and butter or margarine.\", \"Stir over medium heat until mixture bubbles all over top.\", \"Boil and stir 5 minutes more. Take off heat.\", \"Stir in vanilla and cereal; mix well.\", \"Using 2 teaspoons, drop and shape into 30 clusters on wax paper.\", \"Let stand until firm, about 30 minutes.\"]</td>\n",
       "      <td>www.cookbooks.com/Recipe-Details.aspx?id=44874</td>\n",
       "      <td>Gathered</td>\n",
       "      <td>[\"brown sugar\", \"milk\", \"vanilla\", \"nuts\", \"butter\", \"bite size shredded rice biscuits\"]</td>\n",
       "    </tr>\n",
       "    <tr>\n",
       "      <th>1</th>\n",
       "      <td>Jewell Ball'S Chicken</td>\n",
       "      <td>[\"1 small jar chipped beef, cut up\", \"4 boned chicken breasts\", \"1 can cream of mushroom soup\", \"1 carton sour cream\"]</td>\n",
       "      <td>[\"Place chipped beef on bottom of baking dish.\", \"Place chicken on top of beef.\", \"Mix soup and cream together; pour over chicken. Bake, uncovered, at 275\\u00b0 for 3 hours.\"]</td>\n",
       "      <td>www.cookbooks.com/Recipe-Details.aspx?id=699419</td>\n",
       "      <td>Gathered</td>\n",
       "      <td>[\"beef\", \"chicken breasts\", \"cream of mushroom soup\", \"sour cream\"]</td>\n",
       "    </tr>\n",
       "    <tr>\n",
       "      <th>2</th>\n",
       "      <td>Creamy Corn</td>\n",
       "      <td>[\"2 (16 oz.) pkg. frozen corn\", \"1 (8 oz.) pkg. cream cheese, cubed\", \"1/3 c. butter, cubed\", \"1/2 tsp. garlic powder\", \"1/2 tsp. salt\", \"1/4 tsp. pepper\"]</td>\n",
       "      <td>[\"In a slow cooker, combine all ingredients. Cover and cook on low for 4 hours or until heated through and cheese is melted. Stir well before serving. Yields 6 servings.\"]</td>\n",
       "      <td>www.cookbooks.com/Recipe-Details.aspx?id=10570</td>\n",
       "      <td>Gathered</td>\n",
       "      <td>[\"frozen corn\", \"cream cheese\", \"butter\", \"garlic powder\", \"salt\", \"pepper\"]</td>\n",
       "    </tr>\n",
       "    <tr>\n",
       "      <th>3</th>\n",
       "      <td>Chicken Funny</td>\n",
       "      <td>[\"1 large whole chicken\", \"2 (10 1/2 oz.) cans chicken gravy\", \"1 (10 1/2 oz.) can cream of mushroom soup\", \"1 (6 oz.) box Stove Top stuffing\", \"4 oz. shredded cheese\"]</td>\n",
       "      <td>[\"Boil and debone chicken.\", \"Put bite size pieces in average size square casserole dish.\", \"Pour gravy and cream of mushroom soup over chicken; level.\", \"Make stuffing according to instructions on box (do not make too moist).\", \"Put stuffing on top of chicken and gravy; level.\", \"Sprinkle shredded cheese on top and bake at 350\\u00b0 for approximately 20 minutes or until golden and bubbly.\"]</td>\n",
       "      <td>www.cookbooks.com/Recipe-Details.aspx?id=897570</td>\n",
       "      <td>Gathered</td>\n",
       "      <td>[\"chicken\", \"chicken gravy\", \"cream of mushroom soup\", \"shredded cheese\"]</td>\n",
       "    </tr>\n",
       "    <tr>\n",
       "      <th>4</th>\n",
       "      <td>Reeses Cups(Candy)</td>\n",
       "      <td>[\"1 c. peanut butter\", \"3/4 c. graham cracker crumbs\", \"1 c. melted butter\", \"1 lb. (3 1/2 c.) powdered sugar\", \"1 large pkg. chocolate chips\"]</td>\n",
       "      <td>[\"Combine first four ingredients and press in 13 x 9-inch ungreased pan.\", \"Melt chocolate chips and spread over mixture. Refrigerate for about 20 minutes and cut into pieces before chocolate gets hard.\", \"Keep in refrigerator.\"]</td>\n",
       "      <td>www.cookbooks.com/Recipe-Details.aspx?id=659239</td>\n",
       "      <td>Gathered</td>\n",
       "      <td>[\"peanut butter\", \"graham cracker crumbs\", \"butter\", \"powdered sugar\", \"chocolate chips\"]</td>\n",
       "    </tr>\n",
       "  </tbody>\n",
       "</table>\n",
       "</div>"
      ],
      "text/plain": [
       "                   title  \\\n",
       "0    No-Bake Nut Cookies   \n",
       "1  Jewell Ball'S Chicken   \n",
       "2            Creamy Corn   \n",
       "3          Chicken Funny   \n",
       "4   Reeses Cups(Candy)     \n",
       "\n",
       "                                                                                                                                                                                   ingredients  \\\n",
       "0  [\"1 c. firmly packed brown sugar\", \"1/2 c. evaporated milk\", \"1/2 tsp. vanilla\", \"1/2 c. broken nuts (pecans)\", \"2 Tbsp. butter or margarine\", \"3 1/2 c. bite size shredded rice biscuits\"]   \n",
       "1                                                                       [\"1 small jar chipped beef, cut up\", \"4 boned chicken breasts\", \"1 can cream of mushroom soup\", \"1 carton sour cream\"]   \n",
       "2                                  [\"2 (16 oz.) pkg. frozen corn\", \"1 (8 oz.) pkg. cream cheese, cubed\", \"1/3 c. butter, cubed\", \"1/2 tsp. garlic powder\", \"1/2 tsp. salt\", \"1/4 tsp. pepper\"]   \n",
       "3                     [\"1 large whole chicken\", \"2 (10 1/2 oz.) cans chicken gravy\", \"1 (10 1/2 oz.) can cream of mushroom soup\", \"1 (6 oz.) box Stove Top stuffing\", \"4 oz. shredded cheese\"]   \n",
       "4                                              [\"1 c. peanut butter\", \"3/4 c. graham cracker crumbs\", \"1 c. melted butter\", \"1 lb. (3 1/2 c.) powdered sugar\", \"1 large pkg. chocolate chips\"]   \n",
       "\n",
       "                                                                                                                                                                                                                                                                                                                                                                                                   directions  \\\n",
       "0                                       [\"In a heavy 2-quart saucepan, mix brown sugar, nuts, evaporated milk and butter or margarine.\", \"Stir over medium heat until mixture bubbles all over top.\", \"Boil and stir 5 minutes more. Take off heat.\", \"Stir in vanilla and cereal; mix well.\", \"Using 2 teaspoons, drop and shape into 30 clusters on wax paper.\", \"Let stand until firm, about 30 minutes.\"]   \n",
       "1                                                                                                                                                                                                                             [\"Place chipped beef on bottom of baking dish.\", \"Place chicken on top of beef.\", \"Mix soup and cream together; pour over chicken. Bake, uncovered, at 275\\u00b0 for 3 hours.\"]   \n",
       "2                                                                                                                                                                                                                                 [\"In a slow cooker, combine all ingredients. Cover and cook on low for 4 hours or until heated through and cheese is melted. Stir well before serving. Yields 6 servings.\"]   \n",
       "3  [\"Boil and debone chicken.\", \"Put bite size pieces in average size square casserole dish.\", \"Pour gravy and cream of mushroom soup over chicken; level.\", \"Make stuffing according to instructions on box (do not make too moist).\", \"Put stuffing on top of chicken and gravy; level.\", \"Sprinkle shredded cheese on top and bake at 350\\u00b0 for approximately 20 minutes or until golden and bubbly.\"]   \n",
       "4                                                                                                                                                                       [\"Combine first four ingredients and press in 13 x 9-inch ungreased pan.\", \"Melt chocolate chips and spread over mixture. Refrigerate for about 20 minutes and cut into pieces before chocolate gets hard.\", \"Keep in refrigerator.\"]   \n",
       "\n",
       "                                              link    source  \\\n",
       "0   www.cookbooks.com/Recipe-Details.aspx?id=44874  Gathered   \n",
       "1  www.cookbooks.com/Recipe-Details.aspx?id=699419  Gathered   \n",
       "2   www.cookbooks.com/Recipe-Details.aspx?id=10570  Gathered   \n",
       "3  www.cookbooks.com/Recipe-Details.aspx?id=897570  Gathered   \n",
       "4  www.cookbooks.com/Recipe-Details.aspx?id=659239  Gathered   \n",
       "\n",
       "                                                                                         NER  \n",
       "0   [\"brown sugar\", \"milk\", \"vanilla\", \"nuts\", \"butter\", \"bite size shredded rice biscuits\"]  \n",
       "1                        [\"beef\", \"chicken breasts\", \"cream of mushroom soup\", \"sour cream\"]  \n",
       "2               [\"frozen corn\", \"cream cheese\", \"butter\", \"garlic powder\", \"salt\", \"pepper\"]  \n",
       "3                  [\"chicken\", \"chicken gravy\", \"cream of mushroom soup\", \"shredded cheese\"]  \n",
       "4  [\"peanut butter\", \"graham cracker crumbs\", \"butter\", \"powdered sugar\", \"chocolate chips\"]  "
      ]
     },
     "execution_count": 18,
     "metadata": {},
     "output_type": "execute_result"
    }
   ],
   "source": [
    "recipe_df.head()"
   ]
  },
  {
   "cell_type": "markdown",
   "id": "895b5869-ccc0-47a5-8ec0-62cac16be573",
   "metadata": {},
   "source": [
    "At first glance, this dataset seems to contain several variables that would be helpful for my project to build a recipe recommendation tool based on ingredients. Some really useful variables for this purpose would be 'title', 'ingredients', 'directions' and 'NER' (Name Entity Recognizer). Other variables in this dataset include 'link' which contains the same information as 'directions', but the link takes users to additional features such as printing, e-mailing, saving the recipe. Lastly, 'source' just tells us how the recipe was gathered. One of the drawbacks of this dataset is that it doesn't contain the number of calories or nutritional value information."
   ]
  },
  {
   "cell_type": "markdown",
   "id": "26fcbc7f-8097-4377-a4dc-af12c2e367d4",
   "metadata": {},
   "source": [
    "#### 2.2.2. Data Types"
   ]
  },
  {
   "cell_type": "markdown",
   "id": "f6ae92a4-73ae-43d7-863f-1622e6a88dcb",
   "metadata": {},
   "source": [
    "Next, we will take a look at `recipe_df.info()` to print information on column names, data types, and total number of observations."
   ]
  },
  {
   "cell_type": "code",
   "execution_count": 22,
   "id": "2094e6ce-55ad-4f83-a296-a2c816313c8b",
   "metadata": {},
   "outputs": [
    {
     "name": "stdout",
     "output_type": "stream",
     "text": [
      "<class 'pandas.core.frame.DataFrame'>\n",
      "Index: 2231142 entries, 0 to 2231141\n",
      "Data columns (total 6 columns):\n",
      " #   Column       Dtype \n",
      "---  ------       ----- \n",
      " 0   title        object\n",
      " 1   ingredients  object\n",
      " 2   directions   object\n",
      " 3   link         object\n",
      " 4   source       object\n",
      " 5   NER          object\n",
      "dtypes: object(6)\n",
      "memory usage: 119.2+ MB\n"
     ]
    }
   ],
   "source": [
    "recipe_df.info()"
   ]
  },
  {
   "cell_type": "markdown",
   "id": "d3b1c115-426d-436c-af19-4d0ce963eeeb",
   "metadata": {},
   "source": [
    "In this section we can see that all of the columns are categorical."
   ]
  },
  {
   "cell_type": "code",
   "execution_count": 24,
   "id": "cf71b86a-6a45-48ea-bcd3-216d2a675e45",
   "metadata": {},
   "outputs": [
    {
     "data": {
      "text/html": [
       "<div>\n",
       "<style scoped>\n",
       "    .dataframe tbody tr th:only-of-type {\n",
       "        vertical-align: middle;\n",
       "    }\n",
       "\n",
       "    .dataframe tbody tr th {\n",
       "        vertical-align: top;\n",
       "    }\n",
       "\n",
       "    .dataframe thead th {\n",
       "        text-align: right;\n",
       "    }\n",
       "</style>\n",
       "<table border=\"1\" class=\"dataframe\">\n",
       "  <thead>\n",
       "    <tr style=\"text-align: right;\">\n",
       "      <th></th>\n",
       "      <th>title</th>\n",
       "      <th>ingredients</th>\n",
       "      <th>directions</th>\n",
       "      <th>link</th>\n",
       "      <th>source</th>\n",
       "      <th>NER</th>\n",
       "    </tr>\n",
       "  </thead>\n",
       "  <tbody>\n",
       "    <tr>\n",
       "      <th>0</th>\n",
       "      <td>No-Bake Nut Cookies</td>\n",
       "      <td>[\"1 c. firmly packed brown sugar\", \"1/2 c. evaporated milk\", \"1/2 tsp. vanilla\", \"1/2 c. broken nuts (pecans)\", \"2 Tbsp. butter or margarine\", \"3 1/2 c. bite size shredded rice biscuits\"]</td>\n",
       "      <td>[\"In a heavy 2-quart saucepan, mix brown sugar, nuts, evaporated milk and butter or margarine.\", \"Stir over medium heat until mixture bubbles all over top.\", \"Boil and stir 5 minutes more. Take off heat.\", \"Stir in vanilla and cereal; mix well.\", \"Using 2 teaspoons, drop and shape into 30 clusters on wax paper.\", \"Let stand until firm, about 30 minutes.\"]</td>\n",
       "      <td>www.cookbooks.com/Recipe-Details.aspx?id=44874</td>\n",
       "      <td>Gathered</td>\n",
       "      <td>[\"brown sugar\", \"milk\", \"vanilla\", \"nuts\", \"butter\", \"bite size shredded rice biscuits\"]</td>\n",
       "    </tr>\n",
       "    <tr>\n",
       "      <th>1</th>\n",
       "      <td>Jewell Ball'S Chicken</td>\n",
       "      <td>[\"1 small jar chipped beef, cut up\", \"4 boned chicken breasts\", \"1 can cream of mushroom soup\", \"1 carton sour cream\"]</td>\n",
       "      <td>[\"Place chipped beef on bottom of baking dish.\", \"Place chicken on top of beef.\", \"Mix soup and cream together; pour over chicken. Bake, uncovered, at 275\\u00b0 for 3 hours.\"]</td>\n",
       "      <td>www.cookbooks.com/Recipe-Details.aspx?id=699419</td>\n",
       "      <td>Gathered</td>\n",
       "      <td>[\"beef\", \"chicken breasts\", \"cream of mushroom soup\", \"sour cream\"]</td>\n",
       "    </tr>\n",
       "    <tr>\n",
       "      <th>2</th>\n",
       "      <td>Creamy Corn</td>\n",
       "      <td>[\"2 (16 oz.) pkg. frozen corn\", \"1 (8 oz.) pkg. cream cheese, cubed\", \"1/3 c. butter, cubed\", \"1/2 tsp. garlic powder\", \"1/2 tsp. salt\", \"1/4 tsp. pepper\"]</td>\n",
       "      <td>[\"In a slow cooker, combine all ingredients. Cover and cook on low for 4 hours or until heated through and cheese is melted. Stir well before serving. Yields 6 servings.\"]</td>\n",
       "      <td>www.cookbooks.com/Recipe-Details.aspx?id=10570</td>\n",
       "      <td>Gathered</td>\n",
       "      <td>[\"frozen corn\", \"cream cheese\", \"butter\", \"garlic powder\", \"salt\", \"pepper\"]</td>\n",
       "    </tr>\n",
       "    <tr>\n",
       "      <th>3</th>\n",
       "      <td>Chicken Funny</td>\n",
       "      <td>[\"1 large whole chicken\", \"2 (10 1/2 oz.) cans chicken gravy\", \"1 (10 1/2 oz.) can cream of mushroom soup\", \"1 (6 oz.) box Stove Top stuffing\", \"4 oz. shredded cheese\"]</td>\n",
       "      <td>[\"Boil and debone chicken.\", \"Put bite size pieces in average size square casserole dish.\", \"Pour gravy and cream of mushroom soup over chicken; level.\", \"Make stuffing according to instructions on box (do not make too moist).\", \"Put stuffing on top of chicken and gravy; level.\", \"Sprinkle shredded cheese on top and bake at 350\\u00b0 for approximately 20 minutes or until golden and bubbly.\"]</td>\n",
       "      <td>www.cookbooks.com/Recipe-Details.aspx?id=897570</td>\n",
       "      <td>Gathered</td>\n",
       "      <td>[\"chicken\", \"chicken gravy\", \"cream of mushroom soup\", \"shredded cheese\"]</td>\n",
       "    </tr>\n",
       "    <tr>\n",
       "      <th>4</th>\n",
       "      <td>Reeses Cups(Candy)</td>\n",
       "      <td>[\"1 c. peanut butter\", \"3/4 c. graham cracker crumbs\", \"1 c. melted butter\", \"1 lb. (3 1/2 c.) powdered sugar\", \"1 large pkg. chocolate chips\"]</td>\n",
       "      <td>[\"Combine first four ingredients and press in 13 x 9-inch ungreased pan.\", \"Melt chocolate chips and spread over mixture. Refrigerate for about 20 minutes and cut into pieces before chocolate gets hard.\", \"Keep in refrigerator.\"]</td>\n",
       "      <td>www.cookbooks.com/Recipe-Details.aspx?id=659239</td>\n",
       "      <td>Gathered</td>\n",
       "      <td>[\"peanut butter\", \"graham cracker crumbs\", \"butter\", \"powdered sugar\", \"chocolate chips\"]</td>\n",
       "    </tr>\n",
       "  </tbody>\n",
       "</table>\n",
       "</div>"
      ],
      "text/plain": [
       "                   title  \\\n",
       "0    No-Bake Nut Cookies   \n",
       "1  Jewell Ball'S Chicken   \n",
       "2            Creamy Corn   \n",
       "3          Chicken Funny   \n",
       "4   Reeses Cups(Candy)     \n",
       "\n",
       "                                                                                                                                                                                   ingredients  \\\n",
       "0  [\"1 c. firmly packed brown sugar\", \"1/2 c. evaporated milk\", \"1/2 tsp. vanilla\", \"1/2 c. broken nuts (pecans)\", \"2 Tbsp. butter or margarine\", \"3 1/2 c. bite size shredded rice biscuits\"]   \n",
       "1                                                                       [\"1 small jar chipped beef, cut up\", \"4 boned chicken breasts\", \"1 can cream of mushroom soup\", \"1 carton sour cream\"]   \n",
       "2                                  [\"2 (16 oz.) pkg. frozen corn\", \"1 (8 oz.) pkg. cream cheese, cubed\", \"1/3 c. butter, cubed\", \"1/2 tsp. garlic powder\", \"1/2 tsp. salt\", \"1/4 tsp. pepper\"]   \n",
       "3                     [\"1 large whole chicken\", \"2 (10 1/2 oz.) cans chicken gravy\", \"1 (10 1/2 oz.) can cream of mushroom soup\", \"1 (6 oz.) box Stove Top stuffing\", \"4 oz. shredded cheese\"]   \n",
       "4                                              [\"1 c. peanut butter\", \"3/4 c. graham cracker crumbs\", \"1 c. melted butter\", \"1 lb. (3 1/2 c.) powdered sugar\", \"1 large pkg. chocolate chips\"]   \n",
       "\n",
       "                                                                                                                                                                                                                                                                                                                                                                                                   directions  \\\n",
       "0                                       [\"In a heavy 2-quart saucepan, mix brown sugar, nuts, evaporated milk and butter or margarine.\", \"Stir over medium heat until mixture bubbles all over top.\", \"Boil and stir 5 minutes more. Take off heat.\", \"Stir in vanilla and cereal; mix well.\", \"Using 2 teaspoons, drop and shape into 30 clusters on wax paper.\", \"Let stand until firm, about 30 minutes.\"]   \n",
       "1                                                                                                                                                                                                                             [\"Place chipped beef on bottom of baking dish.\", \"Place chicken on top of beef.\", \"Mix soup and cream together; pour over chicken. Bake, uncovered, at 275\\u00b0 for 3 hours.\"]   \n",
       "2                                                                                                                                                                                                                                 [\"In a slow cooker, combine all ingredients. Cover and cook on low for 4 hours or until heated through and cheese is melted. Stir well before serving. Yields 6 servings.\"]   \n",
       "3  [\"Boil and debone chicken.\", \"Put bite size pieces in average size square casserole dish.\", \"Pour gravy and cream of mushroom soup over chicken; level.\", \"Make stuffing according to instructions on box (do not make too moist).\", \"Put stuffing on top of chicken and gravy; level.\", \"Sprinkle shredded cheese on top and bake at 350\\u00b0 for approximately 20 minutes or until golden and bubbly.\"]   \n",
       "4                                                                                                                                                                       [\"Combine first four ingredients and press in 13 x 9-inch ungreased pan.\", \"Melt chocolate chips and spread over mixture. Refrigerate for about 20 minutes and cut into pieces before chocolate gets hard.\", \"Keep in refrigerator.\"]   \n",
       "\n",
       "                                              link    source  \\\n",
       "0   www.cookbooks.com/Recipe-Details.aspx?id=44874  Gathered   \n",
       "1  www.cookbooks.com/Recipe-Details.aspx?id=699419  Gathered   \n",
       "2   www.cookbooks.com/Recipe-Details.aspx?id=10570  Gathered   \n",
       "3  www.cookbooks.com/Recipe-Details.aspx?id=897570  Gathered   \n",
       "4  www.cookbooks.com/Recipe-Details.aspx?id=659239  Gathered   \n",
       "\n",
       "                                                                                         NER  \n",
       "0   [\"brown sugar\", \"milk\", \"vanilla\", \"nuts\", \"butter\", \"bite size shredded rice biscuits\"]  \n",
       "1                        [\"beef\", \"chicken breasts\", \"cream of mushroom soup\", \"sour cream\"]  \n",
       "2               [\"frozen corn\", \"cream cheese\", \"butter\", \"garlic powder\", \"salt\", \"pepper\"]  \n",
       "3                  [\"chicken\", \"chicken gravy\", \"cream of mushroom soup\", \"shredded cheese\"]  \n",
       "4  [\"peanut butter\", \"graham cracker crumbs\", \"butter\", \"powdered sugar\", \"chocolate chips\"]  "
      ]
     },
     "execution_count": 24,
     "metadata": {},
     "output_type": "execute_result"
    }
   ],
   "source": [
    "recipe_df.select_dtypes(include = 'object').head()"
   ]
  },
  {
   "cell_type": "markdown",
   "id": "4cc79be1-e24f-42e9-8d45-d0c0c5387ad0",
   "metadata": {},
   "source": [
    "Again, we see that all our columns are text. Focusing on the `directions` column we see that some recipes contain the serving size, while others do not. Eventually I will probably want to extract this information and focus only on recipes that contain the serving size for two purposes. First, because it provides a measure of how much food each recipe yields, which could help with reducing waste should the user not need that much food, or on the other hand, prepare more food if the recipe is too small. Secondly, having this field would be useful in calculating the amount of calories per meal."
   ]
  },
  {
   "cell_type": "markdown",
   "id": "0415b8d4-0218-4839-a0b1-7f41410d8a32",
   "metadata": {},
   "source": [
    "### 2.3 Data Dictionary <a name=\"dictionary\"></a>"
   ]
  },
  {
   "cell_type": "markdown",
   "id": "9e0e5980-4154-4d10-b226-a5a02bf5f11e",
   "metadata": {},
   "source": [
    "Now that we have taken a look at the dataframe, let's start putting our learnings together in a data dictionary."
   ]
  },
  {
   "cell_type": "markdown",
   "id": "71ca3383-1cd5-4578-af14-a162f664b8e4",
   "metadata": {},
   "source": [
    "|Column Name|Meaning|Data Type|Notes|\n",
    "|---|---|---|---|\n",
    "|title|Name of the recipe|object| |\n",
    "|ingredients| List of measures, units and ingredients that form the recipe|object| |\n",
    "|directions| Steps to prepare the recipe|object| |\n",
    "|link| URL link to the recipe|object| |\n",
    "|source| Label showing how the recipe was obtained |object| Gathered: recipes gathered from multiple cooking web pages using web scraping process; Recipe1M: recipes from Recipe1M dataset |\n",
    "|NER| Contains list of ingredient names in the recipe|object| Name Entity Recognizer|"
   ]
  },
  {
   "cell_type": "markdown",
   "id": "31199d9d-e36e-4d17-831b-df8f702adc6b",
   "metadata": {},
   "source": [
    "## 3. Data Cleaning <a name=\"cleaning\"></a>"
   ]
  },
  {
   "cell_type": "markdown",
   "id": "ffcad4d1-0656-4149-895f-a4a5103f35ef",
   "metadata": {},
   "source": [
    "### 3.1 Missing Data <a name=\"missing\"></a>"
   ]
  },
  {
   "cell_type": "markdown",
   "id": "32680eea-1d6d-48f7-b01a-77fe12fcc9b0",
   "metadata": {},
   "source": [
    "First, let's see if there is any missing data in our dataset."
   ]
  },
  {
   "cell_type": "code",
   "execution_count": 32,
   "id": "850aab74-6a63-4e8e-adfe-511f6ac6d19f",
   "metadata": {},
   "outputs": [
    {
     "data": {
      "text/plain": [
       "title          1\n",
       "ingredients    0\n",
       "directions     0\n",
       "link           0\n",
       "source         0\n",
       "NER            0\n",
       "dtype: int64"
      ]
     },
     "execution_count": 32,
     "metadata": {},
     "output_type": "execute_result"
    }
   ],
   "source": [
    "recipe_df.isna().sum()"
   ]
  },
  {
   "cell_type": "markdown",
   "id": "db77d51a-21cd-48a6-84e4-d89045701d33",
   "metadata": {},
   "source": [
    "There is one missing value in the `title` column. Let's examine this row further and explore how to deal with this row."
   ]
  },
  {
   "cell_type": "code",
   "execution_count": 34,
   "id": "da4b776f-0fe4-4dfa-a50d-502e11b9261d",
   "metadata": {},
   "outputs": [
    {
     "data": {
      "text/html": [
       "<div>\n",
       "<style scoped>\n",
       "    .dataframe tbody tr th:only-of-type {\n",
       "        vertical-align: middle;\n",
       "    }\n",
       "\n",
       "    .dataframe tbody tr th {\n",
       "        vertical-align: top;\n",
       "    }\n",
       "\n",
       "    .dataframe thead th {\n",
       "        text-align: right;\n",
       "    }\n",
       "</style>\n",
       "<table border=\"1\" class=\"dataframe\">\n",
       "  <thead>\n",
       "    <tr style=\"text-align: right;\">\n",
       "      <th></th>\n",
       "      <th>title</th>\n",
       "      <th>ingredients</th>\n",
       "      <th>directions</th>\n",
       "      <th>link</th>\n",
       "      <th>source</th>\n",
       "      <th>NER</th>\n",
       "    </tr>\n",
       "  </thead>\n",
       "  <tbody>\n",
       "    <tr>\n",
       "      <th>1394448</th>\n",
       "      <td>NaN</td>\n",
       "      <td>[\"2 pieces bacon\"]</td>\n",
       "      <td>[\"Slice bacon into lardons, place in nonstick skillet and cook on medium heat until crisp and fat is rendered- about 7 minutes.\", \"Meanwhile, in a small bowl add: fermented bean paste, gochujang, soy sauce, honey, coarse black pepper and kosher salt. Stir to combine, set aside. Cut onion into a small dice, slice garlic, and cube tofu- set aside.\", \"Once the bacon is cooked, drain on a paper towel and drain all but 1 tablespoon of bacon fat from the pan. On medium high heat, add the onion and garlic and sweat until translucent.\", \"Add tofu to the pan and turn heat up to high, lightly frying the tofu in the bacon fat. Toss and brown until heated through- about 3 minutes. Add the spicy sauce and 1/3 cup of water to the tofu, stirring gently to prevent breaking up the tofu. Cook on high for 4-6 minutes until sauce has thickened and coated the tofu. Turn off heat and drizzle tofu with sesame oil.\", \"Slice green onions on a bias and place in a small bowl. Dress the green onions with a pinch of gochugaru (red pepper flakes) and 2 teaspoons of rice wine vinegar.\", \"Spoon tofu into a shallow bowl and garnish with dressed green onions and crisp bacon. Serve with white rice and devour immediately.\"]</td>\n",
       "      <td>food52.com/recipes/57431-none</td>\n",
       "      <td>Gathered</td>\n",
       "      <td>[\"bacon\"]</td>\n",
       "    </tr>\n",
       "  </tbody>\n",
       "</table>\n",
       "</div>"
      ],
      "text/plain": [
       "        title         ingredients  \\\n",
       "1394448   NaN  [\"2 pieces bacon\"]   \n",
       "\n",
       "                                                                                                                                                                                                                                                                                                                                                                                                                                                                                                                                                                                                                                                                                                                                                                                                                                                                                                                                                                                                                                                                                                                                                                                                                                                      directions  \\\n",
       "1394448  [\"Slice bacon into lardons, place in nonstick skillet and cook on medium heat until crisp and fat is rendered- about 7 minutes.\", \"Meanwhile, in a small bowl add: fermented bean paste, gochujang, soy sauce, honey, coarse black pepper and kosher salt. Stir to combine, set aside. Cut onion into a small dice, slice garlic, and cube tofu- set aside.\", \"Once the bacon is cooked, drain on a paper towel and drain all but 1 tablespoon of bacon fat from the pan. On medium high heat, add the onion and garlic and sweat until translucent.\", \"Add tofu to the pan and turn heat up to high, lightly frying the tofu in the bacon fat. Toss and brown until heated through- about 3 minutes. Add the spicy sauce and 1/3 cup of water to the tofu, stirring gently to prevent breaking up the tofu. Cook on high for 4-6 minutes until sauce has thickened and coated the tofu. Turn off heat and drizzle tofu with sesame oil.\", \"Slice green onions on a bias and place in a small bowl. Dress the green onions with a pinch of gochugaru (red pepper flakes) and 2 teaspoons of rice wine vinegar.\", \"Spoon tofu into a shallow bowl and garnish with dressed green onions and crisp bacon. Serve with white rice and devour immediately.\"]   \n",
       "\n",
       "                                  link    source        NER  \n",
       "1394448  food52.com/recipes/57431-none  Gathered  [\"bacon\"]  "
      ]
     },
     "execution_count": 34,
     "metadata": {},
     "output_type": "execute_result"
    }
   ],
   "source": [
    "recipe_df[recipe_df['title'].isna()]"
   ]
  },
  {
   "cell_type": "markdown",
   "id": "a7f9d4b3-92be-4614-98e3-26817f335251",
   "metadata": {},
   "source": [
    "After examining this row, it appears that the directions don't match up with the ingredients column. Since there is only one missing value in this case, I will drop this row from the dataset and maintain consistency across the rest of the dataset."
   ]
  },
  {
   "cell_type": "code",
   "execution_count": 36,
   "id": "5c57b6bb-0fbc-4a97-8e5d-f377aa04ef63",
   "metadata": {},
   "outputs": [],
   "source": [
    "recipe_df.dropna(subset = ['title'], inplace = True)"
   ]
  },
  {
   "cell_type": "code",
   "execution_count": 37,
   "id": "74e04edf-1a74-449d-bd7e-28c0027453b3",
   "metadata": {},
   "outputs": [
    {
     "data": {
      "text/plain": [
       "title          0\n",
       "ingredients    0\n",
       "directions     0\n",
       "link           0\n",
       "source         0\n",
       "NER            0\n",
       "dtype: int64"
      ]
     },
     "execution_count": 37,
     "metadata": {},
     "output_type": "execute_result"
    }
   ],
   "source": [
    "# Sanity Check\n",
    "recipe_df.isna().sum()"
   ]
  },
  {
   "cell_type": "markdown",
   "id": "2378494c-597c-491f-a9dc-dc74550e983d",
   "metadata": {},
   "source": [
    "Here we can see that the row was successfully dropped from our dataset."
   ]
  },
  {
   "cell_type": "markdown",
   "id": "d9e9a509-13b4-4a43-8a31-7186020a2962",
   "metadata": {},
   "source": [
    "### 3.2 Duplicated Data <a name=\"duplicated\"></a>"
   ]
  },
  {
   "cell_type": "markdown",
   "id": "2f9bacec-76c3-4147-9bb1-7b55b86429c2",
   "metadata": {},
   "source": [
    "Let's see if our dataset contains any duplicated values."
   ]
  },
  {
   "cell_type": "code",
   "execution_count": 41,
   "id": "667fc54f-dfa1-4e95-9065-e25c34f0da53",
   "metadata": {},
   "outputs": [
    {
     "name": "stdout",
     "output_type": "stream",
     "text": [
      "duplicated rows in recipes dataset: 0\n"
     ]
    }
   ],
   "source": [
    "print(\"duplicated rows in recipes dataset:\", recipe_df.duplicated().sum())"
   ]
  },
  {
   "cell_type": "markdown",
   "id": "2493c0e0-e666-425a-951f-f8c3b1242849",
   "metadata": {},
   "source": [
    "After examining for duplicated rows, we can see that there are no duplicates in our dataset!"
   ]
  },
  {
   "cell_type": "markdown",
   "id": "b9a2743b-a950-4aad-a7f2-540debfaac6f",
   "metadata": {},
   "source": [
    "## 4. Data Preprocessing <a name=\"preprocessing\"></a>"
   ]
  },
  {
   "cell_type": "markdown",
   "id": "f9dce73b-5b68-441c-80c5-06fe2023e40f",
   "metadata": {},
   "source": [
    "### 4.1 Feature Engineering <a name=\"featureeng\"></a>"
   ]
  },
  {
   "cell_type": "markdown",
   "id": "e166eb96-71ac-4316-a9fb-c62908756e24",
   "metadata": {},
   "source": [
    "#### 4.1.1 Serving Size <a name=\"servings\"></a>"
   ]
  },
  {
   "cell_type": "markdown",
   "id": "789bafe5-b069-46cf-831c-ce6314a6b25c",
   "metadata": {},
   "source": [
    "Here I filter recipes based on terms 'serving', servings' preceded by a number, and terms 'serves', 'serve' followed by a number."
   ]
  },
  {
   "cell_type": "code",
   "execution_count": 47,
   "id": "13395a31-5999-4737-815b-0d6583aeff6b",
   "metadata": {},
   "outputs": [
    {
     "name": "stderr",
     "output_type": "stream",
     "text": [
      "C:\\Users\\cryst\\AppData\\Local\\Temp\\ipykernel_62288\\3562471375.py:1: UserWarning: This pattern is interpreted as a regular expression, and has match groups. To actually get the groups, use str.extract.\n",
      "  recipe_df_filtered = recipe_df[recipe_df['directions'].str.contains(pat = r'\\b\\d+\\s*(serving|servings)\\b|\\b(serves|serve)\\s*\\d+\\b', case=False, na=False, regex = True)]\n"
     ]
    }
   ],
   "source": [
    "recipe_df_filtered = recipe_df[recipe_df['directions'].str.contains(pat = r'\\b\\d+\\s*(serving|servings)\\b|\\b(serves|serve)\\s*\\d+\\b', case=False, na=False, regex = True)]                                                                   "
   ]
  },
  {
   "cell_type": "code",
   "execution_count": 48,
   "id": "6a5e649e-03dc-42da-9fe3-118519c32c80",
   "metadata": {},
   "outputs": [
    {
     "data": {
      "text/plain": [
       "(105543, 6)"
      ]
     },
     "execution_count": 48,
     "metadata": {},
     "output_type": "execute_result"
    }
   ],
   "source": [
    "recipe_df_filtered.shape"
   ]
  },
  {
   "cell_type": "code",
   "execution_count": 49,
   "id": "1b469cba-7be4-4eda-ade4-65982b4fc851",
   "metadata": {},
   "outputs": [
    {
     "data": {
      "text/html": [
       "<div>\n",
       "<style scoped>\n",
       "    .dataframe tbody tr th:only-of-type {\n",
       "        vertical-align: middle;\n",
       "    }\n",
       "\n",
       "    .dataframe tbody tr th {\n",
       "        vertical-align: top;\n",
       "    }\n",
       "\n",
       "    .dataframe thead th {\n",
       "        text-align: right;\n",
       "    }\n",
       "</style>\n",
       "<table border=\"1\" class=\"dataframe\">\n",
       "  <thead>\n",
       "    <tr style=\"text-align: right;\">\n",
       "      <th></th>\n",
       "      <th>title</th>\n",
       "      <th>ingredients</th>\n",
       "      <th>directions</th>\n",
       "      <th>link</th>\n",
       "      <th>source</th>\n",
       "      <th>NER</th>\n",
       "    </tr>\n",
       "  </thead>\n",
       "  <tbody>\n",
       "    <tr>\n",
       "      <th>2</th>\n",
       "      <td>Creamy Corn</td>\n",
       "      <td>[\"2 (16 oz.) pkg. frozen corn\", \"1 (8 oz.) pkg. cream cheese, cubed\", \"1/3 c. butter, cubed\", \"1/2 tsp. garlic powder\", \"1/2 tsp. salt\", \"1/4 tsp. pepper\"]</td>\n",
       "      <td>[\"In a slow cooker, combine all ingredients. Cover and cook on low for 4 hours or until heated through and cheese is melted. Stir well before serving. Yields 6 servings.\"]</td>\n",
       "      <td>www.cookbooks.com/Recipe-Details.aspx?id=10570</td>\n",
       "      <td>Gathered</td>\n",
       "      <td>[\"frozen corn\", \"cream cheese\", \"butter\", \"garlic powder\", \"salt\", \"pepper\"]</td>\n",
       "    </tr>\n",
       "    <tr>\n",
       "      <th>17</th>\n",
       "      <td>Broccoli Salad</td>\n",
       "      <td>[\"1 large head broccoli (about 1 1/2 lb.)\", \"10 slices bacon, cooked and crumbled\", \"5 green onions, sliced or 1/4 c. chopped red onion\", \"1/2 c. raisins\", \"1 c. mayonnaise\", \"2 Tbsp. vinegar\", \"1/4 c. sugar\"]</td>\n",
       "      <td>[\"Trim off large leaves of broccoli and remove the tough ends of lower stalks. Wash the broccoli thoroughly. Cut the florets and stems into bite-size pieces. Place in a large bowl. Add bacon, onions and raisins. Combine remaining ingredients, stirring well. Add dressing to broccoli mixture and toss gently. Cover and refrigerate 2 to 3 hours. Makes about 6 servings.\"]</td>\n",
       "      <td>www.cookbooks.com/Recipe-Details.aspx?id=50992</td>\n",
       "      <td>Gathered</td>\n",
       "      <td>[\"broccoli\", \"bacon\", \"green onions\", \"raisins\", \"mayonnaise\", \"vinegar\", \"sugar\"]</td>\n",
       "    </tr>\n",
       "    <tr>\n",
       "      <th>24</th>\n",
       "      <td>Prize-Winning Meat Loaf</td>\n",
       "      <td>[\"1 1/2 lb. ground beef\", \"1 c. tomato juice\", \"3/4 c. oats (uncooked)\", \"1 egg, beaten\", \"1/4 c. chopped onion\", \"1/4 tsp. pepper\", \"1 1/2 tsp. salt\"]</td>\n",
       "      <td>[\"Mix well.\", \"Press firmly into an 8 1/2 x 4 1/2 x 2 1/2-inch loaf pan.\", \"Bake in preheated moderate oven.\", \"Bake at 350\\u00b0 for 1 hour.\", \"Let stand 5 minutes before slicing.\", \"Makes 8 servings.\"]</td>\n",
       "      <td>www.cookbooks.com/Recipe-Details.aspx?id=923674</td>\n",
       "      <td>Gathered</td>\n",
       "      <td>[\"ground beef\", \"tomato juice\", \"oats\", \"egg\", \"onion\", \"pepper\", \"salt\"]</td>\n",
       "    </tr>\n",
       "    <tr>\n",
       "      <th>26</th>\n",
       "      <td>Corral Barbecued Beef Steak Strips</td>\n",
       "      <td>[\"2 lb. round steak 1/2 to 3/4-inch thick, sliced in strips 1/8-inch thick (or thinner) and 3 1/2 to 4-inches long (easily sliced if partially frozen)\", \"2 Tbsp. cooking oil\", \"1 can (15 oz.) tomato sauce\", \"1/3 c. water\", \"2 Tbsp. brown sugar\", \"1 Tbsp. prepared mustard\", \"1 tbsp. Worcestershire sauce\", \"1 medium sized onion, thinly sliced\"]</td>\n",
       "      <td>[\"Brown strips in cooking oil.\", \"Pour off drippings.\", \"Combine tomato sauce, water, brown sugar, mustard and Worcestershire sauce.\", \"Add sauce and onion to meat slices.\", \"Cover and cook slowly, stirring occasionally 30 minutes or until meat is tender. Serve over rice or buttered noodles.\", \"Yields 6 to 8 servings.\"]</td>\n",
       "      <td>www.cookbooks.com/Recipe-Details.aspx?id=420402</td>\n",
       "      <td>Gathered</td>\n",
       "      <td>[\"long\", \"cooking oil\", \"tomato sauce\", \"water\", \"brown sugar\", \"mustard\", \"Worcestershire sauce\", \"onion\"]</td>\n",
       "    </tr>\n",
       "    <tr>\n",
       "      <th>48</th>\n",
       "      <td>Mexican Cookie Rings</td>\n",
       "      <td>[\"1 1/2 c. sifted flour\", \"1/2 tsp. baking powder\", \"1/2 tsp. salt\", \"1/2 c. butter\", \"2/3 c. sugar\", \"3 egg yolks\", \"1 tsp. vanilla\", \"multi-colored candies\"]</td>\n",
       "      <td>[\"Sift flour, baking powder and salt together.\", \"Cream together butter and sugar.\", \"Add egg yolks and vanilla.\", \"Beat until light and fluffy.\", \"Mix in sifted dry ingredients.\", \"Shape into 1-inch balls.\", \"Push wooden spoon handle through center (twist).\", \"Shape into rings.\", \"Dip each cookie into candies.\", \"Place on lightly greased baking sheets.\", \"Bake in 375\\u00b0 oven for 10 to 12 minutes or until golden brown.\", \"Cool on racks.\", \"Serves 2 dozen.\"]</td>\n",
       "      <td>www.cookbooks.com/Recipe-Details.aspx?id=364136</td>\n",
       "      <td>Gathered</td>\n",
       "      <td>[\"flour\", \"baking powder\", \"salt\", \"butter\", \"sugar\", \"egg yolks\", \"vanilla\", \"multi-colored candies\"]</td>\n",
       "    </tr>\n",
       "    <tr>\n",
       "      <th>...</th>\n",
       "      <td>...</td>\n",
       "      <td>...</td>\n",
       "      <td>...</td>\n",
       "      <td>...</td>\n",
       "      <td>...</td>\n",
       "      <td>...</td>\n",
       "    </tr>\n",
       "    <tr>\n",
       "      <th>2231009</th>\n",
       "      <td>Chicken Stuffing Mix Recipe</td>\n",
       "      <td>[\"1 (8 ounce.) stuffing mix &amp; 4 slices bread\", \"1/2 c. butter, melted\", \"1 c. chicken broth\", \"2 1/2 c. chicken, diced\", \"1 c. onion, minced\", \"1/2 c. celery, minced\", \"1/2 c. salad dressing\", \"3/4 teaspoon salt\", \"2 Large eggs\", \"1 1/2 c. lowfat milk\", \"1 can cream of mushroom soup\", \"1 c. Cheddar cheese, shredded\"]</td>\n",
       "      <td>[\"Mix first 3 ingredients.\", \"Put in 9 x 13 inch pan.\", \"Combine chicken, onion, celery, salad dressing and salt.\", \"Spread on top of dressing.\", \"Save a little for top.\", \"Mix Large eggs and lowfat milk, pour over.\", \"Cover with foil and chill at least 6 hrs.\", \"Before baking, take the cream of mushroom soup and spread over stuffing.\", \"Bake at 325 degrees for 40 min.\", \"Sprinkle with 1 c. Cheddar cheese.\", \"Bake 10 min more.\", \"Cut into squares.\", \"Serves 8.\"]</td>\n",
       "      <td>cookeatshare.com/recipes/chicken-stuffing-mix-38487</td>\n",
       "      <td>Recipes1M</td>\n",
       "      <td>[\"stuffing mix\", \"butter\", \"chicken broth\", \"chicken\", \"onion\", \"celery\", \"salad dressing\", \"salt\", \"eggs\", \"milk\", \"cream of mushroom soup\", \"Cheddar cheese\"]</td>\n",
       "    </tr>\n",
       "    <tr>\n",
       "      <th>2231028</th>\n",
       "      <td>Blackberry Upside Down Cake Recipe</td>\n",
       "      <td>[\"1/2 stk margarine or possibly butter\", \"1/4 c. Sugar\", \"1 1/2 c. Blackberries\", \"2 Tbsp. Sliced almonds\", \"1 1/2 c. Bisquick original baking mix\", \"1/2 c. Sugar\", \"1/2 c. Lowfat milk or possibly water\", \"2 Tbsp. Vegetable oil\", \"1/2 tsp Vanilla\", \"1/2 tsp Almond extract\", \"1 x Egg Sweetened whipped cream or possibly ice cream, if you like\"]</td>\n",
       "      <td>[\"HEAT oven to 350 degrees.\", \"Heat margarine in round pan, 9x1-1/2 inches, or possibly square pan, 8x8x2 inches, in oven till melted.\", \"Sprinkle 1/4 c. sugar proportionately over melted margarine.\", \"Arrange Blackberries with open ends up over sugar mix; sprinkle with almonds.\", \"BEAT remaining ingredients except whipped cream in medium bowl on low speed 30 seconds, scraping bowl constantly.\", \"Beat on medium speed 4 min, scraping bowl occasionally.\", \"Pour batter over Blackberries.\", \"BAKE 35 to 40 min or possibly till toothpick inserted in center comes out clean.\", \"Immediately invert pan onto heatproof serving plate; leave pan over cake a few min.\", \"Remove pan.\", \"Let cake stand at least 10 min before serving.\", \"Serve hot with whipped cream.\", \"9 servings.\", \"Pear Upside-down Cake: Substitute packed brown sugar for the sugar and 1 large pear, thinly sliced, for the Blackberries.\", \"Substitute minced pecans for the almonds.\", \"Increase vanilla to 1 tsp.\", \"; omit almond extract.\", \"Add in 1/2 tsp.\", \"grnd mace or possibly cinnamon with the vanilla.\"]</td>\n",
       "      <td>cookeatshare.com/recipes/blackberry-upside-down-cake-86757</td>\n",
       "      <td>Recipes1M</td>\n",
       "      <td>[\"margarine\", \"Sugar\", \"Blackberries\", \"almonds\", \"Bisquick original baking mix\", \"Sugar\", \"milk\", \"Vegetable oil\", \"Vanilla\", \"Egg\"]</td>\n",
       "    </tr>\n",
       "    <tr>\n",
       "      <th>2231063</th>\n",
       "      <td>Broken Wheat Pudding ( Lapsi Kheer ) Recipe</td>\n",
       "      <td>[\"150 gm broken wheat\", \"300 ml water\", \"4 Tbsp. jaggery grated\", \"300 ml coconut lowfat milk\", \"1 tsp cardamom pwdr\"]</td>\n",
       "      <td>[\"(To make coconut lowfat milk finely grate a fresh coconut add in 150ml of warm water and squeeze to extract the thick lowfat milk.\", \"You should get roughly 300ml of coconut lowfat milk from a coconut.)\", \"Cook the broken wheat in the water till soft.\", \"Stir in the jaggery and cook till blended.\", \"Add in the coconut lowfat milk and cardamom pwdr.\", \"Bring to the boil once and remove from the heat.\", \"Serve hot.\", \"This is a pudding from south India and is made on festive occasions.\", \"Serves 4\"]</td>\n",
       "      <td>cookeatshare.com/recipes/broken-wheat-pudding-lapsi-kheer-93485</td>\n",
       "      <td>Recipes1M</td>\n",
       "      <td>[\"broken wheat\", \"water\", \"jaggery grated\", \"coconut lowfat milk\", \"pwdr\"]</td>\n",
       "    </tr>\n",
       "    <tr>\n",
       "      <th>2231076</th>\n",
       "      <td>Boysenberry Tiramisu Recipe</td>\n",
       "      <td>[\"1 pkt Frzn red Boysenberries in, light syrup (10 ounce)\", \"2 sqr semisweet chocolate, (1 ounce)\", \"1 ct whipped cream, cheese (8 ounce)\", \"3 Tbsp. Coffee-flavor liqueur\", \"1 Tbsp. Lowfat milk\", \"1 tsp Vanilla extract\", \"1 1/2 c. Heavy or possibly whipping cream\", \"2/3 c. Vanilla wafers, coarsely Crumble (about 40 cookies) Fresh Boysenberries, garnish\"]</td>\n",
       "      <td>[\"About 3 hrs before serving or possibly early in day: Thaw frzn Boysenberries as label directs.\", \"Meanwhile, grate semi-sweet chocolate.\", \"Reserve 1/4 c. grated chocolate for garnish.\", \"In large bowl, with wire whisk or possibly fork, beat cream cheese, coffee flavor liqueur, lowfat milk, vanilla extract, and remaining grated chocolate till well blended.\", \"In small bowl, with mixer at medium speed, beat heavy or possibly whipping cream and confectioners' sugar till stiff peaks forms.\", \"Reserve 2 c. mix for topping.\", \"With rubber spatula or possibly wire whisk, fold remaining 1 c. whipped cream mix.\", \"Into 8 dessert glasses, place half of crumbled vanilla wafers; top with half of cream mix.\", \"Spoon half of thawed Boysenberries with their syrup over cheese mix; top with remaining vanilla wafers, remaining thawed raspberies, then with remaining cheese mix.\", \"Spoon reserved whipped cream mix into decorating bag with small rosette tube.\", \"Pipe whipped cream around edge of each dessert glass.\", \"Sprinkle reserved grated chocolate in center of each dessert.\", \"Garnish with fresh raspberies.\", \"Chill at least 2 hrs to blend flavor.\", \"Makes 8 servings.\"]</td>\n",
       "      <td>cookeatshare.com/recipes/boysenberry-tiramisu-90221</td>\n",
       "      <td>Recipes1M</td>\n",
       "      <td>[\"red Boysenberries\", \"chocolate\", \"whipped cream\", \"Coffee-flavor\", \"milk\", \"Vanilla\", \"whipping cream\", \"Vanilla wafers\"]</td>\n",
       "    </tr>\n",
       "    <tr>\n",
       "      <th>2231116</th>\n",
       "      <td>Bread And Cheese Casserole Recipe</td>\n",
       "      <td>[\"6 slc Bread, (white, wheat, buns or possibly leftover bread)\", \"2 c. Grated cheese, whatever you like\", \"2 x Onions, thinly sliced\", \"2 x Green peppers, sliced thin\", \"4 x Tomatoes, sliced thin Salt and pepper, to taste\", \"1/2 c. Butter, or possibly more if desired\", \"1 1/4 c. Lowfat milk\", \"2 x Large eggs Parmesan cheese\"]</td>\n",
       "      <td>[\"Preheat oven to 350 degrees.\", \"Toast and cut the bread into smaller pcs.\", \"In a 9x13 pan, put a layer of bread, onions, green pepper, tomatoes and cheese.\", \"Salt and pepper to taste and sprinkle Parmesan cheese over all.\", \"Dot with butter.\", \"Heat the lowfat milk and beat in Large eggs.\", \"Pour mix over casserole.\", \"Bake for 40 min or possibly till lowfat milk has absorbed and cheese is melted and bubbly.\", \"Makes 3 servings\"]</td>\n",
       "      <td>cookeatshare.com/recipes/bread-and-cheese-casserole-91387</td>\n",
       "      <td>Recipes1M</td>\n",
       "      <td>[\"Bread\", \"Grated cheese\", \"Onions\", \"Green peppers\", \"Tomatoes\", \"Butter\", \"milk\", \"Parmesan cheese\"]</td>\n",
       "    </tr>\n",
       "  </tbody>\n",
       "</table>\n",
       "<p>105543 rows × 6 columns</p>\n",
       "</div>"
      ],
      "text/plain": [
       "                                               title  \\\n",
       "2                                        Creamy Corn   \n",
       "17                                    Broccoli Salad   \n",
       "24                           Prize-Winning Meat Loaf   \n",
       "26                Corral Barbecued Beef Steak Strips   \n",
       "48                              Mexican Cookie Rings   \n",
       "...                                              ...   \n",
       "2231009                  Chicken Stuffing Mix Recipe   \n",
       "2231028           Blackberry Upside Down Cake Recipe   \n",
       "2231063  Broken Wheat Pudding ( Lapsi Kheer ) Recipe   \n",
       "2231076                  Boysenberry Tiramisu Recipe   \n",
       "2231116            Bread And Cheese Casserole Recipe   \n",
       "\n",
       "                                                                                                                                                                                                                                                                                                                                                                  ingredients  \\\n",
       "2                                                                                                                                                                                                                 [\"2 (16 oz.) pkg. frozen corn\", \"1 (8 oz.) pkg. cream cheese, cubed\", \"1/3 c. butter, cubed\", \"1/2 tsp. garlic powder\", \"1/2 tsp. salt\", \"1/4 tsp. pepper\"]   \n",
       "17                                                                                                                                                          [\"1 large head broccoli (about 1 1/2 lb.)\", \"10 slices bacon, cooked and crumbled\", \"5 green onions, sliced or 1/4 c. chopped red onion\", \"1/2 c. raisins\", \"1 c. mayonnaise\", \"2 Tbsp. vinegar\", \"1/4 c. sugar\"]   \n",
       "24                                                                                                                                                                                                                    [\"1 1/2 lb. ground beef\", \"1 c. tomato juice\", \"3/4 c. oats (uncooked)\", \"1 egg, beaten\", \"1/4 c. chopped onion\", \"1/4 tsp. pepper\", \"1 1/2 tsp. salt\"]   \n",
       "26                   [\"2 lb. round steak 1/2 to 3/4-inch thick, sliced in strips 1/8-inch thick (or thinner) and 3 1/2 to 4-inches long (easily sliced if partially frozen)\", \"2 Tbsp. cooking oil\", \"1 can (15 oz.) tomato sauce\", \"1/3 c. water\", \"2 Tbsp. brown sugar\", \"1 Tbsp. prepared mustard\", \"1 tbsp. Worcestershire sauce\", \"1 medium sized onion, thinly sliced\"]   \n",
       "48                                                                                                                                                                                                            [\"1 1/2 c. sifted flour\", \"1/2 tsp. baking powder\", \"1/2 tsp. salt\", \"1/2 c. butter\", \"2/3 c. sugar\", \"3 egg yolks\", \"1 tsp. vanilla\", \"multi-colored candies\"]   \n",
       "...                                                                                                                                                                                                                                                                                                                                                                       ...   \n",
       "2231009                                        [\"1 (8 ounce.) stuffing mix & 4 slices bread\", \"1/2 c. butter, melted\", \"1 c. chicken broth\", \"2 1/2 c. chicken, diced\", \"1 c. onion, minced\", \"1/2 c. celery, minced\", \"1/2 c. salad dressing\", \"3/4 teaspoon salt\", \"2 Large eggs\", \"1 1/2 c. lowfat milk\", \"1 can cream of mushroom soup\", \"1 c. Cheddar cheese, shredded\"]   \n",
       "2231028              [\"1/2 stk margarine or possibly butter\", \"1/4 c. Sugar\", \"1 1/2 c. Blackberries\", \"2 Tbsp. Sliced almonds\", \"1 1/2 c. Bisquick original baking mix\", \"1/2 c. Sugar\", \"1/2 c. Lowfat milk or possibly water\", \"2 Tbsp. Vegetable oil\", \"1/2 tsp Vanilla\", \"1/2 tsp Almond extract\", \"1 x Egg Sweetened whipped cream or possibly ice cream, if you like\"]   \n",
       "2231063                                                                                                                                                                                                                                                [\"150 gm broken wheat\", \"300 ml water\", \"4 Tbsp. jaggery grated\", \"300 ml coconut lowfat milk\", \"1 tsp cardamom pwdr\"]   \n",
       "2231076  [\"1 pkt Frzn red Boysenberries in, light syrup (10 ounce)\", \"2 sqr semisweet chocolate, (1 ounce)\", \"1 ct whipped cream, cheese (8 ounce)\", \"3 Tbsp. Coffee-flavor liqueur\", \"1 Tbsp. Lowfat milk\", \"1 tsp Vanilla extract\", \"1 1/2 c. Heavy or possibly whipping cream\", \"2/3 c. Vanilla wafers, coarsely Crumble (about 40 cookies) Fresh Boysenberries, garnish\"]   \n",
       "2231116                               [\"6 slc Bread, (white, wheat, buns or possibly leftover bread)\", \"2 c. Grated cheese, whatever you like\", \"2 x Onions, thinly sliced\", \"2 x Green peppers, sliced thin\", \"4 x Tomatoes, sliced thin Salt and pepper, to taste\", \"1/2 c. Butter, or possibly more if desired\", \"1 1/4 c. Lowfat milk\", \"2 x Large eggs Parmesan cheese\"]   \n",
       "\n",
       "                                                                                                                                                                                                                                                                                                                                                                                                                                                                                                                                                                                                                                                                                                                                                                                                                                                                                                                                                                                                                                                                                                                                                                                                                      directions  \\\n",
       "2                                                                                                                                                                                                                                                                                                                                                                                                                                                                                                                                                                                                                                                                                                                                                                                                                                                                                                                                                                                                                                                    [\"In a slow cooker, combine all ingredients. Cover and cook on low for 4 hours or until heated through and cheese is melted. Stir well before serving. Yields 6 servings.\"]   \n",
       "17                                                                                                                                                                                                                                                                                                                                                                                                                                                                                                                                                                                                                                                                                                                                                                                                                                             [\"Trim off large leaves of broccoli and remove the tough ends of lower stalks. Wash the broccoli thoroughly. Cut the florets and stems into bite-size pieces. Place in a large bowl. Add bacon, onions and raisins. Combine remaining ingredients, stirring well. Add dressing to broccoli mixture and toss gently. Cover and refrigerate 2 to 3 hours. Makes about 6 servings.\"]   \n",
       "24                                                                                                                                                                                                                                                                                                                                                                                                                                                                                                                                                                                                                                                                                                                                                                                                                                                                                                                                                                                                                   [\"Mix well.\", \"Press firmly into an 8 1/2 x 4 1/2 x 2 1/2-inch loaf pan.\", \"Bake in preheated moderate oven.\", \"Bake at 350\\u00b0 for 1 hour.\", \"Let stand 5 minutes before slicing.\", \"Makes 8 servings.\"]   \n",
       "26                                                                                                                                                                                                                                                                                                                                                                                                                                                                                                                                                                                                                                                                                                                                                                                                                                                                                             [\"Brown strips in cooking oil.\", \"Pour off drippings.\", \"Combine tomato sauce, water, brown sugar, mustard and Worcestershire sauce.\", \"Add sauce and onion to meat slices.\", \"Cover and cook slowly, stirring occasionally 30 minutes or until meat is tender. Serve over rice or buttered noodles.\", \"Yields 6 to 8 servings.\"]   \n",
       "48                                                                                                                                                                                                                                                                                                                                                                                                                                                                                                                                                                                                                                                                                                                                              [\"Sift flour, baking powder and salt together.\", \"Cream together butter and sugar.\", \"Add egg yolks and vanilla.\", \"Beat until light and fluffy.\", \"Mix in sifted dry ingredients.\", \"Shape into 1-inch balls.\", \"Push wooden spoon handle through center (twist).\", \"Shape into rings.\", \"Dip each cookie into candies.\", \"Place on lightly greased baking sheets.\", \"Bake in 375\\u00b0 oven for 10 to 12 minutes or until golden brown.\", \"Cool on racks.\", \"Serves 2 dozen.\"]   \n",
       "...                                                                                                                                                                                                                                                                                                                                                                                                                                                                                                                                                                                                                                                                                                                                                                                                                                                                                                                                                                                                                                                                                                                                                                                                                          ...   \n",
       "2231009                                                                                                                                                                                                                                                                                                                                                                                                                                                                                                                                                                                                                                                                                                                                       [\"Mix first 3 ingredients.\", \"Put in 9 x 13 inch pan.\", \"Combine chicken, onion, celery, salad dressing and salt.\", \"Spread on top of dressing.\", \"Save a little for top.\", \"Mix Large eggs and lowfat milk, pour over.\", \"Cover with foil and chill at least 6 hrs.\", \"Before baking, take the cream of mushroom soup and spread over stuffing.\", \"Bake at 325 degrees for 40 min.\", \"Sprinkle with 1 c. Cheddar cheese.\", \"Bake 10 min more.\", \"Cut into squares.\", \"Serves 8.\"]   \n",
       "2231028                                                                                                         [\"HEAT oven to 350 degrees.\", \"Heat margarine in round pan, 9x1-1/2 inches, or possibly square pan, 8x8x2 inches, in oven till melted.\", \"Sprinkle 1/4 c. sugar proportionately over melted margarine.\", \"Arrange Blackberries with open ends up over sugar mix; sprinkle with almonds.\", \"BEAT remaining ingredients except whipped cream in medium bowl on low speed 30 seconds, scraping bowl constantly.\", \"Beat on medium speed 4 min, scraping bowl occasionally.\", \"Pour batter over Blackberries.\", \"BAKE 35 to 40 min or possibly till toothpick inserted in center comes out clean.\", \"Immediately invert pan onto heatproof serving plate; leave pan over cake a few min.\", \"Remove pan.\", \"Let cake stand at least 10 min before serving.\", \"Serve hot with whipped cream.\", \"9 servings.\", \"Pear Upside-down Cake: Substitute packed brown sugar for the sugar and 1 large pear, thinly sliced, for the Blackberries.\", \"Substitute minced pecans for the almonds.\", \"Increase vanilla to 1 tsp.\", \"; omit almond extract.\", \"Add in 1/2 tsp.\", \"grnd mace or possibly cinnamon with the vanilla.\"]   \n",
       "2231063                                                                                                                                                                                                                                                                                                                                                                                                                                                                                                                                                                                                                                                                                                 [\"(To make coconut lowfat milk finely grate a fresh coconut add in 150ml of warm water and squeeze to extract the thick lowfat milk.\", \"You should get roughly 300ml of coconut lowfat milk from a coconut.)\", \"Cook the broken wheat in the water till soft.\", \"Stir in the jaggery and cook till blended.\", \"Add in the coconut lowfat milk and cardamom pwdr.\", \"Bring to the boil once and remove from the heat.\", \"Serve hot.\", \"This is a pudding from south India and is made on festive occasions.\", \"Serves 4\"]   \n",
       "2231076  [\"About 3 hrs before serving or possibly early in day: Thaw frzn Boysenberries as label directs.\", \"Meanwhile, grate semi-sweet chocolate.\", \"Reserve 1/4 c. grated chocolate for garnish.\", \"In large bowl, with wire whisk or possibly fork, beat cream cheese, coffee flavor liqueur, lowfat milk, vanilla extract, and remaining grated chocolate till well blended.\", \"In small bowl, with mixer at medium speed, beat heavy or possibly whipping cream and confectioners' sugar till stiff peaks forms.\", \"Reserve 2 c. mix for topping.\", \"With rubber spatula or possibly wire whisk, fold remaining 1 c. whipped cream mix.\", \"Into 8 dessert glasses, place half of crumbled vanilla wafers; top with half of cream mix.\", \"Spoon half of thawed Boysenberries with their syrup over cheese mix; top with remaining vanilla wafers, remaining thawed raspberies, then with remaining cheese mix.\", \"Spoon reserved whipped cream mix into decorating bag with small rosette tube.\", \"Pipe whipped cream around edge of each dessert glass.\", \"Sprinkle reserved grated chocolate in center of each dessert.\", \"Garnish with fresh raspberies.\", \"Chill at least 2 hrs to blend flavor.\", \"Makes 8 servings.\"]   \n",
       "2231116                                                                                                                                                                                                                                                                                                                                                                                                                                                                                                                                                                                                                                                                                                                                                                    [\"Preheat oven to 350 degrees.\", \"Toast and cut the bread into smaller pcs.\", \"In a 9x13 pan, put a layer of bread, onions, green pepper, tomatoes and cheese.\", \"Salt and pepper to taste and sprinkle Parmesan cheese over all.\", \"Dot with butter.\", \"Heat the lowfat milk and beat in Large eggs.\", \"Pour mix over casserole.\", \"Bake for 40 min or possibly till lowfat milk has absorbed and cheese is melted and bubbly.\", \"Makes 3 servings\"]   \n",
       "\n",
       "                                                                    link  \\\n",
       "2                         www.cookbooks.com/Recipe-Details.aspx?id=10570   \n",
       "17                        www.cookbooks.com/Recipe-Details.aspx?id=50992   \n",
       "24                       www.cookbooks.com/Recipe-Details.aspx?id=923674   \n",
       "26                       www.cookbooks.com/Recipe-Details.aspx?id=420402   \n",
       "48                       www.cookbooks.com/Recipe-Details.aspx?id=364136   \n",
       "...                                                                  ...   \n",
       "2231009              cookeatshare.com/recipes/chicken-stuffing-mix-38487   \n",
       "2231028       cookeatshare.com/recipes/blackberry-upside-down-cake-86757   \n",
       "2231063  cookeatshare.com/recipes/broken-wheat-pudding-lapsi-kheer-93485   \n",
       "2231076              cookeatshare.com/recipes/boysenberry-tiramisu-90221   \n",
       "2231116        cookeatshare.com/recipes/bread-and-cheese-casserole-91387   \n",
       "\n",
       "            source  \\\n",
       "2         Gathered   \n",
       "17        Gathered   \n",
       "24        Gathered   \n",
       "26        Gathered   \n",
       "48        Gathered   \n",
       "...            ...   \n",
       "2231009  Recipes1M   \n",
       "2231028  Recipes1M   \n",
       "2231063  Recipes1M   \n",
       "2231076  Recipes1M   \n",
       "2231116  Recipes1M   \n",
       "\n",
       "                                                                                                                                                                     NER  \n",
       "2                                                                                           [\"frozen corn\", \"cream cheese\", \"butter\", \"garlic powder\", \"salt\", \"pepper\"]  \n",
       "17                                                                                    [\"broccoli\", \"bacon\", \"green onions\", \"raisins\", \"mayonnaise\", \"vinegar\", \"sugar\"]  \n",
       "24                                                                                             [\"ground beef\", \"tomato juice\", \"oats\", \"egg\", \"onion\", \"pepper\", \"salt\"]  \n",
       "26                                                           [\"long\", \"cooking oil\", \"tomato sauce\", \"water\", \"brown sugar\", \"mustard\", \"Worcestershire sauce\", \"onion\"]  \n",
       "48                                                                [\"flour\", \"baking powder\", \"salt\", \"butter\", \"sugar\", \"egg yolks\", \"vanilla\", \"multi-colored candies\"]  \n",
       "...                                                                                                                                                                  ...  \n",
       "2231009  [\"stuffing mix\", \"butter\", \"chicken broth\", \"chicken\", \"onion\", \"celery\", \"salad dressing\", \"salt\", \"eggs\", \"milk\", \"cream of mushroom soup\", \"Cheddar cheese\"]  \n",
       "2231028                            [\"margarine\", \"Sugar\", \"Blackberries\", \"almonds\", \"Bisquick original baking mix\", \"Sugar\", \"milk\", \"Vegetable oil\", \"Vanilla\", \"Egg\"]  \n",
       "2231063                                                                                       [\"broken wheat\", \"water\", \"jaggery grated\", \"coconut lowfat milk\", \"pwdr\"]  \n",
       "2231076                                      [\"red Boysenberries\", \"chocolate\", \"whipped cream\", \"Coffee-flavor\", \"milk\", \"Vanilla\", \"whipping cream\", \"Vanilla wafers\"]  \n",
       "2231116                                                           [\"Bread\", \"Grated cheese\", \"Onions\", \"Green peppers\", \"Tomatoes\", \"Butter\", \"milk\", \"Parmesan cheese\"]  \n",
       "\n",
       "[105543 rows x 6 columns]"
      ]
     },
     "execution_count": 49,
     "metadata": {},
     "output_type": "execute_result"
    }
   ],
   "source": [
    "recipe_df_filtered"
   ]
  },
  {
   "cell_type": "markdown",
   "id": "7245254b-8b2b-45c4-895b-41791629eab6",
   "metadata": {},
   "source": [
    "After filtering the dataset, there's 105,543 recipes left which include the serving size terms. Let's reset the index."
   ]
  },
  {
   "cell_type": "code",
   "execution_count": 51,
   "id": "93493bbe-7682-4c59-ac78-9e59d300fa2f",
   "metadata": {},
   "outputs": [],
   "source": [
    "recipe_df_filtered.reset_index(drop=True, inplace=True)"
   ]
  },
  {
   "cell_type": "code",
   "execution_count": 52,
   "id": "6bbd2d26-7a7a-4b94-8902-398234ebd0ff",
   "metadata": {},
   "outputs": [
    {
     "data": {
      "text/html": [
       "<div>\n",
       "<style scoped>\n",
       "    .dataframe tbody tr th:only-of-type {\n",
       "        vertical-align: middle;\n",
       "    }\n",
       "\n",
       "    .dataframe tbody tr th {\n",
       "        vertical-align: top;\n",
       "    }\n",
       "\n",
       "    .dataframe thead th {\n",
       "        text-align: right;\n",
       "    }\n",
       "</style>\n",
       "<table border=\"1\" class=\"dataframe\">\n",
       "  <thead>\n",
       "    <tr style=\"text-align: right;\">\n",
       "      <th></th>\n",
       "      <th>title</th>\n",
       "      <th>ingredients</th>\n",
       "      <th>directions</th>\n",
       "      <th>link</th>\n",
       "      <th>source</th>\n",
       "      <th>NER</th>\n",
       "    </tr>\n",
       "  </thead>\n",
       "  <tbody>\n",
       "    <tr>\n",
       "      <th>0</th>\n",
       "      <td>Creamy Corn</td>\n",
       "      <td>[\"2 (16 oz.) pkg. frozen corn\", \"1 (8 oz.) pkg. cream cheese, cubed\", \"1/3 c. butter, cubed\", \"1/2 tsp. garlic powder\", \"1/2 tsp. salt\", \"1/4 tsp. pepper\"]</td>\n",
       "      <td>[\"In a slow cooker, combine all ingredients. Cover and cook on low for 4 hours or until heated through and cheese is melted. Stir well before serving. Yields 6 servings.\"]</td>\n",
       "      <td>www.cookbooks.com/Recipe-Details.aspx?id=10570</td>\n",
       "      <td>Gathered</td>\n",
       "      <td>[\"frozen corn\", \"cream cheese\", \"butter\", \"garlic powder\", \"salt\", \"pepper\"]</td>\n",
       "    </tr>\n",
       "    <tr>\n",
       "      <th>1</th>\n",
       "      <td>Broccoli Salad</td>\n",
       "      <td>[\"1 large head broccoli (about 1 1/2 lb.)\", \"10 slices bacon, cooked and crumbled\", \"5 green onions, sliced or 1/4 c. chopped red onion\", \"1/2 c. raisins\", \"1 c. mayonnaise\", \"2 Tbsp. vinegar\", \"1/4 c. sugar\"]</td>\n",
       "      <td>[\"Trim off large leaves of broccoli and remove the tough ends of lower stalks. Wash the broccoli thoroughly. Cut the florets and stems into bite-size pieces. Place in a large bowl. Add bacon, onions and raisins. Combine remaining ingredients, stirring well. Add dressing to broccoli mixture and toss gently. Cover and refrigerate 2 to 3 hours. Makes about 6 servings.\"]</td>\n",
       "      <td>www.cookbooks.com/Recipe-Details.aspx?id=50992</td>\n",
       "      <td>Gathered</td>\n",
       "      <td>[\"broccoli\", \"bacon\", \"green onions\", \"raisins\", \"mayonnaise\", \"vinegar\", \"sugar\"]</td>\n",
       "    </tr>\n",
       "    <tr>\n",
       "      <th>2</th>\n",
       "      <td>Prize-Winning Meat Loaf</td>\n",
       "      <td>[\"1 1/2 lb. ground beef\", \"1 c. tomato juice\", \"3/4 c. oats (uncooked)\", \"1 egg, beaten\", \"1/4 c. chopped onion\", \"1/4 tsp. pepper\", \"1 1/2 tsp. salt\"]</td>\n",
       "      <td>[\"Mix well.\", \"Press firmly into an 8 1/2 x 4 1/2 x 2 1/2-inch loaf pan.\", \"Bake in preheated moderate oven.\", \"Bake at 350\\u00b0 for 1 hour.\", \"Let stand 5 minutes before slicing.\", \"Makes 8 servings.\"]</td>\n",
       "      <td>www.cookbooks.com/Recipe-Details.aspx?id=923674</td>\n",
       "      <td>Gathered</td>\n",
       "      <td>[\"ground beef\", \"tomato juice\", \"oats\", \"egg\", \"onion\", \"pepper\", \"salt\"]</td>\n",
       "    </tr>\n",
       "    <tr>\n",
       "      <th>3</th>\n",
       "      <td>Corral Barbecued Beef Steak Strips</td>\n",
       "      <td>[\"2 lb. round steak 1/2 to 3/4-inch thick, sliced in strips 1/8-inch thick (or thinner) and 3 1/2 to 4-inches long (easily sliced if partially frozen)\", \"2 Tbsp. cooking oil\", \"1 can (15 oz.) tomato sauce\", \"1/3 c. water\", \"2 Tbsp. brown sugar\", \"1 Tbsp. prepared mustard\", \"1 tbsp. Worcestershire sauce\", \"1 medium sized onion, thinly sliced\"]</td>\n",
       "      <td>[\"Brown strips in cooking oil.\", \"Pour off drippings.\", \"Combine tomato sauce, water, brown sugar, mustard and Worcestershire sauce.\", \"Add sauce and onion to meat slices.\", \"Cover and cook slowly, stirring occasionally 30 minutes or until meat is tender. Serve over rice or buttered noodles.\", \"Yields 6 to 8 servings.\"]</td>\n",
       "      <td>www.cookbooks.com/Recipe-Details.aspx?id=420402</td>\n",
       "      <td>Gathered</td>\n",
       "      <td>[\"long\", \"cooking oil\", \"tomato sauce\", \"water\", \"brown sugar\", \"mustard\", \"Worcestershire sauce\", \"onion\"]</td>\n",
       "    </tr>\n",
       "    <tr>\n",
       "      <th>4</th>\n",
       "      <td>Mexican Cookie Rings</td>\n",
       "      <td>[\"1 1/2 c. sifted flour\", \"1/2 tsp. baking powder\", \"1/2 tsp. salt\", \"1/2 c. butter\", \"2/3 c. sugar\", \"3 egg yolks\", \"1 tsp. vanilla\", \"multi-colored candies\"]</td>\n",
       "      <td>[\"Sift flour, baking powder and salt together.\", \"Cream together butter and sugar.\", \"Add egg yolks and vanilla.\", \"Beat until light and fluffy.\", \"Mix in sifted dry ingredients.\", \"Shape into 1-inch balls.\", \"Push wooden spoon handle through center (twist).\", \"Shape into rings.\", \"Dip each cookie into candies.\", \"Place on lightly greased baking sheets.\", \"Bake in 375\\u00b0 oven for 10 to 12 minutes or until golden brown.\", \"Cool on racks.\", \"Serves 2 dozen.\"]</td>\n",
       "      <td>www.cookbooks.com/Recipe-Details.aspx?id=364136</td>\n",
       "      <td>Gathered</td>\n",
       "      <td>[\"flour\", \"baking powder\", \"salt\", \"butter\", \"sugar\", \"egg yolks\", \"vanilla\", \"multi-colored candies\"]</td>\n",
       "    </tr>\n",
       "    <tr>\n",
       "      <th>...</th>\n",
       "      <td>...</td>\n",
       "      <td>...</td>\n",
       "      <td>...</td>\n",
       "      <td>...</td>\n",
       "      <td>...</td>\n",
       "      <td>...</td>\n",
       "    </tr>\n",
       "    <tr>\n",
       "      <th>105538</th>\n",
       "      <td>Chicken Stuffing Mix Recipe</td>\n",
       "      <td>[\"1 (8 ounce.) stuffing mix &amp; 4 slices bread\", \"1/2 c. butter, melted\", \"1 c. chicken broth\", \"2 1/2 c. chicken, diced\", \"1 c. onion, minced\", \"1/2 c. celery, minced\", \"1/2 c. salad dressing\", \"3/4 teaspoon salt\", \"2 Large eggs\", \"1 1/2 c. lowfat milk\", \"1 can cream of mushroom soup\", \"1 c. Cheddar cheese, shredded\"]</td>\n",
       "      <td>[\"Mix first 3 ingredients.\", \"Put in 9 x 13 inch pan.\", \"Combine chicken, onion, celery, salad dressing and salt.\", \"Spread on top of dressing.\", \"Save a little for top.\", \"Mix Large eggs and lowfat milk, pour over.\", \"Cover with foil and chill at least 6 hrs.\", \"Before baking, take the cream of mushroom soup and spread over stuffing.\", \"Bake at 325 degrees for 40 min.\", \"Sprinkle with 1 c. Cheddar cheese.\", \"Bake 10 min more.\", \"Cut into squares.\", \"Serves 8.\"]</td>\n",
       "      <td>cookeatshare.com/recipes/chicken-stuffing-mix-38487</td>\n",
       "      <td>Recipes1M</td>\n",
       "      <td>[\"stuffing mix\", \"butter\", \"chicken broth\", \"chicken\", \"onion\", \"celery\", \"salad dressing\", \"salt\", \"eggs\", \"milk\", \"cream of mushroom soup\", \"Cheddar cheese\"]</td>\n",
       "    </tr>\n",
       "    <tr>\n",
       "      <th>105539</th>\n",
       "      <td>Blackberry Upside Down Cake Recipe</td>\n",
       "      <td>[\"1/2 stk margarine or possibly butter\", \"1/4 c. Sugar\", \"1 1/2 c. Blackberries\", \"2 Tbsp. Sliced almonds\", \"1 1/2 c. Bisquick original baking mix\", \"1/2 c. Sugar\", \"1/2 c. Lowfat milk or possibly water\", \"2 Tbsp. Vegetable oil\", \"1/2 tsp Vanilla\", \"1/2 tsp Almond extract\", \"1 x Egg Sweetened whipped cream or possibly ice cream, if you like\"]</td>\n",
       "      <td>[\"HEAT oven to 350 degrees.\", \"Heat margarine in round pan, 9x1-1/2 inches, or possibly square pan, 8x8x2 inches, in oven till melted.\", \"Sprinkle 1/4 c. sugar proportionately over melted margarine.\", \"Arrange Blackberries with open ends up over sugar mix; sprinkle with almonds.\", \"BEAT remaining ingredients except whipped cream in medium bowl on low speed 30 seconds, scraping bowl constantly.\", \"Beat on medium speed 4 min, scraping bowl occasionally.\", \"Pour batter over Blackberries.\", \"BAKE 35 to 40 min or possibly till toothpick inserted in center comes out clean.\", \"Immediately invert pan onto heatproof serving plate; leave pan over cake a few min.\", \"Remove pan.\", \"Let cake stand at least 10 min before serving.\", \"Serve hot with whipped cream.\", \"9 servings.\", \"Pear Upside-down Cake: Substitute packed brown sugar for the sugar and 1 large pear, thinly sliced, for the Blackberries.\", \"Substitute minced pecans for the almonds.\", \"Increase vanilla to 1 tsp.\", \"; omit almond extract.\", \"Add in 1/2 tsp.\", \"grnd mace or possibly cinnamon with the vanilla.\"]</td>\n",
       "      <td>cookeatshare.com/recipes/blackberry-upside-down-cake-86757</td>\n",
       "      <td>Recipes1M</td>\n",
       "      <td>[\"margarine\", \"Sugar\", \"Blackberries\", \"almonds\", \"Bisquick original baking mix\", \"Sugar\", \"milk\", \"Vegetable oil\", \"Vanilla\", \"Egg\"]</td>\n",
       "    </tr>\n",
       "    <tr>\n",
       "      <th>105540</th>\n",
       "      <td>Broken Wheat Pudding ( Lapsi Kheer ) Recipe</td>\n",
       "      <td>[\"150 gm broken wheat\", \"300 ml water\", \"4 Tbsp. jaggery grated\", \"300 ml coconut lowfat milk\", \"1 tsp cardamom pwdr\"]</td>\n",
       "      <td>[\"(To make coconut lowfat milk finely grate a fresh coconut add in 150ml of warm water and squeeze to extract the thick lowfat milk.\", \"You should get roughly 300ml of coconut lowfat milk from a coconut.)\", \"Cook the broken wheat in the water till soft.\", \"Stir in the jaggery and cook till blended.\", \"Add in the coconut lowfat milk and cardamom pwdr.\", \"Bring to the boil once and remove from the heat.\", \"Serve hot.\", \"This is a pudding from south India and is made on festive occasions.\", \"Serves 4\"]</td>\n",
       "      <td>cookeatshare.com/recipes/broken-wheat-pudding-lapsi-kheer-93485</td>\n",
       "      <td>Recipes1M</td>\n",
       "      <td>[\"broken wheat\", \"water\", \"jaggery grated\", \"coconut lowfat milk\", \"pwdr\"]</td>\n",
       "    </tr>\n",
       "    <tr>\n",
       "      <th>105541</th>\n",
       "      <td>Boysenberry Tiramisu Recipe</td>\n",
       "      <td>[\"1 pkt Frzn red Boysenberries in, light syrup (10 ounce)\", \"2 sqr semisweet chocolate, (1 ounce)\", \"1 ct whipped cream, cheese (8 ounce)\", \"3 Tbsp. Coffee-flavor liqueur\", \"1 Tbsp. Lowfat milk\", \"1 tsp Vanilla extract\", \"1 1/2 c. Heavy or possibly whipping cream\", \"2/3 c. Vanilla wafers, coarsely Crumble (about 40 cookies) Fresh Boysenberries, garnish\"]</td>\n",
       "      <td>[\"About 3 hrs before serving or possibly early in day: Thaw frzn Boysenberries as label directs.\", \"Meanwhile, grate semi-sweet chocolate.\", \"Reserve 1/4 c. grated chocolate for garnish.\", \"In large bowl, with wire whisk or possibly fork, beat cream cheese, coffee flavor liqueur, lowfat milk, vanilla extract, and remaining grated chocolate till well blended.\", \"In small bowl, with mixer at medium speed, beat heavy or possibly whipping cream and confectioners' sugar till stiff peaks forms.\", \"Reserve 2 c. mix for topping.\", \"With rubber spatula or possibly wire whisk, fold remaining 1 c. whipped cream mix.\", \"Into 8 dessert glasses, place half of crumbled vanilla wafers; top with half of cream mix.\", \"Spoon half of thawed Boysenberries with their syrup over cheese mix; top with remaining vanilla wafers, remaining thawed raspberies, then with remaining cheese mix.\", \"Spoon reserved whipped cream mix into decorating bag with small rosette tube.\", \"Pipe whipped cream around edge of each dessert glass.\", \"Sprinkle reserved grated chocolate in center of each dessert.\", \"Garnish with fresh raspberies.\", \"Chill at least 2 hrs to blend flavor.\", \"Makes 8 servings.\"]</td>\n",
       "      <td>cookeatshare.com/recipes/boysenberry-tiramisu-90221</td>\n",
       "      <td>Recipes1M</td>\n",
       "      <td>[\"red Boysenberries\", \"chocolate\", \"whipped cream\", \"Coffee-flavor\", \"milk\", \"Vanilla\", \"whipping cream\", \"Vanilla wafers\"]</td>\n",
       "    </tr>\n",
       "    <tr>\n",
       "      <th>105542</th>\n",
       "      <td>Bread And Cheese Casserole Recipe</td>\n",
       "      <td>[\"6 slc Bread, (white, wheat, buns or possibly leftover bread)\", \"2 c. Grated cheese, whatever you like\", \"2 x Onions, thinly sliced\", \"2 x Green peppers, sliced thin\", \"4 x Tomatoes, sliced thin Salt and pepper, to taste\", \"1/2 c. Butter, or possibly more if desired\", \"1 1/4 c. Lowfat milk\", \"2 x Large eggs Parmesan cheese\"]</td>\n",
       "      <td>[\"Preheat oven to 350 degrees.\", \"Toast and cut the bread into smaller pcs.\", \"In a 9x13 pan, put a layer of bread, onions, green pepper, tomatoes and cheese.\", \"Salt and pepper to taste and sprinkle Parmesan cheese over all.\", \"Dot with butter.\", \"Heat the lowfat milk and beat in Large eggs.\", \"Pour mix over casserole.\", \"Bake for 40 min or possibly till lowfat milk has absorbed and cheese is melted and bubbly.\", \"Makes 3 servings\"]</td>\n",
       "      <td>cookeatshare.com/recipes/bread-and-cheese-casserole-91387</td>\n",
       "      <td>Recipes1M</td>\n",
       "      <td>[\"Bread\", \"Grated cheese\", \"Onions\", \"Green peppers\", \"Tomatoes\", \"Butter\", \"milk\", \"Parmesan cheese\"]</td>\n",
       "    </tr>\n",
       "  </tbody>\n",
       "</table>\n",
       "<p>105543 rows × 6 columns</p>\n",
       "</div>"
      ],
      "text/plain": [
       "                                              title  \\\n",
       "0                                       Creamy Corn   \n",
       "1                                    Broccoli Salad   \n",
       "2                           Prize-Winning Meat Loaf   \n",
       "3                Corral Barbecued Beef Steak Strips   \n",
       "4                              Mexican Cookie Rings   \n",
       "...                                             ...   \n",
       "105538                  Chicken Stuffing Mix Recipe   \n",
       "105539           Blackberry Upside Down Cake Recipe   \n",
       "105540  Broken Wheat Pudding ( Lapsi Kheer ) Recipe   \n",
       "105541                  Boysenberry Tiramisu Recipe   \n",
       "105542            Bread And Cheese Casserole Recipe   \n",
       "\n",
       "                                                                                                                                                                                                                                                                                                                                                                 ingredients  \\\n",
       "0                                                                                                                                                                                                                [\"2 (16 oz.) pkg. frozen corn\", \"1 (8 oz.) pkg. cream cheese, cubed\", \"1/3 c. butter, cubed\", \"1/2 tsp. garlic powder\", \"1/2 tsp. salt\", \"1/4 tsp. pepper\"]   \n",
       "1                                                                                                                                                          [\"1 large head broccoli (about 1 1/2 lb.)\", \"10 slices bacon, cooked and crumbled\", \"5 green onions, sliced or 1/4 c. chopped red onion\", \"1/2 c. raisins\", \"1 c. mayonnaise\", \"2 Tbsp. vinegar\", \"1/4 c. sugar\"]   \n",
       "2                                                                                                                                                                                                                    [\"1 1/2 lb. ground beef\", \"1 c. tomato juice\", \"3/4 c. oats (uncooked)\", \"1 egg, beaten\", \"1/4 c. chopped onion\", \"1/4 tsp. pepper\", \"1 1/2 tsp. salt\"]   \n",
       "3                   [\"2 lb. round steak 1/2 to 3/4-inch thick, sliced in strips 1/8-inch thick (or thinner) and 3 1/2 to 4-inches long (easily sliced if partially frozen)\", \"2 Tbsp. cooking oil\", \"1 can (15 oz.) tomato sauce\", \"1/3 c. water\", \"2 Tbsp. brown sugar\", \"1 Tbsp. prepared mustard\", \"1 tbsp. Worcestershire sauce\", \"1 medium sized onion, thinly sliced\"]   \n",
       "4                                                                                                                                                                                                            [\"1 1/2 c. sifted flour\", \"1/2 tsp. baking powder\", \"1/2 tsp. salt\", \"1/2 c. butter\", \"2/3 c. sugar\", \"3 egg yolks\", \"1 tsp. vanilla\", \"multi-colored candies\"]   \n",
       "...                                                                                                                                                                                                                                                                                                                                                                      ...   \n",
       "105538                                        [\"1 (8 ounce.) stuffing mix & 4 slices bread\", \"1/2 c. butter, melted\", \"1 c. chicken broth\", \"2 1/2 c. chicken, diced\", \"1 c. onion, minced\", \"1/2 c. celery, minced\", \"1/2 c. salad dressing\", \"3/4 teaspoon salt\", \"2 Large eggs\", \"1 1/2 c. lowfat milk\", \"1 can cream of mushroom soup\", \"1 c. Cheddar cheese, shredded\"]   \n",
       "105539              [\"1/2 stk margarine or possibly butter\", \"1/4 c. Sugar\", \"1 1/2 c. Blackberries\", \"2 Tbsp. Sliced almonds\", \"1 1/2 c. Bisquick original baking mix\", \"1/2 c. Sugar\", \"1/2 c. Lowfat milk or possibly water\", \"2 Tbsp. Vegetable oil\", \"1/2 tsp Vanilla\", \"1/2 tsp Almond extract\", \"1 x Egg Sweetened whipped cream or possibly ice cream, if you like\"]   \n",
       "105540                                                                                                                                                                                                                                                [\"150 gm broken wheat\", \"300 ml water\", \"4 Tbsp. jaggery grated\", \"300 ml coconut lowfat milk\", \"1 tsp cardamom pwdr\"]   \n",
       "105541  [\"1 pkt Frzn red Boysenberries in, light syrup (10 ounce)\", \"2 sqr semisweet chocolate, (1 ounce)\", \"1 ct whipped cream, cheese (8 ounce)\", \"3 Tbsp. Coffee-flavor liqueur\", \"1 Tbsp. Lowfat milk\", \"1 tsp Vanilla extract\", \"1 1/2 c. Heavy or possibly whipping cream\", \"2/3 c. Vanilla wafers, coarsely Crumble (about 40 cookies) Fresh Boysenberries, garnish\"]   \n",
       "105542                               [\"6 slc Bread, (white, wheat, buns or possibly leftover bread)\", \"2 c. Grated cheese, whatever you like\", \"2 x Onions, thinly sliced\", \"2 x Green peppers, sliced thin\", \"4 x Tomatoes, sliced thin Salt and pepper, to taste\", \"1/2 c. Butter, or possibly more if desired\", \"1 1/4 c. Lowfat milk\", \"2 x Large eggs Parmesan cheese\"]   \n",
       "\n",
       "                                                                                                                                                                                                                                                                                                                                                                                                                                                                                                                                                                                                                                                                                                                                                                                                                                                                                                                                                                                                                                                                                                                                                                                                                     directions  \\\n",
       "0                                                                                                                                                                                                                                                                                                                                                                                                                                                                                                                                                                                                                                                                                                                                                                                                                                                                                                                                                                                                                                                   [\"In a slow cooker, combine all ingredients. Cover and cook on low for 4 hours or until heated through and cheese is melted. Stir well before serving. Yields 6 servings.\"]   \n",
       "1                                                                                                                                                                                                                                                                                                                                                                                                                                                                                                                                                                                                                                                                                                                                                                                                                                             [\"Trim off large leaves of broccoli and remove the tough ends of lower stalks. Wash the broccoli thoroughly. Cut the florets and stems into bite-size pieces. Place in a large bowl. Add bacon, onions and raisins. Combine remaining ingredients, stirring well. Add dressing to broccoli mixture and toss gently. Cover and refrigerate 2 to 3 hours. Makes about 6 servings.\"]   \n",
       "2                                                                                                                                                                                                                                                                                                                                                                                                                                                                                                                                                                                                                                                                                                                                                                                                                                                                                                                                                                                                                   [\"Mix well.\", \"Press firmly into an 8 1/2 x 4 1/2 x 2 1/2-inch loaf pan.\", \"Bake in preheated moderate oven.\", \"Bake at 350\\u00b0 for 1 hour.\", \"Let stand 5 minutes before slicing.\", \"Makes 8 servings.\"]   \n",
       "3                                                                                                                                                                                                                                                                                                                                                                                                                                                                                                                                                                                                                                                                                                                                                                                                                                                                                             [\"Brown strips in cooking oil.\", \"Pour off drippings.\", \"Combine tomato sauce, water, brown sugar, mustard and Worcestershire sauce.\", \"Add sauce and onion to meat slices.\", \"Cover and cook slowly, stirring occasionally 30 minutes or until meat is tender. Serve over rice or buttered noodles.\", \"Yields 6 to 8 servings.\"]   \n",
       "4                                                                                                                                                                                                                                                                                                                                                                                                                                                                                                                                                                                                                                                                                                                                              [\"Sift flour, baking powder and salt together.\", \"Cream together butter and sugar.\", \"Add egg yolks and vanilla.\", \"Beat until light and fluffy.\", \"Mix in sifted dry ingredients.\", \"Shape into 1-inch balls.\", \"Push wooden spoon handle through center (twist).\", \"Shape into rings.\", \"Dip each cookie into candies.\", \"Place on lightly greased baking sheets.\", \"Bake in 375\\u00b0 oven for 10 to 12 minutes or until golden brown.\", \"Cool on racks.\", \"Serves 2 dozen.\"]   \n",
       "...                                                                                                                                                                                                                                                                                                                                                                                                                                                                                                                                                                                                                                                                                                                                                                                                                                                                                                                                                                                                                                                                                                                                                                                                                         ...   \n",
       "105538                                                                                                                                                                                                                                                                                                                                                                                                                                                                                                                                                                                                                                                                                                                                       [\"Mix first 3 ingredients.\", \"Put in 9 x 13 inch pan.\", \"Combine chicken, onion, celery, salad dressing and salt.\", \"Spread on top of dressing.\", \"Save a little for top.\", \"Mix Large eggs and lowfat milk, pour over.\", \"Cover with foil and chill at least 6 hrs.\", \"Before baking, take the cream of mushroom soup and spread over stuffing.\", \"Bake at 325 degrees for 40 min.\", \"Sprinkle with 1 c. Cheddar cheese.\", \"Bake 10 min more.\", \"Cut into squares.\", \"Serves 8.\"]   \n",
       "105539                                                                                                         [\"HEAT oven to 350 degrees.\", \"Heat margarine in round pan, 9x1-1/2 inches, or possibly square pan, 8x8x2 inches, in oven till melted.\", \"Sprinkle 1/4 c. sugar proportionately over melted margarine.\", \"Arrange Blackberries with open ends up over sugar mix; sprinkle with almonds.\", \"BEAT remaining ingredients except whipped cream in medium bowl on low speed 30 seconds, scraping bowl constantly.\", \"Beat on medium speed 4 min, scraping bowl occasionally.\", \"Pour batter over Blackberries.\", \"BAKE 35 to 40 min or possibly till toothpick inserted in center comes out clean.\", \"Immediately invert pan onto heatproof serving plate; leave pan over cake a few min.\", \"Remove pan.\", \"Let cake stand at least 10 min before serving.\", \"Serve hot with whipped cream.\", \"9 servings.\", \"Pear Upside-down Cake: Substitute packed brown sugar for the sugar and 1 large pear, thinly sliced, for the Blackberries.\", \"Substitute minced pecans for the almonds.\", \"Increase vanilla to 1 tsp.\", \"; omit almond extract.\", \"Add in 1/2 tsp.\", \"grnd mace or possibly cinnamon with the vanilla.\"]   \n",
       "105540                                                                                                                                                                                                                                                                                                                                                                                                                                                                                                                                                                                                                                                                                                 [\"(To make coconut lowfat milk finely grate a fresh coconut add in 150ml of warm water and squeeze to extract the thick lowfat milk.\", \"You should get roughly 300ml of coconut lowfat milk from a coconut.)\", \"Cook the broken wheat in the water till soft.\", \"Stir in the jaggery and cook till blended.\", \"Add in the coconut lowfat milk and cardamom pwdr.\", \"Bring to the boil once and remove from the heat.\", \"Serve hot.\", \"This is a pudding from south India and is made on festive occasions.\", \"Serves 4\"]   \n",
       "105541  [\"About 3 hrs before serving or possibly early in day: Thaw frzn Boysenberries as label directs.\", \"Meanwhile, grate semi-sweet chocolate.\", \"Reserve 1/4 c. grated chocolate for garnish.\", \"In large bowl, with wire whisk or possibly fork, beat cream cheese, coffee flavor liqueur, lowfat milk, vanilla extract, and remaining grated chocolate till well blended.\", \"In small bowl, with mixer at medium speed, beat heavy or possibly whipping cream and confectioners' sugar till stiff peaks forms.\", \"Reserve 2 c. mix for topping.\", \"With rubber spatula or possibly wire whisk, fold remaining 1 c. whipped cream mix.\", \"Into 8 dessert glasses, place half of crumbled vanilla wafers; top with half of cream mix.\", \"Spoon half of thawed Boysenberries with their syrup over cheese mix; top with remaining vanilla wafers, remaining thawed raspberies, then with remaining cheese mix.\", \"Spoon reserved whipped cream mix into decorating bag with small rosette tube.\", \"Pipe whipped cream around edge of each dessert glass.\", \"Sprinkle reserved grated chocolate in center of each dessert.\", \"Garnish with fresh raspberies.\", \"Chill at least 2 hrs to blend flavor.\", \"Makes 8 servings.\"]   \n",
       "105542                                                                                                                                                                                                                                                                                                                                                                                                                                                                                                                                                                                                                                                                                                                                                                    [\"Preheat oven to 350 degrees.\", \"Toast and cut the bread into smaller pcs.\", \"In a 9x13 pan, put a layer of bread, onions, green pepper, tomatoes and cheese.\", \"Salt and pepper to taste and sprinkle Parmesan cheese over all.\", \"Dot with butter.\", \"Heat the lowfat milk and beat in Large eggs.\", \"Pour mix over casserole.\", \"Bake for 40 min or possibly till lowfat milk has absorbed and cheese is melted and bubbly.\", \"Makes 3 servings\"]   \n",
       "\n",
       "                                                                   link  \\\n",
       "0                        www.cookbooks.com/Recipe-Details.aspx?id=10570   \n",
       "1                        www.cookbooks.com/Recipe-Details.aspx?id=50992   \n",
       "2                       www.cookbooks.com/Recipe-Details.aspx?id=923674   \n",
       "3                       www.cookbooks.com/Recipe-Details.aspx?id=420402   \n",
       "4                       www.cookbooks.com/Recipe-Details.aspx?id=364136   \n",
       "...                                                                 ...   \n",
       "105538              cookeatshare.com/recipes/chicken-stuffing-mix-38487   \n",
       "105539       cookeatshare.com/recipes/blackberry-upside-down-cake-86757   \n",
       "105540  cookeatshare.com/recipes/broken-wheat-pudding-lapsi-kheer-93485   \n",
       "105541              cookeatshare.com/recipes/boysenberry-tiramisu-90221   \n",
       "105542        cookeatshare.com/recipes/bread-and-cheese-casserole-91387   \n",
       "\n",
       "           source  \\\n",
       "0        Gathered   \n",
       "1        Gathered   \n",
       "2        Gathered   \n",
       "3        Gathered   \n",
       "4        Gathered   \n",
       "...           ...   \n",
       "105538  Recipes1M   \n",
       "105539  Recipes1M   \n",
       "105540  Recipes1M   \n",
       "105541  Recipes1M   \n",
       "105542  Recipes1M   \n",
       "\n",
       "                                                                                                                                                                    NER  \n",
       "0                                                                                          [\"frozen corn\", \"cream cheese\", \"butter\", \"garlic powder\", \"salt\", \"pepper\"]  \n",
       "1                                                                                    [\"broccoli\", \"bacon\", \"green onions\", \"raisins\", \"mayonnaise\", \"vinegar\", \"sugar\"]  \n",
       "2                                                                                             [\"ground beef\", \"tomato juice\", \"oats\", \"egg\", \"onion\", \"pepper\", \"salt\"]  \n",
       "3                                                           [\"long\", \"cooking oil\", \"tomato sauce\", \"water\", \"brown sugar\", \"mustard\", \"Worcestershire sauce\", \"onion\"]  \n",
       "4                                                                [\"flour\", \"baking powder\", \"salt\", \"butter\", \"sugar\", \"egg yolks\", \"vanilla\", \"multi-colored candies\"]  \n",
       "...                                                                                                                                                                 ...  \n",
       "105538  [\"stuffing mix\", \"butter\", \"chicken broth\", \"chicken\", \"onion\", \"celery\", \"salad dressing\", \"salt\", \"eggs\", \"milk\", \"cream of mushroom soup\", \"Cheddar cheese\"]  \n",
       "105539                            [\"margarine\", \"Sugar\", \"Blackberries\", \"almonds\", \"Bisquick original baking mix\", \"Sugar\", \"milk\", \"Vegetable oil\", \"Vanilla\", \"Egg\"]  \n",
       "105540                                                                                       [\"broken wheat\", \"water\", \"jaggery grated\", \"coconut lowfat milk\", \"pwdr\"]  \n",
       "105541                                      [\"red Boysenberries\", \"chocolate\", \"whipped cream\", \"Coffee-flavor\", \"milk\", \"Vanilla\", \"whipping cream\", \"Vanilla wafers\"]  \n",
       "105542                                                           [\"Bread\", \"Grated cheese\", \"Onions\", \"Green peppers\", \"Tomatoes\", \"Butter\", \"milk\", \"Parmesan cheese\"]  \n",
       "\n",
       "[105543 rows x 6 columns]"
      ]
     },
     "execution_count": 52,
     "metadata": {},
     "output_type": "execute_result"
    }
   ],
   "source": [
    "recipe_df_filtered"
   ]
  },
  {
   "cell_type": "markdown",
   "id": "a04b08b7-63c0-467c-abe7-75667d757188",
   "metadata": {},
   "source": [
    "Now, I am going to test different regex patterns to see if they extract serving sizes. The regex expression below extracts terms like '3 servings', '1 serving'. Removed case sensitivity for this to work properly."
   ]
  },
  {
   "cell_type": "code",
   "execution_count": 54,
   "id": "36a0d34b-9762-4513-ab8c-66c3231c9701",
   "metadata": {},
   "outputs": [],
   "source": [
    "pattern = r'\\b(\\d+)\\s*(serving|servings|serve|serves)\\b'"
   ]
  },
  {
   "cell_type": "code",
   "execution_count": 55,
   "id": "6e03fe92-a767-4a91-b12d-6dc3a6069b35",
   "metadata": {},
   "outputs": [
    {
     "data": {
      "text/html": [
       "<div>\n",
       "<style scoped>\n",
       "    .dataframe tbody tr th:only-of-type {\n",
       "        vertical-align: middle;\n",
       "    }\n",
       "\n",
       "    .dataframe tbody tr th {\n",
       "        vertical-align: top;\n",
       "    }\n",
       "\n",
       "    .dataframe thead th {\n",
       "        text-align: right;\n",
       "    }\n",
       "</style>\n",
       "<table border=\"1\" class=\"dataframe\">\n",
       "  <thead>\n",
       "    <tr style=\"text-align: right;\">\n",
       "      <th></th>\n",
       "      <th>0</th>\n",
       "      <th>1</th>\n",
       "    </tr>\n",
       "  </thead>\n",
       "  <tbody>\n",
       "    <tr>\n",
       "      <th>0</th>\n",
       "      <td>6</td>\n",
       "      <td>servings</td>\n",
       "    </tr>\n",
       "    <tr>\n",
       "      <th>1</th>\n",
       "      <td>6</td>\n",
       "      <td>servings</td>\n",
       "    </tr>\n",
       "    <tr>\n",
       "      <th>2</th>\n",
       "      <td>8</td>\n",
       "      <td>servings</td>\n",
       "    </tr>\n",
       "    <tr>\n",
       "      <th>3</th>\n",
       "      <td>8</td>\n",
       "      <td>servings</td>\n",
       "    </tr>\n",
       "    <tr>\n",
       "      <th>4</th>\n",
       "      <td>NaN</td>\n",
       "      <td>NaN</td>\n",
       "    </tr>\n",
       "    <tr>\n",
       "      <th>...</th>\n",
       "      <td>...</td>\n",
       "      <td>...</td>\n",
       "    </tr>\n",
       "    <tr>\n",
       "      <th>105538</th>\n",
       "      <td>NaN</td>\n",
       "      <td>NaN</td>\n",
       "    </tr>\n",
       "    <tr>\n",
       "      <th>105539</th>\n",
       "      <td>9</td>\n",
       "      <td>servings</td>\n",
       "    </tr>\n",
       "    <tr>\n",
       "      <th>105540</th>\n",
       "      <td>NaN</td>\n",
       "      <td>NaN</td>\n",
       "    </tr>\n",
       "    <tr>\n",
       "      <th>105541</th>\n",
       "      <td>8</td>\n",
       "      <td>servings</td>\n",
       "    </tr>\n",
       "    <tr>\n",
       "      <th>105542</th>\n",
       "      <td>3</td>\n",
       "      <td>servings</td>\n",
       "    </tr>\n",
       "  </tbody>\n",
       "</table>\n",
       "<p>105543 rows × 2 columns</p>\n",
       "</div>"
      ],
      "text/plain": [
       "          0         1\n",
       "0         6  servings\n",
       "1         6  servings\n",
       "2         8  servings\n",
       "3         8  servings\n",
       "4       NaN       NaN\n",
       "...     ...       ...\n",
       "105538  NaN       NaN\n",
       "105539    9  servings\n",
       "105540  NaN       NaN\n",
       "105541    8  servings\n",
       "105542    3  servings\n",
       "\n",
       "[105543 rows x 2 columns]"
      ]
     },
     "execution_count": 55,
     "metadata": {},
     "output_type": "execute_result"
    }
   ],
   "source": [
    "recipe_df_extract_serving = recipe_df_filtered['directions'].str.extract(pattern, flags=re.IGNORECASE, expand = False) # imported re for flag to work to ignore case sensitivity.\n",
    "recipe_df_extract_serving"
   ]
  },
  {
   "cell_type": "markdown",
   "id": "a7d34c2a-dd0d-4b6e-8ed3-c27fc1ce8576",
   "metadata": {},
   "source": [
    "The regex expression below extracts terms like 'serves 4', 'serve 1'. Removed case sensitivity for this to work properly."
   ]
  },
  {
   "cell_type": "code",
   "execution_count": 57,
   "id": "624aceb4-b37c-4025-a4f3-863ffaa5bffe",
   "metadata": {},
   "outputs": [],
   "source": [
    "pattern = r'\\b(serves|serve|serving|servings)\\s*(\\d+)\\b'"
   ]
  },
  {
   "cell_type": "code",
   "execution_count": 58,
   "id": "89faaa76-055c-41b3-bbdd-390c24923bde",
   "metadata": {},
   "outputs": [
    {
     "data": {
      "text/html": [
       "<div>\n",
       "<style scoped>\n",
       "    .dataframe tbody tr th:only-of-type {\n",
       "        vertical-align: middle;\n",
       "    }\n",
       "\n",
       "    .dataframe tbody tr th {\n",
       "        vertical-align: top;\n",
       "    }\n",
       "\n",
       "    .dataframe thead th {\n",
       "        text-align: right;\n",
       "    }\n",
       "</style>\n",
       "<table border=\"1\" class=\"dataframe\">\n",
       "  <thead>\n",
       "    <tr style=\"text-align: right;\">\n",
       "      <th></th>\n",
       "      <th>0</th>\n",
       "      <th>1</th>\n",
       "    </tr>\n",
       "  </thead>\n",
       "  <tbody>\n",
       "    <tr>\n",
       "      <th>0</th>\n",
       "      <td>NaN</td>\n",
       "      <td>NaN</td>\n",
       "    </tr>\n",
       "    <tr>\n",
       "      <th>1</th>\n",
       "      <td>NaN</td>\n",
       "      <td>NaN</td>\n",
       "    </tr>\n",
       "    <tr>\n",
       "      <th>2</th>\n",
       "      <td>NaN</td>\n",
       "      <td>NaN</td>\n",
       "    </tr>\n",
       "    <tr>\n",
       "      <th>3</th>\n",
       "      <td>NaN</td>\n",
       "      <td>NaN</td>\n",
       "    </tr>\n",
       "    <tr>\n",
       "      <th>4</th>\n",
       "      <td>Serves</td>\n",
       "      <td>2</td>\n",
       "    </tr>\n",
       "    <tr>\n",
       "      <th>...</th>\n",
       "      <td>...</td>\n",
       "      <td>...</td>\n",
       "    </tr>\n",
       "    <tr>\n",
       "      <th>105538</th>\n",
       "      <td>Serves</td>\n",
       "      <td>8</td>\n",
       "    </tr>\n",
       "    <tr>\n",
       "      <th>105539</th>\n",
       "      <td>NaN</td>\n",
       "      <td>NaN</td>\n",
       "    </tr>\n",
       "    <tr>\n",
       "      <th>105540</th>\n",
       "      <td>Serves</td>\n",
       "      <td>4</td>\n",
       "    </tr>\n",
       "    <tr>\n",
       "      <th>105541</th>\n",
       "      <td>NaN</td>\n",
       "      <td>NaN</td>\n",
       "    </tr>\n",
       "    <tr>\n",
       "      <th>105542</th>\n",
       "      <td>NaN</td>\n",
       "      <td>NaN</td>\n",
       "    </tr>\n",
       "  </tbody>\n",
       "</table>\n",
       "<p>105543 rows × 2 columns</p>\n",
       "</div>"
      ],
      "text/plain": [
       "             0    1\n",
       "0          NaN  NaN\n",
       "1          NaN  NaN\n",
       "2          NaN  NaN\n",
       "3          NaN  NaN\n",
       "4       Serves    2\n",
       "...        ...  ...\n",
       "105538  Serves    8\n",
       "105539     NaN  NaN\n",
       "105540  Serves    4\n",
       "105541     NaN  NaN\n",
       "105542     NaN  NaN\n",
       "\n",
       "[105543 rows x 2 columns]"
      ]
     },
     "execution_count": 58,
     "metadata": {},
     "output_type": "execute_result"
    }
   ],
   "source": [
    "recipe_df_extract_serve = recipe_df_filtered['directions'].str.extract(pattern, flags=re.IGNORECASE, expand=True)\n",
    "recipe_df_extract_serve"
   ]
  },
  {
   "cell_type": "markdown",
   "id": "979c5dc2-109d-446a-ba6e-be81cd3e5330",
   "metadata": {},
   "source": [
    "Now that I have tested both expressions separately, I am going to combine the regex patterns to extract serving sizes and assign to columns in the dataframe."
   ]
  },
  {
   "cell_type": "code",
   "execution_count": 60,
   "id": "3a672188-ba5d-40d5-a7b4-8e6fde05805b",
   "metadata": {},
   "outputs": [],
   "source": [
    "pattern = r'\\b(\\d+)\\s*(serving|servings|serve|serves)\\b|\\b(serves|serve|serving|servings)\\s*(\\d+)\\b'"
   ]
  },
  {
   "cell_type": "code",
   "execution_count": 61,
   "id": "a30c159e-2114-46cf-a1d9-aecf85c49b6a",
   "metadata": {},
   "outputs": [
    {
     "data": {
      "text/html": [
       "<div>\n",
       "<style scoped>\n",
       "    .dataframe tbody tr th:only-of-type {\n",
       "        vertical-align: middle;\n",
       "    }\n",
       "\n",
       "    .dataframe tbody tr th {\n",
       "        vertical-align: top;\n",
       "    }\n",
       "\n",
       "    .dataframe thead th {\n",
       "        text-align: right;\n",
       "    }\n",
       "</style>\n",
       "<table border=\"1\" class=\"dataframe\">\n",
       "  <thead>\n",
       "    <tr style=\"text-align: right;\">\n",
       "      <th></th>\n",
       "      <th>0</th>\n",
       "      <th>1</th>\n",
       "      <th>2</th>\n",
       "      <th>3</th>\n",
       "    </tr>\n",
       "  </thead>\n",
       "  <tbody>\n",
       "    <tr>\n",
       "      <th>0</th>\n",
       "      <td>6</td>\n",
       "      <td>servings</td>\n",
       "      <td>NaN</td>\n",
       "      <td>NaN</td>\n",
       "    </tr>\n",
       "    <tr>\n",
       "      <th>1</th>\n",
       "      <td>6</td>\n",
       "      <td>servings</td>\n",
       "      <td>NaN</td>\n",
       "      <td>NaN</td>\n",
       "    </tr>\n",
       "    <tr>\n",
       "      <th>2</th>\n",
       "      <td>8</td>\n",
       "      <td>servings</td>\n",
       "      <td>NaN</td>\n",
       "      <td>NaN</td>\n",
       "    </tr>\n",
       "    <tr>\n",
       "      <th>3</th>\n",
       "      <td>8</td>\n",
       "      <td>servings</td>\n",
       "      <td>NaN</td>\n",
       "      <td>NaN</td>\n",
       "    </tr>\n",
       "    <tr>\n",
       "      <th>4</th>\n",
       "      <td>NaN</td>\n",
       "      <td>NaN</td>\n",
       "      <td>Serves</td>\n",
       "      <td>2</td>\n",
       "    </tr>\n",
       "    <tr>\n",
       "      <th>...</th>\n",
       "      <td>...</td>\n",
       "      <td>...</td>\n",
       "      <td>...</td>\n",
       "      <td>...</td>\n",
       "    </tr>\n",
       "    <tr>\n",
       "      <th>105538</th>\n",
       "      <td>NaN</td>\n",
       "      <td>NaN</td>\n",
       "      <td>Serves</td>\n",
       "      <td>8</td>\n",
       "    </tr>\n",
       "    <tr>\n",
       "      <th>105539</th>\n",
       "      <td>9</td>\n",
       "      <td>servings</td>\n",
       "      <td>NaN</td>\n",
       "      <td>NaN</td>\n",
       "    </tr>\n",
       "    <tr>\n",
       "      <th>105540</th>\n",
       "      <td>NaN</td>\n",
       "      <td>NaN</td>\n",
       "      <td>Serves</td>\n",
       "      <td>4</td>\n",
       "    </tr>\n",
       "    <tr>\n",
       "      <th>105541</th>\n",
       "      <td>8</td>\n",
       "      <td>servings</td>\n",
       "      <td>NaN</td>\n",
       "      <td>NaN</td>\n",
       "    </tr>\n",
       "    <tr>\n",
       "      <th>105542</th>\n",
       "      <td>3</td>\n",
       "      <td>servings</td>\n",
       "      <td>NaN</td>\n",
       "      <td>NaN</td>\n",
       "    </tr>\n",
       "  </tbody>\n",
       "</table>\n",
       "<p>105543 rows × 4 columns</p>\n",
       "</div>"
      ],
      "text/plain": [
       "          0         1       2    3\n",
       "0         6  servings     NaN  NaN\n",
       "1         6  servings     NaN  NaN\n",
       "2         8  servings     NaN  NaN\n",
       "3         8  servings     NaN  NaN\n",
       "4       NaN       NaN  Serves    2\n",
       "...     ...       ...     ...  ...\n",
       "105538  NaN       NaN  Serves    8\n",
       "105539    9  servings     NaN  NaN\n",
       "105540  NaN       NaN  Serves    4\n",
       "105541    8  servings     NaN  NaN\n",
       "105542    3  servings     NaN  NaN\n",
       "\n",
       "[105543 rows x 4 columns]"
      ]
     },
     "execution_count": 61,
     "metadata": {},
     "output_type": "execute_result"
    }
   ],
   "source": [
    "recipe_df_extract = recipe_df_filtered['directions'].str.extract(pattern, flags=re.IGNORECASE, expand=False)\n",
    "recipe_df_extract"
   ]
  },
  {
   "cell_type": "code",
   "execution_count": 62,
   "id": "305fe617-4f16-4bee-a6f2-f83ad1b8ca8a",
   "metadata": {},
   "outputs": [
    {
     "name": "stderr",
     "output_type": "stream",
     "text": [
      "C:\\Users\\cryst\\AppData\\Local\\Temp\\ipykernel_62288\\525109626.py:1: SettingWithCopyWarning: \n",
      "A value is trying to be set on a copy of a slice from a DataFrame.\n",
      "Try using .loc[row_indexer,col_indexer] = value instead\n",
      "\n",
      "See the caveats in the documentation: https://pandas.pydata.org/pandas-docs/stable/user_guide/indexing.html#returning-a-view-versus-a-copy\n",
      "  recipe_df_filtered.loc[:, 'serving_size'] = recipe_df_extract[0].combine_first(recipe_df_extract[3])\n",
      "C:\\Users\\cryst\\AppData\\Local\\Temp\\ipykernel_62288\\525109626.py:2: SettingWithCopyWarning: \n",
      "A value is trying to be set on a copy of a slice from a DataFrame.\n",
      "Try using .loc[row_indexer,col_indexer] = value instead\n",
      "\n",
      "See the caveats in the documentation: https://pandas.pydata.org/pandas-docs/stable/user_guide/indexing.html#returning-a-view-versus-a-copy\n",
      "  recipe_df_filtered.loc[:, 'serving_term'] = recipe_df_extract[1].combine_first(recipe_df_extract[2])\n"
     ]
    }
   ],
   "source": [
    "recipe_df_filtered.loc[:, 'serving_size'] = recipe_df_extract[0].combine_first(recipe_df_extract[3])\n",
    "recipe_df_filtered.loc[:, 'serving_term'] = recipe_df_extract[1].combine_first(recipe_df_extract[2])"
   ]
  },
  {
   "cell_type": "code",
   "execution_count": 63,
   "id": "2bf0b168-35bd-4ebb-afcc-4ab603431d94",
   "metadata": {},
   "outputs": [
    {
     "data": {
      "text/html": [
       "<div>\n",
       "<style scoped>\n",
       "    .dataframe tbody tr th:only-of-type {\n",
       "        vertical-align: middle;\n",
       "    }\n",
       "\n",
       "    .dataframe tbody tr th {\n",
       "        vertical-align: top;\n",
       "    }\n",
       "\n",
       "    .dataframe thead th {\n",
       "        text-align: right;\n",
       "    }\n",
       "</style>\n",
       "<table border=\"1\" class=\"dataframe\">\n",
       "  <thead>\n",
       "    <tr style=\"text-align: right;\">\n",
       "      <th></th>\n",
       "      <th>title</th>\n",
       "      <th>ingredients</th>\n",
       "      <th>directions</th>\n",
       "      <th>link</th>\n",
       "      <th>source</th>\n",
       "      <th>NER</th>\n",
       "      <th>serving_size</th>\n",
       "      <th>serving_term</th>\n",
       "    </tr>\n",
       "  </thead>\n",
       "  <tbody>\n",
       "    <tr>\n",
       "      <th>0</th>\n",
       "      <td>Creamy Corn</td>\n",
       "      <td>[\"2 (16 oz.) pkg. frozen corn\", \"1 (8 oz.) pkg. cream cheese, cubed\", \"1/3 c. butter, cubed\", \"1/2 tsp. garlic powder\", \"1/2 tsp. salt\", \"1/4 tsp. pepper\"]</td>\n",
       "      <td>[\"In a slow cooker, combine all ingredients. Cover and cook on low for 4 hours or until heated through and cheese is melted. Stir well before serving. Yields 6 servings.\"]</td>\n",
       "      <td>www.cookbooks.com/Recipe-Details.aspx?id=10570</td>\n",
       "      <td>Gathered</td>\n",
       "      <td>[\"frozen corn\", \"cream cheese\", \"butter\", \"garlic powder\", \"salt\", \"pepper\"]</td>\n",
       "      <td>6</td>\n",
       "      <td>servings</td>\n",
       "    </tr>\n",
       "  </tbody>\n",
       "</table>\n",
       "</div>"
      ],
      "text/plain": [
       "         title  \\\n",
       "0  Creamy Corn   \n",
       "\n",
       "                                                                                                                                                   ingredients  \\\n",
       "0  [\"2 (16 oz.) pkg. frozen corn\", \"1 (8 oz.) pkg. cream cheese, cubed\", \"1/3 c. butter, cubed\", \"1/2 tsp. garlic powder\", \"1/2 tsp. salt\", \"1/4 tsp. pepper\"]   \n",
       "\n",
       "                                                                                                                                                                    directions  \\\n",
       "0  [\"In a slow cooker, combine all ingredients. Cover and cook on low for 4 hours or until heated through and cheese is melted. Stir well before serving. Yields 6 servings.\"]   \n",
       "\n",
       "                                             link    source  \\\n",
       "0  www.cookbooks.com/Recipe-Details.aspx?id=10570  Gathered   \n",
       "\n",
       "                                                                            NER  \\\n",
       "0  [\"frozen corn\", \"cream cheese\", \"butter\", \"garlic powder\", \"salt\", \"pepper\"]   \n",
       "\n",
       "  serving_size serving_term  \n",
       "0            6     servings  "
      ]
     },
     "execution_count": 63,
     "metadata": {},
     "output_type": "execute_result"
    }
   ],
   "source": [
    "recipe_df_filtered.head(1)"
   ]
  },
  {
   "cell_type": "code",
   "execution_count": 64,
   "id": "50021280-328e-4967-bc8e-bbe264d77875",
   "metadata": {},
   "outputs": [
    {
     "data": {
      "text/plain": [
       "(105543, 8)"
      ]
     },
     "execution_count": 64,
     "metadata": {},
     "output_type": "execute_result"
    }
   ],
   "source": [
    "recipe_df_filtered.shape"
   ]
  },
  {
   "cell_type": "markdown",
   "id": "48696c6d-30be-4ff3-8fa5-4580c6a1d1af",
   "metadata": {},
   "source": [
    "The regex patterns succesfully extracted the serving sizes."
   ]
  },
  {
   "cell_type": "markdown",
   "id": "62b65bf3-d237-43f4-a5fd-3ac904b0db6a",
   "metadata": {},
   "source": [
    "##### 4.1.1.1 Measure Conversion: dozen to single units <a name=\"dozen\"></a>"
   ]
  },
  {
   "cell_type": "markdown",
   "id": "7f65b50d-b2c4-4fef-9c3e-517c7a9974cb",
   "metadata": {},
   "source": [
    "Now I want to work on the recipes that contain 'dozen' as their unit of measure from the recipe_df_filtered dataframe, so that the serving sizes reflect the same unit of measure."
   ]
  },
  {
   "cell_type": "code",
   "execution_count": 68,
   "id": "498004d6-ce0f-46af-99bc-67f9a526c399",
   "metadata": {},
   "outputs": [],
   "source": [
    "pattern = r'\\b(serve|serves)\\s*(\\d+)\\s*(dozen|dozens)\\b'"
   ]
  },
  {
   "cell_type": "code",
   "execution_count": 69,
   "id": "b38ca314-b8ae-4929-b0b5-2c3ed6126249",
   "metadata": {},
   "outputs": [
    {
     "data": {
      "text/html": [
       "<div>\n",
       "<style scoped>\n",
       "    .dataframe tbody tr th:only-of-type {\n",
       "        vertical-align: middle;\n",
       "    }\n",
       "\n",
       "    .dataframe tbody tr th {\n",
       "        vertical-align: top;\n",
       "    }\n",
       "\n",
       "    .dataframe thead th {\n",
       "        text-align: right;\n",
       "    }\n",
       "</style>\n",
       "<table border=\"1\" class=\"dataframe\">\n",
       "  <thead>\n",
       "    <tr style=\"text-align: right;\">\n",
       "      <th></th>\n",
       "      <th>0</th>\n",
       "      <th>1</th>\n",
       "      <th>2</th>\n",
       "    </tr>\n",
       "  </thead>\n",
       "  <tbody>\n",
       "    <tr>\n",
       "      <th>0</th>\n",
       "      <td>NaN</td>\n",
       "      <td>NaN</td>\n",
       "      <td>NaN</td>\n",
       "    </tr>\n",
       "    <tr>\n",
       "      <th>1</th>\n",
       "      <td>NaN</td>\n",
       "      <td>NaN</td>\n",
       "      <td>NaN</td>\n",
       "    </tr>\n",
       "    <tr>\n",
       "      <th>2</th>\n",
       "      <td>NaN</td>\n",
       "      <td>NaN</td>\n",
       "      <td>NaN</td>\n",
       "    </tr>\n",
       "    <tr>\n",
       "      <th>3</th>\n",
       "      <td>NaN</td>\n",
       "      <td>NaN</td>\n",
       "      <td>NaN</td>\n",
       "    </tr>\n",
       "    <tr>\n",
       "      <th>4</th>\n",
       "      <td>Serves</td>\n",
       "      <td>2</td>\n",
       "      <td>dozen</td>\n",
       "    </tr>\n",
       "    <tr>\n",
       "      <th>...</th>\n",
       "      <td>...</td>\n",
       "      <td>...</td>\n",
       "      <td>...</td>\n",
       "    </tr>\n",
       "    <tr>\n",
       "      <th>105538</th>\n",
       "      <td>NaN</td>\n",
       "      <td>NaN</td>\n",
       "      <td>NaN</td>\n",
       "    </tr>\n",
       "    <tr>\n",
       "      <th>105539</th>\n",
       "      <td>NaN</td>\n",
       "      <td>NaN</td>\n",
       "      <td>NaN</td>\n",
       "    </tr>\n",
       "    <tr>\n",
       "      <th>105540</th>\n",
       "      <td>NaN</td>\n",
       "      <td>NaN</td>\n",
       "      <td>NaN</td>\n",
       "    </tr>\n",
       "    <tr>\n",
       "      <th>105541</th>\n",
       "      <td>NaN</td>\n",
       "      <td>NaN</td>\n",
       "      <td>NaN</td>\n",
       "    </tr>\n",
       "    <tr>\n",
       "      <th>105542</th>\n",
       "      <td>NaN</td>\n",
       "      <td>NaN</td>\n",
       "      <td>NaN</td>\n",
       "    </tr>\n",
       "  </tbody>\n",
       "</table>\n",
       "<p>105543 rows × 3 columns</p>\n",
       "</div>"
      ],
      "text/plain": [
       "             0    1      2\n",
       "0          NaN  NaN    NaN\n",
       "1          NaN  NaN    NaN\n",
       "2          NaN  NaN    NaN\n",
       "3          NaN  NaN    NaN\n",
       "4       Serves    2  dozen\n",
       "...        ...  ...    ...\n",
       "105538     NaN  NaN    NaN\n",
       "105539     NaN  NaN    NaN\n",
       "105540     NaN  NaN    NaN\n",
       "105541     NaN  NaN    NaN\n",
       "105542     NaN  NaN    NaN\n",
       "\n",
       "[105543 rows x 3 columns]"
      ]
     },
     "execution_count": 69,
     "metadata": {},
     "output_type": "execute_result"
    }
   ],
   "source": [
    "recipe_df_extract_dozen = recipe_df_filtered['directions'].str.extract(pattern, flags=re.IGNORECASE, expand=False)\n",
    "recipe_df_extract_dozen"
   ]
  },
  {
   "cell_type": "code",
   "execution_count": 70,
   "id": "5c082fb0-e6a3-476e-8947-737cc9025ef8",
   "metadata": {},
   "outputs": [
    {
     "name": "stderr",
     "output_type": "stream",
     "text": [
      "C:\\Users\\cryst\\AppData\\Local\\Temp\\ipykernel_62288\\573023254.py:1: SettingWithCopyWarning: \n",
      "A value is trying to be set on a copy of a slice from a DataFrame.\n",
      "Try using .loc[row_indexer,col_indexer] = value instead\n",
      "\n",
      "See the caveats in the documentation: https://pandas.pydata.org/pandas-docs/stable/user_guide/indexing.html#returning-a-view-versus-a-copy\n",
      "  recipe_df_filtered.loc[:, 'dozen'] = recipe_df_extract_dozen[2]\n"
     ]
    },
    {
     "data": {
      "text/html": [
       "<div>\n",
       "<style scoped>\n",
       "    .dataframe tbody tr th:only-of-type {\n",
       "        vertical-align: middle;\n",
       "    }\n",
       "\n",
       "    .dataframe tbody tr th {\n",
       "        vertical-align: top;\n",
       "    }\n",
       "\n",
       "    .dataframe thead th {\n",
       "        text-align: right;\n",
       "    }\n",
       "</style>\n",
       "<table border=\"1\" class=\"dataframe\">\n",
       "  <thead>\n",
       "    <tr style=\"text-align: right;\">\n",
       "      <th></th>\n",
       "      <th>title</th>\n",
       "      <th>ingredients</th>\n",
       "      <th>directions</th>\n",
       "      <th>link</th>\n",
       "      <th>source</th>\n",
       "      <th>NER</th>\n",
       "      <th>serving_size</th>\n",
       "      <th>serving_term</th>\n",
       "      <th>dozen</th>\n",
       "    </tr>\n",
       "  </thead>\n",
       "  <tbody>\n",
       "    <tr>\n",
       "      <th>0</th>\n",
       "      <td>Creamy Corn</td>\n",
       "      <td>[\"2 (16 oz.) pkg. frozen corn\", \"1 (8 oz.) pkg. cream cheese, cubed\", \"1/3 c. butter, cubed\", \"1/2 tsp. garlic powder\", \"1/2 tsp. salt\", \"1/4 tsp. pepper\"]</td>\n",
       "      <td>[\"In a slow cooker, combine all ingredients. Cover and cook on low for 4 hours or until heated through and cheese is melted. Stir well before serving. Yields 6 servings.\"]</td>\n",
       "      <td>www.cookbooks.com/Recipe-Details.aspx?id=10570</td>\n",
       "      <td>Gathered</td>\n",
       "      <td>[\"frozen corn\", \"cream cheese\", \"butter\", \"garlic powder\", \"salt\", \"pepper\"]</td>\n",
       "      <td>6</td>\n",
       "      <td>servings</td>\n",
       "      <td>NaN</td>\n",
       "    </tr>\n",
       "    <tr>\n",
       "      <th>1</th>\n",
       "      <td>Broccoli Salad</td>\n",
       "      <td>[\"1 large head broccoli (about 1 1/2 lb.)\", \"10 slices bacon, cooked and crumbled\", \"5 green onions, sliced or 1/4 c. chopped red onion\", \"1/2 c. raisins\", \"1 c. mayonnaise\", \"2 Tbsp. vinegar\", \"1/4 c. sugar\"]</td>\n",
       "      <td>[\"Trim off large leaves of broccoli and remove the tough ends of lower stalks. Wash the broccoli thoroughly. Cut the florets and stems into bite-size pieces. Place in a large bowl. Add bacon, onions and raisins. Combine remaining ingredients, stirring well. Add dressing to broccoli mixture and toss gently. Cover and refrigerate 2 to 3 hours. Makes about 6 servings.\"]</td>\n",
       "      <td>www.cookbooks.com/Recipe-Details.aspx?id=50992</td>\n",
       "      <td>Gathered</td>\n",
       "      <td>[\"broccoli\", \"bacon\", \"green onions\", \"raisins\", \"mayonnaise\", \"vinegar\", \"sugar\"]</td>\n",
       "      <td>6</td>\n",
       "      <td>servings</td>\n",
       "      <td>NaN</td>\n",
       "    </tr>\n",
       "    <tr>\n",
       "      <th>2</th>\n",
       "      <td>Prize-Winning Meat Loaf</td>\n",
       "      <td>[\"1 1/2 lb. ground beef\", \"1 c. tomato juice\", \"3/4 c. oats (uncooked)\", \"1 egg, beaten\", \"1/4 c. chopped onion\", \"1/4 tsp. pepper\", \"1 1/2 tsp. salt\"]</td>\n",
       "      <td>[\"Mix well.\", \"Press firmly into an 8 1/2 x 4 1/2 x 2 1/2-inch loaf pan.\", \"Bake in preheated moderate oven.\", \"Bake at 350\\u00b0 for 1 hour.\", \"Let stand 5 minutes before slicing.\", \"Makes 8 servings.\"]</td>\n",
       "      <td>www.cookbooks.com/Recipe-Details.aspx?id=923674</td>\n",
       "      <td>Gathered</td>\n",
       "      <td>[\"ground beef\", \"tomato juice\", \"oats\", \"egg\", \"onion\", \"pepper\", \"salt\"]</td>\n",
       "      <td>8</td>\n",
       "      <td>servings</td>\n",
       "      <td>NaN</td>\n",
       "    </tr>\n",
       "    <tr>\n",
       "      <th>3</th>\n",
       "      <td>Corral Barbecued Beef Steak Strips</td>\n",
       "      <td>[\"2 lb. round steak 1/2 to 3/4-inch thick, sliced in strips 1/8-inch thick (or thinner) and 3 1/2 to 4-inches long (easily sliced if partially frozen)\", \"2 Tbsp. cooking oil\", \"1 can (15 oz.) tomato sauce\", \"1/3 c. water\", \"2 Tbsp. brown sugar\", \"1 Tbsp. prepared mustard\", \"1 tbsp. Worcestershire sauce\", \"1 medium sized onion, thinly sliced\"]</td>\n",
       "      <td>[\"Brown strips in cooking oil.\", \"Pour off drippings.\", \"Combine tomato sauce, water, brown sugar, mustard and Worcestershire sauce.\", \"Add sauce and onion to meat slices.\", \"Cover and cook slowly, stirring occasionally 30 minutes or until meat is tender. Serve over rice or buttered noodles.\", \"Yields 6 to 8 servings.\"]</td>\n",
       "      <td>www.cookbooks.com/Recipe-Details.aspx?id=420402</td>\n",
       "      <td>Gathered</td>\n",
       "      <td>[\"long\", \"cooking oil\", \"tomato sauce\", \"water\", \"brown sugar\", \"mustard\", \"Worcestershire sauce\", \"onion\"]</td>\n",
       "      <td>8</td>\n",
       "      <td>servings</td>\n",
       "      <td>NaN</td>\n",
       "    </tr>\n",
       "    <tr>\n",
       "      <th>4</th>\n",
       "      <td>Mexican Cookie Rings</td>\n",
       "      <td>[\"1 1/2 c. sifted flour\", \"1/2 tsp. baking powder\", \"1/2 tsp. salt\", \"1/2 c. butter\", \"2/3 c. sugar\", \"3 egg yolks\", \"1 tsp. vanilla\", \"multi-colored candies\"]</td>\n",
       "      <td>[\"Sift flour, baking powder and salt together.\", \"Cream together butter and sugar.\", \"Add egg yolks and vanilla.\", \"Beat until light and fluffy.\", \"Mix in sifted dry ingredients.\", \"Shape into 1-inch balls.\", \"Push wooden spoon handle through center (twist).\", \"Shape into rings.\", \"Dip each cookie into candies.\", \"Place on lightly greased baking sheets.\", \"Bake in 375\\u00b0 oven for 10 to 12 minutes or until golden brown.\", \"Cool on racks.\", \"Serves 2 dozen.\"]</td>\n",
       "      <td>www.cookbooks.com/Recipe-Details.aspx?id=364136</td>\n",
       "      <td>Gathered</td>\n",
       "      <td>[\"flour\", \"baking powder\", \"salt\", \"butter\", \"sugar\", \"egg yolks\", \"vanilla\", \"multi-colored candies\"]</td>\n",
       "      <td>2</td>\n",
       "      <td>Serves</td>\n",
       "      <td>dozen</td>\n",
       "    </tr>\n",
       "    <tr>\n",
       "      <th>...</th>\n",
       "      <td>...</td>\n",
       "      <td>...</td>\n",
       "      <td>...</td>\n",
       "      <td>...</td>\n",
       "      <td>...</td>\n",
       "      <td>...</td>\n",
       "      <td>...</td>\n",
       "      <td>...</td>\n",
       "      <td>...</td>\n",
       "    </tr>\n",
       "    <tr>\n",
       "      <th>105538</th>\n",
       "      <td>Chicken Stuffing Mix Recipe</td>\n",
       "      <td>[\"1 (8 ounce.) stuffing mix &amp; 4 slices bread\", \"1/2 c. butter, melted\", \"1 c. chicken broth\", \"2 1/2 c. chicken, diced\", \"1 c. onion, minced\", \"1/2 c. celery, minced\", \"1/2 c. salad dressing\", \"3/4 teaspoon salt\", \"2 Large eggs\", \"1 1/2 c. lowfat milk\", \"1 can cream of mushroom soup\", \"1 c. Cheddar cheese, shredded\"]</td>\n",
       "      <td>[\"Mix first 3 ingredients.\", \"Put in 9 x 13 inch pan.\", \"Combine chicken, onion, celery, salad dressing and salt.\", \"Spread on top of dressing.\", \"Save a little for top.\", \"Mix Large eggs and lowfat milk, pour over.\", \"Cover with foil and chill at least 6 hrs.\", \"Before baking, take the cream of mushroom soup and spread over stuffing.\", \"Bake at 325 degrees for 40 min.\", \"Sprinkle with 1 c. Cheddar cheese.\", \"Bake 10 min more.\", \"Cut into squares.\", \"Serves 8.\"]</td>\n",
       "      <td>cookeatshare.com/recipes/chicken-stuffing-mix-38487</td>\n",
       "      <td>Recipes1M</td>\n",
       "      <td>[\"stuffing mix\", \"butter\", \"chicken broth\", \"chicken\", \"onion\", \"celery\", \"salad dressing\", \"salt\", \"eggs\", \"milk\", \"cream of mushroom soup\", \"Cheddar cheese\"]</td>\n",
       "      <td>8</td>\n",
       "      <td>Serves</td>\n",
       "      <td>NaN</td>\n",
       "    </tr>\n",
       "    <tr>\n",
       "      <th>105539</th>\n",
       "      <td>Blackberry Upside Down Cake Recipe</td>\n",
       "      <td>[\"1/2 stk margarine or possibly butter\", \"1/4 c. Sugar\", \"1 1/2 c. Blackberries\", \"2 Tbsp. Sliced almonds\", \"1 1/2 c. Bisquick original baking mix\", \"1/2 c. Sugar\", \"1/2 c. Lowfat milk or possibly water\", \"2 Tbsp. Vegetable oil\", \"1/2 tsp Vanilla\", \"1/2 tsp Almond extract\", \"1 x Egg Sweetened whipped cream or possibly ice cream, if you like\"]</td>\n",
       "      <td>[\"HEAT oven to 350 degrees.\", \"Heat margarine in round pan, 9x1-1/2 inches, or possibly square pan, 8x8x2 inches, in oven till melted.\", \"Sprinkle 1/4 c. sugar proportionately over melted margarine.\", \"Arrange Blackberries with open ends up over sugar mix; sprinkle with almonds.\", \"BEAT remaining ingredients except whipped cream in medium bowl on low speed 30 seconds, scraping bowl constantly.\", \"Beat on medium speed 4 min, scraping bowl occasionally.\", \"Pour batter over Blackberries.\", \"BAKE 35 to 40 min or possibly till toothpick inserted in center comes out clean.\", \"Immediately invert pan onto heatproof serving plate; leave pan over cake a few min.\", \"Remove pan.\", \"Let cake stand at least 10 min before serving.\", \"Serve hot with whipped cream.\", \"9 servings.\", \"Pear Upside-down Cake: Substitute packed brown sugar for the sugar and 1 large pear, thinly sliced, for the Blackberries.\", \"Substitute minced pecans for the almonds.\", \"Increase vanilla to 1 tsp.\", \"; omit almond extract.\", \"Add in 1/2 tsp.\", \"grnd mace or possibly cinnamon with the vanilla.\"]</td>\n",
       "      <td>cookeatshare.com/recipes/blackberry-upside-down-cake-86757</td>\n",
       "      <td>Recipes1M</td>\n",
       "      <td>[\"margarine\", \"Sugar\", \"Blackberries\", \"almonds\", \"Bisquick original baking mix\", \"Sugar\", \"milk\", \"Vegetable oil\", \"Vanilla\", \"Egg\"]</td>\n",
       "      <td>9</td>\n",
       "      <td>servings</td>\n",
       "      <td>NaN</td>\n",
       "    </tr>\n",
       "    <tr>\n",
       "      <th>105540</th>\n",
       "      <td>Broken Wheat Pudding ( Lapsi Kheer ) Recipe</td>\n",
       "      <td>[\"150 gm broken wheat\", \"300 ml water\", \"4 Tbsp. jaggery grated\", \"300 ml coconut lowfat milk\", \"1 tsp cardamom pwdr\"]</td>\n",
       "      <td>[\"(To make coconut lowfat milk finely grate a fresh coconut add in 150ml of warm water and squeeze to extract the thick lowfat milk.\", \"You should get roughly 300ml of coconut lowfat milk from a coconut.)\", \"Cook the broken wheat in the water till soft.\", \"Stir in the jaggery and cook till blended.\", \"Add in the coconut lowfat milk and cardamom pwdr.\", \"Bring to the boil once and remove from the heat.\", \"Serve hot.\", \"This is a pudding from south India and is made on festive occasions.\", \"Serves 4\"]</td>\n",
       "      <td>cookeatshare.com/recipes/broken-wheat-pudding-lapsi-kheer-93485</td>\n",
       "      <td>Recipes1M</td>\n",
       "      <td>[\"broken wheat\", \"water\", \"jaggery grated\", \"coconut lowfat milk\", \"pwdr\"]</td>\n",
       "      <td>4</td>\n",
       "      <td>Serves</td>\n",
       "      <td>NaN</td>\n",
       "    </tr>\n",
       "    <tr>\n",
       "      <th>105541</th>\n",
       "      <td>Boysenberry Tiramisu Recipe</td>\n",
       "      <td>[\"1 pkt Frzn red Boysenberries in, light syrup (10 ounce)\", \"2 sqr semisweet chocolate, (1 ounce)\", \"1 ct whipped cream, cheese (8 ounce)\", \"3 Tbsp. Coffee-flavor liqueur\", \"1 Tbsp. Lowfat milk\", \"1 tsp Vanilla extract\", \"1 1/2 c. Heavy or possibly whipping cream\", \"2/3 c. Vanilla wafers, coarsely Crumble (about 40 cookies) Fresh Boysenberries, garnish\"]</td>\n",
       "      <td>[\"About 3 hrs before serving or possibly early in day: Thaw frzn Boysenberries as label directs.\", \"Meanwhile, grate semi-sweet chocolate.\", \"Reserve 1/4 c. grated chocolate for garnish.\", \"In large bowl, with wire whisk or possibly fork, beat cream cheese, coffee flavor liqueur, lowfat milk, vanilla extract, and remaining grated chocolate till well blended.\", \"In small bowl, with mixer at medium speed, beat heavy or possibly whipping cream and confectioners' sugar till stiff peaks forms.\", \"Reserve 2 c. mix for topping.\", \"With rubber spatula or possibly wire whisk, fold remaining 1 c. whipped cream mix.\", \"Into 8 dessert glasses, place half of crumbled vanilla wafers; top with half of cream mix.\", \"Spoon half of thawed Boysenberries with their syrup over cheese mix; top with remaining vanilla wafers, remaining thawed raspberies, then with remaining cheese mix.\", \"Spoon reserved whipped cream mix into decorating bag with small rosette tube.\", \"Pipe whipped cream around edge of each dessert glass.\", \"Sprinkle reserved grated chocolate in center of each dessert.\", \"Garnish with fresh raspberies.\", \"Chill at least 2 hrs to blend flavor.\", \"Makes 8 servings.\"]</td>\n",
       "      <td>cookeatshare.com/recipes/boysenberry-tiramisu-90221</td>\n",
       "      <td>Recipes1M</td>\n",
       "      <td>[\"red Boysenberries\", \"chocolate\", \"whipped cream\", \"Coffee-flavor\", \"milk\", \"Vanilla\", \"whipping cream\", \"Vanilla wafers\"]</td>\n",
       "      <td>8</td>\n",
       "      <td>servings</td>\n",
       "      <td>NaN</td>\n",
       "    </tr>\n",
       "    <tr>\n",
       "      <th>105542</th>\n",
       "      <td>Bread And Cheese Casserole Recipe</td>\n",
       "      <td>[\"6 slc Bread, (white, wheat, buns or possibly leftover bread)\", \"2 c. Grated cheese, whatever you like\", \"2 x Onions, thinly sliced\", \"2 x Green peppers, sliced thin\", \"4 x Tomatoes, sliced thin Salt and pepper, to taste\", \"1/2 c. Butter, or possibly more if desired\", \"1 1/4 c. Lowfat milk\", \"2 x Large eggs Parmesan cheese\"]</td>\n",
       "      <td>[\"Preheat oven to 350 degrees.\", \"Toast and cut the bread into smaller pcs.\", \"In a 9x13 pan, put a layer of bread, onions, green pepper, tomatoes and cheese.\", \"Salt and pepper to taste and sprinkle Parmesan cheese over all.\", \"Dot with butter.\", \"Heat the lowfat milk and beat in Large eggs.\", \"Pour mix over casserole.\", \"Bake for 40 min or possibly till lowfat milk has absorbed and cheese is melted and bubbly.\", \"Makes 3 servings\"]</td>\n",
       "      <td>cookeatshare.com/recipes/bread-and-cheese-casserole-91387</td>\n",
       "      <td>Recipes1M</td>\n",
       "      <td>[\"Bread\", \"Grated cheese\", \"Onions\", \"Green peppers\", \"Tomatoes\", \"Butter\", \"milk\", \"Parmesan cheese\"]</td>\n",
       "      <td>3</td>\n",
       "      <td>servings</td>\n",
       "      <td>NaN</td>\n",
       "    </tr>\n",
       "  </tbody>\n",
       "</table>\n",
       "<p>105543 rows × 9 columns</p>\n",
       "</div>"
      ],
      "text/plain": [
       "                                              title  \\\n",
       "0                                       Creamy Corn   \n",
       "1                                    Broccoli Salad   \n",
       "2                           Prize-Winning Meat Loaf   \n",
       "3                Corral Barbecued Beef Steak Strips   \n",
       "4                              Mexican Cookie Rings   \n",
       "...                                             ...   \n",
       "105538                  Chicken Stuffing Mix Recipe   \n",
       "105539           Blackberry Upside Down Cake Recipe   \n",
       "105540  Broken Wheat Pudding ( Lapsi Kheer ) Recipe   \n",
       "105541                  Boysenberry Tiramisu Recipe   \n",
       "105542            Bread And Cheese Casserole Recipe   \n",
       "\n",
       "                                                                                                                                                                                                                                                                                                                                                                 ingredients  \\\n",
       "0                                                                                                                                                                                                                [\"2 (16 oz.) pkg. frozen corn\", \"1 (8 oz.) pkg. cream cheese, cubed\", \"1/3 c. butter, cubed\", \"1/2 tsp. garlic powder\", \"1/2 tsp. salt\", \"1/4 tsp. pepper\"]   \n",
       "1                                                                                                                                                          [\"1 large head broccoli (about 1 1/2 lb.)\", \"10 slices bacon, cooked and crumbled\", \"5 green onions, sliced or 1/4 c. chopped red onion\", \"1/2 c. raisins\", \"1 c. mayonnaise\", \"2 Tbsp. vinegar\", \"1/4 c. sugar\"]   \n",
       "2                                                                                                                                                                                                                    [\"1 1/2 lb. ground beef\", \"1 c. tomato juice\", \"3/4 c. oats (uncooked)\", \"1 egg, beaten\", \"1/4 c. chopped onion\", \"1/4 tsp. pepper\", \"1 1/2 tsp. salt\"]   \n",
       "3                   [\"2 lb. round steak 1/2 to 3/4-inch thick, sliced in strips 1/8-inch thick (or thinner) and 3 1/2 to 4-inches long (easily sliced if partially frozen)\", \"2 Tbsp. cooking oil\", \"1 can (15 oz.) tomato sauce\", \"1/3 c. water\", \"2 Tbsp. brown sugar\", \"1 Tbsp. prepared mustard\", \"1 tbsp. Worcestershire sauce\", \"1 medium sized onion, thinly sliced\"]   \n",
       "4                                                                                                                                                                                                            [\"1 1/2 c. sifted flour\", \"1/2 tsp. baking powder\", \"1/2 tsp. salt\", \"1/2 c. butter\", \"2/3 c. sugar\", \"3 egg yolks\", \"1 tsp. vanilla\", \"multi-colored candies\"]   \n",
       "...                                                                                                                                                                                                                                                                                                                                                                      ...   \n",
       "105538                                        [\"1 (8 ounce.) stuffing mix & 4 slices bread\", \"1/2 c. butter, melted\", \"1 c. chicken broth\", \"2 1/2 c. chicken, diced\", \"1 c. onion, minced\", \"1/2 c. celery, minced\", \"1/2 c. salad dressing\", \"3/4 teaspoon salt\", \"2 Large eggs\", \"1 1/2 c. lowfat milk\", \"1 can cream of mushroom soup\", \"1 c. Cheddar cheese, shredded\"]   \n",
       "105539              [\"1/2 stk margarine or possibly butter\", \"1/4 c. Sugar\", \"1 1/2 c. Blackberries\", \"2 Tbsp. Sliced almonds\", \"1 1/2 c. Bisquick original baking mix\", \"1/2 c. Sugar\", \"1/2 c. Lowfat milk or possibly water\", \"2 Tbsp. Vegetable oil\", \"1/2 tsp Vanilla\", \"1/2 tsp Almond extract\", \"1 x Egg Sweetened whipped cream or possibly ice cream, if you like\"]   \n",
       "105540                                                                                                                                                                                                                                                [\"150 gm broken wheat\", \"300 ml water\", \"4 Tbsp. jaggery grated\", \"300 ml coconut lowfat milk\", \"1 tsp cardamom pwdr\"]   \n",
       "105541  [\"1 pkt Frzn red Boysenberries in, light syrup (10 ounce)\", \"2 sqr semisweet chocolate, (1 ounce)\", \"1 ct whipped cream, cheese (8 ounce)\", \"3 Tbsp. Coffee-flavor liqueur\", \"1 Tbsp. Lowfat milk\", \"1 tsp Vanilla extract\", \"1 1/2 c. Heavy or possibly whipping cream\", \"2/3 c. Vanilla wafers, coarsely Crumble (about 40 cookies) Fresh Boysenberries, garnish\"]   \n",
       "105542                               [\"6 slc Bread, (white, wheat, buns or possibly leftover bread)\", \"2 c. Grated cheese, whatever you like\", \"2 x Onions, thinly sliced\", \"2 x Green peppers, sliced thin\", \"4 x Tomatoes, sliced thin Salt and pepper, to taste\", \"1/2 c. Butter, or possibly more if desired\", \"1 1/4 c. Lowfat milk\", \"2 x Large eggs Parmesan cheese\"]   \n",
       "\n",
       "                                                                                                                                                                                                                                                                                                                                                                                                                                                                                                                                                                                                                                                                                                                                                                                                                                                                                                                                                                                                                                                                                                                                                                                                                     directions  \\\n",
       "0                                                                                                                                                                                                                                                                                                                                                                                                                                                                                                                                                                                                                                                                                                                                                                                                                                                                                                                                                                                                                                                   [\"In a slow cooker, combine all ingredients. Cover and cook on low for 4 hours or until heated through and cheese is melted. Stir well before serving. Yields 6 servings.\"]   \n",
       "1                                                                                                                                                                                                                                                                                                                                                                                                                                                                                                                                                                                                                                                                                                                                                                                                                                             [\"Trim off large leaves of broccoli and remove the tough ends of lower stalks. Wash the broccoli thoroughly. Cut the florets and stems into bite-size pieces. Place in a large bowl. Add bacon, onions and raisins. Combine remaining ingredients, stirring well. Add dressing to broccoli mixture and toss gently. Cover and refrigerate 2 to 3 hours. Makes about 6 servings.\"]   \n",
       "2                                                                                                                                                                                                                                                                                                                                                                                                                                                                                                                                                                                                                                                                                                                                                                                                                                                                                                                                                                                                                   [\"Mix well.\", \"Press firmly into an 8 1/2 x 4 1/2 x 2 1/2-inch loaf pan.\", \"Bake in preheated moderate oven.\", \"Bake at 350\\u00b0 for 1 hour.\", \"Let stand 5 minutes before slicing.\", \"Makes 8 servings.\"]   \n",
       "3                                                                                                                                                                                                                                                                                                                                                                                                                                                                                                                                                                                                                                                                                                                                                                                                                                                                                             [\"Brown strips in cooking oil.\", \"Pour off drippings.\", \"Combine tomato sauce, water, brown sugar, mustard and Worcestershire sauce.\", \"Add sauce and onion to meat slices.\", \"Cover and cook slowly, stirring occasionally 30 minutes or until meat is tender. Serve over rice or buttered noodles.\", \"Yields 6 to 8 servings.\"]   \n",
       "4                                                                                                                                                                                                                                                                                                                                                                                                                                                                                                                                                                                                                                                                                                                                              [\"Sift flour, baking powder and salt together.\", \"Cream together butter and sugar.\", \"Add egg yolks and vanilla.\", \"Beat until light and fluffy.\", \"Mix in sifted dry ingredients.\", \"Shape into 1-inch balls.\", \"Push wooden spoon handle through center (twist).\", \"Shape into rings.\", \"Dip each cookie into candies.\", \"Place on lightly greased baking sheets.\", \"Bake in 375\\u00b0 oven for 10 to 12 minutes or until golden brown.\", \"Cool on racks.\", \"Serves 2 dozen.\"]   \n",
       "...                                                                                                                                                                                                                                                                                                                                                                                                                                                                                                                                                                                                                                                                                                                                                                                                                                                                                                                                                                                                                                                                                                                                                                                                                         ...   \n",
       "105538                                                                                                                                                                                                                                                                                                                                                                                                                                                                                                                                                                                                                                                                                                                                       [\"Mix first 3 ingredients.\", \"Put in 9 x 13 inch pan.\", \"Combine chicken, onion, celery, salad dressing and salt.\", \"Spread on top of dressing.\", \"Save a little for top.\", \"Mix Large eggs and lowfat milk, pour over.\", \"Cover with foil and chill at least 6 hrs.\", \"Before baking, take the cream of mushroom soup and spread over stuffing.\", \"Bake at 325 degrees for 40 min.\", \"Sprinkle with 1 c. Cheddar cheese.\", \"Bake 10 min more.\", \"Cut into squares.\", \"Serves 8.\"]   \n",
       "105539                                                                                                         [\"HEAT oven to 350 degrees.\", \"Heat margarine in round pan, 9x1-1/2 inches, or possibly square pan, 8x8x2 inches, in oven till melted.\", \"Sprinkle 1/4 c. sugar proportionately over melted margarine.\", \"Arrange Blackberries with open ends up over sugar mix; sprinkle with almonds.\", \"BEAT remaining ingredients except whipped cream in medium bowl on low speed 30 seconds, scraping bowl constantly.\", \"Beat on medium speed 4 min, scraping bowl occasionally.\", \"Pour batter over Blackberries.\", \"BAKE 35 to 40 min or possibly till toothpick inserted in center comes out clean.\", \"Immediately invert pan onto heatproof serving plate; leave pan over cake a few min.\", \"Remove pan.\", \"Let cake stand at least 10 min before serving.\", \"Serve hot with whipped cream.\", \"9 servings.\", \"Pear Upside-down Cake: Substitute packed brown sugar for the sugar and 1 large pear, thinly sliced, for the Blackberries.\", \"Substitute minced pecans for the almonds.\", \"Increase vanilla to 1 tsp.\", \"; omit almond extract.\", \"Add in 1/2 tsp.\", \"grnd mace or possibly cinnamon with the vanilla.\"]   \n",
       "105540                                                                                                                                                                                                                                                                                                                                                                                                                                                                                                                                                                                                                                                                                                 [\"(To make coconut lowfat milk finely grate a fresh coconut add in 150ml of warm water and squeeze to extract the thick lowfat milk.\", \"You should get roughly 300ml of coconut lowfat milk from a coconut.)\", \"Cook the broken wheat in the water till soft.\", \"Stir in the jaggery and cook till blended.\", \"Add in the coconut lowfat milk and cardamom pwdr.\", \"Bring to the boil once and remove from the heat.\", \"Serve hot.\", \"This is a pudding from south India and is made on festive occasions.\", \"Serves 4\"]   \n",
       "105541  [\"About 3 hrs before serving or possibly early in day: Thaw frzn Boysenberries as label directs.\", \"Meanwhile, grate semi-sweet chocolate.\", \"Reserve 1/4 c. grated chocolate for garnish.\", \"In large bowl, with wire whisk or possibly fork, beat cream cheese, coffee flavor liqueur, lowfat milk, vanilla extract, and remaining grated chocolate till well blended.\", \"In small bowl, with mixer at medium speed, beat heavy or possibly whipping cream and confectioners' sugar till stiff peaks forms.\", \"Reserve 2 c. mix for topping.\", \"With rubber spatula or possibly wire whisk, fold remaining 1 c. whipped cream mix.\", \"Into 8 dessert glasses, place half of crumbled vanilla wafers; top with half of cream mix.\", \"Spoon half of thawed Boysenberries with their syrup over cheese mix; top with remaining vanilla wafers, remaining thawed raspberies, then with remaining cheese mix.\", \"Spoon reserved whipped cream mix into decorating bag with small rosette tube.\", \"Pipe whipped cream around edge of each dessert glass.\", \"Sprinkle reserved grated chocolate in center of each dessert.\", \"Garnish with fresh raspberies.\", \"Chill at least 2 hrs to blend flavor.\", \"Makes 8 servings.\"]   \n",
       "105542                                                                                                                                                                                                                                                                                                                                                                                                                                                                                                                                                                                                                                                                                                                                                                    [\"Preheat oven to 350 degrees.\", \"Toast and cut the bread into smaller pcs.\", \"In a 9x13 pan, put a layer of bread, onions, green pepper, tomatoes and cheese.\", \"Salt and pepper to taste and sprinkle Parmesan cheese over all.\", \"Dot with butter.\", \"Heat the lowfat milk and beat in Large eggs.\", \"Pour mix over casserole.\", \"Bake for 40 min or possibly till lowfat milk has absorbed and cheese is melted and bubbly.\", \"Makes 3 servings\"]   \n",
       "\n",
       "                                                                   link  \\\n",
       "0                        www.cookbooks.com/Recipe-Details.aspx?id=10570   \n",
       "1                        www.cookbooks.com/Recipe-Details.aspx?id=50992   \n",
       "2                       www.cookbooks.com/Recipe-Details.aspx?id=923674   \n",
       "3                       www.cookbooks.com/Recipe-Details.aspx?id=420402   \n",
       "4                       www.cookbooks.com/Recipe-Details.aspx?id=364136   \n",
       "...                                                                 ...   \n",
       "105538              cookeatshare.com/recipes/chicken-stuffing-mix-38487   \n",
       "105539       cookeatshare.com/recipes/blackberry-upside-down-cake-86757   \n",
       "105540  cookeatshare.com/recipes/broken-wheat-pudding-lapsi-kheer-93485   \n",
       "105541              cookeatshare.com/recipes/boysenberry-tiramisu-90221   \n",
       "105542        cookeatshare.com/recipes/bread-and-cheese-casserole-91387   \n",
       "\n",
       "           source  \\\n",
       "0        Gathered   \n",
       "1        Gathered   \n",
       "2        Gathered   \n",
       "3        Gathered   \n",
       "4        Gathered   \n",
       "...           ...   \n",
       "105538  Recipes1M   \n",
       "105539  Recipes1M   \n",
       "105540  Recipes1M   \n",
       "105541  Recipes1M   \n",
       "105542  Recipes1M   \n",
       "\n",
       "                                                                                                                                                                    NER  \\\n",
       "0                                                                                          [\"frozen corn\", \"cream cheese\", \"butter\", \"garlic powder\", \"salt\", \"pepper\"]   \n",
       "1                                                                                    [\"broccoli\", \"bacon\", \"green onions\", \"raisins\", \"mayonnaise\", \"vinegar\", \"sugar\"]   \n",
       "2                                                                                             [\"ground beef\", \"tomato juice\", \"oats\", \"egg\", \"onion\", \"pepper\", \"salt\"]   \n",
       "3                                                           [\"long\", \"cooking oil\", \"tomato sauce\", \"water\", \"brown sugar\", \"mustard\", \"Worcestershire sauce\", \"onion\"]   \n",
       "4                                                                [\"flour\", \"baking powder\", \"salt\", \"butter\", \"sugar\", \"egg yolks\", \"vanilla\", \"multi-colored candies\"]   \n",
       "...                                                                                                                                                                 ...   \n",
       "105538  [\"stuffing mix\", \"butter\", \"chicken broth\", \"chicken\", \"onion\", \"celery\", \"salad dressing\", \"salt\", \"eggs\", \"milk\", \"cream of mushroom soup\", \"Cheddar cheese\"]   \n",
       "105539                            [\"margarine\", \"Sugar\", \"Blackberries\", \"almonds\", \"Bisquick original baking mix\", \"Sugar\", \"milk\", \"Vegetable oil\", \"Vanilla\", \"Egg\"]   \n",
       "105540                                                                                       [\"broken wheat\", \"water\", \"jaggery grated\", \"coconut lowfat milk\", \"pwdr\"]   \n",
       "105541                                      [\"red Boysenberries\", \"chocolate\", \"whipped cream\", \"Coffee-flavor\", \"milk\", \"Vanilla\", \"whipping cream\", \"Vanilla wafers\"]   \n",
       "105542                                                           [\"Bread\", \"Grated cheese\", \"Onions\", \"Green peppers\", \"Tomatoes\", \"Butter\", \"milk\", \"Parmesan cheese\"]   \n",
       "\n",
       "       serving_size serving_term  dozen  \n",
       "0                 6     servings    NaN  \n",
       "1                 6     servings    NaN  \n",
       "2                 8     servings    NaN  \n",
       "3                 8     servings    NaN  \n",
       "4                 2       Serves  dozen  \n",
       "...             ...          ...    ...  \n",
       "105538            8       Serves    NaN  \n",
       "105539            9     servings    NaN  \n",
       "105540            4       Serves    NaN  \n",
       "105541            8     servings    NaN  \n",
       "105542            3     servings    NaN  \n",
       "\n",
       "[105543 rows x 9 columns]"
      ]
     },
     "execution_count": 70,
     "metadata": {},
     "output_type": "execute_result"
    }
   ],
   "source": [
    "recipe_df_filtered.loc[:, 'dozen'] = recipe_df_extract_dozen[2]\n",
    "recipe_df_filtered"
   ]
  },
  {
   "cell_type": "markdown",
   "id": "3d0b9401-cf6c-4b8c-bf6c-93abb8f23235",
   "metadata": {},
   "source": [
    "Checking how many recipes actually had 'dozen' as their serving size measure. Ultimately I want to convert the serving size on these recipes to a single unit of measure so that it matches the measure of the rest of the recipes."
   ]
  },
  {
   "cell_type": "code",
   "execution_count": 72,
   "id": "45e7d4de-7526-4504-83d6-a86d71665640",
   "metadata": {},
   "outputs": [
    {
     "data": {
      "text/html": [
       "<div>\n",
       "<style scoped>\n",
       "    .dataframe tbody tr th:only-of-type {\n",
       "        vertical-align: middle;\n",
       "    }\n",
       "\n",
       "    .dataframe tbody tr th {\n",
       "        vertical-align: top;\n",
       "    }\n",
       "\n",
       "    .dataframe thead th {\n",
       "        text-align: right;\n",
       "    }\n",
       "</style>\n",
       "<table border=\"1\" class=\"dataframe\">\n",
       "  <thead>\n",
       "    <tr style=\"text-align: right;\">\n",
       "      <th></th>\n",
       "      <th>title</th>\n",
       "      <th>ingredients</th>\n",
       "      <th>directions</th>\n",
       "      <th>link</th>\n",
       "      <th>source</th>\n",
       "      <th>NER</th>\n",
       "      <th>serving_size</th>\n",
       "      <th>serving_term</th>\n",
       "      <th>dozen</th>\n",
       "    </tr>\n",
       "  </thead>\n",
       "  <tbody>\n",
       "    <tr>\n",
       "      <th>4</th>\n",
       "      <td>Mexican Cookie Rings</td>\n",
       "      <td>[\"1 1/2 c. sifted flour\", \"1/2 tsp. baking powder\", \"1/2 tsp. salt\", \"1/2 c. butter\", \"2/3 c. sugar\", \"3 egg yolks\", \"1 tsp. vanilla\", \"multi-colored candies\"]</td>\n",
       "      <td>[\"Sift flour, baking powder and salt together.\", \"Cream together butter and sugar.\", \"Add egg yolks and vanilla.\", \"Beat until light and fluffy.\", \"Mix in sifted dry ingredients.\", \"Shape into 1-inch balls.\", \"Push wooden spoon handle through center (twist).\", \"Shape into rings.\", \"Dip each cookie into candies.\", \"Place on lightly greased baking sheets.\", \"Bake in 375\\u00b0 oven for 10 to 12 minutes or until golden brown.\", \"Cool on racks.\", \"Serves 2 dozen.\"]</td>\n",
       "      <td>www.cookbooks.com/Recipe-Details.aspx?id=364136</td>\n",
       "      <td>Gathered</td>\n",
       "      <td>[\"flour\", \"baking powder\", \"salt\", \"butter\", \"sugar\", \"egg yolks\", \"vanilla\", \"multi-colored candies\"]</td>\n",
       "      <td>2</td>\n",
       "      <td>Serves</td>\n",
       "      <td>dozen</td>\n",
       "    </tr>\n",
       "    <tr>\n",
       "      <th>4770</th>\n",
       "      <td>Simplified Oat Bran Muffins</td>\n",
       "      <td>[\"2 1/2 c. oat bran\", \"1 Tbsp. baking powder\", \"1/4 c. sugar or maple syrup\", \"2 Tbsp. almonds\", \"1/2 c. raisins or blueberries\", \"1/4 c. coconut\", \"1 1/4 c. nonfat milk\", \"2 egg whites\", \"2 large overripe bananas or 1 c. pineapple\"]</td>\n",
       "      <td>[\"Mix dry ingredients with wet.\", \"Bake at 450\\u00b0 for 15 minutes. Serves 1 dozen.\"]</td>\n",
       "      <td>www.cookbooks.com/Recipe-Details.aspx?id=741372</td>\n",
       "      <td>Gathered</td>\n",
       "      <td>[\"bran\", \"baking powder\", \"sugar\", \"almonds\", \"raisins\", \"coconut\", \"nonfat milk\", \"egg whites\", \"overripe bananas\"]</td>\n",
       "      <td>1</td>\n",
       "      <td>Serves</td>\n",
       "      <td>dozen</td>\n",
       "    </tr>\n",
       "    <tr>\n",
       "      <th>20235</th>\n",
       "      <td>Refrigerator Cookies</td>\n",
       "      <td>[\"1/2 c. shortening (part butter)\", \"1 c. brown sugar\", \"1 egg\", \"1/2 tsp. vanilla\", \"1 3/4 c. flour\", \"1/2 tsp. soda\", \"1/4 tsp. salt\"]</td>\n",
       "      <td>[\"Mix shortening, sugar, eggs and vanilla.\", \"Blend in flour, soda and salt.\", \"Add nuts, if desired.\", \"Mix well.\", \"Form into rolls and refrigerate for 3 to 6 hours.\", \"Slice and bake at 400\\u00b0 for 8 to 10 minutes.\", \"Serves 4 dozen.\"]</td>\n",
       "      <td>www.cookbooks.com/Recipe-Details.aspx?id=716034</td>\n",
       "      <td>Gathered</td>\n",
       "      <td>[\"shortening\", \"brown sugar\", \"egg\", \"vanilla\", \"flour\", \"soda\", \"salt\"]</td>\n",
       "      <td>4</td>\n",
       "      <td>Serves</td>\n",
       "      <td>dozen</td>\n",
       "    </tr>\n",
       "    <tr>\n",
       "      <th>21941</th>\n",
       "      <td>Snickerdoodles</td>\n",
       "      <td>[\"1 c. soft shortening\", \"1 1/2 c. sugar\", \"2 eggs\", \"2 3/4 c. flour\", \"2 tsp. cream of tartar\", \"1 tsp. soda\", \"1/2 tsp. salt\", \"2 Tbsp. cinnamon\"]</td>\n",
       "      <td>[\"Cream shortening, sugar and eggs.\", \"Sift together flour, cream of tartar, soda and salt.\", \"Stir into creamed mixture.\", \"Roll into balls the size of small walnuts.\", \"Roll in mixture of 2 tablespoons sugar and 2 tablespoons cinnamon.\", \"Place about 2 inches apart on ungreased cookie sheet.\", \"Bake 8 to 10 minutes at 325\\u00b0 until lightly browned but soft.\", \"These cookies puff up at first, then flatten out with crinkled tops.\", \"Serves 5 dozen.\"]</td>\n",
       "      <td>www.cookbooks.com/Recipe-Details.aspx?id=463255</td>\n",
       "      <td>Gathered</td>\n",
       "      <td>[\"shortening\", \"sugar\", \"eggs\", \"flour\", \"cream of tartar\", \"soda\", \"salt\", \"cinnamon\"]</td>\n",
       "      <td>5</td>\n",
       "      <td>Serves</td>\n",
       "      <td>dozen</td>\n",
       "    </tr>\n",
       "    <tr>\n",
       "      <th>23048</th>\n",
       "      <td>Oatmeal Raisin Chocolate Chip Cookies</td>\n",
       "      <td>[\"3/4 c. oil\", \"1 c. granulated sugar\", \"1 c. brown sugar\", \"2 eggs\", \"1 tsp. vanilla\", \"2 1/3 c. flour\", \"1 tsp. baking soda\", \"1/2 tsp. baking powder\", \"1/2 tsp. salt\", \"2 c. oats (instant or old fashioned)\", \"1/2 c. chocolate chips\", \"1/2 c. raisins\"]</td>\n",
       "      <td>[\"Cream oil and sugars.\", \"Add eggs and vanilla.\", \"Beat in flour, baking soda, baking powder and salt.\", \"Mix in oats, chocolate chips and raisins.\", \"Drop by teaspoons onto a greased cookie sheet.\", \"Bake at 350\\u00b0 for 8 to 10 minutes.\", \"Serves 5 dozen.\", \"Kids love em!\"]</td>\n",
       "      <td>www.cookbooks.com/Recipe-Details.aspx?id=770459</td>\n",
       "      <td>Gathered</td>\n",
       "      <td>[\"oil\", \"sugar\", \"brown sugar\", \"eggs\", \"vanilla\", \"flour\", \"baking soda\", \"baking powder\", \"salt\", \"oats\", \"chocolate chips\", \"raisins\"]</td>\n",
       "      <td>5</td>\n",
       "      <td>Serves</td>\n",
       "      <td>dozen</td>\n",
       "    </tr>\n",
       "    <tr>\n",
       "      <th>34627</th>\n",
       "      <td>Yeast Roll Recipe</td>\n",
       "      <td>[\"2 c. warm water\", \"2 pkg. yeast\", \"3/4 c. sugar\", \"1 tsp. salt\", \"3/4 c. liquid shortening\", \"1 egg, slightly beaten\", \"6 c. flour, sifted\"]</td>\n",
       "      <td>[\"Mix water and yeast.\", \"Add sugar, salt, shortening and egg. Add flour; let rise until double and stir down.\", \"Make into rolls. Let rise until double.\", \"Bake at 375\\u00b0 for 10 to 12 minutes.\", \"Serves 2 dozen rolls.\"]</td>\n",
       "      <td>www.cookbooks.com/Recipe-Details.aspx?id=496935</td>\n",
       "      <td>Gathered</td>\n",
       "      <td>[\"water\", \"yeast\", \"sugar\", \"salt\", \"liquid shortening\", \"egg\", \"flour\"]</td>\n",
       "      <td>2</td>\n",
       "      <td>Serves</td>\n",
       "      <td>dozen</td>\n",
       "    </tr>\n",
       "    <tr>\n",
       "      <th>35293</th>\n",
       "      <td>Chocolate Oatmeal Cookies</td>\n",
       "      <td>[\"1 c. sugar\", \"1/2 c. butter\", \"1/2 c. milk\", \"4 tsp. cocoa\", \"1 c. peanut butter\", \"3 c. oatmeal\", \"2 tsp. vanilla\"]</td>\n",
       "      <td>[\"Mix sugar, butter, milk and cocoa into a pot.\", \"Bring to a boil for one minute.\", \"Add peanut butter; stir until melted.\", \"Add oats and vanilla.\", \"Mix well.\", \"Spoon droplets onto wax paper.\", \"Let harden and serve.\", \"Serves 3 dozen.\"]</td>\n",
       "      <td>www.cookbooks.com/Recipe-Details.aspx?id=745276</td>\n",
       "      <td>Gathered</td>\n",
       "      <td>[\"sugar\", \"butter\", \"milk\", \"cocoa\", \"peanut butter\", \"oatmeal\", \"vanilla\"]</td>\n",
       "      <td>3</td>\n",
       "      <td>Serves</td>\n",
       "      <td>dozen</td>\n",
       "    </tr>\n",
       "    <tr>\n",
       "      <th>40413</th>\n",
       "      <td>Blonde Brownies</td>\n",
       "      <td>[\"2/3 c. shortening\", \"1 lb. brown sugar (2 1/4 c.)\", \"3 eggs\", \"2 3/4 c. sifted flour\", \"2 1/2 tsp. baking powder\", \"1/2 tsp. salt\", \"1 c. nutmeats\", \"1 pkg. chocolate chips\"]</td>\n",
       "      <td>[\"Melt the shortening.\", \"Add brown sugar; cool slightly.\", \"Add the eggs, one at a time, beating well after each addition.\", \"Add flour, baking powder and salt, then add nutmeats and chocolate chips. Bake 20 minutes at 350\\u00b0.\", \"Serves 3 dozen.\"]</td>\n",
       "      <td>www.cookbooks.com/Recipe-Details.aspx?id=362310</td>\n",
       "      <td>Gathered</td>\n",
       "      <td>[\"shortening\", \"brown sugar\", \"eggs\", \"flour\", \"baking powder\", \"salt\", \"nutmeats\", \"chocolate chips\"]</td>\n",
       "      <td>3</td>\n",
       "      <td>Serves</td>\n",
       "      <td>dozen</td>\n",
       "    </tr>\n",
       "    <tr>\n",
       "      <th>42829</th>\n",
       "      <td>Angel Biscuits</td>\n",
       "      <td>[\"1 pkg. yeast\", \"1/8 c. warm water\", \"5 c. self-rising flour\", \"1/4 c. sugar\", \"1 c. shortening\", \"2 c. buttermilk\"]</td>\n",
       "      <td>[\"Dissolve yeast in water.\", \"Sift flour and sugar together.\", \"Cut in shortening.\", \"Stir in yeast mixture and buttermilk.\", \"Roll out on floured board and cut into biscuits.\", \"Brush with melted butter or cooking oil, if desired.\", \"Dough will keep in refrigerator for few days.\", \"Serves 4 dozen biscuits.\"]</td>\n",
       "      <td>www.cookbooks.com/Recipe-Details.aspx?id=553630</td>\n",
       "      <td>Gathered</td>\n",
       "      <td>[\"yeast\", \"water\", \"flour\", \"sugar\", \"shortening\", \"buttermilk\"]</td>\n",
       "      <td>4</td>\n",
       "      <td>Serves</td>\n",
       "      <td>dozen</td>\n",
       "    </tr>\n",
       "    <tr>\n",
       "      <th>44790</th>\n",
       "      <td>Sugar Cookies</td>\n",
       "      <td>[\"3/4 c. shortening (part butter)\", \"1 c. sugar\", \"2 eggs\", \"1 tsp. vanilla\", \"2 1/2 c. flour\", \"1 tsp. baking powder\", \"1 tsp. salt\"]</td>\n",
       "      <td>[\"Preheat oven to 400\\u00b0.\", \"Mix thoroughly the softened shortening, sugar, eggs and vanilla. Blend in flour, baking powder and salt. Cover and chill 1 hour.\", \"Roll dough 1/4-inch thick and cut.\", \"Bake on ungreased cookie sheet for 6 to 8 minutes at 400\\u00b0.\", \"Serves 3 dozen.\"]</td>\n",
       "      <td>www.cookbooks.com/Recipe-Details.aspx?id=646737</td>\n",
       "      <td>Gathered</td>\n",
       "      <td>[\"shortening\", \"sugar\", \"eggs\", \"vanilla\", \"flour\", \"baking powder\", \"salt\"]</td>\n",
       "      <td>3</td>\n",
       "      <td>Serves</td>\n",
       "      <td>dozen</td>\n",
       "    </tr>\n",
       "    <tr>\n",
       "      <th>47162</th>\n",
       "      <td>Chocolate Nut Slices</td>\n",
       "      <td>[\"2 c. self-rising flour\", \"3/4 c. shortening\", \"1 3/4 c. sugar\", \"2 tsp. vanilla flavor\", \"1 egg\", \"6 Tbsp. cocoa\", \"2 Tbsp. milk (more, if needed)\", \"3/4 c. chopped nuts\"]</td>\n",
       "      <td>[\"Sift flour and cocoa.\", \"Cream together shortening, sugar and flavor.\", \"Beat in egg.\", \"Add milk.\", \"Blend in dry ingredients and nuts.\", \"Shape into two rolls, 2-inches in diameter.\", \"Chill several hours.\", \"Slice into 1/4-inch slices.\", \"Bake at 375\\u00b0 for about 10 minutes.\", \"Cool on rack.\", \"Serves 7 dozen.\"]</td>\n",
       "      <td>www.cookbooks.com/Recipe-Details.aspx?id=626574</td>\n",
       "      <td>Gathered</td>\n",
       "      <td>[\"flour\", \"shortening\", \"sugar\", \"vanilla flavor\", \"egg\", \"cocoa\", \"milk\", \"nuts\"]</td>\n",
       "      <td>7</td>\n",
       "      <td>Serves</td>\n",
       "      <td>dozen</td>\n",
       "    </tr>\n",
       "    <tr>\n",
       "      <th>52387</th>\n",
       "      <td>Rocky Road S'Mores Bars</td>\n",
       "      <td>[\"1/2 c. Parkay margarine\", \"1/2 c. packed brown sugar\", \"1 c. flour\", \"1/2 c. graham cracker crumbs\", \"2 c. marshmallows\", \"6 oz. chocolate pieces\", \"1/2 c. chopped walnuts\"]</td>\n",
       "      <td>[\"Beat margarine and sugar until light and fluffy.\", \"Add combined flour and crumbs; mix well.\", \"Press onto bottom of greased 9-inch square pan.\", \"Sprinkle with remaining ingredients.\", \"Bake at 375\\u00b0 for 15 to 20 minutes or until golden brown.\", \"Cool and cut into bars.\", \"Serves 2 dozen.\"]</td>\n",
       "      <td>www.cookbooks.com/Recipe-Details.aspx?id=367504</td>\n",
       "      <td>Gathered</td>\n",
       "      <td>[\"Parkay margarine\", \"brown sugar\", \"flour\", \"graham cracker crumbs\", \"marshmallows\", \"chocolate pieces\", \"walnuts\"]</td>\n",
       "      <td>2</td>\n",
       "      <td>Serves</td>\n",
       "      <td>dozen</td>\n",
       "    </tr>\n",
       "    <tr>\n",
       "      <th>54832</th>\n",
       "      <td>Walnut Crescents</td>\n",
       "      <td>[\"1 c. shortening\", \"1/2 c. sugar\", \"1/2 tsp. vanilla\", \"3 c. flour\", \"1/2 tsp. salt\", \"2/3 c. walnuts\"]</td>\n",
       "      <td>[\"Cream shortening, sugar and flavoring.\", \"Add dry ingredients; mix well, then chill.\", \"Form into small crescents.\", \"Place on ungreased baking sheet.\", \"Bake at 375\\u00b0 for 8 to 10 minutes.\", \"Cool slightly.\", \"Roll in confectioners sugar.\", \"Serves 5 dozen.\"]</td>\n",
       "      <td>www.cookbooks.com/Recipe-Details.aspx?id=319893</td>\n",
       "      <td>Gathered</td>\n",
       "      <td>[\"shortening\", \"sugar\", \"vanilla\", \"flour\", \"salt\", \"walnuts\"]</td>\n",
       "      <td>5</td>\n",
       "      <td>Serves</td>\n",
       "      <td>dozen</td>\n",
       "    </tr>\n",
       "    <tr>\n",
       "      <th>55262</th>\n",
       "      <td>Spritz Cookies</td>\n",
       "      <td>[\"1 c. butter\", \"1 c. sugar\", \"3 c. flour\", \"salt\", \"1 egg\", \"1 tsp. vanilla\"]</td>\n",
       "      <td>[\"Heat oven to 400\\u00b0.\", \"Cream the butter and sugar.\", \"Blend in remaining ingredients.\", \"Fill cookie press. Bake on ungreased cookie sheet for 6 to 9 minutes.\", \"Serves 5 dozen.\"]</td>\n",
       "      <td>www.cookbooks.com/Recipe-Details.aspx?id=184216</td>\n",
       "      <td>Gathered</td>\n",
       "      <td>[\"butter\", \"sugar\", \"flour\", \"salt\", \"egg\", \"vanilla\"]</td>\n",
       "      <td>5</td>\n",
       "      <td>Serves</td>\n",
       "      <td>dozen</td>\n",
       "    </tr>\n",
       "    <tr>\n",
       "      <th>55705</th>\n",
       "      <td>Oatmeal Cookies(They Stay Soft)</td>\n",
       "      <td>[\"3/4 c. shortening\", \"1 c. sugar\", \"2 eggs, well beaten\", \"1 3/4 c. flour\", \"1/2 tsp. baking powder\", \"1 tsp. soda\", \"1/2 tsp. salt\", \"1 tsp. cinnamon\", \"1/2 tsp. cloves\", \"1 c. thick sweetened applesauce\", \"1/2 c. raisins\", \"1/2 c. chopped nuts\", \"1 c. oatmeal\", \"1 tsp. vanilla\"]</td>\n",
       "      <td>[\"Preheat oven to 375\\u00b0.\", \"Cream together the shortening and sugar. Add eggs.\", \"Mix together flour, baking powder, soda, salt, cinnamon and cloves. Add flour mixture alternately with applesauce. Add raisins, nuts, oatmeal and vanilla.\", \"Drop from teaspoon on greased cookie sheet 2-inches apart to allow for spreading.\", \"Bake 15 minutes or until done at 375\\u00b0.\", \"Serves 4 dozen.\"]</td>\n",
       "      <td>www.cookbooks.com/Recipe-Details.aspx?id=646742</td>\n",
       "      <td>Gathered</td>\n",
       "      <td>[\"shortening\", \"sugar\", \"eggs\", \"flour\", \"baking powder\", \"soda\", \"salt\", \"cinnamon\", \"cloves\", \"applesauce\", \"raisins\", \"nuts\", \"oatmeal\", \"vanilla\"]</td>\n",
       "      <td>4</td>\n",
       "      <td>Serves</td>\n",
       "      <td>dozen</td>\n",
       "    </tr>\n",
       "    <tr>\n",
       "      <th>56713</th>\n",
       "      <td>Snowflake Cookies</td>\n",
       "      <td>[\"2 c. sugar\", \"4 oz. melted unsweetened chocolate\", \"1/2 c. vegetable oil\", \"4 eggs\", \"2 tsp. vanilla\", \"2 c. flour\", \"2 tsp. baking powder\", \"1/2 tsp. salt\", \"3/4 c. sifted powdered sugar\"]</td>\n",
       "      <td>[\"Combine first 3 ingredients in large bowl and mix until blended well.\", \"Add\\teggs and vanilla.\", \"Combine dry ingredients together and add 1/4 at\", \"a time to chocolate mixture and blend well\", \"after each addition.\\tChill\", \"dough\", \"for\", \"2\", \"hours.\", \"Make 1-inch balls.\", \"Roll in\", \"powdered\", \"sugar\", \"and\", \"space on greased cookie sheet 2 inches apart.\", \"Bake\\t10\", \"to 12 minutes at 350\\u00b0. Serves 8 dozen.\"]</td>\n",
       "      <td>www.cookbooks.com/Recipe-Details.aspx?id=545677</td>\n",
       "      <td>Gathered</td>\n",
       "      <td>[\"sugar\", \"chocolate\", \"vegetable oil\", \"eggs\", \"vanilla\", \"flour\", \"baking powder\", \"salt\", \"powdered sugar\"]</td>\n",
       "      <td>8</td>\n",
       "      <td>Serves</td>\n",
       "      <td>dozen</td>\n",
       "    </tr>\n",
       "    <tr>\n",
       "      <th>76701</th>\n",
       "      <td>Chocolate Dream Cookies</td>\n",
       "      <td>[\"1 3/4 c. flour\", \"1/2 tsp. salt\", \"1/2 tsp. soda\", \"1/2 c. shortening\", \"1 egg, well beaten\", \"1 c. sugar\", \"2 sq. unsweetened chocolate\", \"3/4 c. buttermilk or sour milk\", \"1 (6 oz.) c. semi-sweet chocolate chips (lemon or caramel)\"]</td>\n",
       "      <td>[\"Measure flour, salt and soda (sift).\", \"Cream shortening.\", \"Add sugar gradually.\", \"Cream thoroughly.\", \"Blend in egg and slightly cooled chocolate.\", \"Stir in sifted dry ingredients alternately with milk, mixing well after each addition.\", \"Add chips and mix well. Drop by teaspoons onto lightly greased baking sheet and bake in moderate oven (375\\u00b0) for 10 minutes.\", \"Serves 5 dozen.\"]</td>\n",
       "      <td>www.cookbooks.com/Recipe-Details.aspx?id=758785</td>\n",
       "      <td>Gathered</td>\n",
       "      <td>[\"flour\", \"salt\", \"soda\", \"shortening\", \"egg\", \"sugar\", \"unsweetened chocolate\", \"buttermilk\", \"semi-sweet chocolate chips\"]</td>\n",
       "      <td>5</td>\n",
       "      <td>Serves</td>\n",
       "      <td>dozen</td>\n",
       "    </tr>\n",
       "    <tr>\n",
       "      <th>77058</th>\n",
       "      <td>Judy Milliken'S Grandma Law Gumdrop Cookies</td>\n",
       "      <td>[\"1 c. shortening\", \"1 c. granulated sugar\", \"2 eggs\", \"1 tsp. vanilla\", \"2 c. sifted all-purpose flour\", \"1 tsp. baking powder\", \"1 c. brown sugar\", \"1/2 tsp. soda\", \"1/2 tsp. salt\", \"2 c. quick cooking oats\", \"1 c. coconut\", \"1 c. cut up gumdrops\", \"1 c. chopped pecans\"]</td>\n",
       "      <td>[\"Thoroughly cream shortening and sugar.\", \"Add eggs and vanilla. Beat well.\", \"Sift dry ingredients and add to creamed ingredients. Add remaining ingredients.\", \"Drop from teaspoon onto greased cookie sheet.\", \"Bake at 375\\u00b0 for 10 to 12 minutes.\", \"Serves 6 dozen.\"]</td>\n",
       "      <td>www.cookbooks.com/Recipe-Details.aspx?id=457573</td>\n",
       "      <td>Gathered</td>\n",
       "      <td>[\"shortening\", \"sugar\", \"eggs\", \"vanilla\", \"flour\", \"baking powder\", \"brown sugar\", \"soda\", \"salt\", \"cooking oats\", \"coconut\", \"pecans\"]</td>\n",
       "      <td>6</td>\n",
       "      <td>Serves</td>\n",
       "      <td>dozen</td>\n",
       "    </tr>\n",
       "    <tr>\n",
       "      <th>102567</th>\n",
       "      <td>Crunchy Oat And Cranberry Muffins Recipe</td>\n",
       "      <td>[\"3/4 c. all-purpose flour\", \"3/4 c. whole wheat flour\", \"1 c. oatmeal (only old fashioned)\", \"1/2 c. brown sugar\", \"1 tbsp. baking pwdr\", \"1 teaspoon salt\", \"1 teaspoon cinnamon\", \"1 c. fresh or possibly frzn cranberries\", \"1/4 c. butter, melted (or possibly oil)\", \"1 c. lowfat milk\", \"1 egg\"]</td>\n",
       "      <td>[\"Preheat oven to 425 degrees.\", \"Grease muffin pans.\", \"In a bowl combine dry ingredients.\", \"Toss cranberries with 1 tbsp.\", \"of dry ingredients; set aside.\", \"Mix oil, lowfat milk and egg.\", \"Stir wet into dry ingredients.\", \"Then stir in cranberries.\", \"Bake 15-20 min till lightly browned.\", \"Let stand 5 min before removing from tin.\", \"Serves 1 dozen.\"]</td>\n",
       "      <td>cookeatshare.com/recipes/crunchy-oat-and-cranberry-muffins-43366</td>\n",
       "      <td>Recipes1M</td>\n",
       "      <td>[\"all-purpose\", \"whole wheat flour\", \"brown sugar\", \"baking pwdr\", \"salt\", \"cinnamon\", \"cranberries\", \"butter\", \"milk\", \"egg\"]</td>\n",
       "      <td>1</td>\n",
       "      <td>Serves</td>\n",
       "      <td>dozen</td>\n",
       "    </tr>\n",
       "  </tbody>\n",
       "</table>\n",
       "</div>"
      ],
      "text/plain": [
       "                                              title  \\\n",
       "4                              Mexican Cookie Rings   \n",
       "4770                    Simplified Oat Bran Muffins   \n",
       "20235                          Refrigerator Cookies   \n",
       "21941                                Snickerdoodles   \n",
       "23048         Oatmeal Raisin Chocolate Chip Cookies   \n",
       "34627                             Yeast Roll Recipe   \n",
       "35293                     Chocolate Oatmeal Cookies   \n",
       "40413                               Blonde Brownies   \n",
       "42829                                Angel Biscuits   \n",
       "44790                                 Sugar Cookies   \n",
       "47162                          Chocolate Nut Slices   \n",
       "52387                       Rocky Road S'Mores Bars   \n",
       "54832                              Walnut Crescents   \n",
       "55262                                Spritz Cookies   \n",
       "55705             Oatmeal Cookies(They Stay Soft)     \n",
       "56713                             Snowflake Cookies   \n",
       "76701                       Chocolate Dream Cookies   \n",
       "77058   Judy Milliken'S Grandma Law Gumdrop Cookies   \n",
       "102567     Crunchy Oat And Cranberry Muffins Recipe   \n",
       "\n",
       "                                                                                                                                                                                                                                                                                                    ingredients  \\\n",
       "4                                                                                                                                               [\"1 1/2 c. sifted flour\", \"1/2 tsp. baking powder\", \"1/2 tsp. salt\", \"1/2 c. butter\", \"2/3 c. sugar\", \"3 egg yolks\", \"1 tsp. vanilla\", \"multi-colored candies\"]   \n",
       "4770                                                                  [\"2 1/2 c. oat bran\", \"1 Tbsp. baking powder\", \"1/4 c. sugar or maple syrup\", \"2 Tbsp. almonds\", \"1/2 c. raisins or blueberries\", \"1/4 c. coconut\", \"1 1/4 c. nonfat milk\", \"2 egg whites\", \"2 large overripe bananas or 1 c. pineapple\"]   \n",
       "20235                                                                                                                                                                  [\"1/2 c. shortening (part butter)\", \"1 c. brown sugar\", \"1 egg\", \"1/2 tsp. vanilla\", \"1 3/4 c. flour\", \"1/2 tsp. soda\", \"1/4 tsp. salt\"]   \n",
       "21941                                                                                                                                                      [\"1 c. soft shortening\", \"1 1/2 c. sugar\", \"2 eggs\", \"2 3/4 c. flour\", \"2 tsp. cream of tartar\", \"1 tsp. soda\", \"1/2 tsp. salt\", \"2 Tbsp. cinnamon\"]   \n",
       "23048                                            [\"3/4 c. oil\", \"1 c. granulated sugar\", \"1 c. brown sugar\", \"2 eggs\", \"1 tsp. vanilla\", \"2 1/3 c. flour\", \"1 tsp. baking soda\", \"1/2 tsp. baking powder\", \"1/2 tsp. salt\", \"2 c. oats (instant or old fashioned)\", \"1/2 c. chocolate chips\", \"1/2 c. raisins\"]   \n",
       "34627                                                                                                                                                            [\"2 c. warm water\", \"2 pkg. yeast\", \"3/4 c. sugar\", \"1 tsp. salt\", \"3/4 c. liquid shortening\", \"1 egg, slightly beaten\", \"6 c. flour, sifted\"]   \n",
       "35293                                                                                                                                                                                    [\"1 c. sugar\", \"1/2 c. butter\", \"1/2 c. milk\", \"4 tsp. cocoa\", \"1 c. peanut butter\", \"3 c. oatmeal\", \"2 tsp. vanilla\"]   \n",
       "40413                                                                                                                          [\"2/3 c. shortening\", \"1 lb. brown sugar (2 1/4 c.)\", \"3 eggs\", \"2 3/4 c. sifted flour\", \"2 1/2 tsp. baking powder\", \"1/2 tsp. salt\", \"1 c. nutmeats\", \"1 pkg. chocolate chips\"]   \n",
       "42829                                                                                                                                                                                     [\"1 pkg. yeast\", \"1/8 c. warm water\", \"5 c. self-rising flour\", \"1/4 c. sugar\", \"1 c. shortening\", \"2 c. buttermilk\"]   \n",
       "44790                                                                                                                                                                    [\"3/4 c. shortening (part butter)\", \"1 c. sugar\", \"2 eggs\", \"1 tsp. vanilla\", \"2 1/2 c. flour\", \"1 tsp. baking powder\", \"1 tsp. salt\"]   \n",
       "47162                                                                                                                             [\"2 c. self-rising flour\", \"3/4 c. shortening\", \"1 3/4 c. sugar\", \"2 tsp. vanilla flavor\", \"1 egg\", \"6 Tbsp. cocoa\", \"2 Tbsp. milk (more, if needed)\", \"3/4 c. chopped nuts\"]   \n",
       "52387                                                                                                                           [\"1/2 c. Parkay margarine\", \"1/2 c. packed brown sugar\", \"1 c. flour\", \"1/2 c. graham cracker crumbs\", \"2 c. marshmallows\", \"6 oz. chocolate pieces\", \"1/2 c. chopped walnuts\"]   \n",
       "54832                                                                                                                                                                                                  [\"1 c. shortening\", \"1/2 c. sugar\", \"1/2 tsp. vanilla\", \"3 c. flour\", \"1/2 tsp. salt\", \"2/3 c. walnuts\"]   \n",
       "55262                                                                                                                                                                                                                            [\"1 c. butter\", \"1 c. sugar\", \"3 c. flour\", \"salt\", \"1 egg\", \"1 tsp. vanilla\"]   \n",
       "55705                [\"3/4 c. shortening\", \"1 c. sugar\", \"2 eggs, well beaten\", \"1 3/4 c. flour\", \"1/2 tsp. baking powder\", \"1 tsp. soda\", \"1/2 tsp. salt\", \"1 tsp. cinnamon\", \"1/2 tsp. cloves\", \"1 c. thick sweetened applesauce\", \"1/2 c. raisins\", \"1/2 c. chopped nuts\", \"1 c. oatmeal\", \"1 tsp. vanilla\"]   \n",
       "56713                                                                                                           [\"2 c. sugar\", \"4 oz. melted unsweetened chocolate\", \"1/2 c. vegetable oil\", \"4 eggs\", \"2 tsp. vanilla\", \"2 c. flour\", \"2 tsp. baking powder\", \"1/2 tsp. salt\", \"3/4 c. sifted powdered sugar\"]   \n",
       "76701                                                              [\"1 3/4 c. flour\", \"1/2 tsp. salt\", \"1/2 tsp. soda\", \"1/2 c. shortening\", \"1 egg, well beaten\", \"1 c. sugar\", \"2 sq. unsweetened chocolate\", \"3/4 c. buttermilk or sour milk\", \"1 (6 oz.) c. semi-sweet chocolate chips (lemon or caramel)\"]   \n",
       "77058                         [\"1 c. shortening\", \"1 c. granulated sugar\", \"2 eggs\", \"1 tsp. vanilla\", \"2 c. sifted all-purpose flour\", \"1 tsp. baking powder\", \"1 c. brown sugar\", \"1/2 tsp. soda\", \"1/2 tsp. salt\", \"2 c. quick cooking oats\", \"1 c. coconut\", \"1 c. cut up gumdrops\", \"1 c. chopped pecans\"]   \n",
       "102567  [\"3/4 c. all-purpose flour\", \"3/4 c. whole wheat flour\", \"1 c. oatmeal (only old fashioned)\", \"1/2 c. brown sugar\", \"1 tbsp. baking pwdr\", \"1 teaspoon salt\", \"1 teaspoon cinnamon\", \"1 c. fresh or possibly frzn cranberries\", \"1/4 c. butter, melted (or possibly oil)\", \"1 c. lowfat milk\", \"1 egg\"]   \n",
       "\n",
       "                                                                                                                                                                                                                                                                                                                                                                                                                                                                              directions  \\\n",
       "4       [\"Sift flour, baking powder and salt together.\", \"Cream together butter and sugar.\", \"Add egg yolks and vanilla.\", \"Beat until light and fluffy.\", \"Mix in sifted dry ingredients.\", \"Shape into 1-inch balls.\", \"Push wooden spoon handle through center (twist).\", \"Shape into rings.\", \"Dip each cookie into candies.\", \"Place on lightly greased baking sheets.\", \"Bake in 375\\u00b0 oven for 10 to 12 minutes or until golden brown.\", \"Cool on racks.\", \"Serves 2 dozen.\"]   \n",
       "4770                                                                                                                                                                                                                                                                                                                                                                                              [\"Mix dry ingredients with wet.\", \"Bake at 450\\u00b0 for 15 minutes. Serves 1 dozen.\"]   \n",
       "20235                                                                                                                                                                                                                                   [\"Mix shortening, sugar, eggs and vanilla.\", \"Blend in flour, soda and salt.\", \"Add nuts, if desired.\", \"Mix well.\", \"Form into rolls and refrigerate for 3 to 6 hours.\", \"Slice and bake at 400\\u00b0 for 8 to 10 minutes.\", \"Serves 4 dozen.\"]   \n",
       "21941           [\"Cream shortening, sugar and eggs.\", \"Sift together flour, cream of tartar, soda and salt.\", \"Stir into creamed mixture.\", \"Roll into balls the size of small walnuts.\", \"Roll in mixture of 2 tablespoons sugar and 2 tablespoons cinnamon.\", \"Place about 2 inches apart on ungreased cookie sheet.\", \"Bake 8 to 10 minutes at 325\\u00b0 until lightly browned but soft.\", \"These cookies puff up at first, then flatten out with crinkled tops.\", \"Serves 5 dozen.\"]   \n",
       "23048                                                                                                                                                                                             [\"Cream oil and sugars.\", \"Add eggs and vanilla.\", \"Beat in flour, baking soda, baking powder and salt.\", \"Mix in oats, chocolate chips and raisins.\", \"Drop by teaspoons onto a greased cookie sheet.\", \"Bake at 350\\u00b0 for 8 to 10 minutes.\", \"Serves 5 dozen.\", \"Kids love em!\"]   \n",
       "34627                                                                                                                                                                                                                                                    [\"Mix water and yeast.\", \"Add sugar, salt, shortening and egg. Add flour; let rise until double and stir down.\", \"Make into rolls. Let rise until double.\", \"Bake at 375\\u00b0 for 10 to 12 minutes.\", \"Serves 2 dozen rolls.\"]   \n",
       "35293                                                                                                                                                                                                                                  [\"Mix sugar, butter, milk and cocoa into a pot.\", \"Bring to a boil for one minute.\", \"Add peanut butter; stir until melted.\", \"Add oats and vanilla.\", \"Mix well.\", \"Spoon droplets onto wax paper.\", \"Let harden and serve.\", \"Serves 3 dozen.\"]   \n",
       "40413                                                                                                                                                                                                                        [\"Melt the shortening.\", \"Add brown sugar; cool slightly.\", \"Add the eggs, one at a time, beating well after each addition.\", \"Add flour, baking powder and salt, then add nutmeats and chocolate chips. Bake 20 minutes at 350\\u00b0.\", \"Serves 3 dozen.\"]   \n",
       "42829                                                                                                                                                             [\"Dissolve yeast in water.\", \"Sift flour and sugar together.\", \"Cut in shortening.\", \"Stir in yeast mixture and buttermilk.\", \"Roll out on floured board and cut into biscuits.\", \"Brush with melted butter or cooking oil, if desired.\", \"Dough will keep in refrigerator for few days.\", \"Serves 4 dozen biscuits.\"]   \n",
       "44790                                                                                                                                                                                     [\"Preheat oven to 400\\u00b0.\", \"Mix thoroughly the softened shortening, sugar, eggs and vanilla. Blend in flour, baking powder and salt. Cover and chill 1 hour.\", \"Roll dough 1/4-inch thick and cut.\", \"Bake on ungreased cookie sheet for 6 to 8 minutes at 400\\u00b0.\", \"Serves 3 dozen.\"]   \n",
       "47162                                                                                                                                                  [\"Sift flour and cocoa.\", \"Cream together shortening, sugar and flavor.\", \"Beat in egg.\", \"Add milk.\", \"Blend in dry ingredients and nuts.\", \"Shape into two rolls, 2-inches in diameter.\", \"Chill several hours.\", \"Slice into 1/4-inch slices.\", \"Bake at 375\\u00b0 for about 10 minutes.\", \"Cool on rack.\", \"Serves 7 dozen.\"]   \n",
       "52387                                                                                                                                                                         [\"Beat margarine and sugar until light and fluffy.\", \"Add combined flour and crumbs; mix well.\", \"Press onto bottom of greased 9-inch square pan.\", \"Sprinkle with remaining ingredients.\", \"Bake at 375\\u00b0 for 15 to 20 minutes or until golden brown.\", \"Cool and cut into bars.\", \"Serves 2 dozen.\"]   \n",
       "54832                                                                                                                                                                                                          [\"Cream shortening, sugar and flavoring.\", \"Add dry ingredients; mix well, then chill.\", \"Form into small crescents.\", \"Place on ungreased baking sheet.\", \"Bake at 375\\u00b0 for 8 to 10 minutes.\", \"Cool slightly.\", \"Roll in confectioners sugar.\", \"Serves 5 dozen.\"]   \n",
       "55262                                                                                                                                                                                                                                                                                          [\"Heat oven to 400\\u00b0.\", \"Cream the butter and sugar.\", \"Blend in remaining ingredients.\", \"Fill cookie press. Bake on ungreased cookie sheet for 6 to 9 minutes.\", \"Serves 5 dozen.\"]   \n",
       "55705                                                                          [\"Preheat oven to 375\\u00b0.\", \"Cream together the shortening and sugar. Add eggs.\", \"Mix together flour, baking powder, soda, salt, cinnamon and cloves. Add flour mixture alternately with applesauce. Add raisins, nuts, oatmeal and vanilla.\", \"Drop from teaspoon on greased cookie sheet 2-inches apart to allow for spreading.\", \"Bake 15 minutes or until done at 375\\u00b0.\", \"Serves 4 dozen.\"]   \n",
       "56713                                        [\"Combine first 3 ingredients in large bowl and mix until blended well.\", \"Add\\teggs and vanilla.\", \"Combine dry ingredients together and add 1/4 at\", \"a time to chocolate mixture and blend well\", \"after each addition.\\tChill\", \"dough\", \"for\", \"2\", \"hours.\", \"Make 1-inch balls.\", \"Roll in\", \"powdered\", \"sugar\", \"and\", \"space on greased cookie sheet 2 inches apart.\", \"Bake\\t10\", \"to 12 minutes at 350\\u00b0. Serves 8 dozen.\"]   \n",
       "76701                                                                        [\"Measure flour, salt and soda (sift).\", \"Cream shortening.\", \"Add sugar gradually.\", \"Cream thoroughly.\", \"Blend in egg and slightly cooled chocolate.\", \"Stir in sifted dry ingredients alternately with milk, mixing well after each addition.\", \"Add chips and mix well. Drop by teaspoons onto lightly greased baking sheet and bake in moderate oven (375\\u00b0) for 10 minutes.\", \"Serves 5 dozen.\"]   \n",
       "77058                                                                                                                                                                                                   [\"Thoroughly cream shortening and sugar.\", \"Add eggs and vanilla. Beat well.\", \"Sift dry ingredients and add to creamed ingredients. Add remaining ingredients.\", \"Drop from teaspoon onto greased cookie sheet.\", \"Bake at 375\\u00b0 for 10 to 12 minutes.\", \"Serves 6 dozen.\"]   \n",
       "102567                                                                                                          [\"Preheat oven to 425 degrees.\", \"Grease muffin pans.\", \"In a bowl combine dry ingredients.\", \"Toss cranberries with 1 tbsp.\", \"of dry ingredients; set aside.\", \"Mix oil, lowfat milk and egg.\", \"Stir wet into dry ingredients.\", \"Then stir in cranberries.\", \"Bake 15-20 min till lightly browned.\", \"Let stand 5 min before removing from tin.\", \"Serves 1 dozen.\"]   \n",
       "\n",
       "                                                                    link  \\\n",
       "4                        www.cookbooks.com/Recipe-Details.aspx?id=364136   \n",
       "4770                     www.cookbooks.com/Recipe-Details.aspx?id=741372   \n",
       "20235                    www.cookbooks.com/Recipe-Details.aspx?id=716034   \n",
       "21941                    www.cookbooks.com/Recipe-Details.aspx?id=463255   \n",
       "23048                    www.cookbooks.com/Recipe-Details.aspx?id=770459   \n",
       "34627                    www.cookbooks.com/Recipe-Details.aspx?id=496935   \n",
       "35293                    www.cookbooks.com/Recipe-Details.aspx?id=745276   \n",
       "40413                    www.cookbooks.com/Recipe-Details.aspx?id=362310   \n",
       "42829                    www.cookbooks.com/Recipe-Details.aspx?id=553630   \n",
       "44790                    www.cookbooks.com/Recipe-Details.aspx?id=646737   \n",
       "47162                    www.cookbooks.com/Recipe-Details.aspx?id=626574   \n",
       "52387                    www.cookbooks.com/Recipe-Details.aspx?id=367504   \n",
       "54832                    www.cookbooks.com/Recipe-Details.aspx?id=319893   \n",
       "55262                    www.cookbooks.com/Recipe-Details.aspx?id=184216   \n",
       "55705                    www.cookbooks.com/Recipe-Details.aspx?id=646742   \n",
       "56713                    www.cookbooks.com/Recipe-Details.aspx?id=545677   \n",
       "76701                    www.cookbooks.com/Recipe-Details.aspx?id=758785   \n",
       "77058                    www.cookbooks.com/Recipe-Details.aspx?id=457573   \n",
       "102567  cookeatshare.com/recipes/crunchy-oat-and-cranberry-muffins-43366   \n",
       "\n",
       "           source  \\\n",
       "4        Gathered   \n",
       "4770     Gathered   \n",
       "20235    Gathered   \n",
       "21941    Gathered   \n",
       "23048    Gathered   \n",
       "34627    Gathered   \n",
       "35293    Gathered   \n",
       "40413    Gathered   \n",
       "42829    Gathered   \n",
       "44790    Gathered   \n",
       "47162    Gathered   \n",
       "52387    Gathered   \n",
       "54832    Gathered   \n",
       "55262    Gathered   \n",
       "55705    Gathered   \n",
       "56713    Gathered   \n",
       "76701    Gathered   \n",
       "77058    Gathered   \n",
       "102567  Recipes1M   \n",
       "\n",
       "                                                                                                                                                           NER  \\\n",
       "4                                                       [\"flour\", \"baking powder\", \"salt\", \"butter\", \"sugar\", \"egg yolks\", \"vanilla\", \"multi-colored candies\"]   \n",
       "4770                                      [\"bran\", \"baking powder\", \"sugar\", \"almonds\", \"raisins\", \"coconut\", \"nonfat milk\", \"egg whites\", \"overripe bananas\"]   \n",
       "20235                                                                                 [\"shortening\", \"brown sugar\", \"egg\", \"vanilla\", \"flour\", \"soda\", \"salt\"]   \n",
       "21941                                                                  [\"shortening\", \"sugar\", \"eggs\", \"flour\", \"cream of tartar\", \"soda\", \"salt\", \"cinnamon\"]   \n",
       "23048                [\"oil\", \"sugar\", \"brown sugar\", \"eggs\", \"vanilla\", \"flour\", \"baking soda\", \"baking powder\", \"salt\", \"oats\", \"chocolate chips\", \"raisins\"]   \n",
       "34627                                                                                 [\"water\", \"yeast\", \"sugar\", \"salt\", \"liquid shortening\", \"egg\", \"flour\"]   \n",
       "35293                                                                              [\"sugar\", \"butter\", \"milk\", \"cocoa\", \"peanut butter\", \"oatmeal\", \"vanilla\"]   \n",
       "40413                                                   [\"shortening\", \"brown sugar\", \"eggs\", \"flour\", \"baking powder\", \"salt\", \"nutmeats\", \"chocolate chips\"]   \n",
       "42829                                                                                         [\"yeast\", \"water\", \"flour\", \"sugar\", \"shortening\", \"buttermilk\"]   \n",
       "44790                                                                             [\"shortening\", \"sugar\", \"eggs\", \"vanilla\", \"flour\", \"baking powder\", \"salt\"]   \n",
       "47162                                                                       [\"flour\", \"shortening\", \"sugar\", \"vanilla flavor\", \"egg\", \"cocoa\", \"milk\", \"nuts\"]   \n",
       "52387                                     [\"Parkay margarine\", \"brown sugar\", \"flour\", \"graham cracker crumbs\", \"marshmallows\", \"chocolate pieces\", \"walnuts\"]   \n",
       "54832                                                                                           [\"shortening\", \"sugar\", \"vanilla\", \"flour\", \"salt\", \"walnuts\"]   \n",
       "55262                                                                                                   [\"butter\", \"sugar\", \"flour\", \"salt\", \"egg\", \"vanilla\"]   \n",
       "55705   [\"shortening\", \"sugar\", \"eggs\", \"flour\", \"baking powder\", \"soda\", \"salt\", \"cinnamon\", \"cloves\", \"applesauce\", \"raisins\", \"nuts\", \"oatmeal\", \"vanilla\"]   \n",
       "56713                                           [\"sugar\", \"chocolate\", \"vegetable oil\", \"eggs\", \"vanilla\", \"flour\", \"baking powder\", \"salt\", \"powdered sugar\"]   \n",
       "76701                             [\"flour\", \"salt\", \"soda\", \"shortening\", \"egg\", \"sugar\", \"unsweetened chocolate\", \"buttermilk\", \"semi-sweet chocolate chips\"]   \n",
       "77058                 [\"shortening\", \"sugar\", \"eggs\", \"vanilla\", \"flour\", \"baking powder\", \"brown sugar\", \"soda\", \"salt\", \"cooking oats\", \"coconut\", \"pecans\"]   \n",
       "102567                          [\"all-purpose\", \"whole wheat flour\", \"brown sugar\", \"baking pwdr\", \"salt\", \"cinnamon\", \"cranberries\", \"butter\", \"milk\", \"egg\"]   \n",
       "\n",
       "       serving_size serving_term  dozen  \n",
       "4                 2       Serves  dozen  \n",
       "4770              1       Serves  dozen  \n",
       "20235             4       Serves  dozen  \n",
       "21941             5       Serves  dozen  \n",
       "23048             5       Serves  dozen  \n",
       "34627             2       Serves  dozen  \n",
       "35293             3       Serves  dozen  \n",
       "40413             3       Serves  dozen  \n",
       "42829             4       Serves  dozen  \n",
       "44790             3       Serves  dozen  \n",
       "47162             7       Serves  dozen  \n",
       "52387             2       Serves  dozen  \n",
       "54832             5       Serves  dozen  \n",
       "55262             5       Serves  dozen  \n",
       "55705             4       Serves  dozen  \n",
       "56713             8       Serves  dozen  \n",
       "76701             5       Serves  dozen  \n",
       "77058             6       Serves  dozen  \n",
       "102567            1       Serves  dozen  "
      ]
     },
     "execution_count": 72,
     "metadata": {},
     "output_type": "execute_result"
    }
   ],
   "source": [
    "recipe_df_filtered[recipe_df_filtered['dozen'] == 'dozen']"
   ]
  },
  {
   "cell_type": "markdown",
   "id": "0bc5249b-16de-47ac-9b4d-a81e44991923",
   "metadata": {},
   "source": [
    "Before converting the recipes with a 'dozen' unit of measure, I want to make sure that the `serving_size` column is of datatype 'integer' so I can perform  calculations with it."
   ]
  },
  {
   "cell_type": "code",
   "execution_count": 74,
   "id": "f5dd866c-2901-4f7e-8b5e-ad642c7872f2",
   "metadata": {},
   "outputs": [
    {
     "name": "stdout",
     "output_type": "stream",
     "text": [
      "<class 'pandas.core.frame.DataFrame'>\n",
      "RangeIndex: 105543 entries, 0 to 105542\n",
      "Data columns (total 9 columns):\n",
      " #   Column        Non-Null Count   Dtype \n",
      "---  ------        --------------   ----- \n",
      " 0   title         105543 non-null  object\n",
      " 1   ingredients   105543 non-null  object\n",
      " 2   directions    105543 non-null  object\n",
      " 3   link          105543 non-null  object\n",
      " 4   source        105543 non-null  object\n",
      " 5   NER           105543 non-null  object\n",
      " 6   serving_size  105543 non-null  object\n",
      " 7   serving_term  105543 non-null  object\n",
      " 8   dozen         19 non-null      object\n",
      "dtypes: object(9)\n",
      "memory usage: 7.2+ MB\n"
     ]
    }
   ],
   "source": [
    "recipe_df_filtered.info()"
   ]
  },
  {
   "cell_type": "code",
   "execution_count": 75,
   "id": "b14d145d-7b20-4aa2-a795-9bf1a3977340",
   "metadata": {},
   "outputs": [
    {
     "name": "stderr",
     "output_type": "stream",
     "text": [
      "C:\\Users\\cryst\\AppData\\Local\\Temp\\ipykernel_62288\\3158269202.py:1: SettingWithCopyWarning: \n",
      "A value is trying to be set on a copy of a slice from a DataFrame.\n",
      "Try using .loc[row_indexer,col_indexer] = value instead\n",
      "\n",
      "See the caveats in the documentation: https://pandas.pydata.org/pandas-docs/stable/user_guide/indexing.html#returning-a-view-versus-a-copy\n",
      "  recipe_df_filtered['serving_size'] = pd.to_numeric(recipe_df_filtered['serving_size'])\n"
     ]
    }
   ],
   "source": [
    "recipe_df_filtered['serving_size'] = pd.to_numeric(recipe_df_filtered['serving_size'])"
   ]
  },
  {
   "cell_type": "code",
   "execution_count": 76,
   "id": "794f88a9-c14e-4e88-aaf8-e76ccba49e88",
   "metadata": {},
   "outputs": [
    {
     "name": "stdout",
     "output_type": "stream",
     "text": [
      "<class 'pandas.core.frame.DataFrame'>\n",
      "RangeIndex: 105543 entries, 0 to 105542\n",
      "Data columns (total 9 columns):\n",
      " #   Column        Non-Null Count   Dtype \n",
      "---  ------        --------------   ----- \n",
      " 0   title         105543 non-null  object\n",
      " 1   ingredients   105543 non-null  object\n",
      " 2   directions    105543 non-null  object\n",
      " 3   link          105543 non-null  object\n",
      " 4   source        105543 non-null  object\n",
      " 5   NER           105543 non-null  object\n",
      " 6   serving_size  105543 non-null  int64 \n",
      " 7   serving_term  105543 non-null  object\n",
      " 8   dozen         19 non-null      object\n",
      "dtypes: int64(1), object(8)\n",
      "memory usage: 7.2+ MB\n"
     ]
    }
   ],
   "source": [
    "recipe_df_filtered.info()"
   ]
  },
  {
   "cell_type": "markdown",
   "id": "35d1b7e8-75f1-4689-889c-f98029eda9e3",
   "metadata": {},
   "source": [
    "I have converted the data type for the `serving_size` column to integer, so I can update this column now by calculating the serving size of recipes which have a 'dozen' as a unit of measure by 12."
   ]
  },
  {
   "cell_type": "code",
   "execution_count": 78,
   "id": "62ba7532-7cbc-4b10-baa1-cd460725e602",
   "metadata": {},
   "outputs": [],
   "source": [
    "recipe_df_filtered.loc[recipe_df_filtered['dozen']=='dozen', 'serving_size']*=12"
   ]
  },
  {
   "cell_type": "code",
   "execution_count": 79,
   "id": "1cf3d60a-8a94-4ad4-8a52-125c143e2bfe",
   "metadata": {},
   "outputs": [
    {
     "data": {
      "text/html": [
       "<div>\n",
       "<style scoped>\n",
       "    .dataframe tbody tr th:only-of-type {\n",
       "        vertical-align: middle;\n",
       "    }\n",
       "\n",
       "    .dataframe tbody tr th {\n",
       "        vertical-align: top;\n",
       "    }\n",
       "\n",
       "    .dataframe thead th {\n",
       "        text-align: right;\n",
       "    }\n",
       "</style>\n",
       "<table border=\"1\" class=\"dataframe\">\n",
       "  <thead>\n",
       "    <tr style=\"text-align: right;\">\n",
       "      <th></th>\n",
       "      <th>title</th>\n",
       "      <th>ingredients</th>\n",
       "      <th>directions</th>\n",
       "      <th>link</th>\n",
       "      <th>source</th>\n",
       "      <th>NER</th>\n",
       "      <th>serving_size</th>\n",
       "      <th>serving_term</th>\n",
       "      <th>dozen</th>\n",
       "    </tr>\n",
       "  </thead>\n",
       "  <tbody>\n",
       "    <tr>\n",
       "      <th>4</th>\n",
       "      <td>Mexican Cookie Rings</td>\n",
       "      <td>[\"1 1/2 c. sifted flour\", \"1/2 tsp. baking powder\", \"1/2 tsp. salt\", \"1/2 c. butter\", \"2/3 c. sugar\", \"3 egg yolks\", \"1 tsp. vanilla\", \"multi-colored candies\"]</td>\n",
       "      <td>[\"Sift flour, baking powder and salt together.\", \"Cream together butter and sugar.\", \"Add egg yolks and vanilla.\", \"Beat until light and fluffy.\", \"Mix in sifted dry ingredients.\", \"Shape into 1-inch balls.\", \"Push wooden spoon handle through center (twist).\", \"Shape into rings.\", \"Dip each cookie into candies.\", \"Place on lightly greased baking sheets.\", \"Bake in 375\\u00b0 oven for 10 to 12 minutes or until golden brown.\", \"Cool on racks.\", \"Serves 2 dozen.\"]</td>\n",
       "      <td>www.cookbooks.com/Recipe-Details.aspx?id=364136</td>\n",
       "      <td>Gathered</td>\n",
       "      <td>[\"flour\", \"baking powder\", \"salt\", \"butter\", \"sugar\", \"egg yolks\", \"vanilla\", \"multi-colored candies\"]</td>\n",
       "      <td>24</td>\n",
       "      <td>Serves</td>\n",
       "      <td>dozen</td>\n",
       "    </tr>\n",
       "    <tr>\n",
       "      <th>4770</th>\n",
       "      <td>Simplified Oat Bran Muffins</td>\n",
       "      <td>[\"2 1/2 c. oat bran\", \"1 Tbsp. baking powder\", \"1/4 c. sugar or maple syrup\", \"2 Tbsp. almonds\", \"1/2 c. raisins or blueberries\", \"1/4 c. coconut\", \"1 1/4 c. nonfat milk\", \"2 egg whites\", \"2 large overripe bananas or 1 c. pineapple\"]</td>\n",
       "      <td>[\"Mix dry ingredients with wet.\", \"Bake at 450\\u00b0 for 15 minutes. Serves 1 dozen.\"]</td>\n",
       "      <td>www.cookbooks.com/Recipe-Details.aspx?id=741372</td>\n",
       "      <td>Gathered</td>\n",
       "      <td>[\"bran\", \"baking powder\", \"sugar\", \"almonds\", \"raisins\", \"coconut\", \"nonfat milk\", \"egg whites\", \"overripe bananas\"]</td>\n",
       "      <td>12</td>\n",
       "      <td>Serves</td>\n",
       "      <td>dozen</td>\n",
       "    </tr>\n",
       "    <tr>\n",
       "      <th>20235</th>\n",
       "      <td>Refrigerator Cookies</td>\n",
       "      <td>[\"1/2 c. shortening (part butter)\", \"1 c. brown sugar\", \"1 egg\", \"1/2 tsp. vanilla\", \"1 3/4 c. flour\", \"1/2 tsp. soda\", \"1/4 tsp. salt\"]</td>\n",
       "      <td>[\"Mix shortening, sugar, eggs and vanilla.\", \"Blend in flour, soda and salt.\", \"Add nuts, if desired.\", \"Mix well.\", \"Form into rolls and refrigerate for 3 to 6 hours.\", \"Slice and bake at 400\\u00b0 for 8 to 10 minutes.\", \"Serves 4 dozen.\"]</td>\n",
       "      <td>www.cookbooks.com/Recipe-Details.aspx?id=716034</td>\n",
       "      <td>Gathered</td>\n",
       "      <td>[\"shortening\", \"brown sugar\", \"egg\", \"vanilla\", \"flour\", \"soda\", \"salt\"]</td>\n",
       "      <td>48</td>\n",
       "      <td>Serves</td>\n",
       "      <td>dozen</td>\n",
       "    </tr>\n",
       "    <tr>\n",
       "      <th>21941</th>\n",
       "      <td>Snickerdoodles</td>\n",
       "      <td>[\"1 c. soft shortening\", \"1 1/2 c. sugar\", \"2 eggs\", \"2 3/4 c. flour\", \"2 tsp. cream of tartar\", \"1 tsp. soda\", \"1/2 tsp. salt\", \"2 Tbsp. cinnamon\"]</td>\n",
       "      <td>[\"Cream shortening, sugar and eggs.\", \"Sift together flour, cream of tartar, soda and salt.\", \"Stir into creamed mixture.\", \"Roll into balls the size of small walnuts.\", \"Roll in mixture of 2 tablespoons sugar and 2 tablespoons cinnamon.\", \"Place about 2 inches apart on ungreased cookie sheet.\", \"Bake 8 to 10 minutes at 325\\u00b0 until lightly browned but soft.\", \"These cookies puff up at first, then flatten out with crinkled tops.\", \"Serves 5 dozen.\"]</td>\n",
       "      <td>www.cookbooks.com/Recipe-Details.aspx?id=463255</td>\n",
       "      <td>Gathered</td>\n",
       "      <td>[\"shortening\", \"sugar\", \"eggs\", \"flour\", \"cream of tartar\", \"soda\", \"salt\", \"cinnamon\"]</td>\n",
       "      <td>60</td>\n",
       "      <td>Serves</td>\n",
       "      <td>dozen</td>\n",
       "    </tr>\n",
       "    <tr>\n",
       "      <th>23048</th>\n",
       "      <td>Oatmeal Raisin Chocolate Chip Cookies</td>\n",
       "      <td>[\"3/4 c. oil\", \"1 c. granulated sugar\", \"1 c. brown sugar\", \"2 eggs\", \"1 tsp. vanilla\", \"2 1/3 c. flour\", \"1 tsp. baking soda\", \"1/2 tsp. baking powder\", \"1/2 tsp. salt\", \"2 c. oats (instant or old fashioned)\", \"1/2 c. chocolate chips\", \"1/2 c. raisins\"]</td>\n",
       "      <td>[\"Cream oil and sugars.\", \"Add eggs and vanilla.\", \"Beat in flour, baking soda, baking powder and salt.\", \"Mix in oats, chocolate chips and raisins.\", \"Drop by teaspoons onto a greased cookie sheet.\", \"Bake at 350\\u00b0 for 8 to 10 minutes.\", \"Serves 5 dozen.\", \"Kids love em!\"]</td>\n",
       "      <td>www.cookbooks.com/Recipe-Details.aspx?id=770459</td>\n",
       "      <td>Gathered</td>\n",
       "      <td>[\"oil\", \"sugar\", \"brown sugar\", \"eggs\", \"vanilla\", \"flour\", \"baking soda\", \"baking powder\", \"salt\", \"oats\", \"chocolate chips\", \"raisins\"]</td>\n",
       "      <td>60</td>\n",
       "      <td>Serves</td>\n",
       "      <td>dozen</td>\n",
       "    </tr>\n",
       "    <tr>\n",
       "      <th>34627</th>\n",
       "      <td>Yeast Roll Recipe</td>\n",
       "      <td>[\"2 c. warm water\", \"2 pkg. yeast\", \"3/4 c. sugar\", \"1 tsp. salt\", \"3/4 c. liquid shortening\", \"1 egg, slightly beaten\", \"6 c. flour, sifted\"]</td>\n",
       "      <td>[\"Mix water and yeast.\", \"Add sugar, salt, shortening and egg. Add flour; let rise until double and stir down.\", \"Make into rolls. Let rise until double.\", \"Bake at 375\\u00b0 for 10 to 12 minutes.\", \"Serves 2 dozen rolls.\"]</td>\n",
       "      <td>www.cookbooks.com/Recipe-Details.aspx?id=496935</td>\n",
       "      <td>Gathered</td>\n",
       "      <td>[\"water\", \"yeast\", \"sugar\", \"salt\", \"liquid shortening\", \"egg\", \"flour\"]</td>\n",
       "      <td>24</td>\n",
       "      <td>Serves</td>\n",
       "      <td>dozen</td>\n",
       "    </tr>\n",
       "    <tr>\n",
       "      <th>35293</th>\n",
       "      <td>Chocolate Oatmeal Cookies</td>\n",
       "      <td>[\"1 c. sugar\", \"1/2 c. butter\", \"1/2 c. milk\", \"4 tsp. cocoa\", \"1 c. peanut butter\", \"3 c. oatmeal\", \"2 tsp. vanilla\"]</td>\n",
       "      <td>[\"Mix sugar, butter, milk and cocoa into a pot.\", \"Bring to a boil for one minute.\", \"Add peanut butter; stir until melted.\", \"Add oats and vanilla.\", \"Mix well.\", \"Spoon droplets onto wax paper.\", \"Let harden and serve.\", \"Serves 3 dozen.\"]</td>\n",
       "      <td>www.cookbooks.com/Recipe-Details.aspx?id=745276</td>\n",
       "      <td>Gathered</td>\n",
       "      <td>[\"sugar\", \"butter\", \"milk\", \"cocoa\", \"peanut butter\", \"oatmeal\", \"vanilla\"]</td>\n",
       "      <td>36</td>\n",
       "      <td>Serves</td>\n",
       "      <td>dozen</td>\n",
       "    </tr>\n",
       "    <tr>\n",
       "      <th>40413</th>\n",
       "      <td>Blonde Brownies</td>\n",
       "      <td>[\"2/3 c. shortening\", \"1 lb. brown sugar (2 1/4 c.)\", \"3 eggs\", \"2 3/4 c. sifted flour\", \"2 1/2 tsp. baking powder\", \"1/2 tsp. salt\", \"1 c. nutmeats\", \"1 pkg. chocolate chips\"]</td>\n",
       "      <td>[\"Melt the shortening.\", \"Add brown sugar; cool slightly.\", \"Add the eggs, one at a time, beating well after each addition.\", \"Add flour, baking powder and salt, then add nutmeats and chocolate chips. Bake 20 minutes at 350\\u00b0.\", \"Serves 3 dozen.\"]</td>\n",
       "      <td>www.cookbooks.com/Recipe-Details.aspx?id=362310</td>\n",
       "      <td>Gathered</td>\n",
       "      <td>[\"shortening\", \"brown sugar\", \"eggs\", \"flour\", \"baking powder\", \"salt\", \"nutmeats\", \"chocolate chips\"]</td>\n",
       "      <td>36</td>\n",
       "      <td>Serves</td>\n",
       "      <td>dozen</td>\n",
       "    </tr>\n",
       "    <tr>\n",
       "      <th>42829</th>\n",
       "      <td>Angel Biscuits</td>\n",
       "      <td>[\"1 pkg. yeast\", \"1/8 c. warm water\", \"5 c. self-rising flour\", \"1/4 c. sugar\", \"1 c. shortening\", \"2 c. buttermilk\"]</td>\n",
       "      <td>[\"Dissolve yeast in water.\", \"Sift flour and sugar together.\", \"Cut in shortening.\", \"Stir in yeast mixture and buttermilk.\", \"Roll out on floured board and cut into biscuits.\", \"Brush with melted butter or cooking oil, if desired.\", \"Dough will keep in refrigerator for few days.\", \"Serves 4 dozen biscuits.\"]</td>\n",
       "      <td>www.cookbooks.com/Recipe-Details.aspx?id=553630</td>\n",
       "      <td>Gathered</td>\n",
       "      <td>[\"yeast\", \"water\", \"flour\", \"sugar\", \"shortening\", \"buttermilk\"]</td>\n",
       "      <td>48</td>\n",
       "      <td>Serves</td>\n",
       "      <td>dozen</td>\n",
       "    </tr>\n",
       "    <tr>\n",
       "      <th>44790</th>\n",
       "      <td>Sugar Cookies</td>\n",
       "      <td>[\"3/4 c. shortening (part butter)\", \"1 c. sugar\", \"2 eggs\", \"1 tsp. vanilla\", \"2 1/2 c. flour\", \"1 tsp. baking powder\", \"1 tsp. salt\"]</td>\n",
       "      <td>[\"Preheat oven to 400\\u00b0.\", \"Mix thoroughly the softened shortening, sugar, eggs and vanilla. Blend in flour, baking powder and salt. Cover and chill 1 hour.\", \"Roll dough 1/4-inch thick and cut.\", \"Bake on ungreased cookie sheet for 6 to 8 minutes at 400\\u00b0.\", \"Serves 3 dozen.\"]</td>\n",
       "      <td>www.cookbooks.com/Recipe-Details.aspx?id=646737</td>\n",
       "      <td>Gathered</td>\n",
       "      <td>[\"shortening\", \"sugar\", \"eggs\", \"vanilla\", \"flour\", \"baking powder\", \"salt\"]</td>\n",
       "      <td>36</td>\n",
       "      <td>Serves</td>\n",
       "      <td>dozen</td>\n",
       "    </tr>\n",
       "    <tr>\n",
       "      <th>47162</th>\n",
       "      <td>Chocolate Nut Slices</td>\n",
       "      <td>[\"2 c. self-rising flour\", \"3/4 c. shortening\", \"1 3/4 c. sugar\", \"2 tsp. vanilla flavor\", \"1 egg\", \"6 Tbsp. cocoa\", \"2 Tbsp. milk (more, if needed)\", \"3/4 c. chopped nuts\"]</td>\n",
       "      <td>[\"Sift flour and cocoa.\", \"Cream together shortening, sugar and flavor.\", \"Beat in egg.\", \"Add milk.\", \"Blend in dry ingredients and nuts.\", \"Shape into two rolls, 2-inches in diameter.\", \"Chill several hours.\", \"Slice into 1/4-inch slices.\", \"Bake at 375\\u00b0 for about 10 minutes.\", \"Cool on rack.\", \"Serves 7 dozen.\"]</td>\n",
       "      <td>www.cookbooks.com/Recipe-Details.aspx?id=626574</td>\n",
       "      <td>Gathered</td>\n",
       "      <td>[\"flour\", \"shortening\", \"sugar\", \"vanilla flavor\", \"egg\", \"cocoa\", \"milk\", \"nuts\"]</td>\n",
       "      <td>84</td>\n",
       "      <td>Serves</td>\n",
       "      <td>dozen</td>\n",
       "    </tr>\n",
       "    <tr>\n",
       "      <th>52387</th>\n",
       "      <td>Rocky Road S'Mores Bars</td>\n",
       "      <td>[\"1/2 c. Parkay margarine\", \"1/2 c. packed brown sugar\", \"1 c. flour\", \"1/2 c. graham cracker crumbs\", \"2 c. marshmallows\", \"6 oz. chocolate pieces\", \"1/2 c. chopped walnuts\"]</td>\n",
       "      <td>[\"Beat margarine and sugar until light and fluffy.\", \"Add combined flour and crumbs; mix well.\", \"Press onto bottom of greased 9-inch square pan.\", \"Sprinkle with remaining ingredients.\", \"Bake at 375\\u00b0 for 15 to 20 minutes or until golden brown.\", \"Cool and cut into bars.\", \"Serves 2 dozen.\"]</td>\n",
       "      <td>www.cookbooks.com/Recipe-Details.aspx?id=367504</td>\n",
       "      <td>Gathered</td>\n",
       "      <td>[\"Parkay margarine\", \"brown sugar\", \"flour\", \"graham cracker crumbs\", \"marshmallows\", \"chocolate pieces\", \"walnuts\"]</td>\n",
       "      <td>24</td>\n",
       "      <td>Serves</td>\n",
       "      <td>dozen</td>\n",
       "    </tr>\n",
       "    <tr>\n",
       "      <th>54832</th>\n",
       "      <td>Walnut Crescents</td>\n",
       "      <td>[\"1 c. shortening\", \"1/2 c. sugar\", \"1/2 tsp. vanilla\", \"3 c. flour\", \"1/2 tsp. salt\", \"2/3 c. walnuts\"]</td>\n",
       "      <td>[\"Cream shortening, sugar and flavoring.\", \"Add dry ingredients; mix well, then chill.\", \"Form into small crescents.\", \"Place on ungreased baking sheet.\", \"Bake at 375\\u00b0 for 8 to 10 minutes.\", \"Cool slightly.\", \"Roll in confectioners sugar.\", \"Serves 5 dozen.\"]</td>\n",
       "      <td>www.cookbooks.com/Recipe-Details.aspx?id=319893</td>\n",
       "      <td>Gathered</td>\n",
       "      <td>[\"shortening\", \"sugar\", \"vanilla\", \"flour\", \"salt\", \"walnuts\"]</td>\n",
       "      <td>60</td>\n",
       "      <td>Serves</td>\n",
       "      <td>dozen</td>\n",
       "    </tr>\n",
       "    <tr>\n",
       "      <th>55262</th>\n",
       "      <td>Spritz Cookies</td>\n",
       "      <td>[\"1 c. butter\", \"1 c. sugar\", \"3 c. flour\", \"salt\", \"1 egg\", \"1 tsp. vanilla\"]</td>\n",
       "      <td>[\"Heat oven to 400\\u00b0.\", \"Cream the butter and sugar.\", \"Blend in remaining ingredients.\", \"Fill cookie press. Bake on ungreased cookie sheet for 6 to 9 minutes.\", \"Serves 5 dozen.\"]</td>\n",
       "      <td>www.cookbooks.com/Recipe-Details.aspx?id=184216</td>\n",
       "      <td>Gathered</td>\n",
       "      <td>[\"butter\", \"sugar\", \"flour\", \"salt\", \"egg\", \"vanilla\"]</td>\n",
       "      <td>60</td>\n",
       "      <td>Serves</td>\n",
       "      <td>dozen</td>\n",
       "    </tr>\n",
       "    <tr>\n",
       "      <th>55705</th>\n",
       "      <td>Oatmeal Cookies(They Stay Soft)</td>\n",
       "      <td>[\"3/4 c. shortening\", \"1 c. sugar\", \"2 eggs, well beaten\", \"1 3/4 c. flour\", \"1/2 tsp. baking powder\", \"1 tsp. soda\", \"1/2 tsp. salt\", \"1 tsp. cinnamon\", \"1/2 tsp. cloves\", \"1 c. thick sweetened applesauce\", \"1/2 c. raisins\", \"1/2 c. chopped nuts\", \"1 c. oatmeal\", \"1 tsp. vanilla\"]</td>\n",
       "      <td>[\"Preheat oven to 375\\u00b0.\", \"Cream together the shortening and sugar. Add eggs.\", \"Mix together flour, baking powder, soda, salt, cinnamon and cloves. Add flour mixture alternately with applesauce. Add raisins, nuts, oatmeal and vanilla.\", \"Drop from teaspoon on greased cookie sheet 2-inches apart to allow for spreading.\", \"Bake 15 minutes or until done at 375\\u00b0.\", \"Serves 4 dozen.\"]</td>\n",
       "      <td>www.cookbooks.com/Recipe-Details.aspx?id=646742</td>\n",
       "      <td>Gathered</td>\n",
       "      <td>[\"shortening\", \"sugar\", \"eggs\", \"flour\", \"baking powder\", \"soda\", \"salt\", \"cinnamon\", \"cloves\", \"applesauce\", \"raisins\", \"nuts\", \"oatmeal\", \"vanilla\"]</td>\n",
       "      <td>48</td>\n",
       "      <td>Serves</td>\n",
       "      <td>dozen</td>\n",
       "    </tr>\n",
       "    <tr>\n",
       "      <th>56713</th>\n",
       "      <td>Snowflake Cookies</td>\n",
       "      <td>[\"2 c. sugar\", \"4 oz. melted unsweetened chocolate\", \"1/2 c. vegetable oil\", \"4 eggs\", \"2 tsp. vanilla\", \"2 c. flour\", \"2 tsp. baking powder\", \"1/2 tsp. salt\", \"3/4 c. sifted powdered sugar\"]</td>\n",
       "      <td>[\"Combine first 3 ingredients in large bowl and mix until blended well.\", \"Add\\teggs and vanilla.\", \"Combine dry ingredients together and add 1/4 at\", \"a time to chocolate mixture and blend well\", \"after each addition.\\tChill\", \"dough\", \"for\", \"2\", \"hours.\", \"Make 1-inch balls.\", \"Roll in\", \"powdered\", \"sugar\", \"and\", \"space on greased cookie sheet 2 inches apart.\", \"Bake\\t10\", \"to 12 minutes at 350\\u00b0. Serves 8 dozen.\"]</td>\n",
       "      <td>www.cookbooks.com/Recipe-Details.aspx?id=545677</td>\n",
       "      <td>Gathered</td>\n",
       "      <td>[\"sugar\", \"chocolate\", \"vegetable oil\", \"eggs\", \"vanilla\", \"flour\", \"baking powder\", \"salt\", \"powdered sugar\"]</td>\n",
       "      <td>96</td>\n",
       "      <td>Serves</td>\n",
       "      <td>dozen</td>\n",
       "    </tr>\n",
       "    <tr>\n",
       "      <th>76701</th>\n",
       "      <td>Chocolate Dream Cookies</td>\n",
       "      <td>[\"1 3/4 c. flour\", \"1/2 tsp. salt\", \"1/2 tsp. soda\", \"1/2 c. shortening\", \"1 egg, well beaten\", \"1 c. sugar\", \"2 sq. unsweetened chocolate\", \"3/4 c. buttermilk or sour milk\", \"1 (6 oz.) c. semi-sweet chocolate chips (lemon or caramel)\"]</td>\n",
       "      <td>[\"Measure flour, salt and soda (sift).\", \"Cream shortening.\", \"Add sugar gradually.\", \"Cream thoroughly.\", \"Blend in egg and slightly cooled chocolate.\", \"Stir in sifted dry ingredients alternately with milk, mixing well after each addition.\", \"Add chips and mix well. Drop by teaspoons onto lightly greased baking sheet and bake in moderate oven (375\\u00b0) for 10 minutes.\", \"Serves 5 dozen.\"]</td>\n",
       "      <td>www.cookbooks.com/Recipe-Details.aspx?id=758785</td>\n",
       "      <td>Gathered</td>\n",
       "      <td>[\"flour\", \"salt\", \"soda\", \"shortening\", \"egg\", \"sugar\", \"unsweetened chocolate\", \"buttermilk\", \"semi-sweet chocolate chips\"]</td>\n",
       "      <td>60</td>\n",
       "      <td>Serves</td>\n",
       "      <td>dozen</td>\n",
       "    </tr>\n",
       "    <tr>\n",
       "      <th>77058</th>\n",
       "      <td>Judy Milliken'S Grandma Law Gumdrop Cookies</td>\n",
       "      <td>[\"1 c. shortening\", \"1 c. granulated sugar\", \"2 eggs\", \"1 tsp. vanilla\", \"2 c. sifted all-purpose flour\", \"1 tsp. baking powder\", \"1 c. brown sugar\", \"1/2 tsp. soda\", \"1/2 tsp. salt\", \"2 c. quick cooking oats\", \"1 c. coconut\", \"1 c. cut up gumdrops\", \"1 c. chopped pecans\"]</td>\n",
       "      <td>[\"Thoroughly cream shortening and sugar.\", \"Add eggs and vanilla. Beat well.\", \"Sift dry ingredients and add to creamed ingredients. Add remaining ingredients.\", \"Drop from teaspoon onto greased cookie sheet.\", \"Bake at 375\\u00b0 for 10 to 12 minutes.\", \"Serves 6 dozen.\"]</td>\n",
       "      <td>www.cookbooks.com/Recipe-Details.aspx?id=457573</td>\n",
       "      <td>Gathered</td>\n",
       "      <td>[\"shortening\", \"sugar\", \"eggs\", \"vanilla\", \"flour\", \"baking powder\", \"brown sugar\", \"soda\", \"salt\", \"cooking oats\", \"coconut\", \"pecans\"]</td>\n",
       "      <td>72</td>\n",
       "      <td>Serves</td>\n",
       "      <td>dozen</td>\n",
       "    </tr>\n",
       "    <tr>\n",
       "      <th>102567</th>\n",
       "      <td>Crunchy Oat And Cranberry Muffins Recipe</td>\n",
       "      <td>[\"3/4 c. all-purpose flour\", \"3/4 c. whole wheat flour\", \"1 c. oatmeal (only old fashioned)\", \"1/2 c. brown sugar\", \"1 tbsp. baking pwdr\", \"1 teaspoon salt\", \"1 teaspoon cinnamon\", \"1 c. fresh or possibly frzn cranberries\", \"1/4 c. butter, melted (or possibly oil)\", \"1 c. lowfat milk\", \"1 egg\"]</td>\n",
       "      <td>[\"Preheat oven to 425 degrees.\", \"Grease muffin pans.\", \"In a bowl combine dry ingredients.\", \"Toss cranberries with 1 tbsp.\", \"of dry ingredients; set aside.\", \"Mix oil, lowfat milk and egg.\", \"Stir wet into dry ingredients.\", \"Then stir in cranberries.\", \"Bake 15-20 min till lightly browned.\", \"Let stand 5 min before removing from tin.\", \"Serves 1 dozen.\"]</td>\n",
       "      <td>cookeatshare.com/recipes/crunchy-oat-and-cranberry-muffins-43366</td>\n",
       "      <td>Recipes1M</td>\n",
       "      <td>[\"all-purpose\", \"whole wheat flour\", \"brown sugar\", \"baking pwdr\", \"salt\", \"cinnamon\", \"cranberries\", \"butter\", \"milk\", \"egg\"]</td>\n",
       "      <td>12</td>\n",
       "      <td>Serves</td>\n",
       "      <td>dozen</td>\n",
       "    </tr>\n",
       "  </tbody>\n",
       "</table>\n",
       "</div>"
      ],
      "text/plain": [
       "                                              title  \\\n",
       "4                              Mexican Cookie Rings   \n",
       "4770                    Simplified Oat Bran Muffins   \n",
       "20235                          Refrigerator Cookies   \n",
       "21941                                Snickerdoodles   \n",
       "23048         Oatmeal Raisin Chocolate Chip Cookies   \n",
       "34627                             Yeast Roll Recipe   \n",
       "35293                     Chocolate Oatmeal Cookies   \n",
       "40413                               Blonde Brownies   \n",
       "42829                                Angel Biscuits   \n",
       "44790                                 Sugar Cookies   \n",
       "47162                          Chocolate Nut Slices   \n",
       "52387                       Rocky Road S'Mores Bars   \n",
       "54832                              Walnut Crescents   \n",
       "55262                                Spritz Cookies   \n",
       "55705             Oatmeal Cookies(They Stay Soft)     \n",
       "56713                             Snowflake Cookies   \n",
       "76701                       Chocolate Dream Cookies   \n",
       "77058   Judy Milliken'S Grandma Law Gumdrop Cookies   \n",
       "102567     Crunchy Oat And Cranberry Muffins Recipe   \n",
       "\n",
       "                                                                                                                                                                                                                                                                                                    ingredients  \\\n",
       "4                                                                                                                                               [\"1 1/2 c. sifted flour\", \"1/2 tsp. baking powder\", \"1/2 tsp. salt\", \"1/2 c. butter\", \"2/3 c. sugar\", \"3 egg yolks\", \"1 tsp. vanilla\", \"multi-colored candies\"]   \n",
       "4770                                                                  [\"2 1/2 c. oat bran\", \"1 Tbsp. baking powder\", \"1/4 c. sugar or maple syrup\", \"2 Tbsp. almonds\", \"1/2 c. raisins or blueberries\", \"1/4 c. coconut\", \"1 1/4 c. nonfat milk\", \"2 egg whites\", \"2 large overripe bananas or 1 c. pineapple\"]   \n",
       "20235                                                                                                                                                                  [\"1/2 c. shortening (part butter)\", \"1 c. brown sugar\", \"1 egg\", \"1/2 tsp. vanilla\", \"1 3/4 c. flour\", \"1/2 tsp. soda\", \"1/4 tsp. salt\"]   \n",
       "21941                                                                                                                                                      [\"1 c. soft shortening\", \"1 1/2 c. sugar\", \"2 eggs\", \"2 3/4 c. flour\", \"2 tsp. cream of tartar\", \"1 tsp. soda\", \"1/2 tsp. salt\", \"2 Tbsp. cinnamon\"]   \n",
       "23048                                            [\"3/4 c. oil\", \"1 c. granulated sugar\", \"1 c. brown sugar\", \"2 eggs\", \"1 tsp. vanilla\", \"2 1/3 c. flour\", \"1 tsp. baking soda\", \"1/2 tsp. baking powder\", \"1/2 tsp. salt\", \"2 c. oats (instant or old fashioned)\", \"1/2 c. chocolate chips\", \"1/2 c. raisins\"]   \n",
       "34627                                                                                                                                                            [\"2 c. warm water\", \"2 pkg. yeast\", \"3/4 c. sugar\", \"1 tsp. salt\", \"3/4 c. liquid shortening\", \"1 egg, slightly beaten\", \"6 c. flour, sifted\"]   \n",
       "35293                                                                                                                                                                                    [\"1 c. sugar\", \"1/2 c. butter\", \"1/2 c. milk\", \"4 tsp. cocoa\", \"1 c. peanut butter\", \"3 c. oatmeal\", \"2 tsp. vanilla\"]   \n",
       "40413                                                                                                                          [\"2/3 c. shortening\", \"1 lb. brown sugar (2 1/4 c.)\", \"3 eggs\", \"2 3/4 c. sifted flour\", \"2 1/2 tsp. baking powder\", \"1/2 tsp. salt\", \"1 c. nutmeats\", \"1 pkg. chocolate chips\"]   \n",
       "42829                                                                                                                                                                                     [\"1 pkg. yeast\", \"1/8 c. warm water\", \"5 c. self-rising flour\", \"1/4 c. sugar\", \"1 c. shortening\", \"2 c. buttermilk\"]   \n",
       "44790                                                                                                                                                                    [\"3/4 c. shortening (part butter)\", \"1 c. sugar\", \"2 eggs\", \"1 tsp. vanilla\", \"2 1/2 c. flour\", \"1 tsp. baking powder\", \"1 tsp. salt\"]   \n",
       "47162                                                                                                                             [\"2 c. self-rising flour\", \"3/4 c. shortening\", \"1 3/4 c. sugar\", \"2 tsp. vanilla flavor\", \"1 egg\", \"6 Tbsp. cocoa\", \"2 Tbsp. milk (more, if needed)\", \"3/4 c. chopped nuts\"]   \n",
       "52387                                                                                                                           [\"1/2 c. Parkay margarine\", \"1/2 c. packed brown sugar\", \"1 c. flour\", \"1/2 c. graham cracker crumbs\", \"2 c. marshmallows\", \"6 oz. chocolate pieces\", \"1/2 c. chopped walnuts\"]   \n",
       "54832                                                                                                                                                                                                  [\"1 c. shortening\", \"1/2 c. sugar\", \"1/2 tsp. vanilla\", \"3 c. flour\", \"1/2 tsp. salt\", \"2/3 c. walnuts\"]   \n",
       "55262                                                                                                                                                                                                                            [\"1 c. butter\", \"1 c. sugar\", \"3 c. flour\", \"salt\", \"1 egg\", \"1 tsp. vanilla\"]   \n",
       "55705                [\"3/4 c. shortening\", \"1 c. sugar\", \"2 eggs, well beaten\", \"1 3/4 c. flour\", \"1/2 tsp. baking powder\", \"1 tsp. soda\", \"1/2 tsp. salt\", \"1 tsp. cinnamon\", \"1/2 tsp. cloves\", \"1 c. thick sweetened applesauce\", \"1/2 c. raisins\", \"1/2 c. chopped nuts\", \"1 c. oatmeal\", \"1 tsp. vanilla\"]   \n",
       "56713                                                                                                           [\"2 c. sugar\", \"4 oz. melted unsweetened chocolate\", \"1/2 c. vegetable oil\", \"4 eggs\", \"2 tsp. vanilla\", \"2 c. flour\", \"2 tsp. baking powder\", \"1/2 tsp. salt\", \"3/4 c. sifted powdered sugar\"]   \n",
       "76701                                                              [\"1 3/4 c. flour\", \"1/2 tsp. salt\", \"1/2 tsp. soda\", \"1/2 c. shortening\", \"1 egg, well beaten\", \"1 c. sugar\", \"2 sq. unsweetened chocolate\", \"3/4 c. buttermilk or sour milk\", \"1 (6 oz.) c. semi-sweet chocolate chips (lemon or caramel)\"]   \n",
       "77058                         [\"1 c. shortening\", \"1 c. granulated sugar\", \"2 eggs\", \"1 tsp. vanilla\", \"2 c. sifted all-purpose flour\", \"1 tsp. baking powder\", \"1 c. brown sugar\", \"1/2 tsp. soda\", \"1/2 tsp. salt\", \"2 c. quick cooking oats\", \"1 c. coconut\", \"1 c. cut up gumdrops\", \"1 c. chopped pecans\"]   \n",
       "102567  [\"3/4 c. all-purpose flour\", \"3/4 c. whole wheat flour\", \"1 c. oatmeal (only old fashioned)\", \"1/2 c. brown sugar\", \"1 tbsp. baking pwdr\", \"1 teaspoon salt\", \"1 teaspoon cinnamon\", \"1 c. fresh or possibly frzn cranberries\", \"1/4 c. butter, melted (or possibly oil)\", \"1 c. lowfat milk\", \"1 egg\"]   \n",
       "\n",
       "                                                                                                                                                                                                                                                                                                                                                                                                                                                                              directions  \\\n",
       "4       [\"Sift flour, baking powder and salt together.\", \"Cream together butter and sugar.\", \"Add egg yolks and vanilla.\", \"Beat until light and fluffy.\", \"Mix in sifted dry ingredients.\", \"Shape into 1-inch balls.\", \"Push wooden spoon handle through center (twist).\", \"Shape into rings.\", \"Dip each cookie into candies.\", \"Place on lightly greased baking sheets.\", \"Bake in 375\\u00b0 oven for 10 to 12 minutes or until golden brown.\", \"Cool on racks.\", \"Serves 2 dozen.\"]   \n",
       "4770                                                                                                                                                                                                                                                                                                                                                                                              [\"Mix dry ingredients with wet.\", \"Bake at 450\\u00b0 for 15 minutes. Serves 1 dozen.\"]   \n",
       "20235                                                                                                                                                                                                                                   [\"Mix shortening, sugar, eggs and vanilla.\", \"Blend in flour, soda and salt.\", \"Add nuts, if desired.\", \"Mix well.\", \"Form into rolls and refrigerate for 3 to 6 hours.\", \"Slice and bake at 400\\u00b0 for 8 to 10 minutes.\", \"Serves 4 dozen.\"]   \n",
       "21941           [\"Cream shortening, sugar and eggs.\", \"Sift together flour, cream of tartar, soda and salt.\", \"Stir into creamed mixture.\", \"Roll into balls the size of small walnuts.\", \"Roll in mixture of 2 tablespoons sugar and 2 tablespoons cinnamon.\", \"Place about 2 inches apart on ungreased cookie sheet.\", \"Bake 8 to 10 minutes at 325\\u00b0 until lightly browned but soft.\", \"These cookies puff up at first, then flatten out with crinkled tops.\", \"Serves 5 dozen.\"]   \n",
       "23048                                                                                                                                                                                             [\"Cream oil and sugars.\", \"Add eggs and vanilla.\", \"Beat in flour, baking soda, baking powder and salt.\", \"Mix in oats, chocolate chips and raisins.\", \"Drop by teaspoons onto a greased cookie sheet.\", \"Bake at 350\\u00b0 for 8 to 10 minutes.\", \"Serves 5 dozen.\", \"Kids love em!\"]   \n",
       "34627                                                                                                                                                                                                                                                    [\"Mix water and yeast.\", \"Add sugar, salt, shortening and egg. Add flour; let rise until double and stir down.\", \"Make into rolls. Let rise until double.\", \"Bake at 375\\u00b0 for 10 to 12 minutes.\", \"Serves 2 dozen rolls.\"]   \n",
       "35293                                                                                                                                                                                                                                  [\"Mix sugar, butter, milk and cocoa into a pot.\", \"Bring to a boil for one minute.\", \"Add peanut butter; stir until melted.\", \"Add oats and vanilla.\", \"Mix well.\", \"Spoon droplets onto wax paper.\", \"Let harden and serve.\", \"Serves 3 dozen.\"]   \n",
       "40413                                                                                                                                                                                                                        [\"Melt the shortening.\", \"Add brown sugar; cool slightly.\", \"Add the eggs, one at a time, beating well after each addition.\", \"Add flour, baking powder and salt, then add nutmeats and chocolate chips. Bake 20 minutes at 350\\u00b0.\", \"Serves 3 dozen.\"]   \n",
       "42829                                                                                                                                                             [\"Dissolve yeast in water.\", \"Sift flour and sugar together.\", \"Cut in shortening.\", \"Stir in yeast mixture and buttermilk.\", \"Roll out on floured board and cut into biscuits.\", \"Brush with melted butter or cooking oil, if desired.\", \"Dough will keep in refrigerator for few days.\", \"Serves 4 dozen biscuits.\"]   \n",
       "44790                                                                                                                                                                                     [\"Preheat oven to 400\\u00b0.\", \"Mix thoroughly the softened shortening, sugar, eggs and vanilla. Blend in flour, baking powder and salt. Cover and chill 1 hour.\", \"Roll dough 1/4-inch thick and cut.\", \"Bake on ungreased cookie sheet for 6 to 8 minutes at 400\\u00b0.\", \"Serves 3 dozen.\"]   \n",
       "47162                                                                                                                                                  [\"Sift flour and cocoa.\", \"Cream together shortening, sugar and flavor.\", \"Beat in egg.\", \"Add milk.\", \"Blend in dry ingredients and nuts.\", \"Shape into two rolls, 2-inches in diameter.\", \"Chill several hours.\", \"Slice into 1/4-inch slices.\", \"Bake at 375\\u00b0 for about 10 minutes.\", \"Cool on rack.\", \"Serves 7 dozen.\"]   \n",
       "52387                                                                                                                                                                         [\"Beat margarine and sugar until light and fluffy.\", \"Add combined flour and crumbs; mix well.\", \"Press onto bottom of greased 9-inch square pan.\", \"Sprinkle with remaining ingredients.\", \"Bake at 375\\u00b0 for 15 to 20 minutes or until golden brown.\", \"Cool and cut into bars.\", \"Serves 2 dozen.\"]   \n",
       "54832                                                                                                                                                                                                          [\"Cream shortening, sugar and flavoring.\", \"Add dry ingredients; mix well, then chill.\", \"Form into small crescents.\", \"Place on ungreased baking sheet.\", \"Bake at 375\\u00b0 for 8 to 10 minutes.\", \"Cool slightly.\", \"Roll in confectioners sugar.\", \"Serves 5 dozen.\"]   \n",
       "55262                                                                                                                                                                                                                                                                                          [\"Heat oven to 400\\u00b0.\", \"Cream the butter and sugar.\", \"Blend in remaining ingredients.\", \"Fill cookie press. Bake on ungreased cookie sheet for 6 to 9 minutes.\", \"Serves 5 dozen.\"]   \n",
       "55705                                                                          [\"Preheat oven to 375\\u00b0.\", \"Cream together the shortening and sugar. Add eggs.\", \"Mix together flour, baking powder, soda, salt, cinnamon and cloves. Add flour mixture alternately with applesauce. Add raisins, nuts, oatmeal and vanilla.\", \"Drop from teaspoon on greased cookie sheet 2-inches apart to allow for spreading.\", \"Bake 15 minutes or until done at 375\\u00b0.\", \"Serves 4 dozen.\"]   \n",
       "56713                                        [\"Combine first 3 ingredients in large bowl and mix until blended well.\", \"Add\\teggs and vanilla.\", \"Combine dry ingredients together and add 1/4 at\", \"a time to chocolate mixture and blend well\", \"after each addition.\\tChill\", \"dough\", \"for\", \"2\", \"hours.\", \"Make 1-inch balls.\", \"Roll in\", \"powdered\", \"sugar\", \"and\", \"space on greased cookie sheet 2 inches apart.\", \"Bake\\t10\", \"to 12 minutes at 350\\u00b0. Serves 8 dozen.\"]   \n",
       "76701                                                                        [\"Measure flour, salt and soda (sift).\", \"Cream shortening.\", \"Add sugar gradually.\", \"Cream thoroughly.\", \"Blend in egg and slightly cooled chocolate.\", \"Stir in sifted dry ingredients alternately with milk, mixing well after each addition.\", \"Add chips and mix well. Drop by teaspoons onto lightly greased baking sheet and bake in moderate oven (375\\u00b0) for 10 minutes.\", \"Serves 5 dozen.\"]   \n",
       "77058                                                                                                                                                                                                   [\"Thoroughly cream shortening and sugar.\", \"Add eggs and vanilla. Beat well.\", \"Sift dry ingredients and add to creamed ingredients. Add remaining ingredients.\", \"Drop from teaspoon onto greased cookie sheet.\", \"Bake at 375\\u00b0 for 10 to 12 minutes.\", \"Serves 6 dozen.\"]   \n",
       "102567                                                                                                          [\"Preheat oven to 425 degrees.\", \"Grease muffin pans.\", \"In a bowl combine dry ingredients.\", \"Toss cranberries with 1 tbsp.\", \"of dry ingredients; set aside.\", \"Mix oil, lowfat milk and egg.\", \"Stir wet into dry ingredients.\", \"Then stir in cranberries.\", \"Bake 15-20 min till lightly browned.\", \"Let stand 5 min before removing from tin.\", \"Serves 1 dozen.\"]   \n",
       "\n",
       "                                                                    link  \\\n",
       "4                        www.cookbooks.com/Recipe-Details.aspx?id=364136   \n",
       "4770                     www.cookbooks.com/Recipe-Details.aspx?id=741372   \n",
       "20235                    www.cookbooks.com/Recipe-Details.aspx?id=716034   \n",
       "21941                    www.cookbooks.com/Recipe-Details.aspx?id=463255   \n",
       "23048                    www.cookbooks.com/Recipe-Details.aspx?id=770459   \n",
       "34627                    www.cookbooks.com/Recipe-Details.aspx?id=496935   \n",
       "35293                    www.cookbooks.com/Recipe-Details.aspx?id=745276   \n",
       "40413                    www.cookbooks.com/Recipe-Details.aspx?id=362310   \n",
       "42829                    www.cookbooks.com/Recipe-Details.aspx?id=553630   \n",
       "44790                    www.cookbooks.com/Recipe-Details.aspx?id=646737   \n",
       "47162                    www.cookbooks.com/Recipe-Details.aspx?id=626574   \n",
       "52387                    www.cookbooks.com/Recipe-Details.aspx?id=367504   \n",
       "54832                    www.cookbooks.com/Recipe-Details.aspx?id=319893   \n",
       "55262                    www.cookbooks.com/Recipe-Details.aspx?id=184216   \n",
       "55705                    www.cookbooks.com/Recipe-Details.aspx?id=646742   \n",
       "56713                    www.cookbooks.com/Recipe-Details.aspx?id=545677   \n",
       "76701                    www.cookbooks.com/Recipe-Details.aspx?id=758785   \n",
       "77058                    www.cookbooks.com/Recipe-Details.aspx?id=457573   \n",
       "102567  cookeatshare.com/recipes/crunchy-oat-and-cranberry-muffins-43366   \n",
       "\n",
       "           source  \\\n",
       "4        Gathered   \n",
       "4770     Gathered   \n",
       "20235    Gathered   \n",
       "21941    Gathered   \n",
       "23048    Gathered   \n",
       "34627    Gathered   \n",
       "35293    Gathered   \n",
       "40413    Gathered   \n",
       "42829    Gathered   \n",
       "44790    Gathered   \n",
       "47162    Gathered   \n",
       "52387    Gathered   \n",
       "54832    Gathered   \n",
       "55262    Gathered   \n",
       "55705    Gathered   \n",
       "56713    Gathered   \n",
       "76701    Gathered   \n",
       "77058    Gathered   \n",
       "102567  Recipes1M   \n",
       "\n",
       "                                                                                                                                                           NER  \\\n",
       "4                                                       [\"flour\", \"baking powder\", \"salt\", \"butter\", \"sugar\", \"egg yolks\", \"vanilla\", \"multi-colored candies\"]   \n",
       "4770                                      [\"bran\", \"baking powder\", \"sugar\", \"almonds\", \"raisins\", \"coconut\", \"nonfat milk\", \"egg whites\", \"overripe bananas\"]   \n",
       "20235                                                                                 [\"shortening\", \"brown sugar\", \"egg\", \"vanilla\", \"flour\", \"soda\", \"salt\"]   \n",
       "21941                                                                  [\"shortening\", \"sugar\", \"eggs\", \"flour\", \"cream of tartar\", \"soda\", \"salt\", \"cinnamon\"]   \n",
       "23048                [\"oil\", \"sugar\", \"brown sugar\", \"eggs\", \"vanilla\", \"flour\", \"baking soda\", \"baking powder\", \"salt\", \"oats\", \"chocolate chips\", \"raisins\"]   \n",
       "34627                                                                                 [\"water\", \"yeast\", \"sugar\", \"salt\", \"liquid shortening\", \"egg\", \"flour\"]   \n",
       "35293                                                                              [\"sugar\", \"butter\", \"milk\", \"cocoa\", \"peanut butter\", \"oatmeal\", \"vanilla\"]   \n",
       "40413                                                   [\"shortening\", \"brown sugar\", \"eggs\", \"flour\", \"baking powder\", \"salt\", \"nutmeats\", \"chocolate chips\"]   \n",
       "42829                                                                                         [\"yeast\", \"water\", \"flour\", \"sugar\", \"shortening\", \"buttermilk\"]   \n",
       "44790                                                                             [\"shortening\", \"sugar\", \"eggs\", \"vanilla\", \"flour\", \"baking powder\", \"salt\"]   \n",
       "47162                                                                       [\"flour\", \"shortening\", \"sugar\", \"vanilla flavor\", \"egg\", \"cocoa\", \"milk\", \"nuts\"]   \n",
       "52387                                     [\"Parkay margarine\", \"brown sugar\", \"flour\", \"graham cracker crumbs\", \"marshmallows\", \"chocolate pieces\", \"walnuts\"]   \n",
       "54832                                                                                           [\"shortening\", \"sugar\", \"vanilla\", \"flour\", \"salt\", \"walnuts\"]   \n",
       "55262                                                                                                   [\"butter\", \"sugar\", \"flour\", \"salt\", \"egg\", \"vanilla\"]   \n",
       "55705   [\"shortening\", \"sugar\", \"eggs\", \"flour\", \"baking powder\", \"soda\", \"salt\", \"cinnamon\", \"cloves\", \"applesauce\", \"raisins\", \"nuts\", \"oatmeal\", \"vanilla\"]   \n",
       "56713                                           [\"sugar\", \"chocolate\", \"vegetable oil\", \"eggs\", \"vanilla\", \"flour\", \"baking powder\", \"salt\", \"powdered sugar\"]   \n",
       "76701                             [\"flour\", \"salt\", \"soda\", \"shortening\", \"egg\", \"sugar\", \"unsweetened chocolate\", \"buttermilk\", \"semi-sweet chocolate chips\"]   \n",
       "77058                 [\"shortening\", \"sugar\", \"eggs\", \"vanilla\", \"flour\", \"baking powder\", \"brown sugar\", \"soda\", \"salt\", \"cooking oats\", \"coconut\", \"pecans\"]   \n",
       "102567                          [\"all-purpose\", \"whole wheat flour\", \"brown sugar\", \"baking pwdr\", \"salt\", \"cinnamon\", \"cranberries\", \"butter\", \"milk\", \"egg\"]   \n",
       "\n",
       "        serving_size serving_term  dozen  \n",
       "4                 24       Serves  dozen  \n",
       "4770              12       Serves  dozen  \n",
       "20235             48       Serves  dozen  \n",
       "21941             60       Serves  dozen  \n",
       "23048             60       Serves  dozen  \n",
       "34627             24       Serves  dozen  \n",
       "35293             36       Serves  dozen  \n",
       "40413             36       Serves  dozen  \n",
       "42829             48       Serves  dozen  \n",
       "44790             36       Serves  dozen  \n",
       "47162             84       Serves  dozen  \n",
       "52387             24       Serves  dozen  \n",
       "54832             60       Serves  dozen  \n",
       "55262             60       Serves  dozen  \n",
       "55705             48       Serves  dozen  \n",
       "56713             96       Serves  dozen  \n",
       "76701             60       Serves  dozen  \n",
       "77058             72       Serves  dozen  \n",
       "102567            12       Serves  dozen  "
      ]
     },
     "execution_count": 79,
     "metadata": {},
     "output_type": "execute_result"
    }
   ],
   "source": [
    "recipe_df_filtered[recipe_df_filtered['dozen'] == 'dozen']"
   ]
  },
  {
   "cell_type": "markdown",
   "id": "dcbe5170-c28c-4ac6-8e96-0478a6ed1481",
   "metadata": {},
   "source": [
    "Here we can see the `serving_size` was succesfully updated on the recipes that had a unit of measure of a dozen in the dataframe."
   ]
  },
  {
   "cell_type": "markdown",
   "id": "81f41248-854d-45f3-b91d-09c537e8f69b",
   "metadata": {},
   "source": [
    "Now that I have retrieved and transformed the `serving_size` column to the same unit of measure, columns `serving_term` and `dozen` are no longer necessary, so I will drop them now."
   ]
  },
  {
   "cell_type": "code",
   "execution_count": 82,
   "id": "d41acc54-7848-478e-bc38-01f98fbc577e",
   "metadata": {},
   "outputs": [],
   "source": [
    "recipe_df_filtered=recipe_df_filtered.drop(columns=['serving_term', 'dozen'])"
   ]
  },
  {
   "cell_type": "code",
   "execution_count": 83,
   "id": "62256180-09d5-4126-9da2-6d43ebf585fd",
   "metadata": {},
   "outputs": [
    {
     "data": {
      "text/html": [
       "<div>\n",
       "<style scoped>\n",
       "    .dataframe tbody tr th:only-of-type {\n",
       "        vertical-align: middle;\n",
       "    }\n",
       "\n",
       "    .dataframe tbody tr th {\n",
       "        vertical-align: top;\n",
       "    }\n",
       "\n",
       "    .dataframe thead th {\n",
       "        text-align: right;\n",
       "    }\n",
       "</style>\n",
       "<table border=\"1\" class=\"dataframe\">\n",
       "  <thead>\n",
       "    <tr style=\"text-align: right;\">\n",
       "      <th></th>\n",
       "      <th>title</th>\n",
       "      <th>ingredients</th>\n",
       "      <th>directions</th>\n",
       "      <th>link</th>\n",
       "      <th>source</th>\n",
       "      <th>NER</th>\n",
       "      <th>serving_size</th>\n",
       "    </tr>\n",
       "  </thead>\n",
       "  <tbody>\n",
       "    <tr>\n",
       "      <th>0</th>\n",
       "      <td>Creamy Corn</td>\n",
       "      <td>[\"2 (16 oz.) pkg. frozen corn\", \"1 (8 oz.) pkg. cream cheese, cubed\", \"1/3 c. butter, cubed\", \"1/2 tsp. garlic powder\", \"1/2 tsp. salt\", \"1/4 tsp. pepper\"]</td>\n",
       "      <td>[\"In a slow cooker, combine all ingredients. Cover and cook on low for 4 hours or until heated through and cheese is melted. Stir well before serving. Yields 6 servings.\"]</td>\n",
       "      <td>www.cookbooks.com/Recipe-Details.aspx?id=10570</td>\n",
       "      <td>Gathered</td>\n",
       "      <td>[\"frozen corn\", \"cream cheese\", \"butter\", \"garlic powder\", \"salt\", \"pepper\"]</td>\n",
       "      <td>6</td>\n",
       "    </tr>\n",
       "    <tr>\n",
       "      <th>1</th>\n",
       "      <td>Broccoli Salad</td>\n",
       "      <td>[\"1 large head broccoli (about 1 1/2 lb.)\", \"10 slices bacon, cooked and crumbled\", \"5 green onions, sliced or 1/4 c. chopped red onion\", \"1/2 c. raisins\", \"1 c. mayonnaise\", \"2 Tbsp. vinegar\", \"1/4 c. sugar\"]</td>\n",
       "      <td>[\"Trim off large leaves of broccoli and remove the tough ends of lower stalks. Wash the broccoli thoroughly. Cut the florets and stems into bite-size pieces. Place in a large bowl. Add bacon, onions and raisins. Combine remaining ingredients, stirring well. Add dressing to broccoli mixture and toss gently. Cover and refrigerate 2 to 3 hours. Makes about 6 servings.\"]</td>\n",
       "      <td>www.cookbooks.com/Recipe-Details.aspx?id=50992</td>\n",
       "      <td>Gathered</td>\n",
       "      <td>[\"broccoli\", \"bacon\", \"green onions\", \"raisins\", \"mayonnaise\", \"vinegar\", \"sugar\"]</td>\n",
       "      <td>6</td>\n",
       "    </tr>\n",
       "    <tr>\n",
       "      <th>2</th>\n",
       "      <td>Prize-Winning Meat Loaf</td>\n",
       "      <td>[\"1 1/2 lb. ground beef\", \"1 c. tomato juice\", \"3/4 c. oats (uncooked)\", \"1 egg, beaten\", \"1/4 c. chopped onion\", \"1/4 tsp. pepper\", \"1 1/2 tsp. salt\"]</td>\n",
       "      <td>[\"Mix well.\", \"Press firmly into an 8 1/2 x 4 1/2 x 2 1/2-inch loaf pan.\", \"Bake in preheated moderate oven.\", \"Bake at 350\\u00b0 for 1 hour.\", \"Let stand 5 minutes before slicing.\", \"Makes 8 servings.\"]</td>\n",
       "      <td>www.cookbooks.com/Recipe-Details.aspx?id=923674</td>\n",
       "      <td>Gathered</td>\n",
       "      <td>[\"ground beef\", \"tomato juice\", \"oats\", \"egg\", \"onion\", \"pepper\", \"salt\"]</td>\n",
       "      <td>8</td>\n",
       "    </tr>\n",
       "    <tr>\n",
       "      <th>3</th>\n",
       "      <td>Corral Barbecued Beef Steak Strips</td>\n",
       "      <td>[\"2 lb. round steak 1/2 to 3/4-inch thick, sliced in strips 1/8-inch thick (or thinner) and 3 1/2 to 4-inches long (easily sliced if partially frozen)\", \"2 Tbsp. cooking oil\", \"1 can (15 oz.) tomato sauce\", \"1/3 c. water\", \"2 Tbsp. brown sugar\", \"1 Tbsp. prepared mustard\", \"1 tbsp. Worcestershire sauce\", \"1 medium sized onion, thinly sliced\"]</td>\n",
       "      <td>[\"Brown strips in cooking oil.\", \"Pour off drippings.\", \"Combine tomato sauce, water, brown sugar, mustard and Worcestershire sauce.\", \"Add sauce and onion to meat slices.\", \"Cover and cook slowly, stirring occasionally 30 minutes or until meat is tender. Serve over rice or buttered noodles.\", \"Yields 6 to 8 servings.\"]</td>\n",
       "      <td>www.cookbooks.com/Recipe-Details.aspx?id=420402</td>\n",
       "      <td>Gathered</td>\n",
       "      <td>[\"long\", \"cooking oil\", \"tomato sauce\", \"water\", \"brown sugar\", \"mustard\", \"Worcestershire sauce\", \"onion\"]</td>\n",
       "      <td>8</td>\n",
       "    </tr>\n",
       "    <tr>\n",
       "      <th>4</th>\n",
       "      <td>Mexican Cookie Rings</td>\n",
       "      <td>[\"1 1/2 c. sifted flour\", \"1/2 tsp. baking powder\", \"1/2 tsp. salt\", \"1/2 c. butter\", \"2/3 c. sugar\", \"3 egg yolks\", \"1 tsp. vanilla\", \"multi-colored candies\"]</td>\n",
       "      <td>[\"Sift flour, baking powder and salt together.\", \"Cream together butter and sugar.\", \"Add egg yolks and vanilla.\", \"Beat until light and fluffy.\", \"Mix in sifted dry ingredients.\", \"Shape into 1-inch balls.\", \"Push wooden spoon handle through center (twist).\", \"Shape into rings.\", \"Dip each cookie into candies.\", \"Place on lightly greased baking sheets.\", \"Bake in 375\\u00b0 oven for 10 to 12 minutes or until golden brown.\", \"Cool on racks.\", \"Serves 2 dozen.\"]</td>\n",
       "      <td>www.cookbooks.com/Recipe-Details.aspx?id=364136</td>\n",
       "      <td>Gathered</td>\n",
       "      <td>[\"flour\", \"baking powder\", \"salt\", \"butter\", \"sugar\", \"egg yolks\", \"vanilla\", \"multi-colored candies\"]</td>\n",
       "      <td>24</td>\n",
       "    </tr>\n",
       "    <tr>\n",
       "      <th>...</th>\n",
       "      <td>...</td>\n",
       "      <td>...</td>\n",
       "      <td>...</td>\n",
       "      <td>...</td>\n",
       "      <td>...</td>\n",
       "      <td>...</td>\n",
       "      <td>...</td>\n",
       "    </tr>\n",
       "    <tr>\n",
       "      <th>105538</th>\n",
       "      <td>Chicken Stuffing Mix Recipe</td>\n",
       "      <td>[\"1 (8 ounce.) stuffing mix &amp; 4 slices bread\", \"1/2 c. butter, melted\", \"1 c. chicken broth\", \"2 1/2 c. chicken, diced\", \"1 c. onion, minced\", \"1/2 c. celery, minced\", \"1/2 c. salad dressing\", \"3/4 teaspoon salt\", \"2 Large eggs\", \"1 1/2 c. lowfat milk\", \"1 can cream of mushroom soup\", \"1 c. Cheddar cheese, shredded\"]</td>\n",
       "      <td>[\"Mix first 3 ingredients.\", \"Put in 9 x 13 inch pan.\", \"Combine chicken, onion, celery, salad dressing and salt.\", \"Spread on top of dressing.\", \"Save a little for top.\", \"Mix Large eggs and lowfat milk, pour over.\", \"Cover with foil and chill at least 6 hrs.\", \"Before baking, take the cream of mushroom soup and spread over stuffing.\", \"Bake at 325 degrees for 40 min.\", \"Sprinkle with 1 c. Cheddar cheese.\", \"Bake 10 min more.\", \"Cut into squares.\", \"Serves 8.\"]</td>\n",
       "      <td>cookeatshare.com/recipes/chicken-stuffing-mix-38487</td>\n",
       "      <td>Recipes1M</td>\n",
       "      <td>[\"stuffing mix\", \"butter\", \"chicken broth\", \"chicken\", \"onion\", \"celery\", \"salad dressing\", \"salt\", \"eggs\", \"milk\", \"cream of mushroom soup\", \"Cheddar cheese\"]</td>\n",
       "      <td>8</td>\n",
       "    </tr>\n",
       "    <tr>\n",
       "      <th>105539</th>\n",
       "      <td>Blackberry Upside Down Cake Recipe</td>\n",
       "      <td>[\"1/2 stk margarine or possibly butter\", \"1/4 c. Sugar\", \"1 1/2 c. Blackberries\", \"2 Tbsp. Sliced almonds\", \"1 1/2 c. Bisquick original baking mix\", \"1/2 c. Sugar\", \"1/2 c. Lowfat milk or possibly water\", \"2 Tbsp. Vegetable oil\", \"1/2 tsp Vanilla\", \"1/2 tsp Almond extract\", \"1 x Egg Sweetened whipped cream or possibly ice cream, if you like\"]</td>\n",
       "      <td>[\"HEAT oven to 350 degrees.\", \"Heat margarine in round pan, 9x1-1/2 inches, or possibly square pan, 8x8x2 inches, in oven till melted.\", \"Sprinkle 1/4 c. sugar proportionately over melted margarine.\", \"Arrange Blackberries with open ends up over sugar mix; sprinkle with almonds.\", \"BEAT remaining ingredients except whipped cream in medium bowl on low speed 30 seconds, scraping bowl constantly.\", \"Beat on medium speed 4 min, scraping bowl occasionally.\", \"Pour batter over Blackberries.\", \"BAKE 35 to 40 min or possibly till toothpick inserted in center comes out clean.\", \"Immediately invert pan onto heatproof serving plate; leave pan over cake a few min.\", \"Remove pan.\", \"Let cake stand at least 10 min before serving.\", \"Serve hot with whipped cream.\", \"9 servings.\", \"Pear Upside-down Cake: Substitute packed brown sugar for the sugar and 1 large pear, thinly sliced, for the Blackberries.\", \"Substitute minced pecans for the almonds.\", \"Increase vanilla to 1 tsp.\", \"; omit almond extract.\", \"Add in 1/2 tsp.\", \"grnd mace or possibly cinnamon with the vanilla.\"]</td>\n",
       "      <td>cookeatshare.com/recipes/blackberry-upside-down-cake-86757</td>\n",
       "      <td>Recipes1M</td>\n",
       "      <td>[\"margarine\", \"Sugar\", \"Blackberries\", \"almonds\", \"Bisquick original baking mix\", \"Sugar\", \"milk\", \"Vegetable oil\", \"Vanilla\", \"Egg\"]</td>\n",
       "      <td>9</td>\n",
       "    </tr>\n",
       "    <tr>\n",
       "      <th>105540</th>\n",
       "      <td>Broken Wheat Pudding ( Lapsi Kheer ) Recipe</td>\n",
       "      <td>[\"150 gm broken wheat\", \"300 ml water\", \"4 Tbsp. jaggery grated\", \"300 ml coconut lowfat milk\", \"1 tsp cardamom pwdr\"]</td>\n",
       "      <td>[\"(To make coconut lowfat milk finely grate a fresh coconut add in 150ml of warm water and squeeze to extract the thick lowfat milk.\", \"You should get roughly 300ml of coconut lowfat milk from a coconut.)\", \"Cook the broken wheat in the water till soft.\", \"Stir in the jaggery and cook till blended.\", \"Add in the coconut lowfat milk and cardamom pwdr.\", \"Bring to the boil once and remove from the heat.\", \"Serve hot.\", \"This is a pudding from south India and is made on festive occasions.\", \"Serves 4\"]</td>\n",
       "      <td>cookeatshare.com/recipes/broken-wheat-pudding-lapsi-kheer-93485</td>\n",
       "      <td>Recipes1M</td>\n",
       "      <td>[\"broken wheat\", \"water\", \"jaggery grated\", \"coconut lowfat milk\", \"pwdr\"]</td>\n",
       "      <td>4</td>\n",
       "    </tr>\n",
       "    <tr>\n",
       "      <th>105541</th>\n",
       "      <td>Boysenberry Tiramisu Recipe</td>\n",
       "      <td>[\"1 pkt Frzn red Boysenberries in, light syrup (10 ounce)\", \"2 sqr semisweet chocolate, (1 ounce)\", \"1 ct whipped cream, cheese (8 ounce)\", \"3 Tbsp. Coffee-flavor liqueur\", \"1 Tbsp. Lowfat milk\", \"1 tsp Vanilla extract\", \"1 1/2 c. Heavy or possibly whipping cream\", \"2/3 c. Vanilla wafers, coarsely Crumble (about 40 cookies) Fresh Boysenberries, garnish\"]</td>\n",
       "      <td>[\"About 3 hrs before serving or possibly early in day: Thaw frzn Boysenberries as label directs.\", \"Meanwhile, grate semi-sweet chocolate.\", \"Reserve 1/4 c. grated chocolate for garnish.\", \"In large bowl, with wire whisk or possibly fork, beat cream cheese, coffee flavor liqueur, lowfat milk, vanilla extract, and remaining grated chocolate till well blended.\", \"In small bowl, with mixer at medium speed, beat heavy or possibly whipping cream and confectioners' sugar till stiff peaks forms.\", \"Reserve 2 c. mix for topping.\", \"With rubber spatula or possibly wire whisk, fold remaining 1 c. whipped cream mix.\", \"Into 8 dessert glasses, place half of crumbled vanilla wafers; top with half of cream mix.\", \"Spoon half of thawed Boysenberries with their syrup over cheese mix; top with remaining vanilla wafers, remaining thawed raspberies, then with remaining cheese mix.\", \"Spoon reserved whipped cream mix into decorating bag with small rosette tube.\", \"Pipe whipped cream around edge of each dessert glass.\", \"Sprinkle reserved grated chocolate in center of each dessert.\", \"Garnish with fresh raspberies.\", \"Chill at least 2 hrs to blend flavor.\", \"Makes 8 servings.\"]</td>\n",
       "      <td>cookeatshare.com/recipes/boysenberry-tiramisu-90221</td>\n",
       "      <td>Recipes1M</td>\n",
       "      <td>[\"red Boysenberries\", \"chocolate\", \"whipped cream\", \"Coffee-flavor\", \"milk\", \"Vanilla\", \"whipping cream\", \"Vanilla wafers\"]</td>\n",
       "      <td>8</td>\n",
       "    </tr>\n",
       "    <tr>\n",
       "      <th>105542</th>\n",
       "      <td>Bread And Cheese Casserole Recipe</td>\n",
       "      <td>[\"6 slc Bread, (white, wheat, buns or possibly leftover bread)\", \"2 c. Grated cheese, whatever you like\", \"2 x Onions, thinly sliced\", \"2 x Green peppers, sliced thin\", \"4 x Tomatoes, sliced thin Salt and pepper, to taste\", \"1/2 c. Butter, or possibly more if desired\", \"1 1/4 c. Lowfat milk\", \"2 x Large eggs Parmesan cheese\"]</td>\n",
       "      <td>[\"Preheat oven to 350 degrees.\", \"Toast and cut the bread into smaller pcs.\", \"In a 9x13 pan, put a layer of bread, onions, green pepper, tomatoes and cheese.\", \"Salt and pepper to taste and sprinkle Parmesan cheese over all.\", \"Dot with butter.\", \"Heat the lowfat milk and beat in Large eggs.\", \"Pour mix over casserole.\", \"Bake for 40 min or possibly till lowfat milk has absorbed and cheese is melted and bubbly.\", \"Makes 3 servings\"]</td>\n",
       "      <td>cookeatshare.com/recipes/bread-and-cheese-casserole-91387</td>\n",
       "      <td>Recipes1M</td>\n",
       "      <td>[\"Bread\", \"Grated cheese\", \"Onions\", \"Green peppers\", \"Tomatoes\", \"Butter\", \"milk\", \"Parmesan cheese\"]</td>\n",
       "      <td>3</td>\n",
       "    </tr>\n",
       "  </tbody>\n",
       "</table>\n",
       "<p>105543 rows × 7 columns</p>\n",
       "</div>"
      ],
      "text/plain": [
       "                                              title  \\\n",
       "0                                       Creamy Corn   \n",
       "1                                    Broccoli Salad   \n",
       "2                           Prize-Winning Meat Loaf   \n",
       "3                Corral Barbecued Beef Steak Strips   \n",
       "4                              Mexican Cookie Rings   \n",
       "...                                             ...   \n",
       "105538                  Chicken Stuffing Mix Recipe   \n",
       "105539           Blackberry Upside Down Cake Recipe   \n",
       "105540  Broken Wheat Pudding ( Lapsi Kheer ) Recipe   \n",
       "105541                  Boysenberry Tiramisu Recipe   \n",
       "105542            Bread And Cheese Casserole Recipe   \n",
       "\n",
       "                                                                                                                                                                                                                                                                                                                                                                 ingredients  \\\n",
       "0                                                                                                                                                                                                                [\"2 (16 oz.) pkg. frozen corn\", \"1 (8 oz.) pkg. cream cheese, cubed\", \"1/3 c. butter, cubed\", \"1/2 tsp. garlic powder\", \"1/2 tsp. salt\", \"1/4 tsp. pepper\"]   \n",
       "1                                                                                                                                                          [\"1 large head broccoli (about 1 1/2 lb.)\", \"10 slices bacon, cooked and crumbled\", \"5 green onions, sliced or 1/4 c. chopped red onion\", \"1/2 c. raisins\", \"1 c. mayonnaise\", \"2 Tbsp. vinegar\", \"1/4 c. sugar\"]   \n",
       "2                                                                                                                                                                                                                    [\"1 1/2 lb. ground beef\", \"1 c. tomato juice\", \"3/4 c. oats (uncooked)\", \"1 egg, beaten\", \"1/4 c. chopped onion\", \"1/4 tsp. pepper\", \"1 1/2 tsp. salt\"]   \n",
       "3                   [\"2 lb. round steak 1/2 to 3/4-inch thick, sliced in strips 1/8-inch thick (or thinner) and 3 1/2 to 4-inches long (easily sliced if partially frozen)\", \"2 Tbsp. cooking oil\", \"1 can (15 oz.) tomato sauce\", \"1/3 c. water\", \"2 Tbsp. brown sugar\", \"1 Tbsp. prepared mustard\", \"1 tbsp. Worcestershire sauce\", \"1 medium sized onion, thinly sliced\"]   \n",
       "4                                                                                                                                                                                                            [\"1 1/2 c. sifted flour\", \"1/2 tsp. baking powder\", \"1/2 tsp. salt\", \"1/2 c. butter\", \"2/3 c. sugar\", \"3 egg yolks\", \"1 tsp. vanilla\", \"multi-colored candies\"]   \n",
       "...                                                                                                                                                                                                                                                                                                                                                                      ...   \n",
       "105538                                        [\"1 (8 ounce.) stuffing mix & 4 slices bread\", \"1/2 c. butter, melted\", \"1 c. chicken broth\", \"2 1/2 c. chicken, diced\", \"1 c. onion, minced\", \"1/2 c. celery, minced\", \"1/2 c. salad dressing\", \"3/4 teaspoon salt\", \"2 Large eggs\", \"1 1/2 c. lowfat milk\", \"1 can cream of mushroom soup\", \"1 c. Cheddar cheese, shredded\"]   \n",
       "105539              [\"1/2 stk margarine or possibly butter\", \"1/4 c. Sugar\", \"1 1/2 c. Blackberries\", \"2 Tbsp. Sliced almonds\", \"1 1/2 c. Bisquick original baking mix\", \"1/2 c. Sugar\", \"1/2 c. Lowfat milk or possibly water\", \"2 Tbsp. Vegetable oil\", \"1/2 tsp Vanilla\", \"1/2 tsp Almond extract\", \"1 x Egg Sweetened whipped cream or possibly ice cream, if you like\"]   \n",
       "105540                                                                                                                                                                                                                                                [\"150 gm broken wheat\", \"300 ml water\", \"4 Tbsp. jaggery grated\", \"300 ml coconut lowfat milk\", \"1 tsp cardamom pwdr\"]   \n",
       "105541  [\"1 pkt Frzn red Boysenberries in, light syrup (10 ounce)\", \"2 sqr semisweet chocolate, (1 ounce)\", \"1 ct whipped cream, cheese (8 ounce)\", \"3 Tbsp. Coffee-flavor liqueur\", \"1 Tbsp. Lowfat milk\", \"1 tsp Vanilla extract\", \"1 1/2 c. Heavy or possibly whipping cream\", \"2/3 c. Vanilla wafers, coarsely Crumble (about 40 cookies) Fresh Boysenberries, garnish\"]   \n",
       "105542                               [\"6 slc Bread, (white, wheat, buns or possibly leftover bread)\", \"2 c. Grated cheese, whatever you like\", \"2 x Onions, thinly sliced\", \"2 x Green peppers, sliced thin\", \"4 x Tomatoes, sliced thin Salt and pepper, to taste\", \"1/2 c. Butter, or possibly more if desired\", \"1 1/4 c. Lowfat milk\", \"2 x Large eggs Parmesan cheese\"]   \n",
       "\n",
       "                                                                                                                                                                                                                                                                                                                                                                                                                                                                                                                                                                                                                                                                                                                                                                                                                                                                                                                                                                                                                                                                                                                                                                                                                     directions  \\\n",
       "0                                                                                                                                                                                                                                                                                                                                                                                                                                                                                                                                                                                                                                                                                                                                                                                                                                                                                                                                                                                                                                                   [\"In a slow cooker, combine all ingredients. Cover and cook on low for 4 hours or until heated through and cheese is melted. Stir well before serving. Yields 6 servings.\"]   \n",
       "1                                                                                                                                                                                                                                                                                                                                                                                                                                                                                                                                                                                                                                                                                                                                                                                                                                             [\"Trim off large leaves of broccoli and remove the tough ends of lower stalks. Wash the broccoli thoroughly. Cut the florets and stems into bite-size pieces. Place in a large bowl. Add bacon, onions and raisins. Combine remaining ingredients, stirring well. Add dressing to broccoli mixture and toss gently. Cover and refrigerate 2 to 3 hours. Makes about 6 servings.\"]   \n",
       "2                                                                                                                                                                                                                                                                                                                                                                                                                                                                                                                                                                                                                                                                                                                                                                                                                                                                                                                                                                                                                   [\"Mix well.\", \"Press firmly into an 8 1/2 x 4 1/2 x 2 1/2-inch loaf pan.\", \"Bake in preheated moderate oven.\", \"Bake at 350\\u00b0 for 1 hour.\", \"Let stand 5 minutes before slicing.\", \"Makes 8 servings.\"]   \n",
       "3                                                                                                                                                                                                                                                                                                                                                                                                                                                                                                                                                                                                                                                                                                                                                                                                                                                                                             [\"Brown strips in cooking oil.\", \"Pour off drippings.\", \"Combine tomato sauce, water, brown sugar, mustard and Worcestershire sauce.\", \"Add sauce and onion to meat slices.\", \"Cover and cook slowly, stirring occasionally 30 minutes or until meat is tender. Serve over rice or buttered noodles.\", \"Yields 6 to 8 servings.\"]   \n",
       "4                                                                                                                                                                                                                                                                                                                                                                                                                                                                                                                                                                                                                                                                                                                                              [\"Sift flour, baking powder and salt together.\", \"Cream together butter and sugar.\", \"Add egg yolks and vanilla.\", \"Beat until light and fluffy.\", \"Mix in sifted dry ingredients.\", \"Shape into 1-inch balls.\", \"Push wooden spoon handle through center (twist).\", \"Shape into rings.\", \"Dip each cookie into candies.\", \"Place on lightly greased baking sheets.\", \"Bake in 375\\u00b0 oven for 10 to 12 minutes or until golden brown.\", \"Cool on racks.\", \"Serves 2 dozen.\"]   \n",
       "...                                                                                                                                                                                                                                                                                                                                                                                                                                                                                                                                                                                                                                                                                                                                                                                                                                                                                                                                                                                                                                                                                                                                                                                                                         ...   \n",
       "105538                                                                                                                                                                                                                                                                                                                                                                                                                                                                                                                                                                                                                                                                                                                                       [\"Mix first 3 ingredients.\", \"Put in 9 x 13 inch pan.\", \"Combine chicken, onion, celery, salad dressing and salt.\", \"Spread on top of dressing.\", \"Save a little for top.\", \"Mix Large eggs and lowfat milk, pour over.\", \"Cover with foil and chill at least 6 hrs.\", \"Before baking, take the cream of mushroom soup and spread over stuffing.\", \"Bake at 325 degrees for 40 min.\", \"Sprinkle with 1 c. Cheddar cheese.\", \"Bake 10 min more.\", \"Cut into squares.\", \"Serves 8.\"]   \n",
       "105539                                                                                                         [\"HEAT oven to 350 degrees.\", \"Heat margarine in round pan, 9x1-1/2 inches, or possibly square pan, 8x8x2 inches, in oven till melted.\", \"Sprinkle 1/4 c. sugar proportionately over melted margarine.\", \"Arrange Blackberries with open ends up over sugar mix; sprinkle with almonds.\", \"BEAT remaining ingredients except whipped cream in medium bowl on low speed 30 seconds, scraping bowl constantly.\", \"Beat on medium speed 4 min, scraping bowl occasionally.\", \"Pour batter over Blackberries.\", \"BAKE 35 to 40 min or possibly till toothpick inserted in center comes out clean.\", \"Immediately invert pan onto heatproof serving plate; leave pan over cake a few min.\", \"Remove pan.\", \"Let cake stand at least 10 min before serving.\", \"Serve hot with whipped cream.\", \"9 servings.\", \"Pear Upside-down Cake: Substitute packed brown sugar for the sugar and 1 large pear, thinly sliced, for the Blackberries.\", \"Substitute minced pecans for the almonds.\", \"Increase vanilla to 1 tsp.\", \"; omit almond extract.\", \"Add in 1/2 tsp.\", \"grnd mace or possibly cinnamon with the vanilla.\"]   \n",
       "105540                                                                                                                                                                                                                                                                                                                                                                                                                                                                                                                                                                                                                                                                                                 [\"(To make coconut lowfat milk finely grate a fresh coconut add in 150ml of warm water and squeeze to extract the thick lowfat milk.\", \"You should get roughly 300ml of coconut lowfat milk from a coconut.)\", \"Cook the broken wheat in the water till soft.\", \"Stir in the jaggery and cook till blended.\", \"Add in the coconut lowfat milk and cardamom pwdr.\", \"Bring to the boil once and remove from the heat.\", \"Serve hot.\", \"This is a pudding from south India and is made on festive occasions.\", \"Serves 4\"]   \n",
       "105541  [\"About 3 hrs before serving or possibly early in day: Thaw frzn Boysenberries as label directs.\", \"Meanwhile, grate semi-sweet chocolate.\", \"Reserve 1/4 c. grated chocolate for garnish.\", \"In large bowl, with wire whisk or possibly fork, beat cream cheese, coffee flavor liqueur, lowfat milk, vanilla extract, and remaining grated chocolate till well blended.\", \"In small bowl, with mixer at medium speed, beat heavy or possibly whipping cream and confectioners' sugar till stiff peaks forms.\", \"Reserve 2 c. mix for topping.\", \"With rubber spatula or possibly wire whisk, fold remaining 1 c. whipped cream mix.\", \"Into 8 dessert glasses, place half of crumbled vanilla wafers; top with half of cream mix.\", \"Spoon half of thawed Boysenberries with their syrup over cheese mix; top with remaining vanilla wafers, remaining thawed raspberies, then with remaining cheese mix.\", \"Spoon reserved whipped cream mix into decorating bag with small rosette tube.\", \"Pipe whipped cream around edge of each dessert glass.\", \"Sprinkle reserved grated chocolate in center of each dessert.\", \"Garnish with fresh raspberies.\", \"Chill at least 2 hrs to blend flavor.\", \"Makes 8 servings.\"]   \n",
       "105542                                                                                                                                                                                                                                                                                                                                                                                                                                                                                                                                                                                                                                                                                                                                                                    [\"Preheat oven to 350 degrees.\", \"Toast and cut the bread into smaller pcs.\", \"In a 9x13 pan, put a layer of bread, onions, green pepper, tomatoes and cheese.\", \"Salt and pepper to taste and sprinkle Parmesan cheese over all.\", \"Dot with butter.\", \"Heat the lowfat milk and beat in Large eggs.\", \"Pour mix over casserole.\", \"Bake for 40 min or possibly till lowfat milk has absorbed and cheese is melted and bubbly.\", \"Makes 3 servings\"]   \n",
       "\n",
       "                                                                   link  \\\n",
       "0                        www.cookbooks.com/Recipe-Details.aspx?id=10570   \n",
       "1                        www.cookbooks.com/Recipe-Details.aspx?id=50992   \n",
       "2                       www.cookbooks.com/Recipe-Details.aspx?id=923674   \n",
       "3                       www.cookbooks.com/Recipe-Details.aspx?id=420402   \n",
       "4                       www.cookbooks.com/Recipe-Details.aspx?id=364136   \n",
       "...                                                                 ...   \n",
       "105538              cookeatshare.com/recipes/chicken-stuffing-mix-38487   \n",
       "105539       cookeatshare.com/recipes/blackberry-upside-down-cake-86757   \n",
       "105540  cookeatshare.com/recipes/broken-wheat-pudding-lapsi-kheer-93485   \n",
       "105541              cookeatshare.com/recipes/boysenberry-tiramisu-90221   \n",
       "105542        cookeatshare.com/recipes/bread-and-cheese-casserole-91387   \n",
       "\n",
       "           source  \\\n",
       "0        Gathered   \n",
       "1        Gathered   \n",
       "2        Gathered   \n",
       "3        Gathered   \n",
       "4        Gathered   \n",
       "...           ...   \n",
       "105538  Recipes1M   \n",
       "105539  Recipes1M   \n",
       "105540  Recipes1M   \n",
       "105541  Recipes1M   \n",
       "105542  Recipes1M   \n",
       "\n",
       "                                                                                                                                                                    NER  \\\n",
       "0                                                                                          [\"frozen corn\", \"cream cheese\", \"butter\", \"garlic powder\", \"salt\", \"pepper\"]   \n",
       "1                                                                                    [\"broccoli\", \"bacon\", \"green onions\", \"raisins\", \"mayonnaise\", \"vinegar\", \"sugar\"]   \n",
       "2                                                                                             [\"ground beef\", \"tomato juice\", \"oats\", \"egg\", \"onion\", \"pepper\", \"salt\"]   \n",
       "3                                                           [\"long\", \"cooking oil\", \"tomato sauce\", \"water\", \"brown sugar\", \"mustard\", \"Worcestershire sauce\", \"onion\"]   \n",
       "4                                                                [\"flour\", \"baking powder\", \"salt\", \"butter\", \"sugar\", \"egg yolks\", \"vanilla\", \"multi-colored candies\"]   \n",
       "...                                                                                                                                                                 ...   \n",
       "105538  [\"stuffing mix\", \"butter\", \"chicken broth\", \"chicken\", \"onion\", \"celery\", \"salad dressing\", \"salt\", \"eggs\", \"milk\", \"cream of mushroom soup\", \"Cheddar cheese\"]   \n",
       "105539                            [\"margarine\", \"Sugar\", \"Blackberries\", \"almonds\", \"Bisquick original baking mix\", \"Sugar\", \"milk\", \"Vegetable oil\", \"Vanilla\", \"Egg\"]   \n",
       "105540                                                                                       [\"broken wheat\", \"water\", \"jaggery grated\", \"coconut lowfat milk\", \"pwdr\"]   \n",
       "105541                                      [\"red Boysenberries\", \"chocolate\", \"whipped cream\", \"Coffee-flavor\", \"milk\", \"Vanilla\", \"whipping cream\", \"Vanilla wafers\"]   \n",
       "105542                                                           [\"Bread\", \"Grated cheese\", \"Onions\", \"Green peppers\", \"Tomatoes\", \"Butter\", \"milk\", \"Parmesan cheese\"]   \n",
       "\n",
       "        serving_size  \n",
       "0                  6  \n",
       "1                  6  \n",
       "2                  8  \n",
       "3                  8  \n",
       "4                 24  \n",
       "...              ...  \n",
       "105538             8  \n",
       "105539             9  \n",
       "105540             4  \n",
       "105541             8  \n",
       "105542             3  \n",
       "\n",
       "[105543 rows x 7 columns]"
      ]
     },
     "execution_count": 83,
     "metadata": {},
     "output_type": "execute_result"
    }
   ],
   "source": [
    "recipe_df_filtered"
   ]
  },
  {
   "cell_type": "code",
   "execution_count": 84,
   "id": "6db6b6ac-be87-4822-b790-947fa087c408",
   "metadata": {},
   "outputs": [
    {
     "name": "stdout",
     "output_type": "stream",
     "text": [
      "<class 'pandas.core.frame.DataFrame'>\n",
      "RangeIndex: 105543 entries, 0 to 105542\n",
      "Data columns (total 7 columns):\n",
      " #   Column        Non-Null Count   Dtype \n",
      "---  ------        --------------   ----- \n",
      " 0   title         105543 non-null  object\n",
      " 1   ingredients   105543 non-null  object\n",
      " 2   directions    105543 non-null  object\n",
      " 3   link          105543 non-null  object\n",
      " 4   source        105543 non-null  object\n",
      " 5   NER           105543 non-null  object\n",
      " 6   serving_size  105543 non-null  int64 \n",
      "dtypes: int64(1), object(6)\n",
      "memory usage: 5.6+ MB\n"
     ]
    }
   ],
   "source": [
    "recipe_df_filtered.info()"
   ]
  },
  {
   "cell_type": "markdown",
   "id": "76d8f4a0-f3b5-4ce8-9eb4-c4c1038c7130",
   "metadata": {},
   "source": [
    "At this moment, no further data type conversions are needed."
   ]
  },
  {
   "cell_type": "markdown",
   "id": "4958d20f-050e-40f2-ba53-f871abb22035",
   "metadata": {},
   "source": [
    "#### 4.1.3 Ingredient Counter <a name=\"counter\"></a>"
   ]
  },
  {
   "cell_type": "markdown",
   "id": "00aa83af-2826-4bc2-b4ff-313e3613c5fb",
   "metadata": {},
   "source": [
    "The next thing I want to do is extract the unique list of ingredients."
   ]
  },
  {
   "cell_type": "markdown",
   "id": "b7687bce-3a76-440f-926a-448b0468b580",
   "metadata": {},
   "source": [
    "First, I convert the strings within the `NER` column to a Python list of items to capture the name of the ingredients within quotation marks."
   ]
  },
  {
   "cell_type": "code",
   "execution_count": 89,
   "id": "3667ec35-e264-4850-a964-6e2699f7a2d0",
   "metadata": {},
   "outputs": [
    {
     "name": "stdout",
     "output_type": "stream",
     "text": [
      "0                                                                                [frozen corn, cream cheese, butter, garlic powder, salt, pepper]\n",
      "1                                                                            [broccoli, bacon, green onions, raisins, mayonnaise, vinegar, sugar]\n",
      "2                                                                                     [ground beef, tomato juice, oats, egg, onion, pepper, salt]\n",
      "3                                                     [long, cooking oil, tomato sauce, water, brown sugar, mustard, Worcestershire sauce, onion]\n",
      "4                                                          [flour, baking powder, salt, butter, sugar, egg yolks, vanilla, multi-colored candies]\n",
      "                                                                           ...                                                                   \n",
      "105538    [stuffing mix, butter, chicken broth, chicken, onion, celery, salad dressing, salt, eggs, milk, cream of mushroom soup, Cheddar cheese]\n",
      "105539                          [margarine, Sugar, Blackberries, almonds, Bisquick original baking mix, Sugar, milk, Vegetable oil, Vanilla, Egg]\n",
      "105540                                                                           [broken wheat, water, jaggery grated, coconut lowfat milk, pwdr]\n",
      "105541                                [red Boysenberries, chocolate, whipped cream, Coffee-flavor, milk, Vanilla, whipping cream, Vanilla wafers]\n",
      "105542                                                     [Bread, Grated cheese, Onions, Green peppers, Tomatoes, Butter, milk, Parmesan cheese]\n",
      "Name: NER_list, Length: 105543, dtype: object\n"
     ]
    }
   ],
   "source": [
    "def ingredient_parse_list(NER):\n",
    "    return re.findall(r'\"([^\"]*)\"',NER) # \"([^\"]*)\" extracts the words within quotation marks\n",
    "\n",
    "recipe_df_filtered['NER_list'] = recipe_df_filtered['NER'].apply(ingredient_parse_list)\n",
    "print(recipe_df_filtered['NER_list'])"
   ]
  },
  {
   "cell_type": "markdown",
   "id": "5a3cc4bd-1712-4347-820d-582e63af8b0e",
   "metadata": {},
   "source": [
    "Here we can see that the resulting dataframe has a new column name `NER_list` where it lists the name of the ingredients without the quotation marks."
   ]
  },
  {
   "cell_type": "code",
   "execution_count": 91,
   "id": "a85d84b5-5fde-48e9-9129-6eb922064e57",
   "metadata": {},
   "outputs": [
    {
     "data": {
      "text/html": [
       "<div>\n",
       "<style scoped>\n",
       "    .dataframe tbody tr th:only-of-type {\n",
       "        vertical-align: middle;\n",
       "    }\n",
       "\n",
       "    .dataframe tbody tr th {\n",
       "        vertical-align: top;\n",
       "    }\n",
       "\n",
       "    .dataframe thead th {\n",
       "        text-align: right;\n",
       "    }\n",
       "</style>\n",
       "<table border=\"1\" class=\"dataframe\">\n",
       "  <thead>\n",
       "    <tr style=\"text-align: right;\">\n",
       "      <th></th>\n",
       "      <th>title</th>\n",
       "      <th>ingredients</th>\n",
       "      <th>directions</th>\n",
       "      <th>link</th>\n",
       "      <th>source</th>\n",
       "      <th>NER</th>\n",
       "      <th>serving_size</th>\n",
       "      <th>NER_list</th>\n",
       "    </tr>\n",
       "  </thead>\n",
       "  <tbody>\n",
       "    <tr>\n",
       "      <th>0</th>\n",
       "      <td>Creamy Corn</td>\n",
       "      <td>[\"2 (16 oz.) pkg. frozen corn\", \"1 (8 oz.) pkg. cream cheese, cubed\", \"1/3 c. butter, cubed\", \"1/2 tsp. garlic powder\", \"1/2 tsp. salt\", \"1/4 tsp. pepper\"]</td>\n",
       "      <td>[\"In a slow cooker, combine all ingredients. Cover and cook on low for 4 hours or until heated through and cheese is melted. Stir well before serving. Yields 6 servings.\"]</td>\n",
       "      <td>www.cookbooks.com/Recipe-Details.aspx?id=10570</td>\n",
       "      <td>Gathered</td>\n",
       "      <td>[\"frozen corn\", \"cream cheese\", \"butter\", \"garlic powder\", \"salt\", \"pepper\"]</td>\n",
       "      <td>6</td>\n",
       "      <td>[frozen corn, cream cheese, butter, garlic powder, salt, pepper]</td>\n",
       "    </tr>\n",
       "    <tr>\n",
       "      <th>1</th>\n",
       "      <td>Broccoli Salad</td>\n",
       "      <td>[\"1 large head broccoli (about 1 1/2 lb.)\", \"10 slices bacon, cooked and crumbled\", \"5 green onions, sliced or 1/4 c. chopped red onion\", \"1/2 c. raisins\", \"1 c. mayonnaise\", \"2 Tbsp. vinegar\", \"1/4 c. sugar\"]</td>\n",
       "      <td>[\"Trim off large leaves of broccoli and remove the tough ends of lower stalks. Wash the broccoli thoroughly. Cut the florets and stems into bite-size pieces. Place in a large bowl. Add bacon, onions and raisins. Combine remaining ingredients, stirring well. Add dressing to broccoli mixture and toss gently. Cover and refrigerate 2 to 3 hours. Makes about 6 servings.\"]</td>\n",
       "      <td>www.cookbooks.com/Recipe-Details.aspx?id=50992</td>\n",
       "      <td>Gathered</td>\n",
       "      <td>[\"broccoli\", \"bacon\", \"green onions\", \"raisins\", \"mayonnaise\", \"vinegar\", \"sugar\"]</td>\n",
       "      <td>6</td>\n",
       "      <td>[broccoli, bacon, green onions, raisins, mayonnaise, vinegar, sugar]</td>\n",
       "    </tr>\n",
       "    <tr>\n",
       "      <th>2</th>\n",
       "      <td>Prize-Winning Meat Loaf</td>\n",
       "      <td>[\"1 1/2 lb. ground beef\", \"1 c. tomato juice\", \"3/4 c. oats (uncooked)\", \"1 egg, beaten\", \"1/4 c. chopped onion\", \"1/4 tsp. pepper\", \"1 1/2 tsp. salt\"]</td>\n",
       "      <td>[\"Mix well.\", \"Press firmly into an 8 1/2 x 4 1/2 x 2 1/2-inch loaf pan.\", \"Bake in preheated moderate oven.\", \"Bake at 350\\u00b0 for 1 hour.\", \"Let stand 5 minutes before slicing.\", \"Makes 8 servings.\"]</td>\n",
       "      <td>www.cookbooks.com/Recipe-Details.aspx?id=923674</td>\n",
       "      <td>Gathered</td>\n",
       "      <td>[\"ground beef\", \"tomato juice\", \"oats\", \"egg\", \"onion\", \"pepper\", \"salt\"]</td>\n",
       "      <td>8</td>\n",
       "      <td>[ground beef, tomato juice, oats, egg, onion, pepper, salt]</td>\n",
       "    </tr>\n",
       "    <tr>\n",
       "      <th>3</th>\n",
       "      <td>Corral Barbecued Beef Steak Strips</td>\n",
       "      <td>[\"2 lb. round steak 1/2 to 3/4-inch thick, sliced in strips 1/8-inch thick (or thinner) and 3 1/2 to 4-inches long (easily sliced if partially frozen)\", \"2 Tbsp. cooking oil\", \"1 can (15 oz.) tomato sauce\", \"1/3 c. water\", \"2 Tbsp. brown sugar\", \"1 Tbsp. prepared mustard\", \"1 tbsp. Worcestershire sauce\", \"1 medium sized onion, thinly sliced\"]</td>\n",
       "      <td>[\"Brown strips in cooking oil.\", \"Pour off drippings.\", \"Combine tomato sauce, water, brown sugar, mustard and Worcestershire sauce.\", \"Add sauce and onion to meat slices.\", \"Cover and cook slowly, stirring occasionally 30 minutes or until meat is tender. Serve over rice or buttered noodles.\", \"Yields 6 to 8 servings.\"]</td>\n",
       "      <td>www.cookbooks.com/Recipe-Details.aspx?id=420402</td>\n",
       "      <td>Gathered</td>\n",
       "      <td>[\"long\", \"cooking oil\", \"tomato sauce\", \"water\", \"brown sugar\", \"mustard\", \"Worcestershire sauce\", \"onion\"]</td>\n",
       "      <td>8</td>\n",
       "      <td>[long, cooking oil, tomato sauce, water, brown sugar, mustard, Worcestershire sauce, onion]</td>\n",
       "    </tr>\n",
       "    <tr>\n",
       "      <th>4</th>\n",
       "      <td>Mexican Cookie Rings</td>\n",
       "      <td>[\"1 1/2 c. sifted flour\", \"1/2 tsp. baking powder\", \"1/2 tsp. salt\", \"1/2 c. butter\", \"2/3 c. sugar\", \"3 egg yolks\", \"1 tsp. vanilla\", \"multi-colored candies\"]</td>\n",
       "      <td>[\"Sift flour, baking powder and salt together.\", \"Cream together butter and sugar.\", \"Add egg yolks and vanilla.\", \"Beat until light and fluffy.\", \"Mix in sifted dry ingredients.\", \"Shape into 1-inch balls.\", \"Push wooden spoon handle through center (twist).\", \"Shape into rings.\", \"Dip each cookie into candies.\", \"Place on lightly greased baking sheets.\", \"Bake in 375\\u00b0 oven for 10 to 12 minutes or until golden brown.\", \"Cool on racks.\", \"Serves 2 dozen.\"]</td>\n",
       "      <td>www.cookbooks.com/Recipe-Details.aspx?id=364136</td>\n",
       "      <td>Gathered</td>\n",
       "      <td>[\"flour\", \"baking powder\", \"salt\", \"butter\", \"sugar\", \"egg yolks\", \"vanilla\", \"multi-colored candies\"]</td>\n",
       "      <td>24</td>\n",
       "      <td>[flour, baking powder, salt, butter, sugar, egg yolks, vanilla, multi-colored candies]</td>\n",
       "    </tr>\n",
       "  </tbody>\n",
       "</table>\n",
       "</div>"
      ],
      "text/plain": [
       "                                title  \\\n",
       "0                         Creamy Corn   \n",
       "1                      Broccoli Salad   \n",
       "2             Prize-Winning Meat Loaf   \n",
       "3  Corral Barbecued Beef Steak Strips   \n",
       "4                Mexican Cookie Rings   \n",
       "\n",
       "                                                                                                                                                                                                                                                                                                                                                ingredients  \\\n",
       "0                                                                                                                                                                                               [\"2 (16 oz.) pkg. frozen corn\", \"1 (8 oz.) pkg. cream cheese, cubed\", \"1/3 c. butter, cubed\", \"1/2 tsp. garlic powder\", \"1/2 tsp. salt\", \"1/4 tsp. pepper\"]   \n",
       "1                                                                                                                                         [\"1 large head broccoli (about 1 1/2 lb.)\", \"10 slices bacon, cooked and crumbled\", \"5 green onions, sliced or 1/4 c. chopped red onion\", \"1/2 c. raisins\", \"1 c. mayonnaise\", \"2 Tbsp. vinegar\", \"1/4 c. sugar\"]   \n",
       "2                                                                                                                                                                                                   [\"1 1/2 lb. ground beef\", \"1 c. tomato juice\", \"3/4 c. oats (uncooked)\", \"1 egg, beaten\", \"1/4 c. chopped onion\", \"1/4 tsp. pepper\", \"1 1/2 tsp. salt\"]   \n",
       "3  [\"2 lb. round steak 1/2 to 3/4-inch thick, sliced in strips 1/8-inch thick (or thinner) and 3 1/2 to 4-inches long (easily sliced if partially frozen)\", \"2 Tbsp. cooking oil\", \"1 can (15 oz.) tomato sauce\", \"1/3 c. water\", \"2 Tbsp. brown sugar\", \"1 Tbsp. prepared mustard\", \"1 tbsp. Worcestershire sauce\", \"1 medium sized onion, thinly sliced\"]   \n",
       "4                                                                                                                                                                                           [\"1 1/2 c. sifted flour\", \"1/2 tsp. baking powder\", \"1/2 tsp. salt\", \"1/2 c. butter\", \"2/3 c. sugar\", \"3 egg yolks\", \"1 tsp. vanilla\", \"multi-colored candies\"]   \n",
       "\n",
       "                                                                                                                                                                                                                                                                                                                                                                                                                                                                         directions  \\\n",
       "0                                                                                                                                                                                                                                                                                                       [\"In a slow cooker, combine all ingredients. Cover and cook on low for 4 hours or until heated through and cheese is melted. Stir well before serving. Yields 6 servings.\"]   \n",
       "1                                                                                                 [\"Trim off large leaves of broccoli and remove the tough ends of lower stalks. Wash the broccoli thoroughly. Cut the florets and stems into bite-size pieces. Place in a large bowl. Add bacon, onions and raisins. Combine remaining ingredients, stirring well. Add dressing to broccoli mixture and toss gently. Cover and refrigerate 2 to 3 hours. Makes about 6 servings.\"]   \n",
       "2                                                                                                                                                                                                                                                                       [\"Mix well.\", \"Press firmly into an 8 1/2 x 4 1/2 x 2 1/2-inch loaf pan.\", \"Bake in preheated moderate oven.\", \"Bake at 350\\u00b0 for 1 hour.\", \"Let stand 5 minutes before slicing.\", \"Makes 8 servings.\"]   \n",
       "3                                                                                                                                                 [\"Brown strips in cooking oil.\", \"Pour off drippings.\", \"Combine tomato sauce, water, brown sugar, mustard and Worcestershire sauce.\", \"Add sauce and onion to meat slices.\", \"Cover and cook slowly, stirring occasionally 30 minutes or until meat is tender. Serve over rice or buttered noodles.\", \"Yields 6 to 8 servings.\"]   \n",
       "4  [\"Sift flour, baking powder and salt together.\", \"Cream together butter and sugar.\", \"Add egg yolks and vanilla.\", \"Beat until light and fluffy.\", \"Mix in sifted dry ingredients.\", \"Shape into 1-inch balls.\", \"Push wooden spoon handle through center (twist).\", \"Shape into rings.\", \"Dip each cookie into candies.\", \"Place on lightly greased baking sheets.\", \"Bake in 375\\u00b0 oven for 10 to 12 minutes or until golden brown.\", \"Cool on racks.\", \"Serves 2 dozen.\"]   \n",
       "\n",
       "                                              link    source  \\\n",
       "0   www.cookbooks.com/Recipe-Details.aspx?id=10570  Gathered   \n",
       "1   www.cookbooks.com/Recipe-Details.aspx?id=50992  Gathered   \n",
       "2  www.cookbooks.com/Recipe-Details.aspx?id=923674  Gathered   \n",
       "3  www.cookbooks.com/Recipe-Details.aspx?id=420402  Gathered   \n",
       "4  www.cookbooks.com/Recipe-Details.aspx?id=364136  Gathered   \n",
       "\n",
       "                                                                                                           NER  \\\n",
       "0                                 [\"frozen corn\", \"cream cheese\", \"butter\", \"garlic powder\", \"salt\", \"pepper\"]   \n",
       "1                           [\"broccoli\", \"bacon\", \"green onions\", \"raisins\", \"mayonnaise\", \"vinegar\", \"sugar\"]   \n",
       "2                                    [\"ground beef\", \"tomato juice\", \"oats\", \"egg\", \"onion\", \"pepper\", \"salt\"]   \n",
       "3  [\"long\", \"cooking oil\", \"tomato sauce\", \"water\", \"brown sugar\", \"mustard\", \"Worcestershire sauce\", \"onion\"]   \n",
       "4       [\"flour\", \"baking powder\", \"salt\", \"butter\", \"sugar\", \"egg yolks\", \"vanilla\", \"multi-colored candies\"]   \n",
       "\n",
       "   serving_size  \\\n",
       "0             6   \n",
       "1             6   \n",
       "2             8   \n",
       "3             8   \n",
       "4            24   \n",
       "\n",
       "                                                                                      NER_list  \n",
       "0                             [frozen corn, cream cheese, butter, garlic powder, salt, pepper]  \n",
       "1                         [broccoli, bacon, green onions, raisins, mayonnaise, vinegar, sugar]  \n",
       "2                                  [ground beef, tomato juice, oats, egg, onion, pepper, salt]  \n",
       "3  [long, cooking oil, tomato sauce, water, brown sugar, mustard, Worcestershire sauce, onion]  \n",
       "4       [flour, baking powder, salt, butter, sugar, egg yolks, vanilla, multi-colored candies]  "
      ]
     },
     "execution_count": 91,
     "metadata": {},
     "output_type": "execute_result"
    }
   ],
   "source": [
    "recipe_df_filtered.head()"
   ]
  },
  {
   "cell_type": "markdown",
   "id": "7066d344-2be8-4b4c-a321-0ecef53c0e70",
   "metadata": {},
   "source": [
    "Now I am going to extract the unique ingredients from the `NER_list` column."
   ]
  },
  {
   "cell_type": "code",
   "execution_count": 93,
   "id": "ec876f3a-89b8-4390-a871-149a911af9f0",
   "metadata": {},
   "outputs": [
    {
     "name": "stdout",
     "output_type": "stream",
     "text": [
      "28027\n"
     ]
    }
   ],
   "source": [
    "all_ingredients = [ingredient for sublist in recipe_df_filtered['NER_list'] for ingredient in sublist]\n",
    "unique_ingredients = list(set(all_ingredients))\n",
    "size_unique_ingredients = len(unique_ingredients)\n",
    "print(size_unique_ingredients)\n",
    "#print('Unique Ingredients:', unique_ingredients) # Leaving as a note here in case I wanted to print the entire list of unique ingredients."
   ]
  },
  {
   "cell_type": "markdown",
   "id": "dea806fe-c1fa-489f-ab4f-975245518941",
   "metadata": {},
   "source": [
    "From the list of unique ingredients above, we can see there's 28,027 unique ingredients. However, it is important to note that this way of listing unique ingredients may lead to a higher count of unique words as it is counting different forms of the same words individually due to case variations, punctuation, typos or other forms of the same word."
   ]
  },
  {
   "cell_type": "markdown",
   "id": "7c60114b-2ba3-4e2a-ba3a-6466027f9092",
   "metadata": {},
   "source": [
    "As part of the preprocessing I am going to calculate an `ingredient_counter` to understand the distribution in amount of ingredients across the recipes in this dataset and explore some relationships later on."
   ]
  },
  {
   "cell_type": "code",
   "execution_count": 96,
   "id": "654688e3-8c6d-4c38-99ee-9ada2e59be59",
   "metadata": {},
   "outputs": [],
   "source": [
    "ingredient_counter = []\n",
    "\n",
    "for i, row in recipe_df_filtered.iterrows():\n",
    "    ner_list = row['NER_list']\n",
    "    ingredient_counter.append(len(ner_list))"
   ]
  },
  {
   "cell_type": "code",
   "execution_count": 97,
   "id": "0d1439ee-3c8e-41b5-934f-ce2ead7d786c",
   "metadata": {},
   "outputs": [
    {
     "data": {
      "text/html": [
       "<div>\n",
       "<style scoped>\n",
       "    .dataframe tbody tr th:only-of-type {\n",
       "        vertical-align: middle;\n",
       "    }\n",
       "\n",
       "    .dataframe tbody tr th {\n",
       "        vertical-align: top;\n",
       "    }\n",
       "\n",
       "    .dataframe thead th {\n",
       "        text-align: right;\n",
       "    }\n",
       "</style>\n",
       "<table border=\"1\" class=\"dataframe\">\n",
       "  <thead>\n",
       "    <tr style=\"text-align: right;\">\n",
       "      <th></th>\n",
       "      <th>title</th>\n",
       "      <th>ingredients</th>\n",
       "      <th>directions</th>\n",
       "      <th>link</th>\n",
       "      <th>source</th>\n",
       "      <th>NER</th>\n",
       "      <th>serving_size</th>\n",
       "      <th>NER_list</th>\n",
       "      <th>ingredient_counter</th>\n",
       "    </tr>\n",
       "  </thead>\n",
       "  <tbody>\n",
       "    <tr>\n",
       "      <th>0</th>\n",
       "      <td>Creamy Corn</td>\n",
       "      <td>[\"2 (16 oz.) pkg. frozen corn\", \"1 (8 oz.) pkg. cream cheese, cubed\", \"1/3 c. butter, cubed\", \"1/2 tsp. garlic powder\", \"1/2 tsp. salt\", \"1/4 tsp. pepper\"]</td>\n",
       "      <td>[\"In a slow cooker, combine all ingredients. Cover and cook on low for 4 hours or until heated through and cheese is melted. Stir well before serving. Yields 6 servings.\"]</td>\n",
       "      <td>www.cookbooks.com/Recipe-Details.aspx?id=10570</td>\n",
       "      <td>Gathered</td>\n",
       "      <td>[\"frozen corn\", \"cream cheese\", \"butter\", \"garlic powder\", \"salt\", \"pepper\"]</td>\n",
       "      <td>6</td>\n",
       "      <td>[frozen corn, cream cheese, butter, garlic powder, salt, pepper]</td>\n",
       "      <td>6</td>\n",
       "    </tr>\n",
       "    <tr>\n",
       "      <th>1</th>\n",
       "      <td>Broccoli Salad</td>\n",
       "      <td>[\"1 large head broccoli (about 1 1/2 lb.)\", \"10 slices bacon, cooked and crumbled\", \"5 green onions, sliced or 1/4 c. chopped red onion\", \"1/2 c. raisins\", \"1 c. mayonnaise\", \"2 Tbsp. vinegar\", \"1/4 c. sugar\"]</td>\n",
       "      <td>[\"Trim off large leaves of broccoli and remove the tough ends of lower stalks. Wash the broccoli thoroughly. Cut the florets and stems into bite-size pieces. Place in a large bowl. Add bacon, onions and raisins. Combine remaining ingredients, stirring well. Add dressing to broccoli mixture and toss gently. Cover and refrigerate 2 to 3 hours. Makes about 6 servings.\"]</td>\n",
       "      <td>www.cookbooks.com/Recipe-Details.aspx?id=50992</td>\n",
       "      <td>Gathered</td>\n",
       "      <td>[\"broccoli\", \"bacon\", \"green onions\", \"raisins\", \"mayonnaise\", \"vinegar\", \"sugar\"]</td>\n",
       "      <td>6</td>\n",
       "      <td>[broccoli, bacon, green onions, raisins, mayonnaise, vinegar, sugar]</td>\n",
       "      <td>7</td>\n",
       "    </tr>\n",
       "    <tr>\n",
       "      <th>2</th>\n",
       "      <td>Prize-Winning Meat Loaf</td>\n",
       "      <td>[\"1 1/2 lb. ground beef\", \"1 c. tomato juice\", \"3/4 c. oats (uncooked)\", \"1 egg, beaten\", \"1/4 c. chopped onion\", \"1/4 tsp. pepper\", \"1 1/2 tsp. salt\"]</td>\n",
       "      <td>[\"Mix well.\", \"Press firmly into an 8 1/2 x 4 1/2 x 2 1/2-inch loaf pan.\", \"Bake in preheated moderate oven.\", \"Bake at 350\\u00b0 for 1 hour.\", \"Let stand 5 minutes before slicing.\", \"Makes 8 servings.\"]</td>\n",
       "      <td>www.cookbooks.com/Recipe-Details.aspx?id=923674</td>\n",
       "      <td>Gathered</td>\n",
       "      <td>[\"ground beef\", \"tomato juice\", \"oats\", \"egg\", \"onion\", \"pepper\", \"salt\"]</td>\n",
       "      <td>8</td>\n",
       "      <td>[ground beef, tomato juice, oats, egg, onion, pepper, salt]</td>\n",
       "      <td>7</td>\n",
       "    </tr>\n",
       "    <tr>\n",
       "      <th>3</th>\n",
       "      <td>Corral Barbecued Beef Steak Strips</td>\n",
       "      <td>[\"2 lb. round steak 1/2 to 3/4-inch thick, sliced in strips 1/8-inch thick (or thinner) and 3 1/2 to 4-inches long (easily sliced if partially frozen)\", \"2 Tbsp. cooking oil\", \"1 can (15 oz.) tomato sauce\", \"1/3 c. water\", \"2 Tbsp. brown sugar\", \"1 Tbsp. prepared mustard\", \"1 tbsp. Worcestershire sauce\", \"1 medium sized onion, thinly sliced\"]</td>\n",
       "      <td>[\"Brown strips in cooking oil.\", \"Pour off drippings.\", \"Combine tomato sauce, water, brown sugar, mustard and Worcestershire sauce.\", \"Add sauce and onion to meat slices.\", \"Cover and cook slowly, stirring occasionally 30 minutes or until meat is tender. Serve over rice or buttered noodles.\", \"Yields 6 to 8 servings.\"]</td>\n",
       "      <td>www.cookbooks.com/Recipe-Details.aspx?id=420402</td>\n",
       "      <td>Gathered</td>\n",
       "      <td>[\"long\", \"cooking oil\", \"tomato sauce\", \"water\", \"brown sugar\", \"mustard\", \"Worcestershire sauce\", \"onion\"]</td>\n",
       "      <td>8</td>\n",
       "      <td>[long, cooking oil, tomato sauce, water, brown sugar, mustard, Worcestershire sauce, onion]</td>\n",
       "      <td>8</td>\n",
       "    </tr>\n",
       "    <tr>\n",
       "      <th>4</th>\n",
       "      <td>Mexican Cookie Rings</td>\n",
       "      <td>[\"1 1/2 c. sifted flour\", \"1/2 tsp. baking powder\", \"1/2 tsp. salt\", \"1/2 c. butter\", \"2/3 c. sugar\", \"3 egg yolks\", \"1 tsp. vanilla\", \"multi-colored candies\"]</td>\n",
       "      <td>[\"Sift flour, baking powder and salt together.\", \"Cream together butter and sugar.\", \"Add egg yolks and vanilla.\", \"Beat until light and fluffy.\", \"Mix in sifted dry ingredients.\", \"Shape into 1-inch balls.\", \"Push wooden spoon handle through center (twist).\", \"Shape into rings.\", \"Dip each cookie into candies.\", \"Place on lightly greased baking sheets.\", \"Bake in 375\\u00b0 oven for 10 to 12 minutes or until golden brown.\", \"Cool on racks.\", \"Serves 2 dozen.\"]</td>\n",
       "      <td>www.cookbooks.com/Recipe-Details.aspx?id=364136</td>\n",
       "      <td>Gathered</td>\n",
       "      <td>[\"flour\", \"baking powder\", \"salt\", \"butter\", \"sugar\", \"egg yolks\", \"vanilla\", \"multi-colored candies\"]</td>\n",
       "      <td>24</td>\n",
       "      <td>[flour, baking powder, salt, butter, sugar, egg yolks, vanilla, multi-colored candies]</td>\n",
       "      <td>8</td>\n",
       "    </tr>\n",
       "  </tbody>\n",
       "</table>\n",
       "</div>"
      ],
      "text/plain": [
       "                                title  \\\n",
       "0                         Creamy Corn   \n",
       "1                      Broccoli Salad   \n",
       "2             Prize-Winning Meat Loaf   \n",
       "3  Corral Barbecued Beef Steak Strips   \n",
       "4                Mexican Cookie Rings   \n",
       "\n",
       "                                                                                                                                                                                                                                                                                                                                                ingredients  \\\n",
       "0                                                                                                                                                                                               [\"2 (16 oz.) pkg. frozen corn\", \"1 (8 oz.) pkg. cream cheese, cubed\", \"1/3 c. butter, cubed\", \"1/2 tsp. garlic powder\", \"1/2 tsp. salt\", \"1/4 tsp. pepper\"]   \n",
       "1                                                                                                                                         [\"1 large head broccoli (about 1 1/2 lb.)\", \"10 slices bacon, cooked and crumbled\", \"5 green onions, sliced or 1/4 c. chopped red onion\", \"1/2 c. raisins\", \"1 c. mayonnaise\", \"2 Tbsp. vinegar\", \"1/4 c. sugar\"]   \n",
       "2                                                                                                                                                                                                   [\"1 1/2 lb. ground beef\", \"1 c. tomato juice\", \"3/4 c. oats (uncooked)\", \"1 egg, beaten\", \"1/4 c. chopped onion\", \"1/4 tsp. pepper\", \"1 1/2 tsp. salt\"]   \n",
       "3  [\"2 lb. round steak 1/2 to 3/4-inch thick, sliced in strips 1/8-inch thick (or thinner) and 3 1/2 to 4-inches long (easily sliced if partially frozen)\", \"2 Tbsp. cooking oil\", \"1 can (15 oz.) tomato sauce\", \"1/3 c. water\", \"2 Tbsp. brown sugar\", \"1 Tbsp. prepared mustard\", \"1 tbsp. Worcestershire sauce\", \"1 medium sized onion, thinly sliced\"]   \n",
       "4                                                                                                                                                                                           [\"1 1/2 c. sifted flour\", \"1/2 tsp. baking powder\", \"1/2 tsp. salt\", \"1/2 c. butter\", \"2/3 c. sugar\", \"3 egg yolks\", \"1 tsp. vanilla\", \"multi-colored candies\"]   \n",
       "\n",
       "                                                                                                                                                                                                                                                                                                                                                                                                                                                                         directions  \\\n",
       "0                                                                                                                                                                                                                                                                                                       [\"In a slow cooker, combine all ingredients. Cover and cook on low for 4 hours or until heated through and cheese is melted. Stir well before serving. Yields 6 servings.\"]   \n",
       "1                                                                                                 [\"Trim off large leaves of broccoli and remove the tough ends of lower stalks. Wash the broccoli thoroughly. Cut the florets and stems into bite-size pieces. Place in a large bowl. Add bacon, onions and raisins. Combine remaining ingredients, stirring well. Add dressing to broccoli mixture and toss gently. Cover and refrigerate 2 to 3 hours. Makes about 6 servings.\"]   \n",
       "2                                                                                                                                                                                                                                                                       [\"Mix well.\", \"Press firmly into an 8 1/2 x 4 1/2 x 2 1/2-inch loaf pan.\", \"Bake in preheated moderate oven.\", \"Bake at 350\\u00b0 for 1 hour.\", \"Let stand 5 minutes before slicing.\", \"Makes 8 servings.\"]   \n",
       "3                                                                                                                                                 [\"Brown strips in cooking oil.\", \"Pour off drippings.\", \"Combine tomato sauce, water, brown sugar, mustard and Worcestershire sauce.\", \"Add sauce and onion to meat slices.\", \"Cover and cook slowly, stirring occasionally 30 minutes or until meat is tender. Serve over rice or buttered noodles.\", \"Yields 6 to 8 servings.\"]   \n",
       "4  [\"Sift flour, baking powder and salt together.\", \"Cream together butter and sugar.\", \"Add egg yolks and vanilla.\", \"Beat until light and fluffy.\", \"Mix in sifted dry ingredients.\", \"Shape into 1-inch balls.\", \"Push wooden spoon handle through center (twist).\", \"Shape into rings.\", \"Dip each cookie into candies.\", \"Place on lightly greased baking sheets.\", \"Bake in 375\\u00b0 oven for 10 to 12 minutes or until golden brown.\", \"Cool on racks.\", \"Serves 2 dozen.\"]   \n",
       "\n",
       "                                              link    source  \\\n",
       "0   www.cookbooks.com/Recipe-Details.aspx?id=10570  Gathered   \n",
       "1   www.cookbooks.com/Recipe-Details.aspx?id=50992  Gathered   \n",
       "2  www.cookbooks.com/Recipe-Details.aspx?id=923674  Gathered   \n",
       "3  www.cookbooks.com/Recipe-Details.aspx?id=420402  Gathered   \n",
       "4  www.cookbooks.com/Recipe-Details.aspx?id=364136  Gathered   \n",
       "\n",
       "                                                                                                           NER  \\\n",
       "0                                 [\"frozen corn\", \"cream cheese\", \"butter\", \"garlic powder\", \"salt\", \"pepper\"]   \n",
       "1                           [\"broccoli\", \"bacon\", \"green onions\", \"raisins\", \"mayonnaise\", \"vinegar\", \"sugar\"]   \n",
       "2                                    [\"ground beef\", \"tomato juice\", \"oats\", \"egg\", \"onion\", \"pepper\", \"salt\"]   \n",
       "3  [\"long\", \"cooking oil\", \"tomato sauce\", \"water\", \"brown sugar\", \"mustard\", \"Worcestershire sauce\", \"onion\"]   \n",
       "4       [\"flour\", \"baking powder\", \"salt\", \"butter\", \"sugar\", \"egg yolks\", \"vanilla\", \"multi-colored candies\"]   \n",
       "\n",
       "   serving_size  \\\n",
       "0             6   \n",
       "1             6   \n",
       "2             8   \n",
       "3             8   \n",
       "4            24   \n",
       "\n",
       "                                                                                      NER_list  \\\n",
       "0                             [frozen corn, cream cheese, butter, garlic powder, salt, pepper]   \n",
       "1                         [broccoli, bacon, green onions, raisins, mayonnaise, vinegar, sugar]   \n",
       "2                                  [ground beef, tomato juice, oats, egg, onion, pepper, salt]   \n",
       "3  [long, cooking oil, tomato sauce, water, brown sugar, mustard, Worcestershire sauce, onion]   \n",
       "4       [flour, baking powder, salt, butter, sugar, egg yolks, vanilla, multi-colored candies]   \n",
       "\n",
       "   ingredient_counter  \n",
       "0                   6  \n",
       "1                   7  \n",
       "2                   7  \n",
       "3                   8  \n",
       "4                   8  "
      ]
     },
     "execution_count": 97,
     "metadata": {},
     "output_type": "execute_result"
    }
   ],
   "source": [
    "recipe_df_filtered['ingredient_counter'] = ingredient_counter\n",
    "recipe_df_filtered.head()"
   ]
  },
  {
   "cell_type": "markdown",
   "id": "1c13551f-2465-4eb1-857b-ff948c6e37c2",
   "metadata": {},
   "source": [
    "Now we can see that the `ingredient_counter` column has been added into our dataframe!"
   ]
  },
  {
   "cell_type": "markdown",
   "id": "dad5d7fb-6f9e-4427-8fa1-fe85d40a9609",
   "metadata": {},
   "source": [
    "#### 4.1.4 Meal Types <a name=\"mealtypes\"></a>"
   ]
  },
  {
   "cell_type": "markdown",
   "id": "ffa624a9-3c7e-42e4-9901-b124637ded92",
   "metadata": {},
   "source": [
    "In this case I am going to label the meal types by breakfast, lunch, dinner, salad, dessert and drinks, so that users can have the ability to specify the type of meal they would like to prepare based on the ingredients they have on hand. This adds an additional layer of refinement so that users can get options that are more tailored to their preferences and needs."
   ]
  },
  {
   "cell_type": "markdown",
   "id": "898db29f-7eb6-405b-b111-9eb38e4043fb",
   "metadata": {},
   "source": [
    "##### 4.1.4.1 First Round of Recipe Labelling <a name=\"firstlabel\"></a>"
   ]
  },
  {
   "cell_type": "code",
   "execution_count": 102,
   "id": "f4b18fcf-26a2-494c-9a5f-1c189c93b5b4",
   "metadata": {},
   "outputs": [],
   "source": [
    "# Create a new column called 'Meal Type' to label recipes"
   ]
  },
  {
   "cell_type": "code",
   "execution_count": 103,
   "id": "57724fd5-6d04-4ce9-b8e7-6143ab454a7a",
   "metadata": {},
   "outputs": [],
   "source": [
    "recipe_df_filtered['NER_list'] = recipe_df_filtered['NER_list'].astype(str)"
   ]
  },
  {
   "cell_type": "code",
   "execution_count": 104,
   "id": "7743d811-384a-4dbc-8200-b33aa9040660",
   "metadata": {},
   "outputs": [],
   "source": [
    "recipe_df_filtered['Meal_Type'] = None"
   ]
  },
  {
   "cell_type": "code",
   "execution_count": 105,
   "id": "ed3cee3e-b412-474c-94ce-9f60b8ec22db",
   "metadata": {},
   "outputs": [],
   "source": [
    "# Check-in on results from initial round of recipe labelling"
   ]
  },
  {
   "cell_type": "code",
   "execution_count": 106,
   "id": "f87c34a7-77f0-48a1-9fb4-33ede095093a",
   "metadata": {},
   "outputs": [
    {
     "data": {
      "text/plain": [
       "Series([], Name: count, dtype: int64)"
      ]
     },
     "execution_count": 106,
     "metadata": {},
     "output_type": "execute_result"
    }
   ],
   "source": [
    "recipe_df_filtered['Meal_Type'].value_counts()"
   ]
  },
  {
   "cell_type": "markdown",
   "id": "cc63301d-a44b-4d26-ba75-a7956e274a9b",
   "metadata": {
    "jp-MarkdownHeadingCollapsed": true
   },
   "source": [
    "###### Breakfast Recipes"
   ]
  },
  {
   "cell_type": "markdown",
   "id": "b0af111d-9d07-4975-9bb0-0bd02a657213",
   "metadata": {},
   "source": [
    "**Filters on `Title`**"
   ]
  },
  {
   "cell_type": "code",
   "execution_count": 109,
   "id": "f36931f4-acbc-494c-8266-0d044194cc89",
   "metadata": {
    "scrolled": true
   },
   "outputs": [
    {
     "name": "stderr",
     "output_type": "stream",
     "text": [
      "C:\\Users\\cryst\\AppData\\Local\\Temp\\ipykernel_62288\\2572881089.py:47: UserWarning: This pattern is interpreted as a regular expression, and has match groups. To actually get the groups, use str.extract.\n",
      "  recipe_df_filtered['title'].str.contains(pattern, case=False, na=False, regex=True) &\n",
      "C:\\Users\\cryst\\AppData\\Local\\Temp\\ipykernel_62288\\2572881089.py:47: UserWarning: This pattern is interpreted as a regular expression, and has match groups. To actually get the groups, use str.extract.\n",
      "  recipe_df_filtered['title'].str.contains(pattern, case=False, na=False, regex=True) &\n",
      "C:\\Users\\cryst\\AppData\\Local\\Temp\\ipykernel_62288\\2572881089.py:47: UserWarning: This pattern is interpreted as a regular expression, and has match groups. To actually get the groups, use str.extract.\n",
      "  recipe_df_filtered['title'].str.contains(pattern, case=False, na=False, regex=True) &\n",
      "C:\\Users\\cryst\\AppData\\Local\\Temp\\ipykernel_62288\\2572881089.py:47: UserWarning: This pattern is interpreted as a regular expression, and has match groups. To actually get the groups, use str.extract.\n",
      "  recipe_df_filtered['title'].str.contains(pattern, case=False, na=False, regex=True) &\n",
      "C:\\Users\\cryst\\AppData\\Local\\Temp\\ipykernel_62288\\2572881089.py:47: UserWarning: This pattern is interpreted as a regular expression, and has match groups. To actually get the groups, use str.extract.\n",
      "  recipe_df_filtered['title'].str.contains(pattern, case=False, na=False, regex=True) &\n",
      "C:\\Users\\cryst\\AppData\\Local\\Temp\\ipykernel_62288\\2572881089.py:47: UserWarning: This pattern is interpreted as a regular expression, and has match groups. To actually get the groups, use str.extract.\n",
      "  recipe_df_filtered['title'].str.contains(pattern, case=False, na=False, regex=True) &\n",
      "C:\\Users\\cryst\\AppData\\Local\\Temp\\ipykernel_62288\\2572881089.py:47: UserWarning: This pattern is interpreted as a regular expression, and has match groups. To actually get the groups, use str.extract.\n",
      "  recipe_df_filtered['title'].str.contains(pattern, case=False, na=False, regex=True) &\n",
      "C:\\Users\\cryst\\AppData\\Local\\Temp\\ipykernel_62288\\2572881089.py:47: UserWarning: This pattern is interpreted as a regular expression, and has match groups. To actually get the groups, use str.extract.\n",
      "  recipe_df_filtered['title'].str.contains(pattern, case=False, na=False, regex=True) &\n",
      "C:\\Users\\cryst\\AppData\\Local\\Temp\\ipykernel_62288\\2572881089.py:47: UserWarning: This pattern is interpreted as a regular expression, and has match groups. To actually get the groups, use str.extract.\n",
      "  recipe_df_filtered['title'].str.contains(pattern, case=False, na=False, regex=True) &\n",
      "C:\\Users\\cryst\\AppData\\Local\\Temp\\ipykernel_62288\\2572881089.py:47: UserWarning: This pattern is interpreted as a regular expression, and has match groups. To actually get the groups, use str.extract.\n",
      "  recipe_df_filtered['title'].str.contains(pattern, case=False, na=False, regex=True) &\n",
      "C:\\Users\\cryst\\AppData\\Local\\Temp\\ipykernel_62288\\2572881089.py:47: UserWarning: This pattern is interpreted as a regular expression, and has match groups. To actually get the groups, use str.extract.\n",
      "  recipe_df_filtered['title'].str.contains(pattern, case=False, na=False, regex=True) &\n",
      "C:\\Users\\cryst\\AppData\\Local\\Temp\\ipykernel_62288\\2572881089.py:47: UserWarning: This pattern is interpreted as a regular expression, and has match groups. To actually get the groups, use str.extract.\n",
      "  recipe_df_filtered['title'].str.contains(pattern, case=False, na=False, regex=True) &\n",
      "C:\\Users\\cryst\\AppData\\Local\\Temp\\ipykernel_62288\\2572881089.py:47: UserWarning: This pattern is interpreted as a regular expression, and has match groups. To actually get the groups, use str.extract.\n",
      "  recipe_df_filtered['title'].str.contains(pattern, case=False, na=False, regex=True) &\n",
      "C:\\Users\\cryst\\AppData\\Local\\Temp\\ipykernel_62288\\2572881089.py:47: UserWarning: This pattern is interpreted as a regular expression, and has match groups. To actually get the groups, use str.extract.\n",
      "  recipe_df_filtered['title'].str.contains(pattern, case=False, na=False, regex=True) &\n",
      "C:\\Users\\cryst\\AppData\\Local\\Temp\\ipykernel_62288\\2572881089.py:47: UserWarning: This pattern is interpreted as a regular expression, and has match groups. To actually get the groups, use str.extract.\n",
      "  recipe_df_filtered['title'].str.contains(pattern, case=False, na=False, regex=True) &\n",
      "C:\\Users\\cryst\\AppData\\Local\\Temp\\ipykernel_62288\\2572881089.py:47: UserWarning: This pattern is interpreted as a regular expression, and has match groups. To actually get the groups, use str.extract.\n",
      "  recipe_df_filtered['title'].str.contains(pattern, case=False, na=False, regex=True) &\n",
      "C:\\Users\\cryst\\AppData\\Local\\Temp\\ipykernel_62288\\2572881089.py:47: UserWarning: This pattern is interpreted as a regular expression, and has match groups. To actually get the groups, use str.extract.\n",
      "  recipe_df_filtered['title'].str.contains(pattern, case=False, na=False, regex=True) &\n",
      "C:\\Users\\cryst\\AppData\\Local\\Temp\\ipykernel_62288\\2572881089.py:47: UserWarning: This pattern is interpreted as a regular expression, and has match groups. To actually get the groups, use str.extract.\n",
      "  recipe_df_filtered['title'].str.contains(pattern, case=False, na=False, regex=True) &\n",
      "C:\\Users\\cryst\\AppData\\Local\\Temp\\ipykernel_62288\\2572881089.py:47: UserWarning: This pattern is interpreted as a regular expression, and has match groups. To actually get the groups, use str.extract.\n",
      "  recipe_df_filtered['title'].str.contains(pattern, case=False, na=False, regex=True) &\n",
      "C:\\Users\\cryst\\AppData\\Local\\Temp\\ipykernel_62288\\2572881089.py:47: UserWarning: This pattern is interpreted as a regular expression, and has match groups. To actually get the groups, use str.extract.\n",
      "  recipe_df_filtered['title'].str.contains(pattern, case=False, na=False, regex=True) &\n",
      "C:\\Users\\cryst\\AppData\\Local\\Temp\\ipykernel_62288\\2572881089.py:47: UserWarning: This pattern is interpreted as a regular expression, and has match groups. To actually get the groups, use str.extract.\n",
      "  recipe_df_filtered['title'].str.contains(pattern, case=False, na=False, regex=True) &\n",
      "C:\\Users\\cryst\\AppData\\Local\\Temp\\ipykernel_62288\\2572881089.py:47: UserWarning: This pattern is interpreted as a regular expression, and has match groups. To actually get the groups, use str.extract.\n",
      "  recipe_df_filtered['title'].str.contains(pattern, case=False, na=False, regex=True) &\n",
      "C:\\Users\\cryst\\AppData\\Local\\Temp\\ipykernel_62288\\2572881089.py:47: UserWarning: This pattern is interpreted as a regular expression, and has match groups. To actually get the groups, use str.extract.\n",
      "  recipe_df_filtered['title'].str.contains(pattern, case=False, na=False, regex=True) &\n",
      "C:\\Users\\cryst\\AppData\\Local\\Temp\\ipykernel_62288\\2572881089.py:47: UserWarning: This pattern is interpreted as a regular expression, and has match groups. To actually get the groups, use str.extract.\n",
      "  recipe_df_filtered['title'].str.contains(pattern, case=False, na=False, regex=True) &\n",
      "C:\\Users\\cryst\\AppData\\Local\\Temp\\ipykernel_62288\\2572881089.py:47: UserWarning: This pattern is interpreted as a regular expression, and has match groups. To actually get the groups, use str.extract.\n",
      "  recipe_df_filtered['title'].str.contains(pattern, case=False, na=False, regex=True) &\n",
      "C:\\Users\\cryst\\AppData\\Local\\Temp\\ipykernel_62288\\2572881089.py:47: UserWarning: This pattern is interpreted as a regular expression, and has match groups. To actually get the groups, use str.extract.\n",
      "  recipe_df_filtered['title'].str.contains(pattern, case=False, na=False, regex=True) &\n",
      "C:\\Users\\cryst\\AppData\\Local\\Temp\\ipykernel_62288\\2572881089.py:47: UserWarning: This pattern is interpreted as a regular expression, and has match groups. To actually get the groups, use str.extract.\n",
      "  recipe_df_filtered['title'].str.contains(pattern, case=False, na=False, regex=True) &\n",
      "C:\\Users\\cryst\\AppData\\Local\\Temp\\ipykernel_62288\\2572881089.py:47: UserWarning: This pattern is interpreted as a regular expression, and has match groups. To actually get the groups, use str.extract.\n",
      "  recipe_df_filtered['title'].str.contains(pattern, case=False, na=False, regex=True) &\n",
      "C:\\Users\\cryst\\AppData\\Local\\Temp\\ipykernel_62288\\2572881089.py:47: UserWarning: This pattern is interpreted as a regular expression, and has match groups. To actually get the groups, use str.extract.\n",
      "  recipe_df_filtered['title'].str.contains(pattern, case=False, na=False, regex=True) &\n",
      "C:\\Users\\cryst\\AppData\\Local\\Temp\\ipykernel_62288\\2572881089.py:47: UserWarning: This pattern is interpreted as a regular expression, and has match groups. To actually get the groups, use str.extract.\n",
      "  recipe_df_filtered['title'].str.contains(pattern, case=False, na=False, regex=True) &\n",
      "C:\\Users\\cryst\\AppData\\Local\\Temp\\ipykernel_62288\\2572881089.py:47: UserWarning: This pattern is interpreted as a regular expression, and has match groups. To actually get the groups, use str.extract.\n",
      "  recipe_df_filtered['title'].str.contains(pattern, case=False, na=False, regex=True) &\n",
      "C:\\Users\\cryst\\AppData\\Local\\Temp\\ipykernel_62288\\2572881089.py:47: UserWarning: This pattern is interpreted as a regular expression, and has match groups. To actually get the groups, use str.extract.\n",
      "  recipe_df_filtered['title'].str.contains(pattern, case=False, na=False, regex=True) &\n",
      "C:\\Users\\cryst\\AppData\\Local\\Temp\\ipykernel_62288\\2572881089.py:47: UserWarning: This pattern is interpreted as a regular expression, and has match groups. To actually get the groups, use str.extract.\n",
      "  recipe_df_filtered['title'].str.contains(pattern, case=False, na=False, regex=True) &\n",
      "C:\\Users\\cryst\\AppData\\Local\\Temp\\ipykernel_62288\\2572881089.py:47: UserWarning: This pattern is interpreted as a regular expression, and has match groups. To actually get the groups, use str.extract.\n",
      "  recipe_df_filtered['title'].str.contains(pattern, case=False, na=False, regex=True) &\n",
      "C:\\Users\\cryst\\AppData\\Local\\Temp\\ipykernel_62288\\2572881089.py:47: UserWarning: This pattern is interpreted as a regular expression, and has match groups. To actually get the groups, use str.extract.\n",
      "  recipe_df_filtered['title'].str.contains(pattern, case=False, na=False, regex=True) &\n",
      "C:\\Users\\cryst\\AppData\\Local\\Temp\\ipykernel_62288\\2572881089.py:47: UserWarning: This pattern is interpreted as a regular expression, and has match groups. To actually get the groups, use str.extract.\n",
      "  recipe_df_filtered['title'].str.contains(pattern, case=False, na=False, regex=True) &\n",
      "C:\\Users\\cryst\\AppData\\Local\\Temp\\ipykernel_62288\\2572881089.py:47: UserWarning: This pattern is interpreted as a regular expression, and has match groups. To actually get the groups, use str.extract.\n",
      "  recipe_df_filtered['title'].str.contains(pattern, case=False, na=False, regex=True) &\n",
      "C:\\Users\\cryst\\AppData\\Local\\Temp\\ipykernel_62288\\2572881089.py:47: UserWarning: This pattern is interpreted as a regular expression, and has match groups. To actually get the groups, use str.extract.\n",
      "  recipe_df_filtered['title'].str.contains(pattern, case=False, na=False, regex=True) &\n",
      "C:\\Users\\cryst\\AppData\\Local\\Temp\\ipykernel_62288\\2572881089.py:47: UserWarning: This pattern is interpreted as a regular expression, and has match groups. To actually get the groups, use str.extract.\n",
      "  recipe_df_filtered['title'].str.contains(pattern, case=False, na=False, regex=True) &\n",
      "C:\\Users\\cryst\\AppData\\Local\\Temp\\ipykernel_62288\\2572881089.py:47: UserWarning: This pattern is interpreted as a regular expression, and has match groups. To actually get the groups, use str.extract.\n",
      "  recipe_df_filtered['title'].str.contains(pattern, case=False, na=False, regex=True) &\n",
      "C:\\Users\\cryst\\AppData\\Local\\Temp\\ipykernel_62288\\2572881089.py:47: UserWarning: This pattern is interpreted as a regular expression, and has match groups. To actually get the groups, use str.extract.\n",
      "  recipe_df_filtered['title'].str.contains(pattern, case=False, na=False, regex=True) &\n"
     ]
    }
   ],
   "source": [
    "patterns = [\n",
    "    r'\\b(breakfast)\\b',\n",
    "    r'\\b(scrambled)\\b',\n",
    "    r'\\b(egg|eggs)\\b',\n",
    "    r'\\b(oats)\\b',\n",
    "    r'\\b(hash brown|hash browns|hashbrown|hashbrowns)\\b',\n",
    "    r'\\b(omelet|omelets|omelette|omelettes)\\b',\n",
    "    r'\\b(toast|toasts)\\b',\n",
    "    r'\\b(waffle|waffles)\\b',\n",
    "    r'\\b(pancake|pancakes|hotcake|hotcakes)\\b',\n",
    "    r'\\b(huevo|huevos|hueros|huero|huervo|huervos)\\b',\n",
    "    r'\\b(parfait|parfaits)\\b',\n",
    "    r'\\b(smoothie|smoothies|smoothy)\\b',\n",
    "    r'\\b(bagel|bagels)\\b',\n",
    "    r'\\b(quiche|quiches)\\b',\n",
    "    r'\\b(frittata|fritata|frittatas|fritatas)\\b',\n",
    "    r'\\b(muffin|muffins|mcmuffin)\\b',\n",
    "    r'\\b(tostada|tostadas)\\b',\n",
    "    r'\\b(quesadilla|quesadillas)\\b',\n",
    "    r'\\b(morning)\\b',\n",
    "    r'\\b(ham)\\s*(and)\\s*(cheese)\\b',\n",
    "    r'\\b(raisin|raisins)\\s*(bread|breads)\\b',\n",
    "    r'\\b(peanut)\\s*(butter)\\s*(sandwich|sandwiches)\\b',\n",
    "    r'\\b(croissant|croissants)\\b',\n",
    "    r'\\b(club|clubhouse)\\s*(sandwich|sandwiches)\\b',\n",
    "    r'\\b(fruit|fruits)\\s*(cup|cups|bowl|bowls|medley|medleys)\\b',\n",
    "    r'\\b(bacon|bacons|sausage|sausages)\\s*(tortilla|tortillas|sandwich|sandwiches)\\b',\n",
    "    r'\\b(bacon|bacons|sausage|sausages)\\s*(cheese|cheeses)\\b',\n",
    "    r'\\b(strata)\\b',\n",
    "    r'\\b(grit|grits)\\b',\n",
    "    r'\\b(banana|bananas)\\s*(bread|breads)\\b',\n",
    "    r'\\b(bacon|bacons)\\s*(and)\\s*(cheese|cheeses)\\b',\n",
    "    r'\\b(benedict|benedicts)\\b',\n",
    "    r'\\b(granola|granolas)\\b',\n",
    "    r'\\b(home)\\s*(fries)\\b',\n",
    "    r'\\b(hash)\\b',\n",
    "    r'\\b(yogurt|yogurts)\\b',\n",
    "    r'\\b(bread|breads)\\b',\n",
    "    r'\\b(sausage|sausages)\\s*(patties)\\b',\n",
    "    r'\\b(sausage|sausages)\\s*(link|links)\\b',\n",
    "    r'\\b(biscuit|biscuits)\\b',\n",
    "    r'\\b(brunch|brunches)\\b'\n",
    "]\n",
    "\n",
    "for pattern in patterns:\n",
    "    recipe_df_filtered.loc[\n",
    "        recipe_df_filtered['title'].str.contains(pattern, case=False, na=False, regex=True) &\n",
    "        recipe_df_filtered['Meal_Type'].isnull(),\n",
    "        'Meal_Type'\n",
    "    ] = 'breakfast'"
   ]
  },
  {
   "cell_type": "markdown",
   "id": "26ee8b04-4f61-4e59-913b-8addda4d5b6e",
   "metadata": {},
   "source": [
    "**Other filters on `directions` and `NER_list`**"
   ]
  },
  {
   "cell_type": "code",
   "execution_count": 111,
   "id": "6535c451-0443-4fd5-8c6a-e32232352e5a",
   "metadata": {
    "scrolled": true
   },
   "outputs": [
    {
     "name": "stderr",
     "output_type": "stream",
     "text": [
      "C:\\Users\\cryst\\AppData\\Local\\Temp\\ipykernel_62288\\364745080.py:2: UserWarning: This pattern is interpreted as a regular expression, and has match groups. To actually get the groups, use str.extract.\n",
      "  recipe_df_filtered['directions'].str.contains(pat = r'\\b(breakfast)\\b', case = False, na=False, regex= True) &\n"
     ]
    }
   ],
   "source": [
    "recipe_df_filtered.loc[\n",
    "    recipe_df_filtered['directions'].str.contains(pat = r'\\b(breakfast)\\b', case = False, na=False, regex= True) &\n",
    "    recipe_df_filtered['Meal_Type'].isnull(),\n",
    "    'Meal_Type'] = 'breakfast'"
   ]
  },
  {
   "cell_type": "code",
   "execution_count": 112,
   "id": "83ce9e06-6e0d-43cc-9a85-3db0107d2a10",
   "metadata": {
    "scrolled": true
   },
   "outputs": [
    {
     "name": "stderr",
     "output_type": "stream",
     "text": [
      "C:\\Users\\cryst\\AppData\\Local\\Temp\\ipykernel_62288\\129722184.py:2: UserWarning: This pattern is interpreted as a regular expression, and has match groups. To actually get the groups, use str.extract.\n",
      "  recipe_df_filtered['NER_list'].str.contains(r'\\b(potato|potatoes)\\b', case = False, na=False) &\n",
      "C:\\Users\\cryst\\AppData\\Local\\Temp\\ipykernel_62288\\129722184.py:3: UserWarning: This pattern is interpreted as a regular expression, and has match groups. To actually get the groups, use str.extract.\n",
      "  recipe_df_filtered['NER_list'].str.contains(r'\\b(egg|eggs)\\b', case = False, na=False) &\n",
      "C:\\Users\\cryst\\AppData\\Local\\Temp\\ipykernel_62288\\129722184.py:4: UserWarning: This pattern is interpreted as a regular expression, and has match groups. To actually get the groups, use str.extract.\n",
      "  recipe_df_filtered['NER_list'].str.contains(r'\\b(cheese)\\b', case = False, na=False) &\n",
      "C:\\Users\\cryst\\AppData\\Local\\Temp\\ipykernel_62288\\129722184.py:5: UserWarning: This pattern is interpreted as a regular expression, and has match groups. To actually get the groups, use str.extract.\n",
      "  ~recipe_df_filtered['NER_list'].str.contains(r'\\b(salmon|fish|beef|chicken|steak|pork|lamb)\\b', case = False, na=False) &\n",
      "C:\\Users\\cryst\\AppData\\Local\\Temp\\ipykernel_62288\\129722184.py:6: UserWarning: This pattern is interpreted as a regular expression, and has match groups. To actually get the groups, use str.extract.\n",
      "  ~recipe_df_filtered['title'].str.contains(r'\\b(meat loaf|meat loafs)\\b', case = False, na=False) &\n",
      "C:\\Users\\cryst\\AppData\\Local\\Temp\\ipykernel_62288\\129722184.py:7: UserWarning: This pattern is interpreted as a regular expression, and has match groups. To actually get the groups, use str.extract.\n",
      "  ~recipe_df_filtered['title'].str.contains(r'\\b(salad|salads)\\b', case = False, na=False) &\n",
      "C:\\Users\\cryst\\AppData\\Local\\Temp\\ipykernel_62288\\129722184.py:8: UserWarning: This pattern is interpreted as a regular expression, and has match groups. To actually get the groups, use str.extract.\n",
      "  ~recipe_df_filtered['title'].str.contains(r'\\b(lasagna|lasagnas)\\b', case = False, na=False) &\n"
     ]
    }
   ],
   "source": [
    "recipe_df_filtered.loc[\n",
    "            recipe_df_filtered['NER_list'].str.contains(r'\\b(potato|potatoes)\\b', case = False, na=False) &\n",
    "            recipe_df_filtered['NER_list'].str.contains(r'\\b(egg|eggs)\\b', case = False, na=False) &\n",
    "            recipe_df_filtered['NER_list'].str.contains(r'\\b(cheese)\\b', case = False, na=False) &\n",
    "            ~recipe_df_filtered['NER_list'].str.contains(r'\\b(salmon|fish|beef|chicken|steak|pork|lamb)\\b', case = False, na=False) &\n",
    "            ~recipe_df_filtered['title'].str.contains(r'\\b(meat loaf|meat loafs)\\b', case = False, na=False) &\n",
    "            ~recipe_df_filtered['title'].str.contains(r'\\b(salad|salads)\\b', case = False, na=False) &\n",
    "            ~recipe_df_filtered['title'].str.contains(r'\\b(lasagna|lasagnas)\\b', case = False, na=False) &      \n",
    "    recipe_df_filtered['Meal_Type'].isnull(),\n",
    "    'Meal_Type'] = 'breakfast'"
   ]
  },
  {
   "cell_type": "code",
   "execution_count": 113,
   "id": "8b057bfc-e85a-422d-b997-ba2798f01de3",
   "metadata": {
    "scrolled": true
   },
   "outputs": [
    {
     "name": "stderr",
     "output_type": "stream",
     "text": [
      "C:\\Users\\cryst\\AppData\\Local\\Temp\\ipykernel_62288\\3883670004.py:2: UserWarning: This pattern is interpreted as a regular expression, and has match groups. To actually get the groups, use str.extract.\n",
      "  recipe_df_filtered['NER_list'].str.contains(r'\\b(bacon|bacons)\\b', case = False, na=False) &\n",
      "C:\\Users\\cryst\\AppData\\Local\\Temp\\ipykernel_62288\\3883670004.py:3: UserWarning: This pattern is interpreted as a regular expression, and has match groups. To actually get the groups, use str.extract.\n",
      "  recipe_df_filtered['NER_list'].str.contains(r'\\b(egg|eggs)\\b', case = False, na=False) &\n",
      "C:\\Users\\cryst\\AppData\\Local\\Temp\\ipykernel_62288\\3883670004.py:4: UserWarning: This pattern is interpreted as a regular expression, and has match groups. To actually get the groups, use str.extract.\n",
      "  recipe_df_filtered['NER_list'].str.contains(r'\\b(cheese)\\b', case = False, na=False) &\n",
      "C:\\Users\\cryst\\AppData\\Local\\Temp\\ipykernel_62288\\3883670004.py:5: UserWarning: This pattern is interpreted as a regular expression, and has match groups. To actually get the groups, use str.extract.\n",
      "  ~recipe_df_filtered['NER_list'].str.contains(r'\\b(salmon|fish|beef|chicken|steak|pork|lamb)\\b', case = False, na=False) &\n",
      "C:\\Users\\cryst\\AppData\\Local\\Temp\\ipykernel_62288\\3883670004.py:6: UserWarning: This pattern is interpreted as a regular expression, and has match groups. To actually get the groups, use str.extract.\n",
      "  recipe_df_filtered['title'].str.contains(r'\\b(bacon|bacons)\\b', case = False, na=False) &\n",
      "C:\\Users\\cryst\\AppData\\Local\\Temp\\ipykernel_62288\\3883670004.py:7: UserWarning: This pattern is interpreted as a regular expression, and has match groups. To actually get the groups, use str.extract.\n",
      "  ~recipe_df_filtered['title'].str.contains(r'\\b(meat loaf|meat loafs)\\b', case = False, na=False) &\n",
      "C:\\Users\\cryst\\AppData\\Local\\Temp\\ipykernel_62288\\3883670004.py:8: UserWarning: This pattern is interpreted as a regular expression, and has match groups. To actually get the groups, use str.extract.\n",
      "  ~recipe_df_filtered['title'].str.contains(r'\\b(salad|salads)\\b', case = False, na=False) &\n",
      "C:\\Users\\cryst\\AppData\\Local\\Temp\\ipykernel_62288\\3883670004.py:9: UserWarning: This pattern is interpreted as a regular expression, and has match groups. To actually get the groups, use str.extract.\n",
      "  ~recipe_df_filtered['title'].str.contains(r'\\b(lasagna|lasagnas)\\b', case = False, na=False) &\n"
     ]
    }
   ],
   "source": [
    "recipe_df_filtered.loc[\n",
    "            recipe_df_filtered['NER_list'].str.contains(r'\\b(bacon|bacons)\\b', case = False, na=False) &\n",
    "            recipe_df_filtered['NER_list'].str.contains(r'\\b(egg|eggs)\\b', case = False, na=False) &\n",
    "            recipe_df_filtered['NER_list'].str.contains(r'\\b(cheese)\\b', case = False, na=False) &\n",
    "            ~recipe_df_filtered['NER_list'].str.contains(r'\\b(salmon|fish|beef|chicken|steak|pork|lamb)\\b', case = False, na=False) &\n",
    "            recipe_df_filtered['title'].str.contains(r'\\b(bacon|bacons)\\b', case = False, na=False) &\n",
    "            ~recipe_df_filtered['title'].str.contains(r'\\b(meat loaf|meat loafs)\\b', case = False, na=False) &\n",
    "            ~recipe_df_filtered['title'].str.contains(r'\\b(salad|salads)\\b', case = False, na=False) &\n",
    "            ~recipe_df_filtered['title'].str.contains(r'\\b(lasagna|lasagnas)\\b', case = False, na=False) &\n",
    "    recipe_df_filtered['Meal_Type'].isnull(),\n",
    "    'Meal_Type'] = 'breakfast'"
   ]
  },
  {
   "cell_type": "markdown",
   "id": "b105ab32-1a38-42bc-9943-2ba3b2ed8b0a",
   "metadata": {
    "jp-MarkdownHeadingCollapsed": true
   },
   "source": [
    "###### Dessert Recipes"
   ]
  },
  {
   "cell_type": "markdown",
   "id": "ebca409f-b450-4e2d-8c93-fd637f739ae9",
   "metadata": {},
   "source": [
    "**Filters on `Title`**"
   ]
  },
  {
   "cell_type": "code",
   "execution_count": 116,
   "id": "c9ebba6d-bfa1-4ece-aa22-1425b3ff81f0",
   "metadata": {
    "scrolled": true
   },
   "outputs": [
    {
     "name": "stderr",
     "output_type": "stream",
     "text": [
      "C:\\Users\\cryst\\AppData\\Local\\Temp\\ipykernel_62288\\3222340296.py:38: UserWarning: This pattern is interpreted as a regular expression, and has match groups. To actually get the groups, use str.extract.\n",
      "  recipe_df_filtered['title'].str.contains(pattern, case=False, na=False, regex=True) &\n",
      "C:\\Users\\cryst\\AppData\\Local\\Temp\\ipykernel_62288\\3222340296.py:38: UserWarning: This pattern is interpreted as a regular expression, and has match groups. To actually get the groups, use str.extract.\n",
      "  recipe_df_filtered['title'].str.contains(pattern, case=False, na=False, regex=True) &\n",
      "C:\\Users\\cryst\\AppData\\Local\\Temp\\ipykernel_62288\\3222340296.py:38: UserWarning: This pattern is interpreted as a regular expression, and has match groups. To actually get the groups, use str.extract.\n",
      "  recipe_df_filtered['title'].str.contains(pattern, case=False, na=False, regex=True) &\n",
      "C:\\Users\\cryst\\AppData\\Local\\Temp\\ipykernel_62288\\3222340296.py:38: UserWarning: This pattern is interpreted as a regular expression, and has match groups. To actually get the groups, use str.extract.\n",
      "  recipe_df_filtered['title'].str.contains(pattern, case=False, na=False, regex=True) &\n",
      "C:\\Users\\cryst\\AppData\\Local\\Temp\\ipykernel_62288\\3222340296.py:38: UserWarning: This pattern is interpreted as a regular expression, and has match groups. To actually get the groups, use str.extract.\n",
      "  recipe_df_filtered['title'].str.contains(pattern, case=False, na=False, regex=True) &\n",
      "C:\\Users\\cryst\\AppData\\Local\\Temp\\ipykernel_62288\\3222340296.py:38: UserWarning: This pattern is interpreted as a regular expression, and has match groups. To actually get the groups, use str.extract.\n",
      "  recipe_df_filtered['title'].str.contains(pattern, case=False, na=False, regex=True) &\n",
      "C:\\Users\\cryst\\AppData\\Local\\Temp\\ipykernel_62288\\3222340296.py:38: UserWarning: This pattern is interpreted as a regular expression, and has match groups. To actually get the groups, use str.extract.\n",
      "  recipe_df_filtered['title'].str.contains(pattern, case=False, na=False, regex=True) &\n",
      "C:\\Users\\cryst\\AppData\\Local\\Temp\\ipykernel_62288\\3222340296.py:38: UserWarning: This pattern is interpreted as a regular expression, and has match groups. To actually get the groups, use str.extract.\n",
      "  recipe_df_filtered['title'].str.contains(pattern, case=False, na=False, regex=True) &\n",
      "C:\\Users\\cryst\\AppData\\Local\\Temp\\ipykernel_62288\\3222340296.py:38: UserWarning: This pattern is interpreted as a regular expression, and has match groups. To actually get the groups, use str.extract.\n",
      "  recipe_df_filtered['title'].str.contains(pattern, case=False, na=False, regex=True) &\n",
      "C:\\Users\\cryst\\AppData\\Local\\Temp\\ipykernel_62288\\3222340296.py:38: UserWarning: This pattern is interpreted as a regular expression, and has match groups. To actually get the groups, use str.extract.\n",
      "  recipe_df_filtered['title'].str.contains(pattern, case=False, na=False, regex=True) &\n",
      "C:\\Users\\cryst\\AppData\\Local\\Temp\\ipykernel_62288\\3222340296.py:38: UserWarning: This pattern is interpreted as a regular expression, and has match groups. To actually get the groups, use str.extract.\n",
      "  recipe_df_filtered['title'].str.contains(pattern, case=False, na=False, regex=True) &\n",
      "C:\\Users\\cryst\\AppData\\Local\\Temp\\ipykernel_62288\\3222340296.py:38: UserWarning: This pattern is interpreted as a regular expression, and has match groups. To actually get the groups, use str.extract.\n",
      "  recipe_df_filtered['title'].str.contains(pattern, case=False, na=False, regex=True) &\n",
      "C:\\Users\\cryst\\AppData\\Local\\Temp\\ipykernel_62288\\3222340296.py:38: UserWarning: This pattern is interpreted as a regular expression, and has match groups. To actually get the groups, use str.extract.\n",
      "  recipe_df_filtered['title'].str.contains(pattern, case=False, na=False, regex=True) &\n",
      "C:\\Users\\cryst\\AppData\\Local\\Temp\\ipykernel_62288\\3222340296.py:38: UserWarning: This pattern is interpreted as a regular expression, and has match groups. To actually get the groups, use str.extract.\n",
      "  recipe_df_filtered['title'].str.contains(pattern, case=False, na=False, regex=True) &\n",
      "C:\\Users\\cryst\\AppData\\Local\\Temp\\ipykernel_62288\\3222340296.py:38: UserWarning: This pattern is interpreted as a regular expression, and has match groups. To actually get the groups, use str.extract.\n",
      "  recipe_df_filtered['title'].str.contains(pattern, case=False, na=False, regex=True) &\n",
      "C:\\Users\\cryst\\AppData\\Local\\Temp\\ipykernel_62288\\3222340296.py:38: UserWarning: This pattern is interpreted as a regular expression, and has match groups. To actually get the groups, use str.extract.\n",
      "  recipe_df_filtered['title'].str.contains(pattern, case=False, na=False, regex=True) &\n",
      "C:\\Users\\cryst\\AppData\\Local\\Temp\\ipykernel_62288\\3222340296.py:38: UserWarning: This pattern is interpreted as a regular expression, and has match groups. To actually get the groups, use str.extract.\n",
      "  recipe_df_filtered['title'].str.contains(pattern, case=False, na=False, regex=True) &\n",
      "C:\\Users\\cryst\\AppData\\Local\\Temp\\ipykernel_62288\\3222340296.py:38: UserWarning: This pattern is interpreted as a regular expression, and has match groups. To actually get the groups, use str.extract.\n",
      "  recipe_df_filtered['title'].str.contains(pattern, case=False, na=False, regex=True) &\n",
      "C:\\Users\\cryst\\AppData\\Local\\Temp\\ipykernel_62288\\3222340296.py:38: UserWarning: This pattern is interpreted as a regular expression, and has match groups. To actually get the groups, use str.extract.\n",
      "  recipe_df_filtered['title'].str.contains(pattern, case=False, na=False, regex=True) &\n",
      "C:\\Users\\cryst\\AppData\\Local\\Temp\\ipykernel_62288\\3222340296.py:38: UserWarning: This pattern is interpreted as a regular expression, and has match groups. To actually get the groups, use str.extract.\n",
      "  recipe_df_filtered['title'].str.contains(pattern, case=False, na=False, regex=True) &\n",
      "C:\\Users\\cryst\\AppData\\Local\\Temp\\ipykernel_62288\\3222340296.py:38: UserWarning: This pattern is interpreted as a regular expression, and has match groups. To actually get the groups, use str.extract.\n",
      "  recipe_df_filtered['title'].str.contains(pattern, case=False, na=False, regex=True) &\n",
      "C:\\Users\\cryst\\AppData\\Local\\Temp\\ipykernel_62288\\3222340296.py:38: UserWarning: This pattern is interpreted as a regular expression, and has match groups. To actually get the groups, use str.extract.\n",
      "  recipe_df_filtered['title'].str.contains(pattern, case=False, na=False, regex=True) &\n",
      "C:\\Users\\cryst\\AppData\\Local\\Temp\\ipykernel_62288\\3222340296.py:38: UserWarning: This pattern is interpreted as a regular expression, and has match groups. To actually get the groups, use str.extract.\n",
      "  recipe_df_filtered['title'].str.contains(pattern, case=False, na=False, regex=True) &\n",
      "C:\\Users\\cryst\\AppData\\Local\\Temp\\ipykernel_62288\\3222340296.py:38: UserWarning: This pattern is interpreted as a regular expression, and has match groups. To actually get the groups, use str.extract.\n",
      "  recipe_df_filtered['title'].str.contains(pattern, case=False, na=False, regex=True) &\n",
      "C:\\Users\\cryst\\AppData\\Local\\Temp\\ipykernel_62288\\3222340296.py:38: UserWarning: This pattern is interpreted as a regular expression, and has match groups. To actually get the groups, use str.extract.\n",
      "  recipe_df_filtered['title'].str.contains(pattern, case=False, na=False, regex=True) &\n",
      "C:\\Users\\cryst\\AppData\\Local\\Temp\\ipykernel_62288\\3222340296.py:38: UserWarning: This pattern is interpreted as a regular expression, and has match groups. To actually get the groups, use str.extract.\n",
      "  recipe_df_filtered['title'].str.contains(pattern, case=False, na=False, regex=True) &\n",
      "C:\\Users\\cryst\\AppData\\Local\\Temp\\ipykernel_62288\\3222340296.py:38: UserWarning: This pattern is interpreted as a regular expression, and has match groups. To actually get the groups, use str.extract.\n",
      "  recipe_df_filtered['title'].str.contains(pattern, case=False, na=False, regex=True) &\n",
      "C:\\Users\\cryst\\AppData\\Local\\Temp\\ipykernel_62288\\3222340296.py:38: UserWarning: This pattern is interpreted as a regular expression, and has match groups. To actually get the groups, use str.extract.\n",
      "  recipe_df_filtered['title'].str.contains(pattern, case=False, na=False, regex=True) &\n",
      "C:\\Users\\cryst\\AppData\\Local\\Temp\\ipykernel_62288\\3222340296.py:38: UserWarning: This pattern is interpreted as a regular expression, and has match groups. To actually get the groups, use str.extract.\n",
      "  recipe_df_filtered['title'].str.contains(pattern, case=False, na=False, regex=True) &\n",
      "C:\\Users\\cryst\\AppData\\Local\\Temp\\ipykernel_62288\\3222340296.py:38: UserWarning: This pattern is interpreted as a regular expression, and has match groups. To actually get the groups, use str.extract.\n",
      "  recipe_df_filtered['title'].str.contains(pattern, case=False, na=False, regex=True) &\n",
      "C:\\Users\\cryst\\AppData\\Local\\Temp\\ipykernel_62288\\3222340296.py:38: UserWarning: This pattern is interpreted as a regular expression, and has match groups. To actually get the groups, use str.extract.\n",
      "  recipe_df_filtered['title'].str.contains(pattern, case=False, na=False, regex=True) &\n",
      "C:\\Users\\cryst\\AppData\\Local\\Temp\\ipykernel_62288\\3222340296.py:38: UserWarning: This pattern is interpreted as a regular expression, and has match groups. To actually get the groups, use str.extract.\n",
      "  recipe_df_filtered['title'].str.contains(pattern, case=False, na=False, regex=True) &\n"
     ]
    }
   ],
   "source": [
    "patterns = [\n",
    "    r'\\b(dessert|desserts)\\b',\n",
    "    r'\\b(cookie|cookies)\\b',\n",
    "    r'\\b(custard|custard)\\b',\n",
    "    r'\\b(mousse|mousses)\\b',\n",
    "    r'\\b(panna cotta)\\b',\n",
    "    r'\\b(cheesecake|cheesecakes|cheese cake|cheese cakes)\\b',\n",
    "    r'\\b(tiramisu|tiarmisu)\\b',\n",
    "    r'\\b(sorbet|sorbets)\\b',\n",
    "    r'\\b(icecream|ice cream|icecreams|ice creams)\\b',\n",
    "    r'\\b(brownie|brownies)\\b',\n",
    "    r'\\b(doughnut|doughnuts|donut|donuts)\\b',\n",
    "    r'\\b(biscotti)\\b',\n",
    "    r'\\b(fudge|fudges)\\b',\n",
    "    r'\\b(sundae|sundaes)\\b',\n",
    "    r'\\b(ambrosia|ambrosias)\\b',\n",
    "    r'\\b(chocolate chip|chocolate chips|choco chip|choco chips)\\b',\n",
    "    r'\\b(crumble|crumbles)\\b',\n",
    "    r'\\b(eclair|eclairs)\\b',\n",
    "    r'\\b(gelato|gelatos)\\b',\n",
    "    r'\\b(trifle|trifles)\\b',\n",
    "    r'\\b(creme brulee)\\b',\n",
    "    r'\\b(shortcake|shortcakes)\\b',\n",
    "    r'\\b(tarte tatin)\\b',\n",
    "    r'\\b(cannoli)\\b',\n",
    "    r'\\b(zabaglione|zabagliones)\\b',\n",
    "    r'\\b(churro|churros)\\b',\n",
    "    r'\\b(arroz con leche)\\b',\n",
    "    r'\\b(tres leches)\\b',\n",
    "    r'\\b(mochi)\\b',\n",
    "    r'\\b(baklava|baklavas)\\b',\n",
    "    r'\\b(lemonade dessert|lemonade desserts|lemonade pie|lemonade pies)\\b',\n",
    "    r'\\b(torte|tortes)\\b'\n",
    "]\n",
    "\n",
    "for pattern in patterns:\n",
    "    recipe_df_filtered.loc[\n",
    "        recipe_df_filtered['title'].str.contains(pattern, case=False, na=False, regex=True) &\n",
    "        recipe_df_filtered['Meal_Type'].isnull(),\n",
    "        'Meal_Type'\n",
    "    ] = 'dessert'"
   ]
  },
  {
   "cell_type": "markdown",
   "id": "cce7dc5b-6585-4863-bdc1-d1a682b2b673",
   "metadata": {},
   "source": [
    "**Other filters on `title` with `NER_list` ingredients**"
   ]
  },
  {
   "cell_type": "code",
   "execution_count": 118,
   "id": "03909b61-15a7-4864-94e8-807f19593022",
   "metadata": {
    "scrolled": true
   },
   "outputs": [
    {
     "name": "stderr",
     "output_type": "stream",
     "text": [
      "C:\\Users\\cryst\\AppData\\Local\\Temp\\ipykernel_62288\\1435889536.py:2: UserWarning: This pattern is interpreted as a regular expression, and has match groups. To actually get the groups, use str.extract.\n",
      "  recipe_df_filtered['NER_list'].str.contains(r'(sugar|juice|vanilla)', case = False, na=False) &\n",
      "C:\\Users\\cryst\\AppData\\Local\\Temp\\ipykernel_62288\\1435889536.py:3: UserWarning: This pattern is interpreted as a regular expression, and has match groups. To actually get the groups, use str.extract.\n",
      "  recipe_df_filtered['title'].str.contains(r'(souffle|souffles)', case = False, na=False) &\n"
     ]
    }
   ],
   "source": [
    "recipe_df_filtered.loc[\n",
    "            recipe_df_filtered['NER_list'].str.contains(r'(sugar|juice|vanilla)', case = False, na=False) &\n",
    "            recipe_df_filtered['title'].str.contains(r'(souffle|souffles)', case = False, na=False) &\n",
    "            recipe_df_filtered['Meal_Type'].isnull(),\n",
    "            'Meal_Type'\n",
    "] = 'dessert'"
   ]
  },
  {
   "cell_type": "code",
   "execution_count": 119,
   "id": "e99a7601-093c-4164-9a8e-7c7bfab31295",
   "metadata": {
    "scrolled": true
   },
   "outputs": [
    {
     "name": "stderr",
     "output_type": "stream",
     "text": [
      "C:\\Users\\cryst\\AppData\\Local\\Temp\\ipykernel_62288\\982659063.py:2: UserWarning: This pattern is interpreted as a regular expression, and has match groups. To actually get the groups, use str.extract.\n",
      "  recipe_df_filtered['NER_list'].str.contains(r'(sugar|vanilla)', case = False, na=False) &\n",
      "C:\\Users\\cryst\\AppData\\Local\\Temp\\ipykernel_62288\\982659063.py:3: UserWarning: This pattern is interpreted as a regular expression, and has match groups. To actually get the groups, use str.extract.\n",
      "  recipe_df_filtered['title'].str.contains(r'(cornbread|corn bread)', case = False, na=False) &\n",
      "C:\\Users\\cryst\\AppData\\Local\\Temp\\ipykernel_62288\\982659063.py:4: UserWarning: This pattern is interpreted as a regular expression, and has match groups. To actually get the groups, use str.extract.\n",
      "  ~recipe_df_filtered['NER_list'].str.contains(r'(turkey|chicken|beef|onion|cheese)', case = False, na=False) &\n"
     ]
    }
   ],
   "source": [
    "recipe_df_filtered.loc[\n",
    "            recipe_df_filtered['NER_list'].str.contains(r'(sugar|vanilla)', case = False, na=False) &\n",
    "            recipe_df_filtered['title'].str.contains(r'(cornbread|corn bread)', case = False, na=False) &\n",
    "            ~recipe_df_filtered['NER_list'].str.contains(r'(turkey|chicken|beef|onion|cheese)', case = False, na=False) &\n",
    "            recipe_df_filtered['Meal_Type'].isnull(),\n",
    "            'Meal_Type'\n",
    "] = 'dessert'"
   ]
  },
  {
   "cell_type": "code",
   "execution_count": 120,
   "id": "4fa23994-dc1d-4ec9-8f43-9bdfe9fb9991",
   "metadata": {
    "scrolled": true
   },
   "outputs": [
    {
     "name": "stderr",
     "output_type": "stream",
     "text": [
      "C:\\Users\\cryst\\AppData\\Local\\Temp\\ipykernel_62288\\123357300.py:2: UserWarning: This pattern is interpreted as a regular expression, and has match groups. To actually get the groups, use str.extract.\n",
      "  recipe_df_filtered['title'].str.contains(r'(pudding|puddings)', case = False, na=False) &\n",
      "C:\\Users\\cryst\\AppData\\Local\\Temp\\ipykernel_62288\\123357300.py:3: UserWarning: This pattern is interpreted as a regular expression, and has match groups. To actually get the groups, use str.extract.\n",
      "  ~recipe_df_filtered['NER_list'].str.contains(r'(turkey|chicken|beef|onion|cheese|bacon)', case = False, na=False) &\n"
     ]
    }
   ],
   "source": [
    "recipe_df_filtered.loc[\n",
    "            recipe_df_filtered['title'].str.contains(r'(pudding|puddings)', case = False, na=False) &\n",
    "            ~recipe_df_filtered['NER_list'].str.contains(r'(turkey|chicken|beef|onion|cheese|bacon)', case = False, na=False) &\n",
    "            recipe_df_filtered['Meal_Type'].isnull(),\n",
    "            'Meal_Type'\n",
    "] = 'dessert'"
   ]
  },
  {
   "cell_type": "code",
   "execution_count": 121,
   "id": "7d48a5e6-f011-4a2f-98aa-5503b319ccf0",
   "metadata": {
    "scrolled": true
   },
   "outputs": [
    {
     "name": "stderr",
     "output_type": "stream",
     "text": [
      "C:\\Users\\cryst\\AppData\\Local\\Temp\\ipykernel_62288\\4240943775.py:2: UserWarning: This pattern is interpreted as a regular expression, and has match groups. To actually get the groups, use str.extract.\n",
      "  recipe_df_filtered['title'].str.contains(pat = r'\\b(pie|pies)\\b', case = False, na=False, regex= True) &\n",
      "C:\\Users\\cryst\\AppData\\Local\\Temp\\ipykernel_62288\\4240943775.py:3: UserWarning: This pattern is interpreted as a regular expression, and has match groups. To actually get the groups, use str.extract.\n",
      "  ~recipe_df_filtered['NER_list'].str.contains(r'(turkey|chicken|beef|onion|cheese|bacon)', case = False, na=False) &\n"
     ]
    }
   ],
   "source": [
    "recipe_df_filtered.loc[\n",
    "            recipe_df_filtered['title'].str.contains(pat = r'\\b(pie|pies)\\b', case = False, na=False, regex= True) &\n",
    "            ~recipe_df_filtered['NER_list'].str.contains(r'(turkey|chicken|beef|onion|cheese|bacon)', case = False, na=False) &           \n",
    "            recipe_df_filtered['Meal_Type'].isnull(),\n",
    "            'Meal_Type'\n",
    "] = 'dessert'"
   ]
  },
  {
   "cell_type": "code",
   "execution_count": 122,
   "id": "1d81c8b7-5213-44ff-a81c-654a5e171070",
   "metadata": {
    "scrolled": true
   },
   "outputs": [
    {
     "name": "stderr",
     "output_type": "stream",
     "text": [
      "C:\\Users\\cryst\\AppData\\Local\\Temp\\ipykernel_62288\\997040682.py:2: UserWarning: This pattern is interpreted as a regular expression, and has match groups. To actually get the groups, use str.extract.\n",
      "  recipe_df_filtered['title'].str.contains(pat = r'\\b(scone|scones)\\b', case = False, na=False, regex= True) &\n",
      "C:\\Users\\cryst\\AppData\\Local\\Temp\\ipykernel_62288\\997040682.py:3: UserWarning: This pattern is interpreted as a regular expression, and has match groups. To actually get the groups, use str.extract.\n",
      "  ~recipe_df_filtered['NER_list'].str.contains(r'\\b(ham)\\b', case = False, na=False) &\n"
     ]
    }
   ],
   "source": [
    "recipe_df_filtered.loc[\n",
    "            recipe_df_filtered['title'].str.contains(pat = r'\\b(scone|scones)\\b', case = False, na=False, regex= True) &\n",
    "            ~recipe_df_filtered['NER_list'].str.contains(r'\\b(ham)\\b', case = False, na=False) &           \n",
    "            recipe_df_filtered['Meal_Type'].isnull(),\n",
    "            'Meal_Type'\n",
    "] = 'dessert'"
   ]
  },
  {
   "cell_type": "code",
   "execution_count": 123,
   "id": "f5f5afd1-1bd7-4399-bd2e-94eec23d6e65",
   "metadata": {
    "scrolled": true
   },
   "outputs": [
    {
     "name": "stderr",
     "output_type": "stream",
     "text": [
      "C:\\Users\\cryst\\AppData\\Local\\Temp\\ipykernel_62288\\1519283551.py:2: UserWarning: This pattern is interpreted as a regular expression, and has match groups. To actually get the groups, use str.extract.\n",
      "  recipe_df_filtered['title'].str.contains(pat = r'\\b(fondue|fondues)\\b', case = False, na=False, regex= True) &\n",
      "C:\\Users\\cryst\\AppData\\Local\\Temp\\ipykernel_62288\\1519283551.py:3: UserWarning: This pattern is interpreted as a regular expression, and has match groups. To actually get the groups, use str.extract.\n",
      "  ~recipe_df_filtered['NER_list'].str.contains(r'\\b(cheese|garlic|salt|pepper|nutmeg|beef|fish|mustard)\\b', case = False, na=False) &\n"
     ]
    }
   ],
   "source": [
    "recipe_df_filtered.loc[\n",
    "            recipe_df_filtered['title'].str.contains(pat = r'\\b(fondue|fondues)\\b', case = False, na=False, regex= True) &\n",
    "            ~recipe_df_filtered['NER_list'].str.contains(r'\\b(cheese|garlic|salt|pepper|nutmeg|beef|fish|mustard)\\b', case = False, na=False) &           \n",
    "            recipe_df_filtered['Meal_Type'].isnull(),\n",
    "            'Meal_Type'\n",
    "] = 'dessert'"
   ]
  },
  {
   "cell_type": "code",
   "execution_count": 124,
   "id": "f3d5172e-30d7-4d58-b209-bda6ae3696d8",
   "metadata": {
    "scrolled": true
   },
   "outputs": [
    {
     "name": "stderr",
     "output_type": "stream",
     "text": [
      "C:\\Users\\cryst\\AppData\\Local\\Temp\\ipykernel_62288\\477042861.py:2: UserWarning: This pattern is interpreted as a regular expression, and has match groups. To actually get the groups, use str.extract.\n",
      "  recipe_df_filtered['title'].str.contains(pat = r'\\b(cupcake|cup cake|cupcakes|cup cakes)\\b', case = False, na=False, regex= True) &\n",
      "C:\\Users\\cryst\\AppData\\Local\\Temp\\ipykernel_62288\\477042861.py:3: UserWarning: This pattern is interpreted as a regular expression, and has match groups. To actually get the groups, use str.extract.\n",
      "  ~recipe_df_filtered['NER_list'].str.contains(pat = r'\\b(beef)\\b', case = False, na=False, regex= True),\n"
     ]
    }
   ],
   "source": [
    "recipe_df_filtered.loc[\n",
    "                recipe_df_filtered['title'].str.contains(pat = r'\\b(cupcake|cup cake|cupcakes|cup cakes)\\b', case = False, na=False, regex= True) &\n",
    "                ~recipe_df_filtered['NER_list'].str.contains(pat = r'\\b(beef)\\b', case = False, na=False, regex= True),\n",
    "                'Meal_Type'\n",
    "] = 'dessert'"
   ]
  },
  {
   "cell_type": "code",
   "execution_count": 125,
   "id": "37ccfe77-a4ad-4bc3-bad1-8b51ad5d5935",
   "metadata": {
    "scrolled": true
   },
   "outputs": [
    {
     "name": "stderr",
     "output_type": "stream",
     "text": [
      "C:\\Users\\cryst\\AppData\\Local\\Temp\\ipykernel_62288\\3210072585.py:2: UserWarning: This pattern is interpreted as a regular expression, and has match groups. To actually get the groups, use str.extract.\n",
      "  recipe_df_filtered['title'].str.contains(pat = r'\\b(flan|flans)\\b', case = False, na=False, regex= True) &\n",
      "C:\\Users\\cryst\\AppData\\Local\\Temp\\ipykernel_62288\\3210072585.py:3: UserWarning: This pattern is interpreted as a regular expression, and has match groups. To actually get the groups, use str.extract.\n",
      "  recipe_df_filtered['NER_list'].str.contains(pat = r'\\b(sugar|vanilla|juice)\\b', case = False, na=False, regex= True),\n"
     ]
    }
   ],
   "source": [
    "recipe_df_filtered.loc[\n",
    "                recipe_df_filtered['title'].str.contains(pat = r'\\b(flan|flans)\\b', case = False, na=False, regex= True) &\n",
    "                recipe_df_filtered['NER_list'].str.contains(pat = r'\\b(sugar|vanilla|juice)\\b', case = False, na=False, regex= True),\n",
    "                'Meal_Type'\n",
    "] = 'dessert'"
   ]
  },
  {
   "cell_type": "code",
   "execution_count": 126,
   "id": "c7911a55-117e-4616-a7c4-9b3a2dc8ca49",
   "metadata": {
    "scrolled": true
   },
   "outputs": [
    {
     "name": "stderr",
     "output_type": "stream",
     "text": [
      "C:\\Users\\cryst\\AppData\\Local\\Temp\\ipykernel_62288\\3759537433.py:2: UserWarning: This pattern is interpreted as a regular expression, and has match groups. To actually get the groups, use str.extract.\n",
      "  recipe_df_filtered['title'].str.contains(pat = r'\\b(cake|cakes|red velvet)\\b', case = False, na=False, regex= True) &\n",
      "C:\\Users\\cryst\\AppData\\Local\\Temp\\ipykernel_62288\\3759537433.py:3: UserWarning: This pattern is interpreted as a regular expression, and has match groups. To actually get the groups, use str.extract.\n",
      "  recipe_df_filtered['NER_list'].str.contains(r'\\b(sugar|egg|flour|choco|chocolate|vanilla|red velvet)\\b', case = False, na=False) &\n",
      "C:\\Users\\cryst\\AppData\\Local\\Temp\\ipykernel_62288\\3759537433.py:4: UserWarning: This pattern is interpreted as a regular expression, and has match groups. To actually get the groups, use str.extract.\n",
      "  ~recipe_df_filtered['NER_list'].str.contains(r'\\b(salmon|fish|beef|chicken|steak|bacon|turkey|pork|meat)\\b', case = False, na=False) &\n"
     ]
    }
   ],
   "source": [
    "recipe_df_filtered.loc[\n",
    "                recipe_df_filtered['title'].str.contains(pat = r'\\b(cake|cakes|red velvet)\\b', case = False, na=False, regex= True) &\n",
    "                recipe_df_filtered['NER_list'].str.contains(r'\\b(sugar|egg|flour|choco|chocolate|vanilla|red velvet)\\b', case = False, na=False) &                \n",
    "                ~recipe_df_filtered['NER_list'].str.contains(r'\\b(salmon|fish|beef|chicken|steak|bacon|turkey|pork|meat)\\b', case = False, na=False) &\n",
    "                recipe_df_filtered['Meal_Type'].isnull(),\n",
    "                'Meal_Type'\n",
    "] = 'dessert'"
   ]
  },
  {
   "cell_type": "code",
   "execution_count": 127,
   "id": "1d5b5b5c-6be0-435a-b220-329e23e14800",
   "metadata": {
    "scrolled": true
   },
   "outputs": [
    {
     "name": "stderr",
     "output_type": "stream",
     "text": [
      "C:\\Users\\cryst\\AppData\\Local\\Temp\\ipykernel_62288\\1333406077.py:2: UserWarning: This pattern is interpreted as a regular expression, and has match groups. To actually get the groups, use str.extract.\n",
      "  recipe_df_filtered['title'].str.contains(pat = r'\\b(log|logs)\\b', case = False, na=False, regex= True) &\n",
      "C:\\Users\\cryst\\AppData\\Local\\Temp\\ipykernel_62288\\1333406077.py:3: UserWarning: This pattern is interpreted as a regular expression, and has match groups. To actually get the groups, use str.extract.\n",
      "  ~recipe_df_filtered['NER_list'].str.contains(r'\\b(salmon|fish|beef|chicken|steak|bacon|turkey|pork|meat)\\b', case = False, na=False) &\n"
     ]
    }
   ],
   "source": [
    "recipe_df_filtered.loc[\n",
    "                recipe_df_filtered['title'].str.contains(pat = r'\\b(log|logs)\\b', case = False, na=False, regex= True) &         \n",
    "                ~recipe_df_filtered['NER_list'].str.contains(r'\\b(salmon|fish|beef|chicken|steak|bacon|turkey|pork|meat)\\b', case = False, na=False) &\n",
    "                recipe_df_filtered['Meal_Type'].isnull(),\n",
    "                'Meal_Type'\n",
    "] = 'dessert'"
   ]
  },
  {
   "cell_type": "code",
   "execution_count": 128,
   "id": "a6290c46-9af1-4686-92a5-7b0981594d0b",
   "metadata": {
    "scrolled": true
   },
   "outputs": [
    {
     "name": "stderr",
     "output_type": "stream",
     "text": [
      "C:\\Users\\cryst\\AppData\\Local\\Temp\\ipykernel_62288\\4053329806.py:2: UserWarning: This pattern is interpreted as a regular expression, and has match groups. To actually get the groups, use str.extract.\n",
      "  recipe_df_filtered['title'].str.contains(pat = r'\\b(cobbler|cobblers)\\b', case = False, na=False, regex= True) &\n",
      "C:\\Users\\cryst\\AppData\\Local\\Temp\\ipykernel_62288\\4053329806.py:3: UserWarning: This pattern is interpreted as a regular expression, and has match groups. To actually get the groups, use str.extract.\n",
      "  ~recipe_df_filtered['NER_list'].str.contains(r'\\b(salmon|fish|beef|chicken|steak|bacon|turkey|pork|meat)\\b', case = False, na=False) &\n"
     ]
    }
   ],
   "source": [
    "recipe_df_filtered.loc[\n",
    "                recipe_df_filtered['title'].str.contains(pat = r'\\b(cobbler|cobblers)\\b', case = False, na=False, regex= True) &         \n",
    "                ~recipe_df_filtered['NER_list'].str.contains(r'\\b(salmon|fish|beef|chicken|steak|bacon|turkey|pork|meat)\\b', case = False, na=False) &\n",
    "                recipe_df_filtered['Meal_Type'].isnull(),\n",
    "                'Meal_Type'\n",
    "] = 'dessert'"
   ]
  },
  {
   "cell_type": "code",
   "execution_count": 129,
   "id": "3566e33d-d407-44c0-affc-029155910767",
   "metadata": {
    "scrolled": true
   },
   "outputs": [
    {
     "name": "stderr",
     "output_type": "stream",
     "text": [
      "C:\\Users\\cryst\\AppData\\Local\\Temp\\ipykernel_62288\\2433749072.py:2: UserWarning: This pattern is interpreted as a regular expression, and has match groups. To actually get the groups, use str.extract.\n",
      "  recipe_df_filtered['title'].str.contains(pat = r'\\b(tart|tarts)\\b', case = False, na=False, regex= True) &\n",
      "C:\\Users\\cryst\\AppData\\Local\\Temp\\ipykernel_62288\\2433749072.py:3: UserWarning: This pattern is interpreted as a regular expression, and has match groups. To actually get the groups, use str.extract.\n",
      "  ~recipe_df_filtered['NER_list'].str.contains(r'\\b(salmon|fish|beef|chicken|steak|bacon|turkey|pork|meat)\\b', case = False, na=False) &\n"
     ]
    }
   ],
   "source": [
    "recipe_df_filtered.loc[\n",
    "                recipe_df_filtered['title'].str.contains(pat = r'\\b(tart|tarts)\\b', case = False, na=False, regex= True) &         \n",
    "                ~recipe_df_filtered['NER_list'].str.contains(r'\\b(salmon|fish|beef|chicken|steak|bacon|turkey|pork|meat)\\b', case = False, na=False) &\n",
    "                recipe_df_filtered['Meal_Type'].isnull(),\n",
    "                'Meal_Type'\n",
    "] = 'dessert'"
   ]
  },
  {
   "cell_type": "code",
   "execution_count": 130,
   "id": "86a04608-1548-47f4-b1a3-2ca5fed03195",
   "metadata": {
    "scrolled": true
   },
   "outputs": [
    {
     "name": "stderr",
     "output_type": "stream",
     "text": [
      "C:\\Users\\cryst\\AppData\\Local\\Temp\\ipykernel_62288\\1886487262.py:2: UserWarning: This pattern is interpreted as a regular expression, and has match groups. To actually get the groups, use str.extract.\n",
      "  recipe_df_filtered['title'].str.contains(pat = r'\\b(bar|bars)\\b', case = False, na=False, regex= True) &\n",
      "C:\\Users\\cryst\\AppData\\Local\\Temp\\ipykernel_62288\\1886487262.py:3: UserWarning: This pattern is interpreted as a regular expression, and has match groups. To actually get the groups, use str.extract.\n",
      "  ~recipe_df_filtered['NER_list'].str.contains(r'\\b(salmon|fish|beef|chicken|steak|bacon|turkey|pork|meat)\\b', case = False, na=False) &\n"
     ]
    }
   ],
   "source": [
    "recipe_df_filtered.loc[\n",
    "                recipe_df_filtered['title'].str.contains(pat = r'\\b(bar|bars)\\b', case = False, na=False, regex= True) &         \n",
    "                ~recipe_df_filtered['NER_list'].str.contains(r'\\b(salmon|fish|beef|chicken|steak|bacon|turkey|pork|meat)\\b', case = False, na=False) &\n",
    "                recipe_df_filtered['Meal_Type'].isnull(),\n",
    "                'Meal_Type'\n",
    "] = 'dessert'"
   ]
  },
  {
   "cell_type": "code",
   "execution_count": 131,
   "id": "df42ce86-eeda-4f7f-9866-45f4e5488032",
   "metadata": {
    "scrolled": true
   },
   "outputs": [
    {
     "name": "stderr",
     "output_type": "stream",
     "text": [
      "C:\\Users\\cryst\\AppData\\Local\\Temp\\ipykernel_62288\\4054137421.py:2: UserWarning: This pattern is interpreted as a regular expression, and has match groups. To actually get the groups, use str.extract.\n",
      "  recipe_df_filtered['title'].str.contains(pat = r'\\b(crisp|crisps)\\b', case = False, na=False, regex= True) &\n",
      "C:\\Users\\cryst\\AppData\\Local\\Temp\\ipykernel_62288\\4054137421.py:3: UserWarning: This pattern is interpreted as a regular expression, and has match groups. To actually get the groups, use str.extract.\n",
      "  ~recipe_df_filtered['NER_list'].str.contains(r'\\b(salmon|fish|beef|chicken|steak|bacon|turkey|pork|meat|potatoes|potato)\\b', case = False, na=False) &\n"
     ]
    }
   ],
   "source": [
    "recipe_df_filtered.loc[\n",
    "                recipe_df_filtered['title'].str.contains(pat = r'\\b(crisp|crisps)\\b', case = False, na=False, regex= True) &         \n",
    "                ~recipe_df_filtered['NER_list'].str.contains(r'\\b(salmon|fish|beef|chicken|steak|bacon|turkey|pork|meat|potatoes|potato)\\b', case = False, na=False) &   \n",
    "                recipe_df_filtered['Meal_Type'].isnull(),\n",
    "                'Meal_Type'\n",
    "] = 'dessert'"
   ]
  },
  {
   "cell_type": "code",
   "execution_count": 132,
   "id": "e19273df-5925-48d2-ae18-c5b4cbf62b8a",
   "metadata": {
    "scrolled": true
   },
   "outputs": [
    {
     "name": "stderr",
     "output_type": "stream",
     "text": [
      "C:\\Users\\cryst\\AppData\\Local\\Temp\\ipykernel_62288\\357191587.py:2: UserWarning: This pattern is interpreted as a regular expression, and has match groups. To actually get the groups, use str.extract.\n",
      "  recipe_df_filtered['title'].str.contains(pat = r'\\b(bar|bars)\\b', case = False, na=False, regex= True) &\n",
      "C:\\Users\\cryst\\AppData\\Local\\Temp\\ipykernel_62288\\357191587.py:3: UserWarning: This pattern is interpreted as a regular expression, and has match groups. To actually get the groups, use str.extract.\n",
      "  recipe_df_filtered['NER_list'].str.contains(r'\\b(peanut|peanut butter|chocolate|sugar|)\\b', case = False, na=False) &\n",
      "C:\\Users\\cryst\\AppData\\Local\\Temp\\ipykernel_62288\\357191587.py:4: UserWarning: This pattern is interpreted as a regular expression, and has match groups. To actually get the groups, use str.extract.\n",
      "  ~recipe_df_filtered['NER_list'].str.contains(r'\\b(salmon|fish|beef|chicken|steak|bacon|turkey|pork|meat|potatoes|potato)\\b', case = False, na=False) &\n"
     ]
    }
   ],
   "source": [
    "recipe_df_filtered.loc[\n",
    "                recipe_df_filtered['title'].str.contains(pat = r'\\b(bar|bars)\\b', case = False, na=False, regex= True) &\n",
    "                recipe_df_filtered['NER_list'].str.contains(r'\\b(peanut|peanut butter|chocolate|sugar|)\\b', case = False, na=False) &         \n",
    "                ~recipe_df_filtered['NER_list'].str.contains(r'\\b(salmon|fish|beef|chicken|steak|bacon|turkey|pork|meat|potatoes|potato)\\b', case = False, na=False) &   \n",
    "                recipe_df_filtered['Meal_Type'].isnull(),\n",
    "                'Meal_Type'\n",
    "] = 'dessert'"
   ]
  },
  {
   "cell_type": "code",
   "execution_count": 133,
   "id": "669f9eb2-8ade-48a0-ace0-63805aedd27f",
   "metadata": {
    "scrolled": true
   },
   "outputs": [
    {
     "name": "stderr",
     "output_type": "stream",
     "text": [
      "C:\\Users\\cryst\\AppData\\Local\\Temp\\ipykernel_62288\\2241871155.py:2: UserWarning: This pattern is interpreted as a regular expression, and has match groups. To actually get the groups, use str.extract.\n",
      "  recipe_df_filtered['title'].str.contains(pat = r'\\b(bar|bars)\\b', case = False, na=False, regex= True) &\n",
      "C:\\Users\\cryst\\AppData\\Local\\Temp\\ipykernel_62288\\2241871155.py:3: UserWarning: This pattern is interpreted as a regular expression, and has match groups. To actually get the groups, use str.extract.\n",
      "  recipe_df_filtered['NER_list'].str.contains(r'\\b(peanut|peanut butter|chocolate|sugar)\\b', case = False, na=False) &\n",
      "C:\\Users\\cryst\\AppData\\Local\\Temp\\ipykernel_62288\\2241871155.py:4: UserWarning: This pattern is interpreted as a regular expression, and has match groups. To actually get the groups, use str.extract.\n",
      "  ~recipe_df_filtered['NER_list'].str.contains(r'\\b(salmon|fish|beef|chicken|steak|bacon|turkey|pork|meat|potatoes|potato)\\b', case = False, na=False) &\n"
     ]
    }
   ],
   "source": [
    "recipe_df_filtered.loc[\n",
    "                recipe_df_filtered['title'].str.contains(pat = r'\\b(bar|bars)\\b', case = False, na=False, regex= True) &\n",
    "                recipe_df_filtered['NER_list'].str.contains(r'\\b(peanut|peanut butter|chocolate|sugar)\\b', case = False, na=False) &                \n",
    "                ~recipe_df_filtered['NER_list'].str.contains(r'\\b(salmon|fish|beef|chicken|steak|bacon|turkey|pork|meat|potatoes|potato)\\b', case = False, na=False) &\n",
    "                recipe_df_filtered['Meal_Type'].isnull(),\n",
    "                'Meal_Type'\n",
    "] = 'dessert'"
   ]
  },
  {
   "cell_type": "code",
   "execution_count": 134,
   "id": "928bf38c-30c9-42aa-aadf-762b73b41772",
   "metadata": {
    "scrolled": true
   },
   "outputs": [
    {
     "name": "stderr",
     "output_type": "stream",
     "text": [
      "C:\\Users\\cryst\\AppData\\Local\\Temp\\ipykernel_62288\\650839795.py:2: UserWarning: This pattern is interpreted as a regular expression, and has match groups. To actually get the groups, use str.extract.\n",
      "  recipe_df_filtered['title'].str.contains(pat = r'\\b(crepe|crepes)\\b', case = False, na=False, regex= True) &\n",
      "C:\\Users\\cryst\\AppData\\Local\\Temp\\ipykernel_62288\\650839795.py:3: UserWarning: This pattern is interpreted as a regular expression, and has match groups. To actually get the groups, use str.extract.\n",
      "  recipe_df_filtered['NER_list'].str.contains(r'\\b(peanut|peanut butter|chocolate|sugar)\\b', case = False, na=False) &\n",
      "C:\\Users\\cryst\\AppData\\Local\\Temp\\ipykernel_62288\\650839795.py:4: UserWarning: This pattern is interpreted as a regular expression, and has match groups. To actually get the groups, use str.extract.\n",
      "  ~recipe_df_filtered['NER_list'].str.contains(r'\\b(salmon|fish|beef|chicken|steak|bacon|turkey|pork|meat|potatoes|potato|broccoli|mushroom)\\b', case = False, na=False) &\n"
     ]
    }
   ],
   "source": [
    "recipe_df_filtered.loc[\n",
    "                recipe_df_filtered['title'].str.contains(pat = r'\\b(crepe|crepes)\\b', case = False, na=False, regex= True) &\n",
    "                recipe_df_filtered['NER_list'].str.contains(r'\\b(peanut|peanut butter|chocolate|sugar)\\b', case = False, na=False) &                \n",
    "                ~recipe_df_filtered['NER_list'].str.contains(r'\\b(salmon|fish|beef|chicken|steak|bacon|turkey|pork|meat|potatoes|potato|broccoli|mushroom)\\b', case = False, na=False) &\n",
    "                recipe_df_filtered['Meal_Type'].isnull(),\n",
    "                'Meal_Type'\n",
    "] = 'dessert'"
   ]
  },
  {
   "cell_type": "code",
   "execution_count": 135,
   "id": "4cb3a46b-f5e6-480a-ba0a-5bc1fc9f7aa0",
   "metadata": {
    "scrolled": true
   },
   "outputs": [
    {
     "name": "stderr",
     "output_type": "stream",
     "text": [
      "C:\\Users\\cryst\\AppData\\Local\\Temp\\ipykernel_62288\\1474322512.py:2: UserWarning: This pattern is interpreted as a regular expression, and has match groups. To actually get the groups, use str.extract.\n",
      "  recipe_df_filtered['title'].str.contains(pat = r'\\b(cream puff|cream puffs|creampuff|creampuffs)\\b', case = False, na=False, regex= True) &\n",
      "C:\\Users\\cryst\\AppData\\Local\\Temp\\ipykernel_62288\\1474322512.py:3: UserWarning: This pattern is interpreted as a regular expression, and has match groups. To actually get the groups, use str.extract.\n",
      "  ~recipe_df_filtered['NER_list'].str.contains(r'\\b(salmon|fish|beef|chicken|steak|bacon|turkey|pork|meat|potatoes|potato|tuna)\\b', case = False, na=False) &\n"
     ]
    }
   ],
   "source": [
    "recipe_df_filtered.loc[\n",
    "                recipe_df_filtered['title'].str.contains(pat = r'\\b(cream puff|cream puffs|creampuff|creampuffs)\\b', case = False, na=False, regex= True) &\n",
    "                ~recipe_df_filtered['NER_list'].str.contains(r'\\b(salmon|fish|beef|chicken|steak|bacon|turkey|pork|meat|potatoes|potato|tuna)\\b', case = False, na=False) &\n",
    "                recipe_df_filtered['Meal_Type'].isnull(),\n",
    "                'Meal_Type'\n",
    "] = 'dessert'"
   ]
  },
  {
   "cell_type": "code",
   "execution_count": 136,
   "id": "a043e621-2236-46a3-84fd-fd9adf8f7de2",
   "metadata": {
    "scrolled": true
   },
   "outputs": [
    {
     "name": "stderr",
     "output_type": "stream",
     "text": [
      "C:\\Users\\cryst\\AppData\\Local\\Temp\\ipykernel_62288\\1338378586.py:2: UserWarning: This pattern is interpreted as a regular expression, and has match groups. To actually get the groups, use str.extract.\n",
      "  recipe_df_filtered['title'].str.contains(pat = r'\\b(gingerbread|gingerbreads|ginger bread|ginger breads)\\b', case = False, na=False, regex= True) &\n",
      "C:\\Users\\cryst\\AppData\\Local\\Temp\\ipykernel_62288\\1338378586.py:3: UserWarning: This pattern is interpreted as a regular expression, and has match groups. To actually get the groups, use str.extract.\n",
      "  ~recipe_df_filtered['NER_list'].str.contains(r'\\b(salmon|fish|beef|chicken|steak|bacon|turkey|pork|meat|potatoes|potato|tuna)\\b', case = False, na=False) &\n"
     ]
    }
   ],
   "source": [
    "recipe_df_filtered.loc[\n",
    "                recipe_df_filtered['title'].str.contains(pat = r'\\b(gingerbread|gingerbreads|ginger bread|ginger breads)\\b', case = False, na=False, regex= True) &\n",
    "                ~recipe_df_filtered['NER_list'].str.contains(r'\\b(salmon|fish|beef|chicken|steak|bacon|turkey|pork|meat|potatoes|potato|tuna)\\b', case = False, na=False) &\n",
    "                recipe_df_filtered['Meal_Type'].isnull(),\n",
    "                'Meal_Type'\n",
    "] = 'dessert'"
   ]
  },
  {
   "cell_type": "code",
   "execution_count": 137,
   "id": "d9db5236-1651-4db5-9672-184106174583",
   "metadata": {
    "scrolled": true
   },
   "outputs": [
    {
     "name": "stderr",
     "output_type": "stream",
     "text": [
      "C:\\Users\\cryst\\AppData\\Local\\Temp\\ipykernel_62288\\54252470.py:2: UserWarning: This pattern is interpreted as a regular expression, and has match groups. To actually get the groups, use str.extract.\n",
      "  recipe_df_filtered['title'].str.contains(pat = r'\\b(candy)\\b', case = False, na=False, regex= True) &\n",
      "C:\\Users\\cryst\\AppData\\Local\\Temp\\ipykernel_62288\\54252470.py:3: UserWarning: This pattern is interpreted as a regular expression, and has match groups. To actually get the groups, use str.extract.\n",
      "  ~recipe_df_filtered['NER_list'].str.contains(r'\\b(salmon|fish|beef|chicken|steak|bacon|turkey|pork|meat|potatoes|potato|tuna)\\b', case = False, na=False) &\n"
     ]
    }
   ],
   "source": [
    "recipe_df_filtered.loc[\n",
    "                recipe_df_filtered['title'].str.contains(pat = r'\\b(candy)\\b', case = False, na=False, regex= True) &\n",
    "                ~recipe_df_filtered['NER_list'].str.contains(r'\\b(salmon|fish|beef|chicken|steak|bacon|turkey|pork|meat|potatoes|potato|tuna)\\b', case = False, na=False) &\n",
    "                recipe_df_filtered['Meal_Type'].isnull(),\n",
    "                'Meal_Type'\n",
    "] = 'dessert'"
   ]
  },
  {
   "cell_type": "markdown",
   "id": "f7f3e645-35bc-4164-8a7f-a243a233e775",
   "metadata": {},
   "source": [
    "###### Drink Recipes"
   ]
  },
  {
   "cell_type": "markdown",
   "id": "957dd2b2-0907-48c5-9de6-383f3447c3dc",
   "metadata": {
    "jp-MarkdownHeadingCollapsed": true
   },
   "source": [
    "**Filters on `Title`**"
   ]
  },
  {
   "cell_type": "code",
   "execution_count": 140,
   "id": "d0568b97-6bdd-483d-8f4d-5a97e606e763",
   "metadata": {
    "scrolled": true
   },
   "outputs": [
    {
     "name": "stderr",
     "output_type": "stream",
     "text": [
      "C:\\Users\\cryst\\AppData\\Local\\Temp\\ipykernel_62288\\4013090750.py:31: UserWarning: This pattern is interpreted as a regular expression, and has match groups. To actually get the groups, use str.extract.\n",
      "  recipe_df_filtered['title'].str.contains(pattern, case=False, na=False, regex=True) &\n",
      "C:\\Users\\cryst\\AppData\\Local\\Temp\\ipykernel_62288\\4013090750.py:31: UserWarning: This pattern is interpreted as a regular expression, and has match groups. To actually get the groups, use str.extract.\n",
      "  recipe_df_filtered['title'].str.contains(pattern, case=False, na=False, regex=True) &\n",
      "C:\\Users\\cryst\\AppData\\Local\\Temp\\ipykernel_62288\\4013090750.py:31: UserWarning: This pattern is interpreted as a regular expression, and has match groups. To actually get the groups, use str.extract.\n",
      "  recipe_df_filtered['title'].str.contains(pattern, case=False, na=False, regex=True) &\n",
      "C:\\Users\\cryst\\AppData\\Local\\Temp\\ipykernel_62288\\4013090750.py:31: UserWarning: This pattern is interpreted as a regular expression, and has match groups. To actually get the groups, use str.extract.\n",
      "  recipe_df_filtered['title'].str.contains(pattern, case=False, na=False, regex=True) &\n",
      "C:\\Users\\cryst\\AppData\\Local\\Temp\\ipykernel_62288\\4013090750.py:31: UserWarning: This pattern is interpreted as a regular expression, and has match groups. To actually get the groups, use str.extract.\n",
      "  recipe_df_filtered['title'].str.contains(pattern, case=False, na=False, regex=True) &\n",
      "C:\\Users\\cryst\\AppData\\Local\\Temp\\ipykernel_62288\\4013090750.py:31: UserWarning: This pattern is interpreted as a regular expression, and has match groups. To actually get the groups, use str.extract.\n",
      "  recipe_df_filtered['title'].str.contains(pattern, case=False, na=False, regex=True) &\n",
      "C:\\Users\\cryst\\AppData\\Local\\Temp\\ipykernel_62288\\4013090750.py:31: UserWarning: This pattern is interpreted as a regular expression, and has match groups. To actually get the groups, use str.extract.\n",
      "  recipe_df_filtered['title'].str.contains(pattern, case=False, na=False, regex=True) &\n",
      "C:\\Users\\cryst\\AppData\\Local\\Temp\\ipykernel_62288\\4013090750.py:31: UserWarning: This pattern is interpreted as a regular expression, and has match groups. To actually get the groups, use str.extract.\n",
      "  recipe_df_filtered['title'].str.contains(pattern, case=False, na=False, regex=True) &\n",
      "C:\\Users\\cryst\\AppData\\Local\\Temp\\ipykernel_62288\\4013090750.py:31: UserWarning: This pattern is interpreted as a regular expression, and has match groups. To actually get the groups, use str.extract.\n",
      "  recipe_df_filtered['title'].str.contains(pattern, case=False, na=False, regex=True) &\n",
      "C:\\Users\\cryst\\AppData\\Local\\Temp\\ipykernel_62288\\4013090750.py:31: UserWarning: This pattern is interpreted as a regular expression, and has match groups. To actually get the groups, use str.extract.\n",
      "  recipe_df_filtered['title'].str.contains(pattern, case=False, na=False, regex=True) &\n",
      "C:\\Users\\cryst\\AppData\\Local\\Temp\\ipykernel_62288\\4013090750.py:31: UserWarning: This pattern is interpreted as a regular expression, and has match groups. To actually get the groups, use str.extract.\n",
      "  recipe_df_filtered['title'].str.contains(pattern, case=False, na=False, regex=True) &\n",
      "C:\\Users\\cryst\\AppData\\Local\\Temp\\ipykernel_62288\\4013090750.py:31: UserWarning: This pattern is interpreted as a regular expression, and has match groups. To actually get the groups, use str.extract.\n",
      "  recipe_df_filtered['title'].str.contains(pattern, case=False, na=False, regex=True) &\n",
      "C:\\Users\\cryst\\AppData\\Local\\Temp\\ipykernel_62288\\4013090750.py:31: UserWarning: This pattern is interpreted as a regular expression, and has match groups. To actually get the groups, use str.extract.\n",
      "  recipe_df_filtered['title'].str.contains(pattern, case=False, na=False, regex=True) &\n",
      "C:\\Users\\cryst\\AppData\\Local\\Temp\\ipykernel_62288\\4013090750.py:31: UserWarning: This pattern is interpreted as a regular expression, and has match groups. To actually get the groups, use str.extract.\n",
      "  recipe_df_filtered['title'].str.contains(pattern, case=False, na=False, regex=True) &\n",
      "C:\\Users\\cryst\\AppData\\Local\\Temp\\ipykernel_62288\\4013090750.py:31: UserWarning: This pattern is interpreted as a regular expression, and has match groups. To actually get the groups, use str.extract.\n",
      "  recipe_df_filtered['title'].str.contains(pattern, case=False, na=False, regex=True) &\n",
      "C:\\Users\\cryst\\AppData\\Local\\Temp\\ipykernel_62288\\4013090750.py:31: UserWarning: This pattern is interpreted as a regular expression, and has match groups. To actually get the groups, use str.extract.\n",
      "  recipe_df_filtered['title'].str.contains(pattern, case=False, na=False, regex=True) &\n",
      "C:\\Users\\cryst\\AppData\\Local\\Temp\\ipykernel_62288\\4013090750.py:31: UserWarning: This pattern is interpreted as a regular expression, and has match groups. To actually get the groups, use str.extract.\n",
      "  recipe_df_filtered['title'].str.contains(pattern, case=False, na=False, regex=True) &\n",
      "C:\\Users\\cryst\\AppData\\Local\\Temp\\ipykernel_62288\\4013090750.py:31: UserWarning: This pattern is interpreted as a regular expression, and has match groups. To actually get the groups, use str.extract.\n",
      "  recipe_df_filtered['title'].str.contains(pattern, case=False, na=False, regex=True) &\n",
      "C:\\Users\\cryst\\AppData\\Local\\Temp\\ipykernel_62288\\4013090750.py:31: UserWarning: This pattern is interpreted as a regular expression, and has match groups. To actually get the groups, use str.extract.\n",
      "  recipe_df_filtered['title'].str.contains(pattern, case=False, na=False, regex=True) &\n",
      "C:\\Users\\cryst\\AppData\\Local\\Temp\\ipykernel_62288\\4013090750.py:31: UserWarning: This pattern is interpreted as a regular expression, and has match groups. To actually get the groups, use str.extract.\n",
      "  recipe_df_filtered['title'].str.contains(pattern, case=False, na=False, regex=True) &\n",
      "C:\\Users\\cryst\\AppData\\Local\\Temp\\ipykernel_62288\\4013090750.py:31: UserWarning: This pattern is interpreted as a regular expression, and has match groups. To actually get the groups, use str.extract.\n",
      "  recipe_df_filtered['title'].str.contains(pattern, case=False, na=False, regex=True) &\n",
      "C:\\Users\\cryst\\AppData\\Local\\Temp\\ipykernel_62288\\4013090750.py:31: UserWarning: This pattern is interpreted as a regular expression, and has match groups. To actually get the groups, use str.extract.\n",
      "  recipe_df_filtered['title'].str.contains(pattern, case=False, na=False, regex=True) &\n",
      "C:\\Users\\cryst\\AppData\\Local\\Temp\\ipykernel_62288\\4013090750.py:31: UserWarning: This pattern is interpreted as a regular expression, and has match groups. To actually get the groups, use str.extract.\n",
      "  recipe_df_filtered['title'].str.contains(pattern, case=False, na=False, regex=True) &\n",
      "C:\\Users\\cryst\\AppData\\Local\\Temp\\ipykernel_62288\\4013090750.py:31: UserWarning: This pattern is interpreted as a regular expression, and has match groups. To actually get the groups, use str.extract.\n",
      "  recipe_df_filtered['title'].str.contains(pattern, case=False, na=False, regex=True) &\n",
      "C:\\Users\\cryst\\AppData\\Local\\Temp\\ipykernel_62288\\4013090750.py:31: UserWarning: This pattern is interpreted as a regular expression, and has match groups. To actually get the groups, use str.extract.\n",
      "  recipe_df_filtered['title'].str.contains(pattern, case=False, na=False, regex=True) &\n"
     ]
    }
   ],
   "source": [
    "patterns = [\n",
    "    r'\\b(drink|drinks)\\b',\n",
    "    r'\\b(beverage|beverages)\\b',\n",
    "    r'\\b(hot)\\s*(tea)\\b',\n",
    "    r'\\b(ice|iced)\\s*(tea|teas)\\b',\n",
    "    r'\\b(spritzer|spritzers)\\b',\n",
    "    r'\\b(hot)\\s*(chocolate|chocolates)\\b',\n",
    "    r'\\b(chocolate)\\s*(milk)\\b',\n",
    "    r'\\b(milk)\\s*(shake)\\b',\n",
    "    r'\\b(juice|juices)\\b',\n",
    "    r'\\b(sparkler)\\b',\n",
    "    r'\\b(punch)\\b',\n",
    "    r'\\b(lemonade)\\b',\n",
    "    r'\\b(float|floats)\\b',\n",
    "    r'\\b(shake|shakes)\\b',\n",
    "    r'\\b(cream)\\s*(soda|sodas)\\b',\n",
    "    r'\\b(slush|slushie)\\b',\n",
    "    r'\\b(agua)\\b',\n",
    "    r'\\b(cappuccino|chocolate)\\s*(mix)\\b',\n",
    "    r'\\b(coffee)\\s*(mix)\\b',\n",
    "    r'\\b(water)\\s*(ice)\\b',\n",
    "    r'\\b(chai)\\s*(tea)\\b',\n",
    "    r'\\b(chai)\\s*(mix)\\b',\n",
    "    r'\\b(latte)\\b',\n",
    "    r'\\b(sherbet|sherbets)\\b',\n",
    "    r'\\b(cappuccino|cappuccinos)\\b'\n",
    "]\n",
    "\n",
    "for pattern in patterns:\n",
    "    recipe_df_filtered.loc[\n",
    "        recipe_df_filtered['title'].str.contains(pattern, case=False, na=False, regex=True) &\n",
    "        recipe_df_filtered['Meal_Type'].isnull(),\n",
    "        'Meal_Type'\n",
    "    ] = 'drink'"
   ]
  },
  {
   "cell_type": "markdown",
   "id": "1338b639-f10e-4ad4-83f8-89465d7e006c",
   "metadata": {},
   "source": [
    "**Other filters on `directions` and `NER_list`**"
   ]
  },
  {
   "cell_type": "code",
   "execution_count": 142,
   "id": "9ae0cf33-5ff3-4f24-b160-25c9c3178ab0",
   "metadata": {},
   "outputs": [],
   "source": [
    "recipe_df_filtered.loc[\n",
    "            recipe_df_filtered['NER_list'].str.contains('orange juice', case = False, na=False) &\n",
    "            recipe_df_filtered['NER_list'].str.contains('champagne', case = False, na=False),\n",
    "            'Meal_Type'] = 'drink'"
   ]
  },
  {
   "cell_type": "markdown",
   "id": "f0c63519-499c-44a2-b3e2-7527e381d18a",
   "metadata": {
    "jp-MarkdownHeadingCollapsed": true
   },
   "source": [
    "###### Dinner Recipes"
   ]
  },
  {
   "cell_type": "markdown",
   "id": "52dc1c4d-24f3-4041-9534-01462eebd742",
   "metadata": {},
   "source": [
    "**Filters on `Title`**"
   ]
  },
  {
   "cell_type": "code",
   "execution_count": 145,
   "id": "69c1dee2-9e90-4b4a-8ad5-ac9fb1fae252",
   "metadata": {
    "scrolled": true
   },
   "outputs": [
    {
     "name": "stderr",
     "output_type": "stream",
     "text": [
      "C:\\Users\\cryst\\AppData\\Local\\Temp\\ipykernel_62288\\2550123031.py:21: UserWarning: This pattern is interpreted as a regular expression, and has match groups. To actually get the groups, use str.extract.\n",
      "  recipe_df_filtered['title'].str.contains(pattern, case=False, na=False, regex=True) &\n",
      "C:\\Users\\cryst\\AppData\\Local\\Temp\\ipykernel_62288\\2550123031.py:21: UserWarning: This pattern is interpreted as a regular expression, and has match groups. To actually get the groups, use str.extract.\n",
      "  recipe_df_filtered['title'].str.contains(pattern, case=False, na=False, regex=True) &\n",
      "C:\\Users\\cryst\\AppData\\Local\\Temp\\ipykernel_62288\\2550123031.py:21: UserWarning: This pattern is interpreted as a regular expression, and has match groups. To actually get the groups, use str.extract.\n",
      "  recipe_df_filtered['title'].str.contains(pattern, case=False, na=False, regex=True) &\n",
      "C:\\Users\\cryst\\AppData\\Local\\Temp\\ipykernel_62288\\2550123031.py:21: UserWarning: This pattern is interpreted as a regular expression, and has match groups. To actually get the groups, use str.extract.\n",
      "  recipe_df_filtered['title'].str.contains(pattern, case=False, na=False, regex=True) &\n",
      "C:\\Users\\cryst\\AppData\\Local\\Temp\\ipykernel_62288\\2550123031.py:21: UserWarning: This pattern is interpreted as a regular expression, and has match groups. To actually get the groups, use str.extract.\n",
      "  recipe_df_filtered['title'].str.contains(pattern, case=False, na=False, regex=True) &\n",
      "C:\\Users\\cryst\\AppData\\Local\\Temp\\ipykernel_62288\\2550123031.py:21: UserWarning: This pattern is interpreted as a regular expression, and has match groups. To actually get the groups, use str.extract.\n",
      "  recipe_df_filtered['title'].str.contains(pattern, case=False, na=False, regex=True) &\n",
      "C:\\Users\\cryst\\AppData\\Local\\Temp\\ipykernel_62288\\2550123031.py:21: UserWarning: This pattern is interpreted as a regular expression, and has match groups. To actually get the groups, use str.extract.\n",
      "  recipe_df_filtered['title'].str.contains(pattern, case=False, na=False, regex=True) &\n",
      "C:\\Users\\cryst\\AppData\\Local\\Temp\\ipykernel_62288\\2550123031.py:21: UserWarning: This pattern is interpreted as a regular expression, and has match groups. To actually get the groups, use str.extract.\n",
      "  recipe_df_filtered['title'].str.contains(pattern, case=False, na=False, regex=True) &\n",
      "C:\\Users\\cryst\\AppData\\Local\\Temp\\ipykernel_62288\\2550123031.py:21: UserWarning: This pattern is interpreted as a regular expression, and has match groups. To actually get the groups, use str.extract.\n",
      "  recipe_df_filtered['title'].str.contains(pattern, case=False, na=False, regex=True) &\n",
      "C:\\Users\\cryst\\AppData\\Local\\Temp\\ipykernel_62288\\2550123031.py:21: UserWarning: This pattern is interpreted as a regular expression, and has match groups. To actually get the groups, use str.extract.\n",
      "  recipe_df_filtered['title'].str.contains(pattern, case=False, na=False, regex=True) &\n",
      "C:\\Users\\cryst\\AppData\\Local\\Temp\\ipykernel_62288\\2550123031.py:21: UserWarning: This pattern is interpreted as a regular expression, and has match groups. To actually get the groups, use str.extract.\n",
      "  recipe_df_filtered['title'].str.contains(pattern, case=False, na=False, regex=True) &\n",
      "C:\\Users\\cryst\\AppData\\Local\\Temp\\ipykernel_62288\\2550123031.py:21: UserWarning: This pattern is interpreted as a regular expression, and has match groups. To actually get the groups, use str.extract.\n",
      "  recipe_df_filtered['title'].str.contains(pattern, case=False, na=False, regex=True) &\n",
      "C:\\Users\\cryst\\AppData\\Local\\Temp\\ipykernel_62288\\2550123031.py:21: UserWarning: This pattern is interpreted as a regular expression, and has match groups. To actually get the groups, use str.extract.\n",
      "  recipe_df_filtered['title'].str.contains(pattern, case=False, na=False, regex=True) &\n",
      "C:\\Users\\cryst\\AppData\\Local\\Temp\\ipykernel_62288\\2550123031.py:21: UserWarning: This pattern is interpreted as a regular expression, and has match groups. To actually get the groups, use str.extract.\n",
      "  recipe_df_filtered['title'].str.contains(pattern, case=False, na=False, regex=True) &\n",
      "C:\\Users\\cryst\\AppData\\Local\\Temp\\ipykernel_62288\\2550123031.py:21: UserWarning: This pattern is interpreted as a regular expression, and has match groups. To actually get the groups, use str.extract.\n",
      "  recipe_df_filtered['title'].str.contains(pattern, case=False, na=False, regex=True) &\n"
     ]
    }
   ],
   "source": [
    "patterns = [\n",
    "    r'\\b(pie|pies)\\b',\n",
    "    r'\\b(dinner|dinners|supper|suppers|feast)\\b',\n",
    "    r'\\b(main|banquet|banquets)\\b',\n",
    "    r'\\b(steak|steaks)\\b',\n",
    "    r'\\b(pasta|pastas)\\b',\n",
    "    r'\\b(carbonara|carbonaras)\\b',\n",
    "    r'\\b(alfredo)\\b',\n",
    "    r'\\b(fettuccine|fettuccines|fettucine|fettucine)\\b',\n",
    "    r'\\b(spaghetti|spaghettis)\\b',\n",
    "    r'\\b(lasagna|lasagnas)\\b',\n",
    "    r'\\b(stew|stews|stewed)\\b',\n",
    "    r'\\b(roast|roasted|roasts)\\b',\n",
    "    r'\\b(paella|risotto)\\b',\n",
    "    r'\\b(stir fry|stir-fry|stirfry)\\b',\n",
    "    r'\\b(scalloped)\\b'\n",
    "]\n",
    "\n",
    "for pattern in patterns:\n",
    "    recipe_df_filtered.loc[\n",
    "        recipe_df_filtered['title'].str.contains(pattern, case=False, na=False, regex=True) &\n",
    "        recipe_df_filtered['Meal_Type'].isnull(),\n",
    "        'Meal_Type'\n",
    "    ] = 'dinner'"
   ]
  },
  {
   "cell_type": "markdown",
   "id": "74f50250-be43-485e-b2d0-e76341bb6fbc",
   "metadata": {},
   "source": [
    "**Other filters on, `directions`, and `title` with `NER_list` ingredients**"
   ]
  },
  {
   "cell_type": "code",
   "execution_count": 147,
   "id": "3e47e379-9241-4dfd-b1a0-d7ab2c95b260",
   "metadata": {},
   "outputs": [
    {
     "name": "stderr",
     "output_type": "stream",
     "text": [
      "C:\\Users\\cryst\\AppData\\Local\\Temp\\ipykernel_62288\\338580510.py:2: UserWarning: This pattern is interpreted as a regular expression, and has match groups. To actually get the groups, use str.extract.\n",
      "  recipe_df_filtered['title'].str.contains(pat = r'\\b(grill|grilled)\\b', case = False, na=False, regex= True) &\n",
      "C:\\Users\\cryst\\AppData\\Local\\Temp\\ipykernel_62288\\338580510.py:3: UserWarning: This pattern is interpreted as a regular expression, and has match groups. To actually get the groups, use str.extract.\n",
      "  ~recipe_df_filtered['title'].str.contains(r'\\b(chicken|chickens)\\b', case = False, na=False) &\n"
     ]
    }
   ],
   "source": [
    "recipe_df_filtered.loc[\n",
    "            recipe_df_filtered['title'].str.contains(pat = r'\\b(grill|grilled)\\b', case = False, na=False, regex= True) &\n",
    "            ~recipe_df_filtered['title'].str.contains(r'\\b(chicken|chickens)\\b', case = False, na=False) &\n",
    "            recipe_df_filtered['Meal_Type'].isnull(),\n",
    "            'Meal_Type'\n",
    "] = 'dinner'"
   ]
  },
  {
   "cell_type": "code",
   "execution_count": 148,
   "id": "e08e5b30-a79e-4cc5-9715-44e7bf3a8c55",
   "metadata": {
    "scrolled": true
   },
   "outputs": [
    {
     "name": "stderr",
     "output_type": "stream",
     "text": [
      "C:\\Users\\cryst\\AppData\\Local\\Temp\\ipykernel_62288\\3708788019.py:2: UserWarning: This pattern is interpreted as a regular expression, and has match groups. To actually get the groups, use str.extract.\n",
      "  recipe_df_filtered['title'].str.contains(pat = r'\\b(fondue|fondues)\\b', case = False, na=False, regex= True) &\n",
      "C:\\Users\\cryst\\AppData\\Local\\Temp\\ipykernel_62288\\3708788019.py:3: UserWarning: This pattern is interpreted as a regular expression, and has match groups. To actually get the groups, use str.extract.\n",
      "  recipe_df_filtered['NER_list'].str.contains(r'\\b(cheese|garlic|salt|pepper|nutmeg|beef|fish|mustard)\\b', case = False, na=False) &\n"
     ]
    }
   ],
   "source": [
    "recipe_df_filtered.loc[\n",
    "            recipe_df_filtered['title'].str.contains(pat = r'\\b(fondue|fondues)\\b', case = False, na=False, regex= True) &\n",
    "            recipe_df_filtered['NER_list'].str.contains(r'\\b(cheese|garlic|salt|pepper|nutmeg|beef|fish|mustard)\\b', case = False, na=False) &\n",
    "            recipe_df_filtered['Meal_Type'].isnull(),\n",
    "            'Meal_Type'\n",
    "] = 'dinner'"
   ]
  },
  {
   "cell_type": "code",
   "execution_count": 149,
   "id": "52a10736-1fa2-41e2-a4a0-64c4b12b7d06",
   "metadata": {
    "scrolled": true
   },
   "outputs": [
    {
     "name": "stderr",
     "output_type": "stream",
     "text": [
      "C:\\Users\\cryst\\AppData\\Local\\Temp\\ipykernel_62288\\3256202657.py:2: UserWarning: This pattern is interpreted as a regular expression, and has match groups. To actually get the groups, use str.extract.\n",
      "  recipe_df_filtered['directions'].str.contains(pat = r'\\b(dinner|dinners|suppers|supper)\\b', case = False, na=False, regex= True) &\n"
     ]
    }
   ],
   "source": [
    "recipe_df_filtered.loc[\n",
    "            recipe_df_filtered['directions'].str.contains(pat = r'\\b(dinner|dinners|suppers|supper)\\b', case = False, na=False, regex= True) &\n",
    "            recipe_df_filtered['Meal_Type'].isnull(),\n",
    "            'Meal_Type'\n",
    "] = 'dinner'"
   ]
  },
  {
   "cell_type": "code",
   "execution_count": 150,
   "id": "80d61f4f-af98-4832-800a-273fae9a738a",
   "metadata": {
    "scrolled": true
   },
   "outputs": [
    {
     "name": "stderr",
     "output_type": "stream",
     "text": [
      "C:\\Users\\cryst\\AppData\\Local\\Temp\\ipykernel_62288\\1522571673.py:2: UserWarning: This pattern is interpreted as a regular expression, and has match groups. To actually get the groups, use str.extract.\n",
      "  recipe_df_filtered['title'].str.contains(pat = r'\\b(taco|tacos)\\b', case = False, na=False, regex= True) &\n",
      "C:\\Users\\cryst\\AppData\\Local\\Temp\\ipykernel_62288\\1522571673.py:3: UserWarning: This pattern is interpreted as a regular expression, and has match groups. To actually get the groups, use str.extract.\n",
      "  ~recipe_df_filtered['NER_list'].str.contains(r'\\b(chorizo|chorizos)\\b', case = False, na=False) &\n"
     ]
    }
   ],
   "source": [
    "recipe_df_filtered.loc[\n",
    "            recipe_df_filtered['title'].str.contains(pat = r'\\b(taco|tacos)\\b', case = False, na=False, regex= True) &\n",
    "            ~recipe_df_filtered['NER_list'].str.contains(r'\\b(chorizo|chorizos)\\b', case = False, na=False) &\n",
    "            recipe_df_filtered['Meal_Type'].isnull(),\n",
    "            'Meal_Type'\n",
    "] = 'dinner'"
   ]
  },
  {
   "cell_type": "markdown",
   "id": "3bea28dd-089f-41b8-8bfe-d42e2574a838",
   "metadata": {
    "jp-MarkdownHeadingCollapsed": true
   },
   "source": [
    "###### Lunch Recipes"
   ]
  },
  {
   "cell_type": "markdown",
   "id": "fea905d2-0198-4302-84bd-0c0a0740bbeb",
   "metadata": {},
   "source": [
    "**Filters on `Title`**"
   ]
  },
  {
   "cell_type": "code",
   "execution_count": 153,
   "id": "0c814c24-196c-4c97-99ec-fef3c4512acb",
   "metadata": {},
   "outputs": [
    {
     "name": "stderr",
     "output_type": "stream",
     "text": [
      "C:\\Users\\cryst\\AppData\\Local\\Temp\\ipykernel_62288\\2313686244.py:32: UserWarning: This pattern is interpreted as a regular expression, and has match groups. To actually get the groups, use str.extract.\n",
      "  recipe_df_filtered['title'].str.contains(pattern, case=False, na=False, regex=True) &\n",
      "C:\\Users\\cryst\\AppData\\Local\\Temp\\ipykernel_62288\\2313686244.py:32: UserWarning: This pattern is interpreted as a regular expression, and has match groups. To actually get the groups, use str.extract.\n",
      "  recipe_df_filtered['title'].str.contains(pattern, case=False, na=False, regex=True) &\n",
      "C:\\Users\\cryst\\AppData\\Local\\Temp\\ipykernel_62288\\2313686244.py:32: UserWarning: This pattern is interpreted as a regular expression, and has match groups. To actually get the groups, use str.extract.\n",
      "  recipe_df_filtered['title'].str.contains(pattern, case=False, na=False, regex=True) &\n",
      "C:\\Users\\cryst\\AppData\\Local\\Temp\\ipykernel_62288\\2313686244.py:32: UserWarning: This pattern is interpreted as a regular expression, and has match groups. To actually get the groups, use str.extract.\n",
      "  recipe_df_filtered['title'].str.contains(pattern, case=False, na=False, regex=True) &\n",
      "C:\\Users\\cryst\\AppData\\Local\\Temp\\ipykernel_62288\\2313686244.py:32: UserWarning: This pattern is interpreted as a regular expression, and has match groups. To actually get the groups, use str.extract.\n",
      "  recipe_df_filtered['title'].str.contains(pattern, case=False, na=False, regex=True) &\n",
      "C:\\Users\\cryst\\AppData\\Local\\Temp\\ipykernel_62288\\2313686244.py:32: UserWarning: This pattern is interpreted as a regular expression, and has match groups. To actually get the groups, use str.extract.\n",
      "  recipe_df_filtered['title'].str.contains(pattern, case=False, na=False, regex=True) &\n",
      "C:\\Users\\cryst\\AppData\\Local\\Temp\\ipykernel_62288\\2313686244.py:32: UserWarning: This pattern is interpreted as a regular expression, and has match groups. To actually get the groups, use str.extract.\n",
      "  recipe_df_filtered['title'].str.contains(pattern, case=False, na=False, regex=True) &\n",
      "C:\\Users\\cryst\\AppData\\Local\\Temp\\ipykernel_62288\\2313686244.py:32: UserWarning: This pattern is interpreted as a regular expression, and has match groups. To actually get the groups, use str.extract.\n",
      "  recipe_df_filtered['title'].str.contains(pattern, case=False, na=False, regex=True) &\n",
      "C:\\Users\\cryst\\AppData\\Local\\Temp\\ipykernel_62288\\2313686244.py:32: UserWarning: This pattern is interpreted as a regular expression, and has match groups. To actually get the groups, use str.extract.\n",
      "  recipe_df_filtered['title'].str.contains(pattern, case=False, na=False, regex=True) &\n",
      "C:\\Users\\cryst\\AppData\\Local\\Temp\\ipykernel_62288\\2313686244.py:32: UserWarning: This pattern is interpreted as a regular expression, and has match groups. To actually get the groups, use str.extract.\n",
      "  recipe_df_filtered['title'].str.contains(pattern, case=False, na=False, regex=True) &\n",
      "C:\\Users\\cryst\\AppData\\Local\\Temp\\ipykernel_62288\\2313686244.py:32: UserWarning: This pattern is interpreted as a regular expression, and has match groups. To actually get the groups, use str.extract.\n",
      "  recipe_df_filtered['title'].str.contains(pattern, case=False, na=False, regex=True) &\n",
      "C:\\Users\\cryst\\AppData\\Local\\Temp\\ipykernel_62288\\2313686244.py:32: UserWarning: This pattern is interpreted as a regular expression, and has match groups. To actually get the groups, use str.extract.\n",
      "  recipe_df_filtered['title'].str.contains(pattern, case=False, na=False, regex=True) &\n",
      "C:\\Users\\cryst\\AppData\\Local\\Temp\\ipykernel_62288\\2313686244.py:32: UserWarning: This pattern is interpreted as a regular expression, and has match groups. To actually get the groups, use str.extract.\n",
      "  recipe_df_filtered['title'].str.contains(pattern, case=False, na=False, regex=True) &\n",
      "C:\\Users\\cryst\\AppData\\Local\\Temp\\ipykernel_62288\\2313686244.py:32: UserWarning: This pattern is interpreted as a regular expression, and has match groups. To actually get the groups, use str.extract.\n",
      "  recipe_df_filtered['title'].str.contains(pattern, case=False, na=False, regex=True) &\n",
      "C:\\Users\\cryst\\AppData\\Local\\Temp\\ipykernel_62288\\2313686244.py:32: UserWarning: This pattern is interpreted as a regular expression, and has match groups. To actually get the groups, use str.extract.\n",
      "  recipe_df_filtered['title'].str.contains(pattern, case=False, na=False, regex=True) &\n",
      "C:\\Users\\cryst\\AppData\\Local\\Temp\\ipykernel_62288\\2313686244.py:32: UserWarning: This pattern is interpreted as a regular expression, and has match groups. To actually get the groups, use str.extract.\n",
      "  recipe_df_filtered['title'].str.contains(pattern, case=False, na=False, regex=True) &\n",
      "C:\\Users\\cryst\\AppData\\Local\\Temp\\ipykernel_62288\\2313686244.py:32: UserWarning: This pattern is interpreted as a regular expression, and has match groups. To actually get the groups, use str.extract.\n",
      "  recipe_df_filtered['title'].str.contains(pattern, case=False, na=False, regex=True) &\n",
      "C:\\Users\\cryst\\AppData\\Local\\Temp\\ipykernel_62288\\2313686244.py:32: UserWarning: This pattern is interpreted as a regular expression, and has match groups. To actually get the groups, use str.extract.\n",
      "  recipe_df_filtered['title'].str.contains(pattern, case=False, na=False, regex=True) &\n",
      "C:\\Users\\cryst\\AppData\\Local\\Temp\\ipykernel_62288\\2313686244.py:32: UserWarning: This pattern is interpreted as a regular expression, and has match groups. To actually get the groups, use str.extract.\n",
      "  recipe_df_filtered['title'].str.contains(pattern, case=False, na=False, regex=True) &\n",
      "C:\\Users\\cryst\\AppData\\Local\\Temp\\ipykernel_62288\\2313686244.py:32: UserWarning: This pattern is interpreted as a regular expression, and has match groups. To actually get the groups, use str.extract.\n",
      "  recipe_df_filtered['title'].str.contains(pattern, case=False, na=False, regex=True) &\n",
      "C:\\Users\\cryst\\AppData\\Local\\Temp\\ipykernel_62288\\2313686244.py:32: UserWarning: This pattern is interpreted as a regular expression, and has match groups. To actually get the groups, use str.extract.\n",
      "  recipe_df_filtered['title'].str.contains(pattern, case=False, na=False, regex=True) &\n",
      "C:\\Users\\cryst\\AppData\\Local\\Temp\\ipykernel_62288\\2313686244.py:32: UserWarning: This pattern is interpreted as a regular expression, and has match groups. To actually get the groups, use str.extract.\n",
      "  recipe_df_filtered['title'].str.contains(pattern, case=False, na=False, regex=True) &\n",
      "C:\\Users\\cryst\\AppData\\Local\\Temp\\ipykernel_62288\\2313686244.py:32: UserWarning: This pattern is interpreted as a regular expression, and has match groups. To actually get the groups, use str.extract.\n",
      "  recipe_df_filtered['title'].str.contains(pattern, case=False, na=False, regex=True) &\n",
      "C:\\Users\\cryst\\AppData\\Local\\Temp\\ipykernel_62288\\2313686244.py:32: UserWarning: This pattern is interpreted as a regular expression, and has match groups. To actually get the groups, use str.extract.\n",
      "  recipe_df_filtered['title'].str.contains(pattern, case=False, na=False, regex=True) &\n",
      "C:\\Users\\cryst\\AppData\\Local\\Temp\\ipykernel_62288\\2313686244.py:32: UserWarning: This pattern is interpreted as a regular expression, and has match groups. To actually get the groups, use str.extract.\n",
      "  recipe_df_filtered['title'].str.contains(pattern, case=False, na=False, regex=True) &\n",
      "C:\\Users\\cryst\\AppData\\Local\\Temp\\ipykernel_62288\\2313686244.py:32: UserWarning: This pattern is interpreted as a regular expression, and has match groups. To actually get the groups, use str.extract.\n",
      "  recipe_df_filtered['title'].str.contains(pattern, case=False, na=False, regex=True) &\n"
     ]
    }
   ],
   "source": [
    "patterns = [\n",
    "    r'\\b(macaroni and cheese|mac and cheese|mac n cheese)\\b',\n",
    "    r'\\b(sandwich|sandwiches)\\b',\n",
    "    r'\\b(wrap|wraps)\\b',\n",
    "    r'\\b(caesar salad|caesar salads|greek salad|greek salads|chicken salad|chicken salads)\\b',\n",
    "    r'\\b(panini|paninis)\\b',\n",
    "    r'\\b(bowl|bowls)\\b',\n",
    "    r'\\b(lunch|lunches)\\b',\n",
    "    r'\\b(bento|bentos)\\b',\n",
    "    r'\\b(caprese)\\b',\n",
    "    r'\\b(aglio)\\b',\n",
    "    r'\\b(pita|pitas)\\b',\n",
    "    r'\\b(grilled chicken|grilled chickens)\\b',\n",
    "    r'\\b(shredded)\\b',\n",
    "    r'\\b(burger|burgers)\\b',\n",
    "    r'\\b(crostini|crostinis)\\b',\n",
    "    r'\\b(gourmet)\\b',\n",
    "    r'\\b(fried rice)\\b',\n",
    "    r'\\b(blt)\\b',\n",
    "    r'\\b(roll|rolls)\\b',\n",
    "    r'\\b(rice)\\b',\n",
    "    r'\\b(leftover|leftovers)\\b',\n",
    "    r'\\b(noodle|noodles|noodle soup|noodle soups)\\b',\n",
    "    r'\\b(fried chicken|fried chickens)\\b',\n",
    "    r'\\b(meat loaf|meatloaf)\\b',\n",
    "    r'\\b(tater|taters)\\b',\n",
    "    r'\\b(barbecue rib|barbecue ribs|barbecued rib|barbecued ribs)\\b'\n",
    "]\n",
    "\n",
    "for pattern in patterns:\n",
    "    recipe_df_filtered.loc[\n",
    "        recipe_df_filtered['title'].str.contains(pattern, case=False, na=False, regex=True) &\n",
    "        recipe_df_filtered['Meal_Type'].isnull(),\n",
    "        'Meal_Type'\n",
    "    ] = 'lunch'"
   ]
  },
  {
   "cell_type": "markdown",
   "id": "b38828ed-0b63-424b-8e3d-d8c6f5888665",
   "metadata": {},
   "source": [
    "**Other filters on, `directions`, and `title` with `NER_list` ingredients**"
   ]
  },
  {
   "cell_type": "code",
   "execution_count": 155,
   "id": "ee24223d-e863-4a5a-9f3c-1b416a78609b",
   "metadata": {},
   "outputs": [
    {
     "name": "stderr",
     "output_type": "stream",
     "text": [
      "C:\\Users\\cryst\\AppData\\Local\\Temp\\ipykernel_62288\\174079917.py:2: UserWarning: This pattern is interpreted as a regular expression, and has match groups. To actually get the groups, use str.extract.\n",
      "  recipe_df_filtered['title'].str.contains(pat = r'\\b(pie|pies)\\b', case = False, na=False, regex= True) &\n",
      "C:\\Users\\cryst\\AppData\\Local\\Temp\\ipykernel_62288\\174079917.py:3: UserWarning: This pattern is interpreted as a regular expression, and has match groups. To actually get the groups, use str.extract.\n",
      "  recipe_df_filtered['NER_list'].str.contains(pat = r'\\b(spinach|feta|ham|cheese|chicken|beef|mushroom)\\b', case = False, na=False, regex= True) &\n"
     ]
    }
   ],
   "source": [
    "recipe_df_filtered.loc[\n",
    "            recipe_df_filtered['title'].str.contains(pat = r'\\b(pie|pies)\\b', case = False, na=False, regex= True) &\n",
    "            recipe_df_filtered['NER_list'].str.contains(pat = r'\\b(spinach|feta|ham|cheese|chicken|beef|mushroom)\\b', case = False, na=False, regex= True) &\n",
    "            recipe_df_filtered['Meal_Type'].isnull(),\n",
    "            'Meal_Type'\n",
    "] = 'lunch'"
   ]
  },
  {
   "cell_type": "code",
   "execution_count": 156,
   "id": "9708ca83-0b99-4655-9793-7ac842769a2d",
   "metadata": {},
   "outputs": [
    {
     "name": "stderr",
     "output_type": "stream",
     "text": [
      "C:\\Users\\cryst\\AppData\\Local\\Temp\\ipykernel_62288\\55648467.py:2: UserWarning: This pattern is interpreted as a regular expression, and has match groups. To actually get the groups, use str.extract.\n",
      "  recipe_df_filtered['directions'].str.contains(pat = r'\\b(lunch|lunches)\\b', case = False, na=False, regex= True),\n"
     ]
    }
   ],
   "source": [
    "recipe_df_filtered.loc[\n",
    "            recipe_df_filtered['directions'].str.contains(pat = r'\\b(lunch|lunches)\\b', case = False, na=False, regex= True),\n",
    "            'Meal_Type'\n",
    "] = 'lunch'"
   ]
  },
  {
   "cell_type": "code",
   "execution_count": 157,
   "id": "c230e607-cb70-4cd3-a742-3666f538a7f9",
   "metadata": {},
   "outputs": [
    {
     "name": "stderr",
     "output_type": "stream",
     "text": [
      "C:\\Users\\cryst\\AppData\\Local\\Temp\\ipykernel_62288\\4187130674.py:2: UserWarning: This pattern is interpreted as a regular expression, and has match groups. To actually get the groups, use str.extract.\n",
      "  recipe_df_filtered['title'].str.contains(pat = r'\\b(taco|tacos)\\b', case = False, na=False, regex= True) &\n",
      "C:\\Users\\cryst\\AppData\\Local\\Temp\\ipykernel_62288\\4187130674.py:3: UserWarning: This pattern is interpreted as a regular expression, and has match groups. To actually get the groups, use str.extract.\n",
      "  recipe_df_filtered['NER_list'].str.contains(r'\\b(chorizo|chorizos)\\b', case = False, na=False) &\n"
     ]
    }
   ],
   "source": [
    "recipe_df_filtered.loc[\n",
    "            recipe_df_filtered['title'].str.contains(pat = r'\\b(taco|tacos)\\b', case = False, na=False, regex= True) &\n",
    "            recipe_df_filtered['NER_list'].str.contains(r'\\b(chorizo|chorizos)\\b', case = False, na=False) &\n",
    "            recipe_df_filtered['Meal_Type'].isnull(),\n",
    "            'Meal_Type'\n",
    "] = 'lunch'"
   ]
  },
  {
   "cell_type": "markdown",
   "id": "56d8e542-9549-4770-97b1-18862b0caf3f",
   "metadata": {
    "jp-MarkdownHeadingCollapsed": true
   },
   "source": [
    "###### Salad Recipes"
   ]
  },
  {
   "cell_type": "markdown",
   "id": "12cf2f69-9a22-4d89-bb1d-1dcd75c544e3",
   "metadata": {},
   "source": [
    "**Filters on `Title`**"
   ]
  },
  {
   "cell_type": "code",
   "execution_count": 160,
   "id": "d1b12d5f-75f2-4fcb-9a17-dfd88b6b132c",
   "metadata": {
    "scrolled": true
   },
   "outputs": [
    {
     "name": "stderr",
     "output_type": "stream",
     "text": [
      "C:\\Users\\cryst\\AppData\\Local\\Temp\\ipykernel_62288\\2215378387.py:2: UserWarning: This pattern is interpreted as a regular expression, and has match groups. To actually get the groups, use str.extract.\n",
      "  recipe_df_filtered['title'].str.contains(pat = r'\\b(salad|salads)\\b', case = False, na=False, regex= True) &\n"
     ]
    }
   ],
   "source": [
    "recipe_df_filtered.loc[\n",
    "                recipe_df_filtered['title'].str.contains(pat = r'\\b(salad|salads)\\b', case = False, na=False, regex= True) &\n",
    "                recipe_df_filtered['Meal_Type'].isnull(),\n",
    "                'Meal_Type'\n",
    "] = 'salad'"
   ]
  },
  {
   "cell_type": "markdown",
   "id": "b006ef64-2cad-4e1a-b1a7-eee908856357",
   "metadata": {},
   "source": [
    "##### 4.1.4.2 Second Round of Recipe Labelling with Supervised Learning <a name=\"secondlabel\"></a>"
   ]
  },
  {
   "cell_type": "markdown",
   "id": "7aee9301-2fce-4c12-84b7-db566df660ea",
   "metadata": {},
   "source": [
    "To begin the second round of labelling, let's first create a new dataframe with the recipes that were labeled in the first round and use this subset of the data to train a random forest model to label from the ingredients that are typically part of a specific meal type. A random forest is an ensemble of decision trees. Each tree is trained on a different subset of the data. Ensemble methods generally perform well as it represents an average result across many models, in this case decision tree models."
   ]
  },
  {
   "cell_type": "code",
   "execution_count": 163,
   "id": "e3cd8f7e-3594-4392-a93a-30945af15a57",
   "metadata": {},
   "outputs": [],
   "source": [
    "test_df = recipe_df_filtered[recipe_df_filtered['Meal_Type'].notna()]"
   ]
  },
  {
   "cell_type": "code",
   "execution_count": 164,
   "id": "10788395-b9a8-46ad-94b3-63de42266e67",
   "metadata": {},
   "outputs": [
    {
     "name": "stdout",
     "output_type": "stream",
     "text": [
      "As a result of the initial labeling, we now have a total of 51205 labeled recipes to train a random forest model.\n"
     ]
    }
   ],
   "source": [
    "print(f'As a result of the initial labeling, we now have a total of {test_df.shape[0]} labeled recipes to train a random forest model.')"
   ]
  },
  {
   "cell_type": "markdown",
   "id": "121be896-5732-492d-9ddc-97e7a81dfb1d",
   "metadata": {},
   "source": [
    "For this use case, the **features X** will include the **list of ingredients**, and the **target variable Y** is the **meal type** that the specific recipe corresponds to."
   ]
  },
  {
   "cell_type": "code",
   "execution_count": 166,
   "id": "15eb3a21-3431-487c-b17d-90cb02a5f6db",
   "metadata": {},
   "outputs": [],
   "source": [
    "# Step 1. Specify X and Y\n",
    "\n",
    "X = test_df['NER_list']\n",
    "y = test_df['Meal_Type']"
   ]
  },
  {
   "cell_type": "code",
   "execution_count": 167,
   "id": "3cda3964-05bc-4ce8-ad2b-f58973fcdee3",
   "metadata": {},
   "outputs": [],
   "source": [
    "# Step 2. Split the data into training and testing sets\n",
    "\n",
    "from sklearn.model_selection import train_test_split\n",
    "\n",
    "X_train, X_test, y_train, y_test = train_test_split(X, y, test_size = 0.20, random_state = 99)"
   ]
  },
  {
   "cell_type": "code",
   "execution_count": 168,
   "id": "c590e4dd-9471-4cca-a353-28019e930f68",
   "metadata": {},
   "outputs": [],
   "source": [
    "# Step 3. Vectorize list of ingredients \n",
    "\n",
    "from sklearn.feature_extraction.text import TfidfVectorizer\n",
    "\n",
    "vectorizer = TfidfVectorizer()\n",
    "X_train_vectorized = vectorizer.fit_transform(X_train)\n",
    "X_test_vectorized = vectorizer.transform(X_test)"
   ]
  },
  {
   "cell_type": "code",
   "execution_count": 169,
   "id": "ecfb8cde-2a02-4a1f-94fd-062e402d3211",
   "metadata": {},
   "outputs": [
    {
     "data": {
      "text/html": [
       "<style>#sk-container-id-1 {\n",
       "  /* Definition of color scheme common for light and dark mode */\n",
       "  --sklearn-color-text: black;\n",
       "  --sklearn-color-line: gray;\n",
       "  /* Definition of color scheme for unfitted estimators */\n",
       "  --sklearn-color-unfitted-level-0: #fff5e6;\n",
       "  --sklearn-color-unfitted-level-1: #f6e4d2;\n",
       "  --sklearn-color-unfitted-level-2: #ffe0b3;\n",
       "  --sklearn-color-unfitted-level-3: chocolate;\n",
       "  /* Definition of color scheme for fitted estimators */\n",
       "  --sklearn-color-fitted-level-0: #f0f8ff;\n",
       "  --sklearn-color-fitted-level-1: #d4ebff;\n",
       "  --sklearn-color-fitted-level-2: #b3dbfd;\n",
       "  --sklearn-color-fitted-level-3: cornflowerblue;\n",
       "\n",
       "  /* Specific color for light theme */\n",
       "  --sklearn-color-text-on-default-background: var(--sg-text-color, var(--theme-code-foreground, var(--jp-content-font-color1, black)));\n",
       "  --sklearn-color-background: var(--sg-background-color, var(--theme-background, var(--jp-layout-color0, white)));\n",
       "  --sklearn-color-border-box: var(--sg-text-color, var(--theme-code-foreground, var(--jp-content-font-color1, black)));\n",
       "  --sklearn-color-icon: #696969;\n",
       "\n",
       "  @media (prefers-color-scheme: dark) {\n",
       "    /* Redefinition of color scheme for dark theme */\n",
       "    --sklearn-color-text-on-default-background: var(--sg-text-color, var(--theme-code-foreground, var(--jp-content-font-color1, white)));\n",
       "    --sklearn-color-background: var(--sg-background-color, var(--theme-background, var(--jp-layout-color0, #111)));\n",
       "    --sklearn-color-border-box: var(--sg-text-color, var(--theme-code-foreground, var(--jp-content-font-color1, white)));\n",
       "    --sklearn-color-icon: #878787;\n",
       "  }\n",
       "}\n",
       "\n",
       "#sk-container-id-1 {\n",
       "  color: var(--sklearn-color-text);\n",
       "}\n",
       "\n",
       "#sk-container-id-1 pre {\n",
       "  padding: 0;\n",
       "}\n",
       "\n",
       "#sk-container-id-1 input.sk-hidden--visually {\n",
       "  border: 0;\n",
       "  clip: rect(1px 1px 1px 1px);\n",
       "  clip: rect(1px, 1px, 1px, 1px);\n",
       "  height: 1px;\n",
       "  margin: -1px;\n",
       "  overflow: hidden;\n",
       "  padding: 0;\n",
       "  position: absolute;\n",
       "  width: 1px;\n",
       "}\n",
       "\n",
       "#sk-container-id-1 div.sk-dashed-wrapped {\n",
       "  border: 1px dashed var(--sklearn-color-line);\n",
       "  margin: 0 0.4em 0.5em 0.4em;\n",
       "  box-sizing: border-box;\n",
       "  padding-bottom: 0.4em;\n",
       "  background-color: var(--sklearn-color-background);\n",
       "}\n",
       "\n",
       "#sk-container-id-1 div.sk-container {\n",
       "  /* jupyter's `normalize.less` sets `[hidden] { display: none; }`\n",
       "     but bootstrap.min.css set `[hidden] { display: none !important; }`\n",
       "     so we also need the `!important` here to be able to override the\n",
       "     default hidden behavior on the sphinx rendered scikit-learn.org.\n",
       "     See: https://github.com/scikit-learn/scikit-learn/issues/21755 */\n",
       "  display: inline-block !important;\n",
       "  position: relative;\n",
       "}\n",
       "\n",
       "#sk-container-id-1 div.sk-text-repr-fallback {\n",
       "  display: none;\n",
       "}\n",
       "\n",
       "div.sk-parallel-item,\n",
       "div.sk-serial,\n",
       "div.sk-item {\n",
       "  /* draw centered vertical line to link estimators */\n",
       "  background-image: linear-gradient(var(--sklearn-color-text-on-default-background), var(--sklearn-color-text-on-default-background));\n",
       "  background-size: 2px 100%;\n",
       "  background-repeat: no-repeat;\n",
       "  background-position: center center;\n",
       "}\n",
       "\n",
       "/* Parallel-specific style estimator block */\n",
       "\n",
       "#sk-container-id-1 div.sk-parallel-item::after {\n",
       "  content: \"\";\n",
       "  width: 100%;\n",
       "  border-bottom: 2px solid var(--sklearn-color-text-on-default-background);\n",
       "  flex-grow: 1;\n",
       "}\n",
       "\n",
       "#sk-container-id-1 div.sk-parallel {\n",
       "  display: flex;\n",
       "  align-items: stretch;\n",
       "  justify-content: center;\n",
       "  background-color: var(--sklearn-color-background);\n",
       "  position: relative;\n",
       "}\n",
       "\n",
       "#sk-container-id-1 div.sk-parallel-item {\n",
       "  display: flex;\n",
       "  flex-direction: column;\n",
       "}\n",
       "\n",
       "#sk-container-id-1 div.sk-parallel-item:first-child::after {\n",
       "  align-self: flex-end;\n",
       "  width: 50%;\n",
       "}\n",
       "\n",
       "#sk-container-id-1 div.sk-parallel-item:last-child::after {\n",
       "  align-self: flex-start;\n",
       "  width: 50%;\n",
       "}\n",
       "\n",
       "#sk-container-id-1 div.sk-parallel-item:only-child::after {\n",
       "  width: 0;\n",
       "}\n",
       "\n",
       "/* Serial-specific style estimator block */\n",
       "\n",
       "#sk-container-id-1 div.sk-serial {\n",
       "  display: flex;\n",
       "  flex-direction: column;\n",
       "  align-items: center;\n",
       "  background-color: var(--sklearn-color-background);\n",
       "  padding-right: 1em;\n",
       "  padding-left: 1em;\n",
       "}\n",
       "\n",
       "\n",
       "/* Toggleable style: style used for estimator/Pipeline/ColumnTransformer box that is\n",
       "clickable and can be expanded/collapsed.\n",
       "- Pipeline and ColumnTransformer use this feature and define the default style\n",
       "- Estimators will overwrite some part of the style using the `sk-estimator` class\n",
       "*/\n",
       "\n",
       "/* Pipeline and ColumnTransformer style (default) */\n",
       "\n",
       "#sk-container-id-1 div.sk-toggleable {\n",
       "  /* Default theme specific background. It is overwritten whether we have a\n",
       "  specific estimator or a Pipeline/ColumnTransformer */\n",
       "  background-color: var(--sklearn-color-background);\n",
       "}\n",
       "\n",
       "/* Toggleable label */\n",
       "#sk-container-id-1 label.sk-toggleable__label {\n",
       "  cursor: pointer;\n",
       "  display: block;\n",
       "  width: 100%;\n",
       "  margin-bottom: 0;\n",
       "  padding: 0.5em;\n",
       "  box-sizing: border-box;\n",
       "  text-align: center;\n",
       "}\n",
       "\n",
       "#sk-container-id-1 label.sk-toggleable__label-arrow:before {\n",
       "  /* Arrow on the left of the label */\n",
       "  content: \"▸\";\n",
       "  float: left;\n",
       "  margin-right: 0.25em;\n",
       "  color: var(--sklearn-color-icon);\n",
       "}\n",
       "\n",
       "#sk-container-id-1 label.sk-toggleable__label-arrow:hover:before {\n",
       "  color: var(--sklearn-color-text);\n",
       "}\n",
       "\n",
       "/* Toggleable content - dropdown */\n",
       "\n",
       "#sk-container-id-1 div.sk-toggleable__content {\n",
       "  max-height: 0;\n",
       "  max-width: 0;\n",
       "  overflow: hidden;\n",
       "  text-align: left;\n",
       "  /* unfitted */\n",
       "  background-color: var(--sklearn-color-unfitted-level-0);\n",
       "}\n",
       "\n",
       "#sk-container-id-1 div.sk-toggleable__content.fitted {\n",
       "  /* fitted */\n",
       "  background-color: var(--sklearn-color-fitted-level-0);\n",
       "}\n",
       "\n",
       "#sk-container-id-1 div.sk-toggleable__content pre {\n",
       "  margin: 0.2em;\n",
       "  border-radius: 0.25em;\n",
       "  color: var(--sklearn-color-text);\n",
       "  /* unfitted */\n",
       "  background-color: var(--sklearn-color-unfitted-level-0);\n",
       "}\n",
       "\n",
       "#sk-container-id-1 div.sk-toggleable__content.fitted pre {\n",
       "  /* unfitted */\n",
       "  background-color: var(--sklearn-color-fitted-level-0);\n",
       "}\n",
       "\n",
       "#sk-container-id-1 input.sk-toggleable__control:checked~div.sk-toggleable__content {\n",
       "  /* Expand drop-down */\n",
       "  max-height: 200px;\n",
       "  max-width: 100%;\n",
       "  overflow: auto;\n",
       "}\n",
       "\n",
       "#sk-container-id-1 input.sk-toggleable__control:checked~label.sk-toggleable__label-arrow:before {\n",
       "  content: \"▾\";\n",
       "}\n",
       "\n",
       "/* Pipeline/ColumnTransformer-specific style */\n",
       "\n",
       "#sk-container-id-1 div.sk-label input.sk-toggleable__control:checked~label.sk-toggleable__label {\n",
       "  color: var(--sklearn-color-text);\n",
       "  background-color: var(--sklearn-color-unfitted-level-2);\n",
       "}\n",
       "\n",
       "#sk-container-id-1 div.sk-label.fitted input.sk-toggleable__control:checked~label.sk-toggleable__label {\n",
       "  background-color: var(--sklearn-color-fitted-level-2);\n",
       "}\n",
       "\n",
       "/* Estimator-specific style */\n",
       "\n",
       "/* Colorize estimator box */\n",
       "#sk-container-id-1 div.sk-estimator input.sk-toggleable__control:checked~label.sk-toggleable__label {\n",
       "  /* unfitted */\n",
       "  background-color: var(--sklearn-color-unfitted-level-2);\n",
       "}\n",
       "\n",
       "#sk-container-id-1 div.sk-estimator.fitted input.sk-toggleable__control:checked~label.sk-toggleable__label {\n",
       "  /* fitted */\n",
       "  background-color: var(--sklearn-color-fitted-level-2);\n",
       "}\n",
       "\n",
       "#sk-container-id-1 div.sk-label label.sk-toggleable__label,\n",
       "#sk-container-id-1 div.sk-label label {\n",
       "  /* The background is the default theme color */\n",
       "  color: var(--sklearn-color-text-on-default-background);\n",
       "}\n",
       "\n",
       "/* On hover, darken the color of the background */\n",
       "#sk-container-id-1 div.sk-label:hover label.sk-toggleable__label {\n",
       "  color: var(--sklearn-color-text);\n",
       "  background-color: var(--sklearn-color-unfitted-level-2);\n",
       "}\n",
       "\n",
       "/* Label box, darken color on hover, fitted */\n",
       "#sk-container-id-1 div.sk-label.fitted:hover label.sk-toggleable__label.fitted {\n",
       "  color: var(--sklearn-color-text);\n",
       "  background-color: var(--sklearn-color-fitted-level-2);\n",
       "}\n",
       "\n",
       "/* Estimator label */\n",
       "\n",
       "#sk-container-id-1 div.sk-label label {\n",
       "  font-family: monospace;\n",
       "  font-weight: bold;\n",
       "  display: inline-block;\n",
       "  line-height: 1.2em;\n",
       "}\n",
       "\n",
       "#sk-container-id-1 div.sk-label-container {\n",
       "  text-align: center;\n",
       "}\n",
       "\n",
       "/* Estimator-specific */\n",
       "#sk-container-id-1 div.sk-estimator {\n",
       "  font-family: monospace;\n",
       "  border: 1px dotted var(--sklearn-color-border-box);\n",
       "  border-radius: 0.25em;\n",
       "  box-sizing: border-box;\n",
       "  margin-bottom: 0.5em;\n",
       "  /* unfitted */\n",
       "  background-color: var(--sklearn-color-unfitted-level-0);\n",
       "}\n",
       "\n",
       "#sk-container-id-1 div.sk-estimator.fitted {\n",
       "  /* fitted */\n",
       "  background-color: var(--sklearn-color-fitted-level-0);\n",
       "}\n",
       "\n",
       "/* on hover */\n",
       "#sk-container-id-1 div.sk-estimator:hover {\n",
       "  /* unfitted */\n",
       "  background-color: var(--sklearn-color-unfitted-level-2);\n",
       "}\n",
       "\n",
       "#sk-container-id-1 div.sk-estimator.fitted:hover {\n",
       "  /* fitted */\n",
       "  background-color: var(--sklearn-color-fitted-level-2);\n",
       "}\n",
       "\n",
       "/* Specification for estimator info (e.g. \"i\" and \"?\") */\n",
       "\n",
       "/* Common style for \"i\" and \"?\" */\n",
       "\n",
       ".sk-estimator-doc-link,\n",
       "a:link.sk-estimator-doc-link,\n",
       "a:visited.sk-estimator-doc-link {\n",
       "  float: right;\n",
       "  font-size: smaller;\n",
       "  line-height: 1em;\n",
       "  font-family: monospace;\n",
       "  background-color: var(--sklearn-color-background);\n",
       "  border-radius: 1em;\n",
       "  height: 1em;\n",
       "  width: 1em;\n",
       "  text-decoration: none !important;\n",
       "  margin-left: 1ex;\n",
       "  /* unfitted */\n",
       "  border: var(--sklearn-color-unfitted-level-1) 1pt solid;\n",
       "  color: var(--sklearn-color-unfitted-level-1);\n",
       "}\n",
       "\n",
       ".sk-estimator-doc-link.fitted,\n",
       "a:link.sk-estimator-doc-link.fitted,\n",
       "a:visited.sk-estimator-doc-link.fitted {\n",
       "  /* fitted */\n",
       "  border: var(--sklearn-color-fitted-level-1) 1pt solid;\n",
       "  color: var(--sklearn-color-fitted-level-1);\n",
       "}\n",
       "\n",
       "/* On hover */\n",
       "div.sk-estimator:hover .sk-estimator-doc-link:hover,\n",
       ".sk-estimator-doc-link:hover,\n",
       "div.sk-label-container:hover .sk-estimator-doc-link:hover,\n",
       ".sk-estimator-doc-link:hover {\n",
       "  /* unfitted */\n",
       "  background-color: var(--sklearn-color-unfitted-level-3);\n",
       "  color: var(--sklearn-color-background);\n",
       "  text-decoration: none;\n",
       "}\n",
       "\n",
       "div.sk-estimator.fitted:hover .sk-estimator-doc-link.fitted:hover,\n",
       ".sk-estimator-doc-link.fitted:hover,\n",
       "div.sk-label-container:hover .sk-estimator-doc-link.fitted:hover,\n",
       ".sk-estimator-doc-link.fitted:hover {\n",
       "  /* fitted */\n",
       "  background-color: var(--sklearn-color-fitted-level-3);\n",
       "  color: var(--sklearn-color-background);\n",
       "  text-decoration: none;\n",
       "}\n",
       "\n",
       "/* Span, style for the box shown on hovering the info icon */\n",
       ".sk-estimator-doc-link span {\n",
       "  display: none;\n",
       "  z-index: 9999;\n",
       "  position: relative;\n",
       "  font-weight: normal;\n",
       "  right: .2ex;\n",
       "  padding: .5ex;\n",
       "  margin: .5ex;\n",
       "  width: min-content;\n",
       "  min-width: 20ex;\n",
       "  max-width: 50ex;\n",
       "  color: var(--sklearn-color-text);\n",
       "  box-shadow: 2pt 2pt 4pt #999;\n",
       "  /* unfitted */\n",
       "  background: var(--sklearn-color-unfitted-level-0);\n",
       "  border: .5pt solid var(--sklearn-color-unfitted-level-3);\n",
       "}\n",
       "\n",
       ".sk-estimator-doc-link.fitted span {\n",
       "  /* fitted */\n",
       "  background: var(--sklearn-color-fitted-level-0);\n",
       "  border: var(--sklearn-color-fitted-level-3);\n",
       "}\n",
       "\n",
       ".sk-estimator-doc-link:hover span {\n",
       "  display: block;\n",
       "}\n",
       "\n",
       "/* \"?\"-specific style due to the `<a>` HTML tag */\n",
       "\n",
       "#sk-container-id-1 a.estimator_doc_link {\n",
       "  float: right;\n",
       "  font-size: 1rem;\n",
       "  line-height: 1em;\n",
       "  font-family: monospace;\n",
       "  background-color: var(--sklearn-color-background);\n",
       "  border-radius: 1rem;\n",
       "  height: 1rem;\n",
       "  width: 1rem;\n",
       "  text-decoration: none;\n",
       "  /* unfitted */\n",
       "  color: var(--sklearn-color-unfitted-level-1);\n",
       "  border: var(--sklearn-color-unfitted-level-1) 1pt solid;\n",
       "}\n",
       "\n",
       "#sk-container-id-1 a.estimator_doc_link.fitted {\n",
       "  /* fitted */\n",
       "  border: var(--sklearn-color-fitted-level-1) 1pt solid;\n",
       "  color: var(--sklearn-color-fitted-level-1);\n",
       "}\n",
       "\n",
       "/* On hover */\n",
       "#sk-container-id-1 a.estimator_doc_link:hover {\n",
       "  /* unfitted */\n",
       "  background-color: var(--sklearn-color-unfitted-level-3);\n",
       "  color: var(--sklearn-color-background);\n",
       "  text-decoration: none;\n",
       "}\n",
       "\n",
       "#sk-container-id-1 a.estimator_doc_link.fitted:hover {\n",
       "  /* fitted */\n",
       "  background-color: var(--sklearn-color-fitted-level-3);\n",
       "}\n",
       "</style><div id=\"sk-container-id-1\" class=\"sk-top-container\"><div class=\"sk-text-repr-fallback\"><pre>RandomForestClassifier()</pre><b>In a Jupyter environment, please rerun this cell to show the HTML representation or trust the notebook. <br />On GitHub, the HTML representation is unable to render, please try loading this page with nbviewer.org.</b></div><div class=\"sk-container\" hidden><div class=\"sk-item\"><div class=\"sk-estimator fitted sk-toggleable\"><input class=\"sk-toggleable__control sk-hidden--visually\" id=\"sk-estimator-id-1\" type=\"checkbox\" checked><label for=\"sk-estimator-id-1\" class=\"sk-toggleable__label fitted sk-toggleable__label-arrow fitted\">&nbsp;&nbsp;RandomForestClassifier<a class=\"sk-estimator-doc-link fitted\" rel=\"noreferrer\" target=\"_blank\" href=\"https://scikit-learn.org/1.5/modules/generated/sklearn.ensemble.RandomForestClassifier.html\">?<span>Documentation for RandomForestClassifier</span></a><span class=\"sk-estimator-doc-link fitted\">i<span>Fitted</span></span></label><div class=\"sk-toggleable__content fitted\"><pre>RandomForestClassifier()</pre></div> </div></div></div></div>"
      ],
      "text/plain": [
       "RandomForestClassifier()"
      ]
     },
     "execution_count": 169,
     "metadata": {},
     "output_type": "execute_result"
    }
   ],
   "source": [
    "# Step 4. Instantiate random forest model\n",
    "\n",
    "from sklearn.ensemble import RandomForestClassifier\n",
    "\n",
    "classifier = RandomForestClassifier()\n",
    "classifier.fit(X_train_vectorized, y_train)"
   ]
  },
  {
   "cell_type": "code",
   "execution_count": 170,
   "id": "0dc81086-c2d3-4329-9513-eb7e9ec52db7",
   "metadata": {},
   "outputs": [],
   "source": [
    "# Step 5. Calculate predictions\n",
    "\n",
    "y_pred = classifier.predict(X_test_vectorized)"
   ]
  },
  {
   "cell_type": "code",
   "execution_count": 171,
   "id": "99008bb0-9a50-4b55-9a75-0a02f6d17fde",
   "metadata": {},
   "outputs": [],
   "source": [
    "results_df = pd.DataFrame({'Recipe_Name': X_test,\n",
    "                           'Actual_Label': y_test,\n",
    "                           'Predicted_Label': y_pred\n",
    "                          })"
   ]
  },
  {
   "cell_type": "code",
   "execution_count": 172,
   "id": "091890f1-a102-4464-a62f-b2818d3ecd24",
   "metadata": {},
   "outputs": [
    {
     "data": {
      "text/html": [
       "<div>\n",
       "<style scoped>\n",
       "    .dataframe tbody tr th:only-of-type {\n",
       "        vertical-align: middle;\n",
       "    }\n",
       "\n",
       "    .dataframe tbody tr th {\n",
       "        vertical-align: top;\n",
       "    }\n",
       "\n",
       "    .dataframe thead th {\n",
       "        text-align: right;\n",
       "    }\n",
       "</style>\n",
       "<table border=\"1\" class=\"dataframe\">\n",
       "  <thead>\n",
       "    <tr style=\"text-align: right;\">\n",
       "      <th></th>\n",
       "      <th>Recipe_Name</th>\n",
       "      <th>Actual_Label</th>\n",
       "      <th>Predicted_Label</th>\n",
       "    </tr>\n",
       "  </thead>\n",
       "  <tbody>\n",
       "    <tr>\n",
       "      <th>67476</th>\n",
       "      <td>['pineapple', 'fruit cocktail', 'O', 'sour cream']</td>\n",
       "      <td>salad</td>\n",
       "      <td>salad</td>\n",
       "    </tr>\n",
       "    <tr>\n",
       "      <th>29739</th>\n",
       "      <td>['brown sugar', 'butter', 'eggs', 'flour', 'baking powder', 'nuts']</td>\n",
       "      <td>dessert</td>\n",
       "      <td>dessert</td>\n",
       "    </tr>\n",
       "    <tr>\n",
       "      <th>40130</th>\n",
       "      <td>['celery', 'mushrooms', 'sour cream', 'onion', 'bouillon', 'beef']</td>\n",
       "      <td>dinner</td>\n",
       "      <td>lunch</td>\n",
       "    </tr>\n",
       "    <tr>\n",
       "      <th>4195</th>\n",
       "      <td>['white rice', 'pork chops', 'shortening', 'salt', 'red pepper', 'black pepper', 'chicken broth', 'thyme', 'green pepper', 'onion']</td>\n",
       "      <td>lunch</td>\n",
       "      <td>lunch</td>\n",
       "    </tr>\n",
       "    <tr>\n",
       "      <th>425</th>\n",
       "      <td>['onion soup', 'white potatoes', 'olive']</td>\n",
       "      <td>dinner</td>\n",
       "      <td>dinner</td>\n",
       "    </tr>\n",
       "    <tr>\n",
       "      <th>...</th>\n",
       "      <td>...</td>\n",
       "      <td>...</td>\n",
       "      <td>...</td>\n",
       "    </tr>\n",
       "    <tr>\n",
       "      <th>8643</th>\n",
       "      <td>['cantaloupe chunks', 'strawberry halves', 'sugar', 'cinnamon']</td>\n",
       "      <td>breakfast</td>\n",
       "      <td>breakfast</td>\n",
       "    </tr>\n",
       "    <tr>\n",
       "      <th>20109</th>\n",
       "      <td>['butter', 'vegetable oil', 'onions', 'potatoes', 'crust', 'salt', 'pepper']</td>\n",
       "      <td>dinner</td>\n",
       "      <td>dinner</td>\n",
       "    </tr>\n",
       "    <tr>\n",
       "      <th>35708</th>\n",
       "      <td>['fruit cocktail', 'mandarin oranges', 'cherries', 'flaked coconut']</td>\n",
       "      <td>breakfast</td>\n",
       "      <td>dessert</td>\n",
       "    </tr>\n",
       "    <tr>\n",
       "      <th>66340</th>\n",
       "      <td>['Ann cherries', 'dark sweet cherries', 'peaches', 'marshmallows', 'sour cream', 'whipping cream']</td>\n",
       "      <td>salad</td>\n",
       "      <td>salad</td>\n",
       "    </tr>\n",
       "    <tr>\n",
       "      <th>41997</th>\n",
       "      <td>['chicken', 'mayonnaise', 'celery', 'onion', 'lemon juice', 'almonds', 'salt', 'Accent', 'tarragon', 'potato chips', 'Cheddar cheese']</td>\n",
       "      <td>lunch</td>\n",
       "      <td>lunch</td>\n",
       "    </tr>\n",
       "  </tbody>\n",
       "</table>\n",
       "<p>10241 rows × 3 columns</p>\n",
       "</div>"
      ],
      "text/plain": [
       "                                                                                                                                  Recipe_Name  \\\n",
       "67476                                                                                      ['pineapple', 'fruit cocktail', 'O', 'sour cream']   \n",
       "29739                                                                     ['brown sugar', 'butter', 'eggs', 'flour', 'baking powder', 'nuts']   \n",
       "40130                                                                      ['celery', 'mushrooms', 'sour cream', 'onion', 'bouillon', 'beef']   \n",
       "4195      ['white rice', 'pork chops', 'shortening', 'salt', 'red pepper', 'black pepper', 'chicken broth', 'thyme', 'green pepper', 'onion']   \n",
       "425                                                                                                 ['onion soup', 'white potatoes', 'olive']   \n",
       "...                                                                                                                                       ...   \n",
       "8643                                                                          ['cantaloupe chunks', 'strawberry halves', 'sugar', 'cinnamon']   \n",
       "20109                                                            ['butter', 'vegetable oil', 'onions', 'potatoes', 'crust', 'salt', 'pepper']   \n",
       "35708                                                                    ['fruit cocktail', 'mandarin oranges', 'cherries', 'flaked coconut']   \n",
       "66340                                      ['Ann cherries', 'dark sweet cherries', 'peaches', 'marshmallows', 'sour cream', 'whipping cream']   \n",
       "41997  ['chicken', 'mayonnaise', 'celery', 'onion', 'lemon juice', 'almonds', 'salt', 'Accent', 'tarragon', 'potato chips', 'Cheddar cheese']   \n",
       "\n",
       "      Actual_Label Predicted_Label  \n",
       "67476        salad           salad  \n",
       "29739      dessert         dessert  \n",
       "40130       dinner           lunch  \n",
       "4195         lunch           lunch  \n",
       "425         dinner          dinner  \n",
       "...            ...             ...  \n",
       "8643     breakfast       breakfast  \n",
       "20109       dinner          dinner  \n",
       "35708    breakfast         dessert  \n",
       "66340        salad           salad  \n",
       "41997        lunch           lunch  \n",
       "\n",
       "[10241 rows x 3 columns]"
      ]
     },
     "execution_count": 172,
     "metadata": {},
     "output_type": "execute_result"
    }
   ],
   "source": [
    "results_df"
   ]
  },
  {
   "cell_type": "markdown",
   "id": "f1ecef36-c174-4f14-8cb4-5abd6a40abee",
   "metadata": {},
   "source": [
    "Here we can see a quick glance at how our model predicted the label of some of the recipes against the actual label. Let's investigate further how our model did by analyzing the classification report."
   ]
  },
  {
   "cell_type": "code",
   "execution_count": 174,
   "id": "073a444f-d382-47b9-9bfe-5af3bf3ac39c",
   "metadata": {},
   "outputs": [],
   "source": [
    "from sklearn.metrics import classification_report, confusion_matrix"
   ]
  },
  {
   "cell_type": "code",
   "execution_count": 175,
   "id": "b11c06d9-8a4f-477d-b030-179ae89e68f5",
   "metadata": {},
   "outputs": [
    {
     "name": "stdout",
     "output_type": "stream",
     "text": [
      "              precision    recall  f1-score   support\n",
      "\n",
      "   breakfast       0.82      0.65      0.73      1562\n",
      "     dessert       0.82      0.90      0.86      2088\n",
      "      dinner       0.76      0.85      0.80      2718\n",
      "       drink       0.89      0.84      0.87       444\n",
      "       lunch       0.82      0.74      0.78      1831\n",
      "       salad       0.83      0.85      0.84      1598\n",
      "\n",
      "    accuracy                           0.81     10241\n",
      "   macro avg       0.83      0.80      0.81     10241\n",
      "weighted avg       0.81      0.81      0.81     10241\n",
      "\n"
     ]
    }
   ],
   "source": [
    "print(classification_report(y_test, y_pred))"
   ]
  },
  {
   "cell_type": "markdown",
   "id": "04dcf4b2-4147-4157-a0bb-962f040af041",
   "metadata": {},
   "source": [
    "**Precision scores** indicate that all of the predictions of a specifc meal type are correct. In this case, we can see that the model is very precise in predicting breakfast, dessert, drinks, lunch and salads. The precision score for dinner is lower compared to the rest, which could be explained by the variation of ingredients contained in dinner recipes, making the model less precise in identifying them.\n",
    "\n",
    "On the other hand, a **recall scores** indicate that the model can correctly predict every meal type, meaning that the model can recall all instances of a type of meal. For example, breakfast meals only have a ~64% recall score which means that the model correctly identifies 65% of all actual breakfast meals. This indicates that there may be a number of breakfast meals that the model is missing (false negatives). Usually with these two scores, there is a balance. Meaning, the higher the precision score, the lower the recall scores and viceversa.\n"
   ]
  },
  {
   "cell_type": "markdown",
   "id": "8a0be96d-f965-4da9-acf8-5c1a1c1098f1",
   "metadata": {},
   "source": [
    "Let's now use this trained model to label the remaining recipes."
   ]
  },
  {
   "cell_type": "code",
   "execution_count": 178,
   "id": "042b62d3-9078-4423-a8cb-feb44e03a1ed",
   "metadata": {},
   "outputs": [],
   "source": [
    "unlabeled_test_df = recipe_df_filtered[recipe_df_filtered['Meal_Type'].isna()]"
   ]
  },
  {
   "cell_type": "code",
   "execution_count": 179,
   "id": "6fd71fbb-5447-4617-bbe9-52011825c485",
   "metadata": {},
   "outputs": [],
   "source": [
    "X_unlabeled = unlabeled_test_df['NER_list']\n",
    "y_unlabeled = unlabeled_test_df['Meal_Type']"
   ]
  },
  {
   "cell_type": "code",
   "execution_count": 180,
   "id": "1174f3b8-c5cc-4770-a8d8-81fb0e5fe43d",
   "metadata": {},
   "outputs": [],
   "source": [
    "vectorizer = TfidfVectorizer()\n",
    "X_train_vectorized = vectorizer.fit_transform(X_train)\n",
    "X_unlabeled_vectorized = vectorizer.transform(X_unlabeled)"
   ]
  },
  {
   "cell_type": "code",
   "execution_count": 181,
   "id": "0e4ba469-e394-4af1-969f-e00ff6e8d149",
   "metadata": {},
   "outputs": [],
   "source": [
    "predicted_labels = classifier.predict(X_unlabeled_vectorized)"
   ]
  },
  {
   "cell_type": "code",
   "execution_count": 182,
   "id": "81f21419-ca98-47b5-8828-45d3f190af83",
   "metadata": {
    "scrolled": true
   },
   "outputs": [
    {
     "name": "stderr",
     "output_type": "stream",
     "text": [
      "C:\\Users\\cryst\\AppData\\Local\\Temp\\ipykernel_62288\\1513634398.py:1: SettingWithCopyWarning: \n",
      "A value is trying to be set on a copy of a slice from a DataFrame.\n",
      "Try using .loc[row_indexer,col_indexer] = value instead\n",
      "\n",
      "See the caveats in the documentation: https://pandas.pydata.org/pandas-docs/stable/user_guide/indexing.html#returning-a-view-versus-a-copy\n",
      "  unlabeled_test_df['Predicted_Label'] = predicted_labels\n"
     ]
    }
   ],
   "source": [
    "unlabeled_test_df['Predicted_Label'] = predicted_labels"
   ]
  },
  {
   "cell_type": "code",
   "execution_count": 183,
   "id": "0d83ecca-aecc-4345-b7ce-8396c2eb359f",
   "metadata": {},
   "outputs": [
    {
     "data": {
      "text/html": [
       "<div>\n",
       "<style scoped>\n",
       "    .dataframe tbody tr th:only-of-type {\n",
       "        vertical-align: middle;\n",
       "    }\n",
       "\n",
       "    .dataframe tbody tr th {\n",
       "        vertical-align: top;\n",
       "    }\n",
       "\n",
       "    .dataframe thead th {\n",
       "        text-align: right;\n",
       "    }\n",
       "</style>\n",
       "<table border=\"1\" class=\"dataframe\">\n",
       "  <thead>\n",
       "    <tr style=\"text-align: right;\">\n",
       "      <th></th>\n",
       "      <th>title</th>\n",
       "      <th>ingredients</th>\n",
       "      <th>directions</th>\n",
       "      <th>link</th>\n",
       "      <th>source</th>\n",
       "      <th>NER</th>\n",
       "      <th>serving_size</th>\n",
       "      <th>NER_list</th>\n",
       "      <th>ingredient_counter</th>\n",
       "      <th>Meal_Type</th>\n",
       "      <th>Predicted_Label</th>\n",
       "    </tr>\n",
       "  </thead>\n",
       "  <tbody>\n",
       "    <tr>\n",
       "      <th>0</th>\n",
       "      <td>Creamy Corn</td>\n",
       "      <td>[\"2 (16 oz.) pkg. frozen corn\", \"1 (8 oz.) pkg. cream cheese, cubed\", \"1/3 c. butter, cubed\", \"1/2 tsp. garlic powder\", \"1/2 tsp. salt\", \"1/4 tsp. pepper\"]</td>\n",
       "      <td>[\"In a slow cooker, combine all ingredients. Cover and cook on low for 4 hours or until heated through and cheese is melted. Stir well before serving. Yields 6 servings.\"]</td>\n",
       "      <td>www.cookbooks.com/Recipe-Details.aspx?id=10570</td>\n",
       "      <td>Gathered</td>\n",
       "      <td>[\"frozen corn\", \"cream cheese\", \"butter\", \"garlic powder\", \"salt\", \"pepper\"]</td>\n",
       "      <td>6</td>\n",
       "      <td>['frozen corn', 'cream cheese', 'butter', 'garlic powder', 'salt', 'pepper']</td>\n",
       "      <td>6</td>\n",
       "      <td>None</td>\n",
       "      <td>dinner</td>\n",
       "    </tr>\n",
       "    <tr>\n",
       "      <th>5</th>\n",
       "      <td>Creole Flounder</td>\n",
       "      <td>[\"2 lb. flounder or pollack fillets\", \"1 1/2 c. chopped tomatoes\", \"1/2 c. chopped green pepper\", \"1/3 c. lemon juice\", \"1 Tbsp. salad oil\", \"2 tsp. salt\", \"2 tsp. minced onion\", \"1 tsp. basil leaves\", \"1/4 tsp. coarsely ground black pepper\", \"4 drops red pepper sauce\", \"green pepper rings\"]</td>\n",
       "      <td>[\"Heat oven to 500\\u00b0.\", \"Place fillets in single layer in baking dish, 13 1/2 x 9 x 2-inch.\", \"Stir together remaining ingredients except pepper rings. Spoon over fillets.\", \"Bake 5 to 8 minutes or until fish flakes easily with fork.\", \"Remove fillets to warm platter. Garnish with green pepper rings. Makes 4 to 6 servings.\"]</td>\n",
       "      <td>www.cookbooks.com/Recipe-Details.aspx?id=580768</td>\n",
       "      <td>Gathered</td>\n",
       "      <td>[\"flounder\", \"tomatoes\", \"green pepper\", \"lemon juice\", \"salad oil\", \"salt\", \"onion\", \"basil\", \"ground black pepper\", \"drops red pepper sauce\", \"green pepper\"]</td>\n",
       "      <td>6</td>\n",
       "      <td>['flounder', 'tomatoes', 'green pepper', 'lemon juice', 'salad oil', 'salt', 'onion', 'basil', 'ground black pepper', 'drops red pepper sauce', 'green pepper']</td>\n",
       "      <td>11</td>\n",
       "      <td>None</td>\n",
       "      <td>dinner</td>\n",
       "    </tr>\n",
       "    <tr>\n",
       "      <th>8</th>\n",
       "      <td>Sesame Ginger Chicken</td>\n",
       "      <td>[\"1 Tbsp. sesame seed, toasted\", \"2 tsp. grated ginger\", \"2 Tbsp. honey\", \"2 Tbsp. reduced-sodium soy sauce\", \"4 (4 oz.) skinned chicken breast halves\", \"vegetable cooking spray\", \"thin green onion strips\"]</td>\n",
       "      <td>[\"Combine first 4 ingredients in a small bowl, stir well and set aside.\", \"Place chicken between 2 sheets of waxed paper or heavy duty plastic wrap, and flatten to 1/4-inch thickness, using meat mallet or rolling pin.\", \"Coat grill rack with cooking spray; place on grill over coals.\", \"Place chicken on rack and cook 4 minutes on each side, basting frequently with soy sauce mixture.\", \"Transfer chicken to a serving platter and garnish with green onion, if desired.\", \"Yields 4 servings, about 200 calories.\"]</td>\n",
       "      <td>www.cookbooks.com/Recipe-Details.aspx?id=352931</td>\n",
       "      <td>Gathered</td>\n",
       "      <td>[\"sesame seed\", \"grated ginger\", \"honey\", \"soy sauce\", \"chicken\", \"vegetable cooking spray\", \"thin green onion strips\"]</td>\n",
       "      <td>4</td>\n",
       "      <td>['sesame seed', 'grated ginger', 'honey', 'soy sauce', 'chicken', 'vegetable cooking spray', 'thin green onion strips']</td>\n",
       "      <td>7</td>\n",
       "      <td>None</td>\n",
       "      <td>dinner</td>\n",
       "    </tr>\n",
       "    <tr>\n",
       "      <th>10</th>\n",
       "      <td>Sweet-N-Sour Chicken</td>\n",
       "      <td>[\"2 c. diced cooked chicken\", \"2 Tbsp. shortening\", \"1/2 c. onion (large chunks)\", \"2 c. carrot chunks\", \"1 1/4 c. water\", \"3 chicken bouillon cubes\", \"1/4 c. packed brown sugar\", \"2 Tbsp. cornstarch\", \"1/4 tsp. ginger\", \"1/4 c. catsup\", \"2 Tbsp. vinegar\", \"1 Tbsp. soy sauce\", \"1 c. green pepper (large chunks)\", \"8 oz. pineapple chunks\"]</td>\n",
       "      <td>[\"Saute onion in 2 tablespoons shortening.\", \"Add carrots, water and bouillon cubes.\", \"Simmer 5 minutes.\", \"Combine next 6 ingredients.\", \"Add to vegetable mixture and cook until clear.\", \"Add pepper, pineapple and chicken.\", \"Cover and simmer 5 minutes or until heated through.\", \"Serve with rice or angel hair noodles. Serves 6 people.\"]</td>\n",
       "      <td>www.cookbooks.com/Recipe-Details.aspx?id=228506</td>\n",
       "      <td>Gathered</td>\n",
       "      <td>[\"chicken\", \"shortening\", \"onion\", \"carrot chunks\", \"water\", \"chicken\", \"brown sugar\", \"cornstarch\", \"ginger\", \"catsup\", \"vinegar\", \"soy sauce\", \"green pepper\", \"pineapple\"]</td>\n",
       "      <td>6</td>\n",
       "      <td>['chicken', 'shortening', 'onion', 'carrot chunks', 'water', 'chicken', 'brown sugar', 'cornstarch', 'ginger', 'catsup', 'vinegar', 'soy sauce', 'green pepper', 'pineapple']</td>\n",
       "      <td>14</td>\n",
       "      <td>None</td>\n",
       "      <td>dinner</td>\n",
       "    </tr>\n",
       "    <tr>\n",
       "      <th>13</th>\n",
       "      <td>Zucchini-Artichoke Continental</td>\n",
       "      <td>[\"1 (9 oz.) pkg. frozen artichoke hearts\", \"2 Tbsp. water\", \"3 medium zucchini (1 lb.), sliced 1/4-inch thick (4 c.)\", \"2 c. fresh mushrooms, halved\", \"2 Tbsp. finely chopped green onion\", \"2 cloves garlic, minced\", \"1 Tbsp. margarine or butter\", \"2 medium tomatoes, cut into wedges and seeded\", \"1/4 c. grated Parmesan cheese\"]</td>\n",
       "      <td>[\"In 2-quart microwave-safe casserole, microcook artichokes and water, covered, on 100% power (High) for 3 to 4 minutes or until thawed.\", \"Stir.\", \"Add next 3 ingredients.\", \"Cover.\", \"Cook on High for 9 to 11 minutes (low-wattage oven for 12 to 14 minutes) or just until tender; stir once.\", \"Drain well.\", \"Stir in garlic, 1/2 teaspoon salt and 1/4 teaspoon pepper.\", \"Dot with margarine or butter.\", \"Cover; cook on High for 1 minute.\", \"Stir in tomatoes; sprinkle with cheese.\", \"Let stand 2 minutes.\", \"Makes 6 servings.\"]</td>\n",
       "      <td>www.cookbooks.com/Recipe-Details.aspx?id=669859</td>\n",
       "      <td>Gathered</td>\n",
       "      <td>[\"frozen artichoke\", \"water\", \"zucchini\", \"fresh mushrooms\", \"green onion\", \"garlic\", \"margarine\", \"tomatoes\", \"Parmesan cheese\"]</td>\n",
       "      <td>6</td>\n",
       "      <td>['frozen artichoke', 'water', 'zucchini', 'fresh mushrooms', 'green onion', 'garlic', 'margarine', 'tomatoes', 'Parmesan cheese']</td>\n",
       "      <td>9</td>\n",
       "      <td>None</td>\n",
       "      <td>dinner</td>\n",
       "    </tr>\n",
       "  </tbody>\n",
       "</table>\n",
       "</div>"
      ],
      "text/plain": [
       "                             title  \\\n",
       "0                      Creamy Corn   \n",
       "5                  Creole Flounder   \n",
       "8            Sesame Ginger Chicken   \n",
       "10            Sweet-N-Sour Chicken   \n",
       "13  Zucchini-Artichoke Continental   \n",
       "\n",
       "                                                                                                                                                                                                                                                                                                                                            ingredients  \\\n",
       "0                                                                                                                                                                                           [\"2 (16 oz.) pkg. frozen corn\", \"1 (8 oz.) pkg. cream cheese, cubed\", \"1/3 c. butter, cubed\", \"1/2 tsp. garlic powder\", \"1/2 tsp. salt\", \"1/4 tsp. pepper\"]   \n",
       "5                                                  [\"2 lb. flounder or pollack fillets\", \"1 1/2 c. chopped tomatoes\", \"1/2 c. chopped green pepper\", \"1/3 c. lemon juice\", \"1 Tbsp. salad oil\", \"2 tsp. salt\", \"2 tsp. minced onion\", \"1 tsp. basil leaves\", \"1/4 tsp. coarsely ground black pepper\", \"4 drops red pepper sauce\", \"green pepper rings\"]   \n",
       "8                                                                                                                                        [\"1 Tbsp. sesame seed, toasted\", \"2 tsp. grated ginger\", \"2 Tbsp. honey\", \"2 Tbsp. reduced-sodium soy sauce\", \"4 (4 oz.) skinned chicken breast halves\", \"vegetable cooking spray\", \"thin green onion strips\"]   \n",
       "10  [\"2 c. diced cooked chicken\", \"2 Tbsp. shortening\", \"1/2 c. onion (large chunks)\", \"2 c. carrot chunks\", \"1 1/4 c. water\", \"3 chicken bouillon cubes\", \"1/4 c. packed brown sugar\", \"2 Tbsp. cornstarch\", \"1/4 tsp. ginger\", \"1/4 c. catsup\", \"2 Tbsp. vinegar\", \"1 Tbsp. soy sauce\", \"1 c. green pepper (large chunks)\", \"8 oz. pineapple chunks\"]   \n",
       "13             [\"1 (9 oz.) pkg. frozen artichoke hearts\", \"2 Tbsp. water\", \"3 medium zucchini (1 lb.), sliced 1/4-inch thick (4 c.)\", \"2 c. fresh mushrooms, halved\", \"2 Tbsp. finely chopped green onion\", \"2 cloves garlic, minced\", \"1 Tbsp. margarine or butter\", \"2 medium tomatoes, cut into wedges and seeded\", \"1/4 c. grated Parmesan cheese\"]   \n",
       "\n",
       "                                                                                                                                                                                                                                                                                                                                                                                                                                                                                                                                          directions  \\\n",
       "0                                                                                                                                                                                                                                                                                                                                                                        [\"In a slow cooker, combine all ingredients. Cover and cook on low for 4 hours or until heated through and cheese is melted. Stir well before serving. Yields 6 servings.\"]   \n",
       "5                                                                                                                                                                                                         [\"Heat oven to 500\\u00b0.\", \"Place fillets in single layer in baking dish, 13 1/2 x 9 x 2-inch.\", \"Stir together remaining ingredients except pepper rings. Spoon over fillets.\", \"Bake 5 to 8 minutes or until fish flakes easily with fork.\", \"Remove fillets to warm platter. Garnish with green pepper rings. Makes 4 to 6 servings.\"]   \n",
       "8                    [\"Combine first 4 ingredients in a small bowl, stir well and set aside.\", \"Place chicken between 2 sheets of waxed paper or heavy duty plastic wrap, and flatten to 1/4-inch thickness, using meat mallet or rolling pin.\", \"Coat grill rack with cooking spray; place on grill over coals.\", \"Place chicken on rack and cook 4 minutes on each side, basting frequently with soy sauce mixture.\", \"Transfer chicken to a serving platter and garnish with green onion, if desired.\", \"Yields 4 servings, about 200 calories.\"]   \n",
       "10                                                                                                                                                                                              [\"Saute onion in 2 tablespoons shortening.\", \"Add carrots, water and bouillon cubes.\", \"Simmer 5 minutes.\", \"Combine next 6 ingredients.\", \"Add to vegetable mixture and cook until clear.\", \"Add pepper, pineapple and chicken.\", \"Cover and simmer 5 minutes or until heated through.\", \"Serve with rice or angel hair noodles. Serves 6 people.\"]   \n",
       "13  [\"In 2-quart microwave-safe casserole, microcook artichokes and water, covered, on 100% power (High) for 3 to 4 minutes or until thawed.\", \"Stir.\", \"Add next 3 ingredients.\", \"Cover.\", \"Cook on High for 9 to 11 minutes (low-wattage oven for 12 to 14 minutes) or just until tender; stir once.\", \"Drain well.\", \"Stir in garlic, 1/2 teaspoon salt and 1/4 teaspoon pepper.\", \"Dot with margarine or butter.\", \"Cover; cook on High for 1 minute.\", \"Stir in tomatoes; sprinkle with cheese.\", \"Let stand 2 minutes.\", \"Makes 6 servings.\"]   \n",
       "\n",
       "                                               link    source  \\\n",
       "0    www.cookbooks.com/Recipe-Details.aspx?id=10570  Gathered   \n",
       "5   www.cookbooks.com/Recipe-Details.aspx?id=580768  Gathered   \n",
       "8   www.cookbooks.com/Recipe-Details.aspx?id=352931  Gathered   \n",
       "10  www.cookbooks.com/Recipe-Details.aspx?id=228506  Gathered   \n",
       "13  www.cookbooks.com/Recipe-Details.aspx?id=669859  Gathered   \n",
       "\n",
       "                                                                                                                                                                              NER  \\\n",
       "0                                                                                                    [\"frozen corn\", \"cream cheese\", \"butter\", \"garlic powder\", \"salt\", \"pepper\"]   \n",
       "5                 [\"flounder\", \"tomatoes\", \"green pepper\", \"lemon juice\", \"salad oil\", \"salt\", \"onion\", \"basil\", \"ground black pepper\", \"drops red pepper sauce\", \"green pepper\"]   \n",
       "8                                                         [\"sesame seed\", \"grated ginger\", \"honey\", \"soy sauce\", \"chicken\", \"vegetable cooking spray\", \"thin green onion strips\"]   \n",
       "10  [\"chicken\", \"shortening\", \"onion\", \"carrot chunks\", \"water\", \"chicken\", \"brown sugar\", \"cornstarch\", \"ginger\", \"catsup\", \"vinegar\", \"soy sauce\", \"green pepper\", \"pineapple\"]   \n",
       "13                                              [\"frozen artichoke\", \"water\", \"zucchini\", \"fresh mushrooms\", \"green onion\", \"garlic\", \"margarine\", \"tomatoes\", \"Parmesan cheese\"]   \n",
       "\n",
       "    serving_size  \\\n",
       "0              6   \n",
       "5              6   \n",
       "8              4   \n",
       "10             6   \n",
       "13             6   \n",
       "\n",
       "                                                                                                                                                                         NER_list  \\\n",
       "0                                                                                                    ['frozen corn', 'cream cheese', 'butter', 'garlic powder', 'salt', 'pepper']   \n",
       "5                 ['flounder', 'tomatoes', 'green pepper', 'lemon juice', 'salad oil', 'salt', 'onion', 'basil', 'ground black pepper', 'drops red pepper sauce', 'green pepper']   \n",
       "8                                                         ['sesame seed', 'grated ginger', 'honey', 'soy sauce', 'chicken', 'vegetable cooking spray', 'thin green onion strips']   \n",
       "10  ['chicken', 'shortening', 'onion', 'carrot chunks', 'water', 'chicken', 'brown sugar', 'cornstarch', 'ginger', 'catsup', 'vinegar', 'soy sauce', 'green pepper', 'pineapple']   \n",
       "13                                              ['frozen artichoke', 'water', 'zucchini', 'fresh mushrooms', 'green onion', 'garlic', 'margarine', 'tomatoes', 'Parmesan cheese']   \n",
       "\n",
       "    ingredient_counter Meal_Type Predicted_Label  \n",
       "0                    6      None          dinner  \n",
       "5                   11      None          dinner  \n",
       "8                    7      None          dinner  \n",
       "10                  14      None          dinner  \n",
       "13                   9      None          dinner  "
      ]
     },
     "execution_count": 183,
     "metadata": {},
     "output_type": "execute_result"
    }
   ],
   "source": [
    "unlabeled_test_df.head()"
   ]
  },
  {
   "cell_type": "markdown",
   "id": "535d6a4e-ec92-4818-a920-c1b6dfb8734d",
   "metadata": {},
   "source": [
    "**Let's put our labels together in our original dataframe**"
   ]
  },
  {
   "cell_type": "code",
   "execution_count": 185,
   "id": "93df1531-df37-4df8-a2fc-0dde8be84aef",
   "metadata": {},
   "outputs": [],
   "source": [
    "recipe_df_filtered['Meal_Type'] = recipe_df_filtered['Meal_Type'].fillna(unlabeled_test_df['Predicted_Label'])"
   ]
  },
  {
   "cell_type": "code",
   "execution_count": 186,
   "id": "c7ae30a5-10bf-4520-8b03-620a2fd15239",
   "metadata": {},
   "outputs": [
    {
     "data": {
      "text/plain": [
       "title                 0\n",
       "ingredients           0\n",
       "directions            0\n",
       "link                  0\n",
       "source                0\n",
       "NER                   0\n",
       "serving_size          0\n",
       "NER_list              0\n",
       "ingredient_counter    0\n",
       "Meal_Type             0\n",
       "dtype: int64"
      ]
     },
     "execution_count": 186,
     "metadata": {},
     "output_type": "execute_result"
    }
   ],
   "source": [
    "recipe_df_filtered.isna().sum()"
   ]
  },
  {
   "cell_type": "markdown",
   "id": "b9665093-4950-421c-9da6-dfdc23532957",
   "metadata": {},
   "source": [
    "All of our recipes have now been labeled!"
   ]
  },
  {
   "cell_type": "markdown",
   "id": "cd5c0409-a1b7-43b3-85ef-2a94cd251901",
   "metadata": {},
   "source": [
    "## 5. Saving the data <a name=\"saving\"></a>"
   ]
  },
  {
   "cell_type": "markdown",
   "id": "60e88da1-cddc-4e43-b09c-4eeffbab67ea",
   "metadata": {},
   "source": [
    "Let's download the cleaned and preprocessed dataset to use in the next steps. This will save us time later on as we won't have to go through all of these steps again and allow us to readily access the cleaned data, as well as leverage it for the EDA and modelling phase.  "
   ]
  },
  {
   "cell_type": "code",
   "execution_count": 190,
   "id": "9b20d11c-5ff5-479d-9e63-99db21c0c870",
   "metadata": {},
   "outputs": [],
   "source": [
    "# Save the clean dataset\n",
    "recipe_df_filtered.to_pickle('recipe_df_filtered.pkl')"
   ]
  },
  {
   "cell_type": "code",
   "execution_count": 310,
   "id": "5c8bcdf4-638e-4a0c-9446-f5d65013e9ef",
   "metadata": {},
   "outputs": [],
   "source": [
    "recipe_df_filtered.to_csv('recipe_df_filtered.csv', index = False, sep =',', lineterminator='\\n')"
   ]
  },
  {
   "cell_type": "markdown",
   "id": "3c694e1c-fb3f-46a7-9f01-03c4abee5ecb",
   "metadata": {},
   "source": [
    "## 6. Conclusion <a name=\"conclusion\"></a>"
   ]
  },
  {
   "cell_type": "markdown",
   "id": "de80972f-89cc-4daf-bb62-a891d5443f9a",
   "metadata": {},
   "source": [
    "In summary, this notebook contains the steps to load the dataset, obtain an initial understanding of the fields and data types, as well as cleaning and preprocessing steps.\n",
    "\n",
    "Here is the list of the changes and actions we performed:\n",
    "\n",
    "* Cleaned up missing values and checked for duplicates.\n",
    "* Extracted the serving size and converted to the same unit of measure (e.g. dozens to single units).\n",
    "* Created a dataframe with only the subset of recipes which contained the number of serving size for the purpose of this project.\n",
    "* Calculated a variable containing the number of ingredients in each recipe.\n",
    "* Labeled each recipe by meal type: breakfast, lunch, dinner, drinks, dessert, and salad.\n",
    "\n",
    "With the dataset now properly clean and preprocessed, we can now move onto the next phase of this project which involves EDA and modelling."
   ]
  }
 ],
 "metadata": {
  "kernelspec": {
   "display_name": "capstone_env",
   "language": "python",
   "name": "capstone_env"
  },
  "language_info": {
   "codemirror_mode": {
    "name": "ipython",
    "version": 3
   },
   "file_extension": ".py",
   "mimetype": "text/x-python",
   "name": "python",
   "nbconvert_exporter": "python",
   "pygments_lexer": "ipython3",
   "version": "3.12.5"
  }
 },
 "nbformat": 4,
 "nbformat_minor": 5
}
