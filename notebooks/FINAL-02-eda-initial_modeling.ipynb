{
 "cells": [
  {
   "cell_type": "markdown",
   "id": "155d2424-5b7c-4b8d-b191-5dcfd82c05e6",
   "metadata": {},
   "source": [
    "# EDA and Modeling Steps"
   ]
  },
  {
   "cell_type": "code",
   "execution_count": 4,
   "id": "a8281575-6fdc-4dba-924a-d9674114a653",
   "metadata": {},
   "outputs": [],
   "source": [
    "import numpy as np\n",
    "import pandas as pd\n",
    "import matplotlib.pyplot as plt\n",
    "import seaborn as sns\n",
    "import re"
   ]
  },
  {
   "cell_type": "code",
   "execution_count": 6,
   "id": "c7e1f2ac-9d4f-44a1-a99c-bc268c6ac487",
   "metadata": {},
   "outputs": [],
   "source": [
    "recipe_df = pd.read_pickle(\"recipe_df_filtered.pkl\")"
   ]
  },
  {
   "cell_type": "code",
   "execution_count": 10,
   "id": "f3d1a5f9-b140-40bf-adf2-84f222b094ba",
   "metadata": {},
   "outputs": [
    {
     "data": {
      "text/plain": [
       "(105543, 10)"
      ]
     },
     "execution_count": 10,
     "metadata": {},
     "output_type": "execute_result"
    }
   ],
   "source": [
    "recipe_df.shape"
   ]
  },
  {
   "cell_type": "markdown",
   "id": "94e456b9-f59d-4ba6-bbb2-c9646947f6d7",
   "metadata": {},
   "source": [
    "## 1. EDA"
   ]
  },
  {
   "cell_type": "markdown",
   "id": "3078fbd8-348b-41c6-976b-a13e87fdd903",
   "metadata": {},
   "source": [
    "##### **1.1 Converting NER_list from a list to a string.**"
   ]
  },
  {
   "cell_type": "code",
   "execution_count": 12,
   "id": "d37d864c-d823-4854-b5e9-670950c55ff7",
   "metadata": {},
   "outputs": [
    {
     "name": "stdout",
     "output_type": "stream",
     "text": [
      "0         [frozen corn, cream cheese, butter, garlic pow...\n",
      "1         [broccoli, bacon, green onions, raisins, mayon...\n",
      "2         [ground beef, tomato juice, oats, egg, onion, ...\n",
      "3         [long, cooking oil, tomato sauce, water, brown...\n",
      "4         [flour, baking powder, salt, butter, sugar, eg...\n",
      "                                ...                        \n",
      "105538    [stuffing mix, butter, chicken broth, chicken,...\n",
      "105539    [margarine, Sugar, Blackberries, almonds, Bisq...\n",
      "105540    [broken wheat, water, jaggery grated, coconut ...\n",
      "105541    [red Boysenberries, chocolate, whipped cream, ...\n",
      "105542    [Bread, Grated cheese, Onions, Green peppers, ...\n",
      "Name: NER_list, Length: 105543, dtype: object\n"
     ]
    }
   ],
   "source": [
    "def ingredient_parse_list(NER):\n",
    "    return re.findall(r'\"([^\"]*)\"',NER) # \"([^\"]*)\" extracts the words within quotation marks\n",
    "\n",
    "recipe_df['NER_list'] = recipe_df['NER'].apply(ingredient_parse_list)\n",
    "print(recipe_df['NER_list'])"
   ]
  },
  {
   "cell_type": "markdown",
   "id": "4967432d-cae6-4126-9c9f-482de6756f26",
   "metadata": {},
   "source": [
    "Here we can see that the resulting dataframe has a new column name `NER_list` where it lists the name of the ingredients without the quotation marks."
   ]
  },
  {
   "cell_type": "code",
   "execution_count": 16,
   "id": "579d820c-3138-4996-ab8a-78e57f2fe862",
   "metadata": {},
   "outputs": [
    {
     "data": {
      "text/html": [
       "<div>\n",
       "<style scoped>\n",
       "    .dataframe tbody tr th:only-of-type {\n",
       "        vertical-align: middle;\n",
       "    }\n",
       "\n",
       "    .dataframe tbody tr th {\n",
       "        vertical-align: top;\n",
       "    }\n",
       "\n",
       "    .dataframe thead th {\n",
       "        text-align: right;\n",
       "    }\n",
       "</style>\n",
       "<table border=\"1\" class=\"dataframe\">\n",
       "  <thead>\n",
       "    <tr style=\"text-align: right;\">\n",
       "      <th></th>\n",
       "      <th>title</th>\n",
       "      <th>ingredients</th>\n",
       "      <th>directions</th>\n",
       "      <th>link</th>\n",
       "      <th>source</th>\n",
       "      <th>NER</th>\n",
       "      <th>serving_size</th>\n",
       "      <th>NER_list</th>\n",
       "      <th>ingredient_counter</th>\n",
       "      <th>Meal_Type</th>\n",
       "    </tr>\n",
       "  </thead>\n",
       "  <tbody>\n",
       "    <tr>\n",
       "      <th>0</th>\n",
       "      <td>Creamy Corn</td>\n",
       "      <td>[\"2 (16 oz.) pkg. frozen corn\", \"1 (8 oz.) pkg...</td>\n",
       "      <td>[\"In a slow cooker, combine all ingredients. C...</td>\n",
       "      <td>www.cookbooks.com/Recipe-Details.aspx?id=10570</td>\n",
       "      <td>Gathered</td>\n",
       "      <td>[\"frozen corn\", \"cream cheese\", \"butter\", \"gar...</td>\n",
       "      <td>6</td>\n",
       "      <td>[frozen corn, cream cheese, butter, garlic pow...</td>\n",
       "      <td>6</td>\n",
       "      <td>dinner</td>\n",
       "    </tr>\n",
       "    <tr>\n",
       "      <th>1</th>\n",
       "      <td>Broccoli Salad</td>\n",
       "      <td>[\"1 large head broccoli (about 1 1/2 lb.)\", \"1...</td>\n",
       "      <td>[\"Trim off large leaves of broccoli and remove...</td>\n",
       "      <td>www.cookbooks.com/Recipe-Details.aspx?id=50992</td>\n",
       "      <td>Gathered</td>\n",
       "      <td>[\"broccoli\", \"bacon\", \"green onions\", \"raisins...</td>\n",
       "      <td>6</td>\n",
       "      <td>[broccoli, bacon, green onions, raisins, mayon...</td>\n",
       "      <td>7</td>\n",
       "      <td>salad</td>\n",
       "    </tr>\n",
       "    <tr>\n",
       "      <th>2</th>\n",
       "      <td>Prize-Winning Meat Loaf</td>\n",
       "      <td>[\"1 1/2 lb. ground beef\", \"1 c. tomato juice\",...</td>\n",
       "      <td>[\"Mix well.\", \"Press firmly into an 8 1/2 x 4 ...</td>\n",
       "      <td>www.cookbooks.com/Recipe-Details.aspx?id=923674</td>\n",
       "      <td>Gathered</td>\n",
       "      <td>[\"ground beef\", \"tomato juice\", \"oats\", \"egg\",...</td>\n",
       "      <td>8</td>\n",
       "      <td>[ground beef, tomato juice, oats, egg, onion, ...</td>\n",
       "      <td>7</td>\n",
       "      <td>lunch</td>\n",
       "    </tr>\n",
       "    <tr>\n",
       "      <th>3</th>\n",
       "      <td>Corral Barbecued Beef Steak Strips</td>\n",
       "      <td>[\"2 lb. round steak 1/2 to 3/4-inch thick, sli...</td>\n",
       "      <td>[\"Brown strips in cooking oil.\", \"Pour off dri...</td>\n",
       "      <td>www.cookbooks.com/Recipe-Details.aspx?id=420402</td>\n",
       "      <td>Gathered</td>\n",
       "      <td>[\"long\", \"cooking oil\", \"tomato sauce\", \"water...</td>\n",
       "      <td>8</td>\n",
       "      <td>[long, cooking oil, tomato sauce, water, brown...</td>\n",
       "      <td>8</td>\n",
       "      <td>dinner</td>\n",
       "    </tr>\n",
       "    <tr>\n",
       "      <th>4</th>\n",
       "      <td>Mexican Cookie Rings</td>\n",
       "      <td>[\"1 1/2 c. sifted flour\", \"1/2 tsp. baking pow...</td>\n",
       "      <td>[\"Sift flour, baking powder and salt together....</td>\n",
       "      <td>www.cookbooks.com/Recipe-Details.aspx?id=364136</td>\n",
       "      <td>Gathered</td>\n",
       "      <td>[\"flour\", \"baking powder\", \"salt\", \"butter\", \"...</td>\n",
       "      <td>24</td>\n",
       "      <td>[flour, baking powder, salt, butter, sugar, eg...</td>\n",
       "      <td>8</td>\n",
       "      <td>dessert</td>\n",
       "    </tr>\n",
       "  </tbody>\n",
       "</table>\n",
       "</div>"
      ],
      "text/plain": [
       "                                title  \\\n",
       "0                         Creamy Corn   \n",
       "1                      Broccoli Salad   \n",
       "2             Prize-Winning Meat Loaf   \n",
       "3  Corral Barbecued Beef Steak Strips   \n",
       "4                Mexican Cookie Rings   \n",
       "\n",
       "                                         ingredients  \\\n",
       "0  [\"2 (16 oz.) pkg. frozen corn\", \"1 (8 oz.) pkg...   \n",
       "1  [\"1 large head broccoli (about 1 1/2 lb.)\", \"1...   \n",
       "2  [\"1 1/2 lb. ground beef\", \"1 c. tomato juice\",...   \n",
       "3  [\"2 lb. round steak 1/2 to 3/4-inch thick, sli...   \n",
       "4  [\"1 1/2 c. sifted flour\", \"1/2 tsp. baking pow...   \n",
       "\n",
       "                                          directions  \\\n",
       "0  [\"In a slow cooker, combine all ingredients. C...   \n",
       "1  [\"Trim off large leaves of broccoli and remove...   \n",
       "2  [\"Mix well.\", \"Press firmly into an 8 1/2 x 4 ...   \n",
       "3  [\"Brown strips in cooking oil.\", \"Pour off dri...   \n",
       "4  [\"Sift flour, baking powder and salt together....   \n",
       "\n",
       "                                              link    source  \\\n",
       "0   www.cookbooks.com/Recipe-Details.aspx?id=10570  Gathered   \n",
       "1   www.cookbooks.com/Recipe-Details.aspx?id=50992  Gathered   \n",
       "2  www.cookbooks.com/Recipe-Details.aspx?id=923674  Gathered   \n",
       "3  www.cookbooks.com/Recipe-Details.aspx?id=420402  Gathered   \n",
       "4  www.cookbooks.com/Recipe-Details.aspx?id=364136  Gathered   \n",
       "\n",
       "                                                 NER  serving_size  \\\n",
       "0  [\"frozen corn\", \"cream cheese\", \"butter\", \"gar...             6   \n",
       "1  [\"broccoli\", \"bacon\", \"green onions\", \"raisins...             6   \n",
       "2  [\"ground beef\", \"tomato juice\", \"oats\", \"egg\",...             8   \n",
       "3  [\"long\", \"cooking oil\", \"tomato sauce\", \"water...             8   \n",
       "4  [\"flour\", \"baking powder\", \"salt\", \"butter\", \"...            24   \n",
       "\n",
       "                                            NER_list  ingredient_counter  \\\n",
       "0  [frozen corn, cream cheese, butter, garlic pow...                   6   \n",
       "1  [broccoli, bacon, green onions, raisins, mayon...                   7   \n",
       "2  [ground beef, tomato juice, oats, egg, onion, ...                   7   \n",
       "3  [long, cooking oil, tomato sauce, water, brown...                   8   \n",
       "4  [flour, baking powder, salt, butter, sugar, eg...                   8   \n",
       "\n",
       "  Meal_Type  \n",
       "0    dinner  \n",
       "1     salad  \n",
       "2     lunch  \n",
       "3    dinner  \n",
       "4   dessert  "
      ]
     },
     "execution_count": 16,
     "metadata": {},
     "output_type": "execute_result"
    }
   ],
   "source": [
    "recipe_df.head()"
   ]
  },
  {
   "cell_type": "code",
   "execution_count": 18,
   "id": "d6c844b0-5965-4554-bdd1-6c611121688f",
   "metadata": {},
   "outputs": [],
   "source": [
    "ingredient_list_df = pd.DataFrame(recipe_df['NER_list'])"
   ]
  },
  {
   "cell_type": "code",
   "execution_count": 20,
   "id": "7cc4e9dc-a096-4e62-ae82-a6ba322f502b",
   "metadata": {},
   "outputs": [
    {
     "name": "stdout",
     "output_type": "stream",
     "text": [
      "<class 'list'>\n"
     ]
    }
   ],
   "source": [
    "print(type(ingredient_list_df.loc[0,'NER_list']))"
   ]
  },
  {
   "cell_type": "markdown",
   "id": "a45f8cdc-8551-40bf-93a2-db14fb3be29e",
   "metadata": {},
   "source": [
    "Looking at the data type of the contents within column `NER_list` it can be seen that these values are a list and not a string. In the EDA step, I am going to be look into frequency of the ingredients to gain more insights from this dataset, so I need these values in a string format to break up the list."
   ]
  },
  {
   "cell_type": "code",
   "execution_count": 15,
   "id": "68e6b41b-11d7-4818-a09c-57dbeb7999bd",
   "metadata": {},
   "outputs": [],
   "source": [
    "def list_to_string(s):\n",
    "\n",
    "    str1 = \", \"\n",
    "\n",
    "    return (str1.join(s))"
   ]
  },
  {
   "cell_type": "code",
   "execution_count": 17,
   "id": "5a89fd23-d324-403c-b2bb-bb975506ec08",
   "metadata": {},
   "outputs": [
    {
     "data": {
      "text/html": [
       "<div>\n",
       "<style scoped>\n",
       "    .dataframe tbody tr th:only-of-type {\n",
       "        vertical-align: middle;\n",
       "    }\n",
       "\n",
       "    .dataframe tbody tr th {\n",
       "        vertical-align: top;\n",
       "    }\n",
       "\n",
       "    .dataframe thead th {\n",
       "        text-align: right;\n",
       "    }\n",
       "</style>\n",
       "<table border=\"1\" class=\"dataframe\">\n",
       "  <thead>\n",
       "    <tr style=\"text-align: right;\">\n",
       "      <th></th>\n",
       "      <th>NER_list</th>\n",
       "    </tr>\n",
       "  </thead>\n",
       "  <tbody>\n",
       "    <tr>\n",
       "      <th>0</th>\n",
       "      <td>frozen corn, cream cheese, butter, garlic powd...</td>\n",
       "    </tr>\n",
       "    <tr>\n",
       "      <th>1</th>\n",
       "      <td>broccoli, bacon, green onions, raisins, mayonn...</td>\n",
       "    </tr>\n",
       "    <tr>\n",
       "      <th>2</th>\n",
       "      <td>ground beef, tomato juice, oats, egg, onion, p...</td>\n",
       "    </tr>\n",
       "    <tr>\n",
       "      <th>3</th>\n",
       "      <td>long, cooking oil, tomato sauce, water, brown ...</td>\n",
       "    </tr>\n",
       "    <tr>\n",
       "      <th>4</th>\n",
       "      <td>flour, baking powder, salt, butter, sugar, egg...</td>\n",
       "    </tr>\n",
       "  </tbody>\n",
       "</table>\n",
       "</div>"
      ],
      "text/plain": [
       "                                            NER_list\n",
       "0  frozen corn, cream cheese, butter, garlic powd...\n",
       "1  broccoli, bacon, green onions, raisins, mayonn...\n",
       "2  ground beef, tomato juice, oats, egg, onion, p...\n",
       "3  long, cooking oil, tomato sauce, water, brown ...\n",
       "4  flour, baking powder, salt, butter, sugar, egg..."
      ]
     },
     "execution_count": 17,
     "metadata": {},
     "output_type": "execute_result"
    }
   ],
   "source": [
    "ingredient_list_df = pd.DataFrame(ingredient_list_df['NER_list'].apply(list_to_string))\n",
    "ingredient_list_df.head()"
   ]
  },
  {
   "cell_type": "code",
   "execution_count": 19,
   "id": "f36d1077-c9e1-49a9-8244-2f999cde2a06",
   "metadata": {},
   "outputs": [
    {
     "name": "stdout",
     "output_type": "stream",
     "text": [
      "<class 'str'>\n"
     ]
    }
   ],
   "source": [
    "print(type(ingredient_list_df.loc[0,'NER_list']))"
   ]
  },
  {
   "cell_type": "markdown",
   "id": "a1cd430c-195c-47a1-bd3d-586910ecfce0",
   "metadata": {},
   "source": [
    "`NER_list` now holds a string value that I can split in the EDA process."
   ]
  },
  {
   "cell_type": "code",
   "execution_count": 23,
   "id": "08d0d4c9-af1b-4e48-a6c6-b4056b13ea4c",
   "metadata": {},
   "outputs": [
    {
     "data": {
      "text/html": [
       "<div>\n",
       "<style scoped>\n",
       "    .dataframe tbody tr th:only-of-type {\n",
       "        vertical-align: middle;\n",
       "    }\n",
       "\n",
       "    .dataframe tbody tr th {\n",
       "        vertical-align: top;\n",
       "    }\n",
       "\n",
       "    .dataframe thead th {\n",
       "        text-align: right;\n",
       "    }\n",
       "</style>\n",
       "<table border=\"1\" class=\"dataframe\">\n",
       "  <thead>\n",
       "    <tr style=\"text-align: right;\">\n",
       "      <th></th>\n",
       "      <th>NER_list</th>\n",
       "    </tr>\n",
       "  </thead>\n",
       "  <tbody>\n",
       "    <tr>\n",
       "      <th>0</th>\n",
       "      <td>frozen corn, cream cheese, butter, garlic powd...</td>\n",
       "    </tr>\n",
       "    <tr>\n",
       "      <th>1</th>\n",
       "      <td>broccoli, bacon, green onions, raisins, mayonn...</td>\n",
       "    </tr>\n",
       "    <tr>\n",
       "      <th>2</th>\n",
       "      <td>ground beef, tomato juice, oats, egg, onion, p...</td>\n",
       "    </tr>\n",
       "    <tr>\n",
       "      <th>3</th>\n",
       "      <td>long, cooking oil, tomato sauce, water, brown ...</td>\n",
       "    </tr>\n",
       "    <tr>\n",
       "      <th>4</th>\n",
       "      <td>flour, baking powder, salt, butter, sugar, egg...</td>\n",
       "    </tr>\n",
       "    <tr>\n",
       "      <th>...</th>\n",
       "      <td>...</td>\n",
       "    </tr>\n",
       "    <tr>\n",
       "      <th>105538</th>\n",
       "      <td>stuffing mix, butter, chicken broth, chicken, ...</td>\n",
       "    </tr>\n",
       "    <tr>\n",
       "      <th>105539</th>\n",
       "      <td>margarine, Sugar, Blackberries, almonds, Bisqu...</td>\n",
       "    </tr>\n",
       "    <tr>\n",
       "      <th>105540</th>\n",
       "      <td>broken wheat, water, jaggery grated, coconut l...</td>\n",
       "    </tr>\n",
       "    <tr>\n",
       "      <th>105541</th>\n",
       "      <td>red Boysenberries, chocolate, whipped cream, C...</td>\n",
       "    </tr>\n",
       "    <tr>\n",
       "      <th>105542</th>\n",
       "      <td>Bread, Grated cheese, Onions, Green peppers, T...</td>\n",
       "    </tr>\n",
       "  </tbody>\n",
       "</table>\n",
       "<p>105543 rows × 1 columns</p>\n",
       "</div>"
      ],
      "text/plain": [
       "                                                 NER_list\n",
       "0       frozen corn, cream cheese, butter, garlic powd...\n",
       "1       broccoli, bacon, green onions, raisins, mayonn...\n",
       "2       ground beef, tomato juice, oats, egg, onion, p...\n",
       "3       long, cooking oil, tomato sauce, water, brown ...\n",
       "4       flour, baking powder, salt, butter, sugar, egg...\n",
       "...                                                   ...\n",
       "105538  stuffing mix, butter, chicken broth, chicken, ...\n",
       "105539  margarine, Sugar, Blackberries, almonds, Bisqu...\n",
       "105540  broken wheat, water, jaggery grated, coconut l...\n",
       "105541  red Boysenberries, chocolate, whipped cream, C...\n",
       "105542  Bread, Grated cheese, Onions, Green peppers, T...\n",
       "\n",
       "[105543 rows x 1 columns]"
      ]
     },
     "execution_count": 23,
     "metadata": {},
     "output_type": "execute_result"
    }
   ],
   "source": [
    "ingredient_list_df"
   ]
  },
  {
   "cell_type": "markdown",
   "id": "26f988d1-024f-423e-ad11-8c9962f29b68",
   "metadata": {},
   "source": [
    "##### **1.2 Tokenizing the `NER_list` column to get a word counter for ingredients.**"
   ]
  },
  {
   "cell_type": "code",
   "execution_count": 23,
   "id": "2bb36251-cafb-4802-bc05-914c05ffd562",
   "metadata": {},
   "outputs": [
    {
     "data": {
      "text/plain": [
       "0         [frozen corn, cream cheese, butter, garlic pow...\n",
       "1         [broccoli, bacon, green onions, raisins, mayon...\n",
       "2         [ground beef, tomato juice, oats, egg, onion, ...\n",
       "3         [long, cooking oil, tomato sauce, water, brown...\n",
       "4         [flour, baking powder, salt, butter, sugar, eg...\n",
       "                                ...                        \n",
       "105538    [stuffing mix, butter, chicken broth, chicken,...\n",
       "105539    [margarine, Sugar, Blackberries, almonds, Bisq...\n",
       "105540    [broken wheat, water, jaggery grated, coconut ...\n",
       "105541    [red Boysenberries, chocolate, whipped cream, ...\n",
       "105542    [Bread, Grated cheese, Onions, Green peppers, ...\n",
       "Name: NER_list, Length: 105543, dtype: object"
      ]
     },
     "execution_count": 23,
     "metadata": {},
     "output_type": "execute_result"
    }
   ],
   "source": [
    "ingredient_list_df['NER_list'].str.split(', ')"
   ]
  },
  {
   "cell_type": "markdown",
   "id": "5d26f91a-0cda-491a-a8f7-435bc3f061a4",
   "metadata": {},
   "source": [
    "We now need to take this  tokenized  corpus and make the document-term matrix using the bag of words model. We can do that using the `CountVectorizer()` function from Sklearn. Let's fit it first and talk about what we are seeing."
   ]
  },
  {
   "cell_type": "code",
   "execution_count": 25,
   "id": "5fc5ca99-4c91-483e-9575-983442fc5f29",
   "metadata": {},
   "outputs": [],
   "source": [
    "from sklearn.feature_extraction.text import CountVectorizer"
   ]
  },
  {
   "cell_type": "code",
   "execution_count": 27,
   "id": "38fa9393-f9f3-49df-8659-68a6d9a35948",
   "metadata": {},
   "outputs": [
    {
     "data": {
      "text/plain": [
       "<Compressed Sparse Row sparse matrix of dtype 'int64'\n",
       "\twith 1261886 stored elements and shape (105543, 5529)>"
      ]
     },
     "execution_count": 27,
     "metadata": {},
     "output_type": "execute_result"
    }
   ],
   "source": [
    "# 1. Instantiate \n",
    "bagofwords = CountVectorizer()\n",
    "\n",
    "# 2. Fit \n",
    "bagofwords.fit(ingredient_list_df['NER_list'])\n",
    "\n",
    "# 3. Transform\n",
    "ingredient_list_transformed = bagofwords.transform(ingredient_list_df['NER_list'])\n",
    "ingredient_list_transformed"
   ]
  },
  {
   "cell_type": "code",
   "execution_count": 29,
   "id": "efc8a727-11d3-48c8-9fb1-73ee89ce766f",
   "metadata": {},
   "outputs": [],
   "source": [
    "ingredient_list_transformed = ingredient_list_transformed.astype(np.int32) #transforming to int32 to help with memory issues later on "
   ]
  },
  {
   "cell_type": "code",
   "execution_count": 31,
   "id": "1d07f3eb-1392-442c-800e-41efaeec4983",
   "metadata": {},
   "outputs": [
    {
     "data": {
      "text/plain": [
       "dtype('int32')"
      ]
     },
     "execution_count": 31,
     "metadata": {},
     "output_type": "execute_result"
    }
   ],
   "source": [
    "ingredient_list_transformed.dtype"
   ]
  },
  {
   "cell_type": "code",
   "execution_count": 33,
   "id": "7912e8e5-a9e1-438e-96e7-ccdefa90b771",
   "metadata": {},
   "outputs": [
    {
     "data": {
      "text/plain": [
       "array(['___', '____', '_____', ..., 'zucchini', 'zucchinis', 'zwieback'],\n",
       "      dtype=object)"
      ]
     },
     "execution_count": 33,
     "metadata": {},
     "output_type": "execute_result"
    }
   ],
   "source": [
    "bagofwords.get_feature_names_out()"
   ]
  },
  {
   "cell_type": "code",
   "execution_count": 35,
   "id": "8f4894b4-e4f8-45a7-b3c4-0d6584f5dde1",
   "metadata": {},
   "outputs": [
    {
     "data": {
      "text/plain": [
       "array([[0, 0, 0, ..., 0, 0, 0],\n",
       "       [0, 0, 0, ..., 0, 0, 0],\n",
       "       [0, 0, 0, ..., 0, 0, 0],\n",
       "       ...,\n",
       "       [0, 0, 0, ..., 0, 0, 0],\n",
       "       [0, 0, 0, ..., 0, 0, 0],\n",
       "       [0, 0, 0, ..., 0, 0, 0]], dtype=int32)"
      ]
     },
     "execution_count": 35,
     "metadata": {},
     "output_type": "execute_result"
    }
   ],
   "source": [
    "ingredient_list_transformed.toarray()"
   ]
  },
  {
   "cell_type": "code",
   "execution_count": 37,
   "id": "4f0e0bf4-e1dd-42f4-acaf-b6221929183d",
   "metadata": {},
   "outputs": [],
   "source": [
    "ingredient_list_binary_matrix = pd.DataFrame(columns=bagofwords.get_feature_names_out(), data=ingredient_list_transformed.toarray())"
   ]
  },
  {
   "cell_type": "code",
   "execution_count": 39,
   "id": "6d4e91b7-948b-4a78-abf7-d3b1b81edd57",
   "metadata": {},
   "outputs": [
    {
     "data": {
      "text/html": [
       "<div>\n",
       "<style scoped>\n",
       "    .dataframe tbody tr th:only-of-type {\n",
       "        vertical-align: middle;\n",
       "    }\n",
       "\n",
       "    .dataframe tbody tr th {\n",
       "        vertical-align: top;\n",
       "    }\n",
       "\n",
       "    .dataframe thead th {\n",
       "        text-align: right;\n",
       "    }\n",
       "</style>\n",
       "<table border=\"1\" class=\"dataframe\">\n",
       "  <thead>\n",
       "    <tr style=\"text-align: right;\">\n",
       "      <th></th>\n",
       "      <th>___</th>\n",
       "      <th>____</th>\n",
       "      <th>_____</th>\n",
       "      <th>______</th>\n",
       "      <th>abalone</th>\n",
       "      <th>absolut</th>\n",
       "      <th>abt</th>\n",
       "      <th>aburaage</th>\n",
       "      <th>aburage</th>\n",
       "      <th>acacia</th>\n",
       "      <th>...</th>\n",
       "      <th>zesty</th>\n",
       "      <th>zinfandel</th>\n",
       "      <th>zinger</th>\n",
       "      <th>ziplock</th>\n",
       "      <th>ziti</th>\n",
       "      <th>zone</th>\n",
       "      <th>zucchine</th>\n",
       "      <th>zucchini</th>\n",
       "      <th>zucchinis</th>\n",
       "      <th>zwieback</th>\n",
       "    </tr>\n",
       "  </thead>\n",
       "  <tbody>\n",
       "    <tr>\n",
       "      <th>0</th>\n",
       "      <td>0</td>\n",
       "      <td>0</td>\n",
       "      <td>0</td>\n",
       "      <td>0</td>\n",
       "      <td>0</td>\n",
       "      <td>0</td>\n",
       "      <td>0</td>\n",
       "      <td>0</td>\n",
       "      <td>0</td>\n",
       "      <td>0</td>\n",
       "      <td>...</td>\n",
       "      <td>0</td>\n",
       "      <td>0</td>\n",
       "      <td>0</td>\n",
       "      <td>0</td>\n",
       "      <td>0</td>\n",
       "      <td>0</td>\n",
       "      <td>0</td>\n",
       "      <td>0</td>\n",
       "      <td>0</td>\n",
       "      <td>0</td>\n",
       "    </tr>\n",
       "    <tr>\n",
       "      <th>1</th>\n",
       "      <td>0</td>\n",
       "      <td>0</td>\n",
       "      <td>0</td>\n",
       "      <td>0</td>\n",
       "      <td>0</td>\n",
       "      <td>0</td>\n",
       "      <td>0</td>\n",
       "      <td>0</td>\n",
       "      <td>0</td>\n",
       "      <td>0</td>\n",
       "      <td>...</td>\n",
       "      <td>0</td>\n",
       "      <td>0</td>\n",
       "      <td>0</td>\n",
       "      <td>0</td>\n",
       "      <td>0</td>\n",
       "      <td>0</td>\n",
       "      <td>0</td>\n",
       "      <td>0</td>\n",
       "      <td>0</td>\n",
       "      <td>0</td>\n",
       "    </tr>\n",
       "    <tr>\n",
       "      <th>2</th>\n",
       "      <td>0</td>\n",
       "      <td>0</td>\n",
       "      <td>0</td>\n",
       "      <td>0</td>\n",
       "      <td>0</td>\n",
       "      <td>0</td>\n",
       "      <td>0</td>\n",
       "      <td>0</td>\n",
       "      <td>0</td>\n",
       "      <td>0</td>\n",
       "      <td>...</td>\n",
       "      <td>0</td>\n",
       "      <td>0</td>\n",
       "      <td>0</td>\n",
       "      <td>0</td>\n",
       "      <td>0</td>\n",
       "      <td>0</td>\n",
       "      <td>0</td>\n",
       "      <td>0</td>\n",
       "      <td>0</td>\n",
       "      <td>0</td>\n",
       "    </tr>\n",
       "    <tr>\n",
       "      <th>3</th>\n",
       "      <td>0</td>\n",
       "      <td>0</td>\n",
       "      <td>0</td>\n",
       "      <td>0</td>\n",
       "      <td>0</td>\n",
       "      <td>0</td>\n",
       "      <td>0</td>\n",
       "      <td>0</td>\n",
       "      <td>0</td>\n",
       "      <td>0</td>\n",
       "      <td>...</td>\n",
       "      <td>0</td>\n",
       "      <td>0</td>\n",
       "      <td>0</td>\n",
       "      <td>0</td>\n",
       "      <td>0</td>\n",
       "      <td>0</td>\n",
       "      <td>0</td>\n",
       "      <td>0</td>\n",
       "      <td>0</td>\n",
       "      <td>0</td>\n",
       "    </tr>\n",
       "    <tr>\n",
       "      <th>4</th>\n",
       "      <td>0</td>\n",
       "      <td>0</td>\n",
       "      <td>0</td>\n",
       "      <td>0</td>\n",
       "      <td>0</td>\n",
       "      <td>0</td>\n",
       "      <td>0</td>\n",
       "      <td>0</td>\n",
       "      <td>0</td>\n",
       "      <td>0</td>\n",
       "      <td>...</td>\n",
       "      <td>0</td>\n",
       "      <td>0</td>\n",
       "      <td>0</td>\n",
       "      <td>0</td>\n",
       "      <td>0</td>\n",
       "      <td>0</td>\n",
       "      <td>0</td>\n",
       "      <td>0</td>\n",
       "      <td>0</td>\n",
       "      <td>0</td>\n",
       "    </tr>\n",
       "    <tr>\n",
       "      <th>...</th>\n",
       "      <td>...</td>\n",
       "      <td>...</td>\n",
       "      <td>...</td>\n",
       "      <td>...</td>\n",
       "      <td>...</td>\n",
       "      <td>...</td>\n",
       "      <td>...</td>\n",
       "      <td>...</td>\n",
       "      <td>...</td>\n",
       "      <td>...</td>\n",
       "      <td>...</td>\n",
       "      <td>...</td>\n",
       "      <td>...</td>\n",
       "      <td>...</td>\n",
       "      <td>...</td>\n",
       "      <td>...</td>\n",
       "      <td>...</td>\n",
       "      <td>...</td>\n",
       "      <td>...</td>\n",
       "      <td>...</td>\n",
       "      <td>...</td>\n",
       "    </tr>\n",
       "    <tr>\n",
       "      <th>105538</th>\n",
       "      <td>0</td>\n",
       "      <td>0</td>\n",
       "      <td>0</td>\n",
       "      <td>0</td>\n",
       "      <td>0</td>\n",
       "      <td>0</td>\n",
       "      <td>0</td>\n",
       "      <td>0</td>\n",
       "      <td>0</td>\n",
       "      <td>0</td>\n",
       "      <td>...</td>\n",
       "      <td>0</td>\n",
       "      <td>0</td>\n",
       "      <td>0</td>\n",
       "      <td>0</td>\n",
       "      <td>0</td>\n",
       "      <td>0</td>\n",
       "      <td>0</td>\n",
       "      <td>0</td>\n",
       "      <td>0</td>\n",
       "      <td>0</td>\n",
       "    </tr>\n",
       "    <tr>\n",
       "      <th>105539</th>\n",
       "      <td>0</td>\n",
       "      <td>0</td>\n",
       "      <td>0</td>\n",
       "      <td>0</td>\n",
       "      <td>0</td>\n",
       "      <td>0</td>\n",
       "      <td>0</td>\n",
       "      <td>0</td>\n",
       "      <td>0</td>\n",
       "      <td>0</td>\n",
       "      <td>...</td>\n",
       "      <td>0</td>\n",
       "      <td>0</td>\n",
       "      <td>0</td>\n",
       "      <td>0</td>\n",
       "      <td>0</td>\n",
       "      <td>0</td>\n",
       "      <td>0</td>\n",
       "      <td>0</td>\n",
       "      <td>0</td>\n",
       "      <td>0</td>\n",
       "    </tr>\n",
       "    <tr>\n",
       "      <th>105540</th>\n",
       "      <td>0</td>\n",
       "      <td>0</td>\n",
       "      <td>0</td>\n",
       "      <td>0</td>\n",
       "      <td>0</td>\n",
       "      <td>0</td>\n",
       "      <td>0</td>\n",
       "      <td>0</td>\n",
       "      <td>0</td>\n",
       "      <td>0</td>\n",
       "      <td>...</td>\n",
       "      <td>0</td>\n",
       "      <td>0</td>\n",
       "      <td>0</td>\n",
       "      <td>0</td>\n",
       "      <td>0</td>\n",
       "      <td>0</td>\n",
       "      <td>0</td>\n",
       "      <td>0</td>\n",
       "      <td>0</td>\n",
       "      <td>0</td>\n",
       "    </tr>\n",
       "    <tr>\n",
       "      <th>105541</th>\n",
       "      <td>0</td>\n",
       "      <td>0</td>\n",
       "      <td>0</td>\n",
       "      <td>0</td>\n",
       "      <td>0</td>\n",
       "      <td>0</td>\n",
       "      <td>0</td>\n",
       "      <td>0</td>\n",
       "      <td>0</td>\n",
       "      <td>0</td>\n",
       "      <td>...</td>\n",
       "      <td>0</td>\n",
       "      <td>0</td>\n",
       "      <td>0</td>\n",
       "      <td>0</td>\n",
       "      <td>0</td>\n",
       "      <td>0</td>\n",
       "      <td>0</td>\n",
       "      <td>0</td>\n",
       "      <td>0</td>\n",
       "      <td>0</td>\n",
       "    </tr>\n",
       "    <tr>\n",
       "      <th>105542</th>\n",
       "      <td>0</td>\n",
       "      <td>0</td>\n",
       "      <td>0</td>\n",
       "      <td>0</td>\n",
       "      <td>0</td>\n",
       "      <td>0</td>\n",
       "      <td>0</td>\n",
       "      <td>0</td>\n",
       "      <td>0</td>\n",
       "      <td>0</td>\n",
       "      <td>...</td>\n",
       "      <td>0</td>\n",
       "      <td>0</td>\n",
       "      <td>0</td>\n",
       "      <td>0</td>\n",
       "      <td>0</td>\n",
       "      <td>0</td>\n",
       "      <td>0</td>\n",
       "      <td>0</td>\n",
       "      <td>0</td>\n",
       "      <td>0</td>\n",
       "    </tr>\n",
       "  </tbody>\n",
       "</table>\n",
       "<p>105543 rows × 5529 columns</p>\n",
       "</div>"
      ],
      "text/plain": [
       "        ___  ____  _____  ______  abalone  absolut  abt  aburaage  aburage  \\\n",
       "0         0     0      0       0        0        0    0         0        0   \n",
       "1         0     0      0       0        0        0    0         0        0   \n",
       "2         0     0      0       0        0        0    0         0        0   \n",
       "3         0     0      0       0        0        0    0         0        0   \n",
       "4         0     0      0       0        0        0    0         0        0   \n",
       "...     ...   ...    ...     ...      ...      ...  ...       ...      ...   \n",
       "105538    0     0      0       0        0        0    0         0        0   \n",
       "105539    0     0      0       0        0        0    0         0        0   \n",
       "105540    0     0      0       0        0        0    0         0        0   \n",
       "105541    0     0      0       0        0        0    0         0        0   \n",
       "105542    0     0      0       0        0        0    0         0        0   \n",
       "\n",
       "        acacia  ...  zesty  zinfandel  zinger  ziplock  ziti  zone  zucchine  \\\n",
       "0            0  ...      0          0       0        0     0     0         0   \n",
       "1            0  ...      0          0       0        0     0     0         0   \n",
       "2            0  ...      0          0       0        0     0     0         0   \n",
       "3            0  ...      0          0       0        0     0     0         0   \n",
       "4            0  ...      0          0       0        0     0     0         0   \n",
       "...        ...  ...    ...        ...     ...      ...   ...   ...       ...   \n",
       "105538       0  ...      0          0       0        0     0     0         0   \n",
       "105539       0  ...      0          0       0        0     0     0         0   \n",
       "105540       0  ...      0          0       0        0     0     0         0   \n",
       "105541       0  ...      0          0       0        0     0     0         0   \n",
       "105542       0  ...      0          0       0        0     0     0         0   \n",
       "\n",
       "        zucchini  zucchinis  zwieback  \n",
       "0              0          0         0  \n",
       "1              0          0         0  \n",
       "2              0          0         0  \n",
       "3              0          0         0  \n",
       "4              0          0         0  \n",
       "...          ...        ...       ...  \n",
       "105538         0          0         0  \n",
       "105539         0          0         0  \n",
       "105540         0          0         0  \n",
       "105541         0          0         0  \n",
       "105542         0          0         0  \n",
       "\n",
       "[105543 rows x 5529 columns]"
      ]
     },
     "execution_count": 39,
     "metadata": {},
     "output_type": "execute_result"
    }
   ],
   "source": [
    "ingredient_list_binary_matrix"
   ]
  },
  {
   "cell_type": "code",
   "execution_count": 155,
   "id": "e8b67615-facf-4a9b-9bbd-b8f29e90ee75",
   "metadata": {},
   "outputs": [
    {
     "data": {
      "image/png": "[encoded data removed]",
      "text/plain": [
       "<Figure size 1500x500 with 1 Axes>"
      ]
     },
     "metadata": {},
     "output_type": "display_data"
    }
   ],
   "source": [
    "word_counts = pd.DataFrame(\n",
    "    {\"counts\": ingredient_list_transformed.toarray().sum(axis=0)},\n",
    "    index=bagofwords.get_feature_names_out()\n",
    ").sort_values(\"counts\", ascending=False)\n",
    "\n",
    "word_counts.head(20).plot(kind=\"bar\", figsize=(15, 5), legend=False)\n",
    "plt.title(\"Top 20 most frequently occurring words\")\n",
    "plt.ylabel(\"Count\")\n",
    "plt.xticks(rotation=45)\n",
    "plt.show()"
   ]
  },
  {
   "cell_type": "markdown",
   "id": "1ae67259-f33d-4e15-a9cc-5f52a7daa1e9",
   "metadata": {},
   "source": [
    "##### **1.3 Histograms to Look at the Distribution of our Numerical Columns.**"
   ]
  },
  {
   "cell_type": "markdown",
   "id": "9290b767-4fe3-4b13-aa45-b4f6fdb30b38",
   "metadata": {},
   "source": [
    "Histogram plot of `serving_size`"
   ]
  },
  {
   "cell_type": "code",
   "execution_count": 164,
   "id": "62b14d1e-e33c-4221-af07-2c73d2250782",
   "metadata": {},
   "outputs": [
    {
     "data": {
      "image/png": "[encoded data removed]",
      "text/plain": [
       "<Figure size 640x480 with 1 Axes>"
      ]
     },
     "metadata": {},
     "output_type": "display_data"
    }
   ],
   "source": [
    "plt.figure()\n",
    "sns.histplot(recipe_df['serving_size'], bins=50)\n",
    "plt.title('Distribution of Serving Size')\n",
    "plt.xlabel('Number of Servings')\n",
    "plt.ylabel('Count')\n",
    "plt.show()"
   ]
  },
  {
   "cell_type": "code",
   "execution_count": 169,
   "id": "38d797f0-3f55-4d76-8b35-f0ef419dedf8",
   "metadata": {},
   "outputs": [
    {
     "data": {
      "text/plain": [
       "count    105543.000000\n",
       "mean          8.253205\n",
       "std          45.561278\n",
       "min           0.000000\n",
       "25%           4.000000\n",
       "50%           6.000000\n",
       "75%           8.000000\n",
       "max        5800.000000\n",
       "Name: serving_size, dtype: float64"
      ]
     },
     "execution_count": 169,
     "metadata": {},
     "output_type": "execute_result"
    }
   ],
   "source": [
    "recipe_df['serving_size'].describe()"
   ]
  },
  {
   "cell_type": "markdown",
   "id": "2b44994c-7ebb-41a3-aabd-5132375a30cb",
   "metadata": {},
   "source": [
    "Histogram plot of `ingredient_counter`"
   ]
  },
  {
   "cell_type": "code",
   "execution_count": 178,
   "id": "d694b40f-fced-41b4-b40b-309c4070c7a1",
   "metadata": {},
   "outputs": [
    {
     "data": {
      "image/png": "[encoded data removed]",
      "text/plain": [
       "<Figure size 1000x600 with 1 Axes>"
      ]
     },
     "metadata": {},
     "output_type": "display_data"
    }
   ],
   "source": [
    "plt.figure(figsize=(10,6))\n",
    "recipe_df.ingredient_counter.hist(bins=15, grid=False, edgecolor='black')\n",
    "plt.title('Distribution of Number of Ingredients in Recipes')\n",
    "plt.xlabel('Number of Ingredients')\n",
    "plt.ylabel('Count')\n",
    "\n",
    "plt.axvline(recipe_df['ingredient_counter'].mean(), c = 'red', label='mean')\n",
    "plt.axvline(recipe_df['ingredient_counter'].median(), c = 'orange', label='median')\n",
    "\n",
    "plt.legend()\n",
    "plt.show()"
   ]
  },
  {
   "cell_type": "code",
   "execution_count": 181,
   "id": "5e8be759-9725-4657-ae0d-2f74dc2b690a",
   "metadata": {},
   "outputs": [
    {
     "data": {
      "text/plain": [
       "count    105543.000000\n",
       "mean          8.393726\n",
       "std           3.534658\n",
       "min           0.000000\n",
       "25%           6.000000\n",
       "50%           8.000000\n",
       "75%          10.000000\n",
       "max          86.000000\n",
       "Name: ingredient_counter, dtype: float64"
      ]
     },
     "execution_count": 181,
     "metadata": {},
     "output_type": "execute_result"
    }
   ],
   "source": [
    "recipe_df['ingredient_counter'].describe()"
   ]
  },
  {
   "cell_type": "markdown",
   "id": "f236a91c-59ea-4188-aa57-91e75a6a88f0",
   "metadata": {},
   "source": [
    "##### **1.4 Tokenizing the `title` column to understand frequency of words used in name of recipe**"
   ]
  },
  {
   "cell_type": "code",
   "execution_count": 186,
   "id": "120afd26-357c-44b7-9eb7-4ba6e77dc444",
   "metadata": {},
   "outputs": [],
   "source": [
    "title_df = pd.DataFrame(recipe_df['title'])"
   ]
  },
  {
   "cell_type": "code",
   "execution_count": 189,
   "id": "8129a542-f5a8-4832-b3bd-2bde9d12b5aa",
   "metadata": {},
   "outputs": [
    {
     "data": {
      "text/plain": [
       "0                                            [Creamy, Corn]\n",
       "1                                         [Broccoli, Salad]\n",
       "2                               [Prize-Winning, Meat, Loaf]\n",
       "3                  [Corral, Barbecued, Beef, Steak, Strips]\n",
       "4                                  [Mexican, Cookie, Rings]\n",
       "                                ...                        \n",
       "105538                     [Chicken, Stuffing, Mix, Recipe]\n",
       "105539             [Blackberry, Upside, Down, Cake, Recipe]\n",
       "105540    [Broken, Wheat, Pudding, (, Lapsi, Kheer, ), R...\n",
       "105541                      [Boysenberry, Tiramisu, Recipe]\n",
       "105542              [Bread, And, Cheese, Casserole, Recipe]\n",
       "Name: title, Length: 105543, dtype: object"
      ]
     },
     "execution_count": 189,
     "metadata": {},
     "output_type": "execute_result"
    }
   ],
   "source": [
    "title_df['title'].str.split(' ')"
   ]
  },
  {
   "cell_type": "code",
   "execution_count": 192,
   "id": "1b5e0b87-b8c1-44b0-8a6a-3f578a3d7a8b",
   "metadata": {},
   "outputs": [],
   "source": [
    "from sklearn.feature_extraction.text import CountVectorizer"
   ]
  },
  {
   "cell_type": "code",
   "execution_count": null,
   "id": "8cf0a26f-eb63-4624-8600-444ac224f27e",
   "metadata": {},
   "outputs": [],
   "source": [
    "# Remove stopwords"
   ]
  },
  {
   "cell_type": "code",
   "execution_count": 196,
   "id": "46a82f1d-9516-44f9-a6dd-645bb9d18d73",
   "metadata": {},
   "outputs": [
    {
     "data": {
      "text/plain": [
       "<Compressed Sparse Row sparse matrix of dtype 'int64'\n",
       "\twith 338159 stored elements and shape (105543, 12410)>"
      ]
     },
     "execution_count": 196,
     "metadata": {},
     "output_type": "execute_result"
    }
   ],
   "source": [
    "# 1. Instantiate \n",
    "bagofwords = CountVectorizer(stop_words=\"english\")\n",
    "\n",
    "# 2. Fit \n",
    "bagofwords.fit(title_df['title'])\n",
    "\n",
    "# 3. Transform\n",
    "title_df_stopwordsremoved = bagofwords.transform(title_df['title'])\n",
    "title_df_stopwordsremoved"
   ]
  },
  {
   "cell_type": "code",
   "execution_count": 199,
   "id": "1a1f3956-ea17-4279-8827-05ff9ddada1e",
   "metadata": {},
   "outputs": [
    {
     "data": {
      "text/html": [
       "<div>\n",
       "<style scoped>\n",
       "    .dataframe tbody tr th:only-of-type {\n",
       "        vertical-align: middle;\n",
       "    }\n",
       "\n",
       "    .dataframe tbody tr th {\n",
       "        vertical-align: top;\n",
       "    }\n",
       "\n",
       "    .dataframe thead th {\n",
       "        text-align: right;\n",
       "    }\n",
       "</style>\n",
       "<table border=\"1\" class=\"dataframe\">\n",
       "  <thead>\n",
       "    <tr style=\"text-align: right;\">\n",
       "      <th></th>\n",
       "      <th>00</th>\n",
       "      <th>000</th>\n",
       "      <th>05</th>\n",
       "      <th>08</th>\n",
       "      <th>10</th>\n",
       "      <th>100</th>\n",
       "      <th>1015</th>\n",
       "      <th>108</th>\n",
       "      <th>10pts</th>\n",
       "      <th>11</th>\n",
       "      <th>...</th>\n",
       "      <th>zuke</th>\n",
       "      <th>zuni</th>\n",
       "      <th>zunka</th>\n",
       "      <th>zupa</th>\n",
       "      <th>zuppa</th>\n",
       "      <th>zurish</th>\n",
       "      <th>zwezerikballetjes</th>\n",
       "      <th>zwiebelrahm</th>\n",
       "      <th>zwina</th>\n",
       "      <th>äpfeln</th>\n",
       "    </tr>\n",
       "  </thead>\n",
       "  <tbody>\n",
       "    <tr>\n",
       "      <th>0</th>\n",
       "      <td>0</td>\n",
       "      <td>0</td>\n",
       "      <td>0</td>\n",
       "      <td>0</td>\n",
       "      <td>0</td>\n",
       "      <td>0</td>\n",
       "      <td>0</td>\n",
       "      <td>0</td>\n",
       "      <td>0</td>\n",
       "      <td>0</td>\n",
       "      <td>...</td>\n",
       "      <td>0</td>\n",
       "      <td>0</td>\n",
       "      <td>0</td>\n",
       "      <td>0</td>\n",
       "      <td>0</td>\n",
       "      <td>0</td>\n",
       "      <td>0</td>\n",
       "      <td>0</td>\n",
       "      <td>0</td>\n",
       "      <td>0</td>\n",
       "    </tr>\n",
       "    <tr>\n",
       "      <th>1</th>\n",
       "      <td>0</td>\n",
       "      <td>0</td>\n",
       "      <td>0</td>\n",
       "      <td>0</td>\n",
       "      <td>0</td>\n",
       "      <td>0</td>\n",
       "      <td>0</td>\n",
       "      <td>0</td>\n",
       "      <td>0</td>\n",
       "      <td>0</td>\n",
       "      <td>...</td>\n",
       "      <td>0</td>\n",
       "      <td>0</td>\n",
       "      <td>0</td>\n",
       "      <td>0</td>\n",
       "      <td>0</td>\n",
       "      <td>0</td>\n",
       "      <td>0</td>\n",
       "      <td>0</td>\n",
       "      <td>0</td>\n",
       "      <td>0</td>\n",
       "    </tr>\n",
       "    <tr>\n",
       "      <th>2</th>\n",
       "      <td>0</td>\n",
       "      <td>0</td>\n",
       "      <td>0</td>\n",
       "      <td>0</td>\n",
       "      <td>0</td>\n",
       "      <td>0</td>\n",
       "      <td>0</td>\n",
       "      <td>0</td>\n",
       "      <td>0</td>\n",
       "      <td>0</td>\n",
       "      <td>...</td>\n",
       "      <td>0</td>\n",
       "      <td>0</td>\n",
       "      <td>0</td>\n",
       "      <td>0</td>\n",
       "      <td>0</td>\n",
       "      <td>0</td>\n",
       "      <td>0</td>\n",
       "      <td>0</td>\n",
       "      <td>0</td>\n",
       "      <td>0</td>\n",
       "    </tr>\n",
       "    <tr>\n",
       "      <th>3</th>\n",
       "      <td>0</td>\n",
       "      <td>0</td>\n",
       "      <td>0</td>\n",
       "      <td>0</td>\n",
       "      <td>0</td>\n",
       "      <td>0</td>\n",
       "      <td>0</td>\n",
       "      <td>0</td>\n",
       "      <td>0</td>\n",
       "      <td>0</td>\n",
       "      <td>...</td>\n",
       "      <td>0</td>\n",
       "      <td>0</td>\n",
       "      <td>0</td>\n",
       "      <td>0</td>\n",
       "      <td>0</td>\n",
       "      <td>0</td>\n",
       "      <td>0</td>\n",
       "      <td>0</td>\n",
       "      <td>0</td>\n",
       "      <td>0</td>\n",
       "    </tr>\n",
       "    <tr>\n",
       "      <th>4</th>\n",
       "      <td>0</td>\n",
       "      <td>0</td>\n",
       "      <td>0</td>\n",
       "      <td>0</td>\n",
       "      <td>0</td>\n",
       "      <td>0</td>\n",
       "      <td>0</td>\n",
       "      <td>0</td>\n",
       "      <td>0</td>\n",
       "      <td>0</td>\n",
       "      <td>...</td>\n",
       "      <td>0</td>\n",
       "      <td>0</td>\n",
       "      <td>0</td>\n",
       "      <td>0</td>\n",
       "      <td>0</td>\n",
       "      <td>0</td>\n",
       "      <td>0</td>\n",
       "      <td>0</td>\n",
       "      <td>0</td>\n",
       "      <td>0</td>\n",
       "    </tr>\n",
       "    <tr>\n",
       "      <th>...</th>\n",
       "      <td>...</td>\n",
       "      <td>...</td>\n",
       "      <td>...</td>\n",
       "      <td>...</td>\n",
       "      <td>...</td>\n",
       "      <td>...</td>\n",
       "      <td>...</td>\n",
       "      <td>...</td>\n",
       "      <td>...</td>\n",
       "      <td>...</td>\n",
       "      <td>...</td>\n",
       "      <td>...</td>\n",
       "      <td>...</td>\n",
       "      <td>...</td>\n",
       "      <td>...</td>\n",
       "      <td>...</td>\n",
       "      <td>...</td>\n",
       "      <td>...</td>\n",
       "      <td>...</td>\n",
       "      <td>...</td>\n",
       "      <td>...</td>\n",
       "    </tr>\n",
       "    <tr>\n",
       "      <th>105538</th>\n",
       "      <td>0</td>\n",
       "      <td>0</td>\n",
       "      <td>0</td>\n",
       "      <td>0</td>\n",
       "      <td>0</td>\n",
       "      <td>0</td>\n",
       "      <td>0</td>\n",
       "      <td>0</td>\n",
       "      <td>0</td>\n",
       "      <td>0</td>\n",
       "      <td>...</td>\n",
       "      <td>0</td>\n",
       "      <td>0</td>\n",
       "      <td>0</td>\n",
       "      <td>0</td>\n",
       "      <td>0</td>\n",
       "      <td>0</td>\n",
       "      <td>0</td>\n",
       "      <td>0</td>\n",
       "      <td>0</td>\n",
       "      <td>0</td>\n",
       "    </tr>\n",
       "    <tr>\n",
       "      <th>105539</th>\n",
       "      <td>0</td>\n",
       "      <td>0</td>\n",
       "      <td>0</td>\n",
       "      <td>0</td>\n",
       "      <td>0</td>\n",
       "      <td>0</td>\n",
       "      <td>0</td>\n",
       "      <td>0</td>\n",
       "      <td>0</td>\n",
       "      <td>0</td>\n",
       "      <td>...</td>\n",
       "      <td>0</td>\n",
       "      <td>0</td>\n",
       "      <td>0</td>\n",
       "      <td>0</td>\n",
       "      <td>0</td>\n",
       "      <td>0</td>\n",
       "      <td>0</td>\n",
       "      <td>0</td>\n",
       "      <td>0</td>\n",
       "      <td>0</td>\n",
       "    </tr>\n",
       "    <tr>\n",
       "      <th>105540</th>\n",
       "      <td>0</td>\n",
       "      <td>0</td>\n",
       "      <td>0</td>\n",
       "      <td>0</td>\n",
       "      <td>0</td>\n",
       "      <td>0</td>\n",
       "      <td>0</td>\n",
       "      <td>0</td>\n",
       "      <td>0</td>\n",
       "      <td>0</td>\n",
       "      <td>...</td>\n",
       "      <td>0</td>\n",
       "      <td>0</td>\n",
       "      <td>0</td>\n",
       "      <td>0</td>\n",
       "      <td>0</td>\n",
       "      <td>0</td>\n",
       "      <td>0</td>\n",
       "      <td>0</td>\n",
       "      <td>0</td>\n",
       "      <td>0</td>\n",
       "    </tr>\n",
       "    <tr>\n",
       "      <th>105541</th>\n",
       "      <td>0</td>\n",
       "      <td>0</td>\n",
       "      <td>0</td>\n",
       "      <td>0</td>\n",
       "      <td>0</td>\n",
       "      <td>0</td>\n",
       "      <td>0</td>\n",
       "      <td>0</td>\n",
       "      <td>0</td>\n",
       "      <td>0</td>\n",
       "      <td>...</td>\n",
       "      <td>0</td>\n",
       "      <td>0</td>\n",
       "      <td>0</td>\n",
       "      <td>0</td>\n",
       "      <td>0</td>\n",
       "      <td>0</td>\n",
       "      <td>0</td>\n",
       "      <td>0</td>\n",
       "      <td>0</td>\n",
       "      <td>0</td>\n",
       "    </tr>\n",
       "    <tr>\n",
       "      <th>105542</th>\n",
       "      <td>0</td>\n",
       "      <td>0</td>\n",
       "      <td>0</td>\n",
       "      <td>0</td>\n",
       "      <td>0</td>\n",
       "      <td>0</td>\n",
       "      <td>0</td>\n",
       "      <td>0</td>\n",
       "      <td>0</td>\n",
       "      <td>0</td>\n",
       "      <td>...</td>\n",
       "      <td>0</td>\n",
       "      <td>0</td>\n",
       "      <td>0</td>\n",
       "      <td>0</td>\n",
       "      <td>0</td>\n",
       "      <td>0</td>\n",
       "      <td>0</td>\n",
       "      <td>0</td>\n",
       "      <td>0</td>\n",
       "      <td>0</td>\n",
       "    </tr>\n",
       "  </tbody>\n",
       "</table>\n",
       "<p>105543 rows × 12410 columns</p>\n",
       "</div>"
      ],
      "text/plain": [
       "        00  000  05  08  10  100  1015  108  10pts  11  ...  zuke  zuni  \\\n",
       "0        0    0   0   0   0    0     0    0      0   0  ...     0     0   \n",
       "1        0    0   0   0   0    0     0    0      0   0  ...     0     0   \n",
       "2        0    0   0   0   0    0     0    0      0   0  ...     0     0   \n",
       "3        0    0   0   0   0    0     0    0      0   0  ...     0     0   \n",
       "4        0    0   0   0   0    0     0    0      0   0  ...     0     0   \n",
       "...     ..  ...  ..  ..  ..  ...   ...  ...    ...  ..  ...   ...   ...   \n",
       "105538   0    0   0   0   0    0     0    0      0   0  ...     0     0   \n",
       "105539   0    0   0   0   0    0     0    0      0   0  ...     0     0   \n",
       "105540   0    0   0   0   0    0     0    0      0   0  ...     0     0   \n",
       "105541   0    0   0   0   0    0     0    0      0   0  ...     0     0   \n",
       "105542   0    0   0   0   0    0     0    0      0   0  ...     0     0   \n",
       "\n",
       "        zunka  zupa  zuppa  zurish  zwezerikballetjes  zwiebelrahm  zwina  \\\n",
       "0           0     0      0       0                  0            0      0   \n",
       "1           0     0      0       0                  0            0      0   \n",
       "2           0     0      0       0                  0            0      0   \n",
       "3           0     0      0       0                  0            0      0   \n",
       "4           0     0      0       0                  0            0      0   \n",
       "...       ...   ...    ...     ...                ...          ...    ...   \n",
       "105538      0     0      0       0                  0            0      0   \n",
       "105539      0     0      0       0                  0            0      0   \n",
       "105540      0     0      0       0                  0            0      0   \n",
       "105541      0     0      0       0                  0            0      0   \n",
       "105542      0     0      0       0                  0            0      0   \n",
       "\n",
       "        äpfeln  \n",
       "0            0  \n",
       "1            0  \n",
       "2            0  \n",
       "3            0  \n",
       "4            0  \n",
       "...        ...  \n",
       "105538       0  \n",
       "105539       0  \n",
       "105540       0  \n",
       "105541       0  \n",
       "105542       0  \n",
       "\n",
       "[105543 rows x 12410 columns]"
      ]
     },
     "metadata": {},
     "output_type": "display_data"
    }
   ],
   "source": [
    "my_df_title_stopwordsremoved = pd.DataFrame(columns=bagofwords.get_feature_names_out(), data=title_df_stopwordsremoved.toarray())\n",
    "display(my_df_title_stopwordsremoved)"
   ]
  },
  {
   "cell_type": "code",
   "execution_count": 202,
   "id": "0a0fc196-82a9-490e-b606-21c86e439049",
   "metadata": {},
   "outputs": [
    {
     "data": {
      "image/png": "[encoded data removed]",
      "text/plain": [
       "<Figure size 1500x500 with 1 Axes>"
      ]
     },
     "metadata": {},
     "output_type": "display_data"
    }
   ],
   "source": [
    "word_counts = pd.DataFrame(\n",
    "    {\"counts\": title_df_stopwordsremoved.toarray().sum(axis=0)},\n",
    "    index=bagofwords.get_feature_names_out()\n",
    ").sort_values(\"counts\", ascending=False)\n",
    "\n",
    "word_counts.head(20).plot(kind=\"bar\", figsize=(15, 5), legend=False)\n",
    "plt.title(\"Top 20 Most Frequently Occurring Words in Recipe Title\")\n",
    "plt.ylabel(\"Count\")\n",
    "plt.xticks(rotation=45)\n",
    "plt.show()"
   ]
  },
  {
   "cell_type": "markdown",
   "id": "4a5498bd-16bd-4df4-ab57-bfb407dddd79",
   "metadata": {},
   "source": [
    "### 2. Combining Dataframe with One Hot Encoded BoW Sparse Matrix and Meal Type Dummies"
   ]
  },
  {
   "cell_type": "code",
   "execution_count": 41,
   "id": "54e935da-9a52-4de9-82f0-3cfc6e93d585",
   "metadata": {},
   "outputs": [],
   "source": [
    "meal_type_dummies = pd.get_dummies(recipe_df['Meal_Type'], dtype='int32')"
   ]
  },
  {
   "cell_type": "code",
   "execution_count": 43,
   "id": "da56dd39-d3b8-4d41-88ba-c7222b25e686",
   "metadata": {},
   "outputs": [
    {
     "data": {
      "text/html": [
       "<div>\n",
       "<style scoped>\n",
       "    .dataframe tbody tr th:only-of-type {\n",
       "        vertical-align: middle;\n",
       "    }\n",
       "\n",
       "    .dataframe tbody tr th {\n",
       "        vertical-align: top;\n",
       "    }\n",
       "\n",
       "    .dataframe thead th {\n",
       "        text-align: right;\n",
       "    }\n",
       "</style>\n",
       "<table border=\"1\" class=\"dataframe\">\n",
       "  <thead>\n",
       "    <tr style=\"text-align: right;\">\n",
       "      <th></th>\n",
       "      <th>breakfast</th>\n",
       "      <th>dessert</th>\n",
       "      <th>dinner</th>\n",
       "      <th>drink</th>\n",
       "      <th>lunch</th>\n",
       "      <th>salad</th>\n",
       "    </tr>\n",
       "  </thead>\n",
       "  <tbody>\n",
       "    <tr>\n",
       "      <th>0</th>\n",
       "      <td>0</td>\n",
       "      <td>0</td>\n",
       "      <td>1</td>\n",
       "      <td>0</td>\n",
       "      <td>0</td>\n",
       "      <td>0</td>\n",
       "    </tr>\n",
       "    <tr>\n",
       "      <th>1</th>\n",
       "      <td>0</td>\n",
       "      <td>0</td>\n",
       "      <td>0</td>\n",
       "      <td>0</td>\n",
       "      <td>0</td>\n",
       "      <td>1</td>\n",
       "    </tr>\n",
       "    <tr>\n",
       "      <th>2</th>\n",
       "      <td>0</td>\n",
       "      <td>0</td>\n",
       "      <td>0</td>\n",
       "      <td>0</td>\n",
       "      <td>1</td>\n",
       "      <td>0</td>\n",
       "    </tr>\n",
       "    <tr>\n",
       "      <th>3</th>\n",
       "      <td>0</td>\n",
       "      <td>0</td>\n",
       "      <td>1</td>\n",
       "      <td>0</td>\n",
       "      <td>0</td>\n",
       "      <td>0</td>\n",
       "    </tr>\n",
       "    <tr>\n",
       "      <th>4</th>\n",
       "      <td>0</td>\n",
       "      <td>1</td>\n",
       "      <td>0</td>\n",
       "      <td>0</td>\n",
       "      <td>0</td>\n",
       "      <td>0</td>\n",
       "    </tr>\n",
       "    <tr>\n",
       "      <th>...</th>\n",
       "      <td>...</td>\n",
       "      <td>...</td>\n",
       "      <td>...</td>\n",
       "      <td>...</td>\n",
       "      <td>...</td>\n",
       "      <td>...</td>\n",
       "    </tr>\n",
       "    <tr>\n",
       "      <th>105538</th>\n",
       "      <td>0</td>\n",
       "      <td>0</td>\n",
       "      <td>1</td>\n",
       "      <td>0</td>\n",
       "      <td>0</td>\n",
       "      <td>0</td>\n",
       "    </tr>\n",
       "    <tr>\n",
       "      <th>105539</th>\n",
       "      <td>0</td>\n",
       "      <td>1</td>\n",
       "      <td>0</td>\n",
       "      <td>0</td>\n",
       "      <td>0</td>\n",
       "      <td>0</td>\n",
       "    </tr>\n",
       "    <tr>\n",
       "      <th>105540</th>\n",
       "      <td>0</td>\n",
       "      <td>1</td>\n",
       "      <td>0</td>\n",
       "      <td>0</td>\n",
       "      <td>0</td>\n",
       "      <td>0</td>\n",
       "    </tr>\n",
       "    <tr>\n",
       "      <th>105541</th>\n",
       "      <td>0</td>\n",
       "      <td>1</td>\n",
       "      <td>0</td>\n",
       "      <td>0</td>\n",
       "      <td>0</td>\n",
       "      <td>0</td>\n",
       "    </tr>\n",
       "    <tr>\n",
       "      <th>105542</th>\n",
       "      <td>1</td>\n",
       "      <td>0</td>\n",
       "      <td>0</td>\n",
       "      <td>0</td>\n",
       "      <td>0</td>\n",
       "      <td>0</td>\n",
       "    </tr>\n",
       "  </tbody>\n",
       "</table>\n",
       "<p>105543 rows × 6 columns</p>\n",
       "</div>"
      ],
      "text/plain": [
       "        breakfast  dessert  dinner  drink  lunch  salad\n",
       "0               0        0       1      0      0      0\n",
       "1               0        0       0      0      0      1\n",
       "2               0        0       0      0      1      0\n",
       "3               0        0       1      0      0      0\n",
       "4               0        1       0      0      0      0\n",
       "...           ...      ...     ...    ...    ...    ...\n",
       "105538          0        0       1      0      0      0\n",
       "105539          0        1       0      0      0      0\n",
       "105540          0        1       0      0      0      0\n",
       "105541          0        1       0      0      0      0\n",
       "105542          1        0       0      0      0      0\n",
       "\n",
       "[105543 rows x 6 columns]"
      ]
     },
     "execution_count": 43,
     "metadata": {},
     "output_type": "execute_result"
    }
   ],
   "source": [
    "meal_type_dummies"
   ]
  },
  {
   "cell_type": "code",
   "execution_count": 45,
   "id": "3198f48d-6b0d-4506-bcaa-53ff39e7ad3f",
   "metadata": {},
   "outputs": [],
   "source": [
    "recipe_df = pd.concat([recipe_df, ingredient_list_binary_matrix, meal_type_dummies], axis=1)"
   ]
  },
  {
   "cell_type": "markdown",
   "id": "a89478ca-90b7-4301-a64d-225edd8ee3c2",
   "metadata": {},
   "source": [
    "### 3. Content-Based Recommendation System"
   ]
  },
  {
   "cell_type": "markdown",
   "id": "e3f10217-ec29-4662-a4b9-01c499f9beb9",
   "metadata": {},
   "source": [
    "### 3.1 Filtering Dataset by Ingredient Counter (less than or equal to 8 ingredients) Due to Memory Constraints"
   ]
  },
  {
   "cell_type": "code",
   "execution_count": 5,
   "id": "542f484b-128f-4580-aae8-93a3263639cb",
   "metadata": {},
   "outputs": [],
   "source": [
    "eight_ingredients = recipe_df[recipe_df['ingredient_counter'] <=8]"
   ]
  },
  {
   "cell_type": "code",
   "execution_count": 7,
   "id": "cb8a8662-52d9-42db-8b89-5640c2240389",
   "metadata": {},
   "outputs": [],
   "source": [
    "eight_ingredients=eight_ingredients.reset_index()"
   ]
  },
  {
   "cell_type": "code",
   "execution_count": 51,
   "id": "d0652973-d828-4044-a205-1dbb9d80b03e",
   "metadata": {},
   "outputs": [],
   "source": [
    "eight_ingredients_NER = pd.DataFrame(eight_ingredients['NER_list'])"
   ]
  },
  {
   "cell_type": "code",
   "execution_count": 53,
   "id": "c0a49d97-d070-45b2-b390-568346692c01",
   "metadata": {},
   "outputs": [
    {
     "name": "stdout",
     "output_type": "stream",
     "text": [
      "<class 'list'>\n"
     ]
    }
   ],
   "source": [
    "print(type(eight_ingredients_NER.loc[0,'NER_list']))"
   ]
  },
  {
   "cell_type": "code",
   "execution_count": 55,
   "id": "91113d16-4220-4558-8929-572145bd463d",
   "metadata": {},
   "outputs": [],
   "source": [
    "eight_ingredients_NER = pd.DataFrame(eight_ingredients_NER['NER_list'].apply(list_to_string)) # converting to a string type so I can move on to the vectorization step"
   ]
  },
  {
   "cell_type": "code",
   "execution_count": 57,
   "id": "eec9c9bf-7e29-4282-b28e-3187a9bda9ab",
   "metadata": {},
   "outputs": [
    {
     "name": "stdout",
     "output_type": "stream",
     "text": [
      "<class 'str'>\n"
     ]
    }
   ],
   "source": [
    "print(type(ingredient_list_df.loc[0,'NER_list']))"
   ]
  },
  {
   "cell_type": "code",
   "execution_count": 59,
   "id": "085ca92b-e3ff-4a99-a176-ccfa1171a1c8",
   "metadata": {},
   "outputs": [
    {
     "data": {
      "text/plain": [
       "0        frozen corn, cream cheese, butter, garlic powd...\n",
       "1        broccoli, bacon, green onions, raisins, mayonn...\n",
       "2        ground beef, tomato juice, oats, egg, onion, p...\n",
       "3        long, cooking oil, tomato sauce, water, brown ...\n",
       "4        flour, baking powder, salt, butter, sugar, egg...\n",
       "                               ...                        \n",
       "60812    Salt, zucchini, Parmesan cheese, bread crumbs,...\n",
       "60813        beets Juice, unsalted butter, orange, chervil\n",
       "60814    broken wheat, water, jaggery grated, coconut l...\n",
       "60815    red Boysenberries, chocolate, whipped cream, C...\n",
       "60816    Bread, Grated cheese, Onions, Green peppers, T...\n",
       "Name: NER_list, Length: 60817, dtype: object"
      ]
     },
     "execution_count": 59,
     "metadata": {},
     "output_type": "execute_result"
    }
   ],
   "source": [
    "eight_ingredients_NER['NER_list']"
   ]
  },
  {
   "cell_type": "code",
   "execution_count": 61,
   "id": "dd1c6bc7-3265-412a-91de-28825e0a3f95",
   "metadata": {},
   "outputs": [
    {
     "data": {
      "text/plain": [
       "<Compressed Sparse Row sparse matrix of dtype 'int64'\n",
       "\twith 551730 stored elements and shape (60817, 3855)>"
      ]
     },
     "execution_count": 61,
     "metadata": {},
     "output_type": "execute_result"
    }
   ],
   "source": [
    "# 1. Instantiate \n",
    "bagofwords = CountVectorizer()\n",
    "\n",
    "# 2. Fit \n",
    "bagofwords.fit(eight_ingredients_NER['NER_list'])\n",
    "\n",
    "# 3. Transform\n",
    "eight_ingredients_NER_transformed = bagofwords.transform(eight_ingredients_NER['NER_list'])\n",
    "eight_ingredients_NER_transformed"
   ]
  },
  {
   "cell_type": "markdown",
   "id": "96908162-56b6-4b3a-a583-ab6445398ea3",
   "metadata": {},
   "source": [
    "### 3.2 Cosine Similarity"
   ]
  },
  {
   "cell_type": "code",
   "execution_count": 9,
   "id": "f6572a25-0a40-494f-bc4d-7eb6fffd6f29",
   "metadata": {},
   "outputs": [],
   "source": [
    "from sklearn.metrics.pairwise import cosine_similarity"
   ]
  },
  {
   "cell_type": "code",
   "execution_count": null,
   "id": "348dfcb2-aed7-4510-abce-f40d587d47f0",
   "metadata": {
    "scrolled": true
   },
   "outputs": [],
   "source": [
    "similarities = cosine_similarity(eight_ingredients_NER_transformed, dense_output=False)"
   ]
  },
  {
   "cell_type": "code",
   "execution_count": 82,
   "id": "fa3a8ead-92ad-430e-84f8-c9bc54b6aae2",
   "metadata": {},
   "outputs": [
    {
     "data": {
      "text/plain": [
       "(60817, 60817)"
      ]
     },
     "execution_count": 82,
     "metadata": {},
     "output_type": "execute_result"
    }
   ],
   "source": [
    "# Check the shape\n",
    "# rows and columns should be equal, and the number of recipes we started with (rows)\n",
    "similarities.shape"
   ]
  },
  {
   "cell_type": "code",
   "execution_count": 84,
   "id": "50cab24c-47ed-4f10-a3f3-96a780f60320",
   "metadata": {},
   "outputs": [
    {
     "data": {
      "text/html": [
       "<div>\n",
       "<style scoped>\n",
       "    .dataframe tbody tr th:only-of-type {\n",
       "        vertical-align: middle;\n",
       "    }\n",
       "\n",
       "    .dataframe tbody tr th {\n",
       "        vertical-align: top;\n",
       "    }\n",
       "\n",
       "    .dataframe thead th {\n",
       "        text-align: right;\n",
       "    }\n",
       "</style>\n",
       "<table border=\"1\" class=\"dataframe\">\n",
       "  <thead>\n",
       "    <tr style=\"text-align: right;\">\n",
       "      <th></th>\n",
       "      <th>index</th>\n",
       "      <th>title</th>\n",
       "      <th>ingredients</th>\n",
       "      <th>directions</th>\n",
       "      <th>link</th>\n",
       "      <th>source</th>\n",
       "      <th>NER</th>\n",
       "      <th>serving_size</th>\n",
       "      <th>NER_list</th>\n",
       "      <th>ingredient_counter</th>\n",
       "      <th>...</th>\n",
       "      <th>zucchine</th>\n",
       "      <th>zucchini</th>\n",
       "      <th>zucchinis</th>\n",
       "      <th>zwieback</th>\n",
       "      <th>breakfast</th>\n",
       "      <th>dessert</th>\n",
       "      <th>dinner</th>\n",
       "      <th>drink</th>\n",
       "      <th>lunch</th>\n",
       "      <th>salad</th>\n",
       "    </tr>\n",
       "  </thead>\n",
       "  <tbody>\n",
       "    <tr>\n",
       "      <th>3</th>\n",
       "      <td>3</td>\n",
       "      <td>Corral Barbecued Beef Steak Strips</td>\n",
       "      <td>[\"2 lb. round steak 1/2 to 3/4-inch thick, sli...</td>\n",
       "      <td>[\"Brown strips in cooking oil.\", \"Pour off dri...</td>\n",
       "      <td>www.cookbooks.com/Recipe-Details.aspx?id=420402</td>\n",
       "      <td>Gathered</td>\n",
       "      <td>[\"long\", \"cooking oil\", \"tomato sauce\", \"water...</td>\n",
       "      <td>8</td>\n",
       "      <td>[long, cooking oil, tomato sauce, water, brown...</td>\n",
       "      <td>8</td>\n",
       "      <td>...</td>\n",
       "      <td>0</td>\n",
       "      <td>0</td>\n",
       "      <td>0</td>\n",
       "      <td>0</td>\n",
       "      <td>0</td>\n",
       "      <td>0</td>\n",
       "      <td>1</td>\n",
       "      <td>0</td>\n",
       "      <td>0</td>\n",
       "      <td>0</td>\n",
       "    </tr>\n",
       "  </tbody>\n",
       "</table>\n",
       "<p>1 rows × 5546 columns</p>\n",
       "</div>"
      ],
      "text/plain": [
       "   index                               title  \\\n",
       "3      3  Corral Barbecued Beef Steak Strips   \n",
       "\n",
       "                                         ingredients  \\\n",
       "3  [\"2 lb. round steak 1/2 to 3/4-inch thick, sli...   \n",
       "\n",
       "                                          directions  \\\n",
       "3  [\"Brown strips in cooking oil.\", \"Pour off dri...   \n",
       "\n",
       "                                              link    source  \\\n",
       "3  www.cookbooks.com/Recipe-Details.aspx?id=420402  Gathered   \n",
       "\n",
       "                                                 NER  serving_size  \\\n",
       "3  [\"long\", \"cooking oil\", \"tomato sauce\", \"water...             8   \n",
       "\n",
       "                                            NER_list  ingredient_counter  ...  \\\n",
       "3  [long, cooking oil, tomato sauce, water, brown...                   8  ...   \n",
       "\n",
       "  zucchine  zucchini  zucchinis  zwieback  breakfast  dessert  dinner  drink  \\\n",
       "3        0         0          0         0          0        0       1      0   \n",
       "\n",
       "   lunch  salad  \n",
       "3      0      0  \n",
       "\n",
       "[1 rows x 5546 columns]"
      ]
     },
     "execution_count": 84,
     "metadata": {},
     "output_type": "execute_result"
    }
   ],
   "source": [
    "# Test with a sample recipe\n",
    "eight_ingredients[eight_ingredients['title'] == 'Corral Barbecued Beef Steak Strips']"
   ]
  },
  {
   "cell_type": "code",
   "execution_count": 86,
   "id": "1e3ccd6d-9f91-4184-9d0c-de37a786eb3a",
   "metadata": {},
   "outputs": [],
   "source": [
    "# Get the column based upon the index\n",
    "eight_ingredients_index = eight_ingredients[eight_ingredients['title'] == 'Corral Barbecued Beef Steak Strips'].index"
   ]
  },
  {
   "cell_type": "code",
   "execution_count": 88,
   "id": "aa19325d-d893-4420-ab50-492a2aad80db",
   "metadata": {},
   "outputs": [],
   "source": [
    "# Create a dataframe with the recipe titles\n",
    "sim_df = pd.DataFrame({'recipe':eight_ingredients['title'],\n",
    "                       'similarity': np.array(similarities[eight_ingredients_index, :].todense()).squeeze()})"
   ]
  },
  {
   "cell_type": "code",
   "execution_count": 90,
   "id": "debbd0d7-2282-4df3-b1a2-fda58227b3a3",
   "metadata": {},
   "outputs": [
    {
     "data": {
      "text/html": [
       "<div>\n",
       "<style scoped>\n",
       "    .dataframe tbody tr th:only-of-type {\n",
       "        vertical-align: middle;\n",
       "    }\n",
       "\n",
       "    .dataframe tbody tr th {\n",
       "        vertical-align: top;\n",
       "    }\n",
       "\n",
       "    .dataframe thead th {\n",
       "        text-align: right;\n",
       "    }\n",
       "</style>\n",
       "<table border=\"1\" class=\"dataframe\">\n",
       "  <thead>\n",
       "    <tr style=\"text-align: right;\">\n",
       "      <th></th>\n",
       "      <th>recipe</th>\n",
       "      <th>similarity</th>\n",
       "    </tr>\n",
       "  </thead>\n",
       "  <tbody>\n",
       "    <tr>\n",
       "      <th>9194</th>\n",
       "      <td>Easy Casserole</td>\n",
       "      <td>0.0</td>\n",
       "    </tr>\n",
       "    <tr>\n",
       "      <th>39</th>\n",
       "      <td>Reuben Casserole</td>\n",
       "      <td>0.0</td>\n",
       "    </tr>\n",
       "    <tr>\n",
       "      <th>20811</th>\n",
       "      <td>Peach Delight</td>\n",
       "      <td>0.0</td>\n",
       "    </tr>\n",
       "    <tr>\n",
       "      <th>35</th>\n",
       "      <td>Pumpkin Dream Pie</td>\n",
       "      <td>0.0</td>\n",
       "    </tr>\n",
       "    <tr>\n",
       "      <th>20808</th>\n",
       "      <td>Corn Casserole</td>\n",
       "      <td>0.0</td>\n",
       "    </tr>\n",
       "    <tr>\n",
       "      <th>33</th>\n",
       "      <td>Thomas Jefferson'S Macaroni And Cheese Pudding</td>\n",
       "      <td>0.0</td>\n",
       "    </tr>\n",
       "    <tr>\n",
       "      <th>60799</th>\n",
       "      <td>Marshmallow Strawberry Delight Recipe</td>\n",
       "      <td>0.0</td>\n",
       "    </tr>\n",
       "    <tr>\n",
       "      <th>46999</th>\n",
       "      <td>Easy Chicken Divan</td>\n",
       "      <td>0.0</td>\n",
       "    </tr>\n",
       "    <tr>\n",
       "      <th>60795</th>\n",
       "      <td>Chocolate Milk Shakes Recipe</td>\n",
       "      <td>0.0</td>\n",
       "    </tr>\n",
       "    <tr>\n",
       "      <th>46998</th>\n",
       "      <td>Creamy Baked Chicken Breasts</td>\n",
       "      <td>0.0</td>\n",
       "    </tr>\n",
       "  </tbody>\n",
       "</table>\n",
       "</div>"
      ],
      "text/plain": [
       "                                               recipe  similarity\n",
       "9194                                   Easy Casserole         0.0\n",
       "39                                   Reuben Casserole         0.0\n",
       "20811                                   Peach Delight         0.0\n",
       "35                                  Pumpkin Dream Pie         0.0\n",
       "20808                                  Corn Casserole         0.0\n",
       "33     Thomas Jefferson'S Macaroni And Cheese Pudding         0.0\n",
       "60799           Marshmallow Strawberry Delight Recipe         0.0\n",
       "46999                              Easy Chicken Divan         0.0\n",
       "60795                    Chocolate Milk Shakes Recipe         0.0\n",
       "46998                    Creamy Baked Chicken Breasts         0.0"
      ]
     },
     "execution_count": 90,
     "metadata": {},
     "output_type": "execute_result"
    }
   ],
   "source": [
    "# Return the top 10 most dissimilar recipes\n",
    "sim_df.sort_values(by='similarity', ascending=True).head(10)"
   ]
  },
  {
   "cell_type": "code",
   "execution_count": 92,
   "id": "0079c286-97b7-4a76-bc7a-9c3f1b9a12f4",
   "metadata": {},
   "outputs": [
    {
     "data": {
      "text/html": [
       "<div>\n",
       "<style scoped>\n",
       "    .dataframe tbody tr th:only-of-type {\n",
       "        vertical-align: middle;\n",
       "    }\n",
       "\n",
       "    .dataframe tbody tr th {\n",
       "        vertical-align: top;\n",
       "    }\n",
       "\n",
       "    .dataframe thead th {\n",
       "        text-align: right;\n",
       "    }\n",
       "</style>\n",
       "<table border=\"1\" class=\"dataframe\">\n",
       "  <thead>\n",
       "    <tr style=\"text-align: right;\">\n",
       "      <th></th>\n",
       "      <th>index</th>\n",
       "      <th>title</th>\n",
       "      <th>ingredients</th>\n",
       "      <th>directions</th>\n",
       "      <th>link</th>\n",
       "      <th>source</th>\n",
       "      <th>NER</th>\n",
       "      <th>serving_size</th>\n",
       "      <th>NER_list</th>\n",
       "      <th>ingredient_counter</th>\n",
       "      <th>...</th>\n",
       "      <th>zucchine</th>\n",
       "      <th>zucchini</th>\n",
       "      <th>zucchinis</th>\n",
       "      <th>zwieback</th>\n",
       "      <th>breakfast</th>\n",
       "      <th>dessert</th>\n",
       "      <th>dinner</th>\n",
       "      <th>drink</th>\n",
       "      <th>lunch</th>\n",
       "      <th>salad</th>\n",
       "    </tr>\n",
       "  </thead>\n",
       "  <tbody>\n",
       "    <tr>\n",
       "      <th>35</th>\n",
       "      <td>62</td>\n",
       "      <td>Pumpkin Dream Pie</td>\n",
       "      <td>[\"1 pkg. Dream Whip\", \"1/2 c. milk\", \"1/2 tsp....</td>\n",
       "      <td>[\"Prepare Dream Whip with 1/2 cup milk and the...</td>\n",
       "      <td>www.cookbooks.com/Recipe-Details.aspx?id=241630</td>\n",
       "      <td>Gathered</td>\n",
       "      <td>[\"Dream Whip\", \"milk\", \"vanilla\", \"milk\", \"Jel...</td>\n",
       "      <td>6</td>\n",
       "      <td>[Dream Whip, milk, vanilla, milk, Jell-O insta...</td>\n",
       "      <td>8</td>\n",
       "      <td>...</td>\n",
       "      <td>0</td>\n",
       "      <td>0</td>\n",
       "      <td>0</td>\n",
       "      <td>0</td>\n",
       "      <td>0</td>\n",
       "      <td>1</td>\n",
       "      <td>0</td>\n",
       "      <td>0</td>\n",
       "      <td>0</td>\n",
       "      <td>0</td>\n",
       "    </tr>\n",
       "  </tbody>\n",
       "</table>\n",
       "<p>1 rows × 5546 columns</p>\n",
       "</div>"
      ],
      "text/plain": [
       "    index              title  \\\n",
       "35     62  Pumpkin Dream Pie   \n",
       "\n",
       "                                          ingredients  \\\n",
       "35  [\"1 pkg. Dream Whip\", \"1/2 c. milk\", \"1/2 tsp....   \n",
       "\n",
       "                                           directions  \\\n",
       "35  [\"Prepare Dream Whip with 1/2 cup milk and the...   \n",
       "\n",
       "                                               link    source  \\\n",
       "35  www.cookbooks.com/Recipe-Details.aspx?id=241630  Gathered   \n",
       "\n",
       "                                                  NER  serving_size  \\\n",
       "35  [\"Dream Whip\", \"milk\", \"vanilla\", \"milk\", \"Jel...             6   \n",
       "\n",
       "                                             NER_list  ingredient_counter  \\\n",
       "35  [Dream Whip, milk, vanilla, milk, Jell-O insta...                   8   \n",
       "\n",
       "    ... zucchine  zucchini  zucchinis  zwieback  breakfast  dessert  dinner  \\\n",
       "35  ...        0         0          0         0          0        1       0   \n",
       "\n",
       "    drink  lunch  salad  \n",
       "35      0      0      0  \n",
       "\n",
       "[1 rows x 5546 columns]"
      ]
     },
     "execution_count": 92,
     "metadata": {},
     "output_type": "execute_result"
    }
   ],
   "source": [
    "# Test with a sample recipe\n",
    "eight_ingredients[eight_ingredients['title'] == 'Pumpkin Dream Pie']"
   ]
  },
  {
   "cell_type": "code",
   "execution_count": 94,
   "id": "670f165b-377f-4d89-9a63-5f1ddc670043",
   "metadata": {},
   "outputs": [],
   "source": [
    "# Get the column based upon the index\n",
    "eight_ingredients_index = eight_ingredients[eight_ingredients['title'] == 'Pumpkin Dream Pie'].index"
   ]
  },
  {
   "cell_type": "code",
   "execution_count": 96,
   "id": "cf00b462-15e3-47c5-b45d-e99bf5b9af48",
   "metadata": {},
   "outputs": [],
   "source": [
    "# Create a dataframe with the recipe titles\n",
    "sim_df = pd.DataFrame({'recipe':eight_ingredients['title'],\n",
    "                       'similarity': np.array(similarities[eight_ingredients_index, :].todense()).squeeze()})"
   ]
  },
  {
   "cell_type": "code",
   "execution_count": 98,
   "id": "d58858bf-50c8-43a4-a523-b36d674be6f4",
   "metadata": {},
   "outputs": [
    {
     "data": {
      "text/html": [
       "<div>\n",
       "<style scoped>\n",
       "    .dataframe tbody tr th:only-of-type {\n",
       "        vertical-align: middle;\n",
       "    }\n",
       "\n",
       "    .dataframe tbody tr th {\n",
       "        vertical-align: top;\n",
       "    }\n",
       "\n",
       "    .dataframe thead th {\n",
       "        text-align: right;\n",
       "    }\n",
       "</style>\n",
       "<table border=\"1\" class=\"dataframe\">\n",
       "  <thead>\n",
       "    <tr style=\"text-align: right;\">\n",
       "      <th></th>\n",
       "      <th>recipe</th>\n",
       "      <th>similarity</th>\n",
       "    </tr>\n",
       "  </thead>\n",
       "  <tbody>\n",
       "    <tr>\n",
       "      <th>60806</th>\n",
       "      <td>BBQ Chicken Quesadillas</td>\n",
       "      <td>0.0</td>\n",
       "    </tr>\n",
       "    <tr>\n",
       "      <th>42</th>\n",
       "      <td>Poached Chicken Breast In Wine</td>\n",
       "      <td>0.0</td>\n",
       "    </tr>\n",
       "    <tr>\n",
       "      <th>40</th>\n",
       "      <td>Rhubarb Cake</td>\n",
       "      <td>0.0</td>\n",
       "    </tr>\n",
       "    <tr>\n",
       "      <th>39</th>\n",
       "      <td>Reuben Casserole</td>\n",
       "      <td>0.0</td>\n",
       "    </tr>\n",
       "    <tr>\n",
       "      <th>37</th>\n",
       "      <td>Ambrosia Mold</td>\n",
       "      <td>0.0</td>\n",
       "    </tr>\n",
       "    <tr>\n",
       "      <th>36</th>\n",
       "      <td>Black-Eyed Mullet</td>\n",
       "      <td>0.0</td>\n",
       "    </tr>\n",
       "    <tr>\n",
       "      <th>60800</th>\n",
       "      <td>Bogart's Scalloped Carrots Recipe</td>\n",
       "      <td>0.0</td>\n",
       "    </tr>\n",
       "    <tr>\n",
       "      <th>60798</th>\n",
       "      <td>Alaska Snow Crab Potato Salad Recipe</td>\n",
       "      <td>0.0</td>\n",
       "    </tr>\n",
       "    <tr>\n",
       "      <th>60797</th>\n",
       "      <td>Baked Enchilada Chicken Recipe</td>\n",
       "      <td>0.0</td>\n",
       "    </tr>\n",
       "    <tr>\n",
       "      <th>60796</th>\n",
       "      <td>Beef Roast in Gravy</td>\n",
       "      <td>0.0</td>\n",
       "    </tr>\n",
       "  </tbody>\n",
       "</table>\n",
       "</div>"
      ],
      "text/plain": [
       "                                     recipe  similarity\n",
       "60806               BBQ Chicken Quesadillas         0.0\n",
       "42           Poached Chicken Breast In Wine         0.0\n",
       "40                             Rhubarb Cake         0.0\n",
       "39                         Reuben Casserole         0.0\n",
       "37                            Ambrosia Mold         0.0\n",
       "36                        Black-Eyed Mullet         0.0\n",
       "60800     Bogart's Scalloped Carrots Recipe         0.0\n",
       "60798  Alaska Snow Crab Potato Salad Recipe         0.0\n",
       "60797        Baked Enchilada Chicken Recipe         0.0\n",
       "60796                   Beef Roast in Gravy         0.0"
      ]
     },
     "execution_count": 98,
     "metadata": {},
     "output_type": "execute_result"
    }
   ],
   "source": [
    "# Return the top 10 most dissimilar recipes\n",
    "sim_df.sort_values(by='similarity', ascending=True).head(10)"
   ]
  },
  {
   "cell_type": "code",
   "execution_count": 100,
   "id": "f9319823-c89b-4d52-bcb5-05b97600ee31",
   "metadata": {},
   "outputs": [
    {
     "data": {
      "text/html": [
       "<div>\n",
       "<style scoped>\n",
       "    .dataframe tbody tr th:only-of-type {\n",
       "        vertical-align: middle;\n",
       "    }\n",
       "\n",
       "    .dataframe tbody tr th {\n",
       "        vertical-align: top;\n",
       "    }\n",
       "\n",
       "    .dataframe thead th {\n",
       "        text-align: right;\n",
       "    }\n",
       "</style>\n",
       "<table border=\"1\" class=\"dataframe\">\n",
       "  <thead>\n",
       "    <tr style=\"text-align: right;\">\n",
       "      <th></th>\n",
       "      <th>recipe</th>\n",
       "      <th>similarity</th>\n",
       "    </tr>\n",
       "  </thead>\n",
       "  <tbody>\n",
       "    <tr>\n",
       "      <th>35</th>\n",
       "      <td>Pumpkin Dream Pie</td>\n",
       "      <td>1.000000</td>\n",
       "    </tr>\n",
       "    <tr>\n",
       "      <th>4540</th>\n",
       "      <td>Quick Pumpkin Pudding</td>\n",
       "      <td>0.790569</td>\n",
       "    </tr>\n",
       "    <tr>\n",
       "      <th>24717</th>\n",
       "      <td>Fat-Free Pumpkin Dessert</td>\n",
       "      <td>0.744208</td>\n",
       "    </tr>\n",
       "    <tr>\n",
       "      <th>13758</th>\n",
       "      <td>Pumpkin Mousse</td>\n",
       "      <td>0.744208</td>\n",
       "    </tr>\n",
       "    <tr>\n",
       "      <th>4069</th>\n",
       "      <td>Gingersnap Pumpkin Pie</td>\n",
       "      <td>0.700000</td>\n",
       "    </tr>\n",
       "    <tr>\n",
       "      <th>34547</th>\n",
       "      <td>Pumpkin Pudding</td>\n",
       "      <td>0.657376</td>\n",
       "    </tr>\n",
       "    <tr>\n",
       "      <th>17125</th>\n",
       "      <td>Banana Pudding</td>\n",
       "      <td>0.645497</td>\n",
       "    </tr>\n",
       "    <tr>\n",
       "      <th>8662</th>\n",
       "      <td>Banana Pudding</td>\n",
       "      <td>0.645497</td>\n",
       "    </tr>\n",
       "    <tr>\n",
       "      <th>34074</th>\n",
       "      <td>No Crust Pumpkin Pie</td>\n",
       "      <td>0.645497</td>\n",
       "    </tr>\n",
       "    <tr>\n",
       "      <th>519</th>\n",
       "      <td>Dream Pie</td>\n",
       "      <td>0.632456</td>\n",
       "    </tr>\n",
       "  </tbody>\n",
       "</table>\n",
       "</div>"
      ],
      "text/plain": [
       "                         recipe  similarity\n",
       "35            Pumpkin Dream Pie    1.000000\n",
       "4540      Quick Pumpkin Pudding    0.790569\n",
       "24717  Fat-Free Pumpkin Dessert    0.744208\n",
       "13758            Pumpkin Mousse    0.744208\n",
       "4069     Gingersnap Pumpkin Pie    0.700000\n",
       "34547           Pumpkin Pudding    0.657376\n",
       "17125            Banana Pudding    0.645497\n",
       "8662             Banana Pudding    0.645497\n",
       "34074      No Crust Pumpkin Pie    0.645497\n",
       "519                   Dream Pie    0.632456"
      ]
     },
     "execution_count": 100,
     "metadata": {},
     "output_type": "execute_result"
    }
   ],
   "source": [
    "# Return the top 10 most similar recipes\n",
    "sim_df.sort_values(by='similarity', ascending=False).head(10)"
   ]
  }
 ],
 "metadata": {
  "kernelspec": {
   "display_name": "capstone_env",
   "language": "python",
   "name": "capstone_env"
  },
  "language_info": {
   "codemirror_mode": {
    "name": "ipython",
    "version": 3
   },
   "file_extension": ".py",
   "mimetype": "text/x-python",
   "name": "python",
   "nbconvert_exporter": "python",
   "pygments_lexer": "ipython3",
   "version": "3.12.5"
  }
 },
 "nbformat": 4,
 "nbformat_minor": 5
}
