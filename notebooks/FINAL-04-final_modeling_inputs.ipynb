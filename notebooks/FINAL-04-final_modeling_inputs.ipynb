{
 "cells": [
  {
   "cell_type": "markdown",
   "id": "7f7d0ff6-6e53-4f0b-9985-21fb7dd1b726",
   "metadata": {},
   "source": [
    "# Final Modeling"
   ]
  },
  {
   "cell_type": "code",
   "execution_count": 1,
   "id": "2ac376a5-82c2-4085-873a-60f1fa4b4aeb",
   "metadata": {},
   "outputs": [],
   "source": [
    "import numpy as np\n",
    "import pandas as pd\n",
    "from sklearn.feature_extraction.text import CountVectorizer\n",
    "from sklearn.metrics.pairwise import cosine_similarity\n",
    "from sklearn.preprocessing import OneHotEncoder\n",
    "from scipy.sparse import hstack\n",
    "import re\n",
    "import ast\n",
    "import joblib"
   ]
  },
  {
   "cell_type": "code",
   "execution_count": 3,
   "id": "ac7b5a18-a38b-4421-90e7-85298dcc7bdd",
   "metadata": {},
   "outputs": [],
   "source": [
    "# Load data\n",
    "def load_data(path):\n",
    "\n",
    "    df = pd.read_csv(path)\n",
    "\n",
    "    return df"
   ]
  },
  {
   "cell_type": "code",
   "execution_count": 5,
   "id": "43d4e806-9fdb-479c-8bd7-ce27076f5a40",
   "metadata": {},
   "outputs": [],
   "source": [
    "recipe_df_filtered = load_data('recipe_df_filtered_2.csv')"
   ]
  },
  {
   "cell_type": "code",
   "execution_count": 7,
   "id": "a45fe89c-8986-42d9-a358-04198efab05e",
   "metadata": {},
   "outputs": [
    {
     "data": {
      "text/plain": [
       "title                       0\n",
       "link                        0\n",
       "source                      0\n",
       "serving_size                0\n",
       "ingredient_counter          0\n",
       "Meal_Type                   0\n",
       "ingredient_list             9\n",
       "preparation_instructions    0\n",
       "ingredient_measures         0\n",
       "dtype: int64"
      ]
     },
     "execution_count": 7,
     "metadata": {},
     "output_type": "execute_result"
    }
   ],
   "source": [
    "recipe_df_filtered.isna().sum()"
   ]
  },
  {
   "cell_type": "code",
   "execution_count": 9,
   "id": "88359340-52d8-4233-83fc-7d3a3c354bff",
   "metadata": {},
   "outputs": [],
   "source": [
    "recipe_df_filtered.dropna(subset = ['ingredient_list'], inplace = True)"
   ]
  },
  {
   "cell_type": "code",
   "execution_count": 11,
   "id": "85574abf-b31a-4496-8eb3-5e5558e72b75",
   "metadata": {},
   "outputs": [
    {
     "data": {
      "text/plain": [
       "title                       0\n",
       "link                        0\n",
       "source                      0\n",
       "serving_size                0\n",
       "ingredient_counter          0\n",
       "Meal_Type                   0\n",
       "ingredient_list             0\n",
       "preparation_instructions    0\n",
       "ingredient_measures         0\n",
       "dtype: int64"
      ]
     },
     "execution_count": 11,
     "metadata": {},
     "output_type": "execute_result"
    }
   ],
   "source": [
    "recipe_df_filtered.isna().sum()"
   ]
  },
  {
   "cell_type": "code",
   "execution_count": 64,
   "id": "c32e2db8-a34d-481c-ab1f-cd757c838ba5",
   "metadata": {},
   "outputs": [
    {
     "data": {
      "text/plain": [
       "(60808, 9)"
      ]
     },
     "execution_count": 64,
     "metadata": {},
     "output_type": "execute_result"
    }
   ],
   "source": [
    "recipe_df_filtered.shape"
   ]
  },
  {
   "cell_type": "code",
   "execution_count": 60,
   "id": "7c376976-4fb3-4e60-9bf7-bfd90cfa8205",
   "metadata": {},
   "outputs": [],
   "source": [
    "recipe_df_filtered.to_csv('recipe_df_filtered_3.csv', index = False, sep =',', lineterminator='\\n')"
   ]
  },
  {
   "cell_type": "code",
   "execution_count": 27,
   "id": "606c09bb-e344-40ba-9eaf-d241de1f06af",
   "metadata": {},
   "outputs": [],
   "source": [
    "# Function to vectorize ingredients list\n",
    "\n",
    "def vectorizer(sampled_data, column):\n",
    "    vectorizer = CountVectorizer()\n",
    "    ingredients_matrix = vectorizer.fit_transform(sampled_data[column])\n",
    "\n",
    "    return ingredients_matrix, vectorizer"
   ]
  },
  {
   "cell_type": "code",
   "execution_count": 27,
   "id": "e69866d8-a60f-48c1-9f06-abffae9c47bf",
   "metadata": {},
   "outputs": [
    {
     "data": {
      "text/plain": [
       "'dinner'"
      ]
     },
     "execution_count": 27,
     "metadata": {},
     "output_type": "execute_result"
    }
   ],
   "source": [
    "meal_type_selected"
   ]
  },
  {
   "cell_type": "code",
   "execution_count": 29,
   "id": "67da8330-012c-4c3d-bee1-00b2ee071f74",
   "metadata": {},
   "outputs": [],
   "source": [
    "ingredients_matrix, vectorizer = vectorizer(recipe_df_filtered, 'ingredient_list')"
   ]
  },
  {
   "cell_type": "code",
   "execution_count": 28,
   "id": "22430244-544f-444a-9708-40fd66a72409",
   "metadata": {},
   "outputs": [
    {
     "data": {
      "text/plain": [
       "['ingredients_matrix.pkl']"
      ]
     },
     "execution_count": 28,
     "metadata": {},
     "output_type": "execute_result"
    }
   ],
   "source": [
    "# saving sparse matrix\n",
    "joblib.dump(ingredients_matrix, 'ingredients_matrix.pkl')"
   ]
  },
  {
   "cell_type": "code",
   "execution_count": 32,
   "id": "52383c88-43d7-46c7-8b68-0bce58c13372",
   "metadata": {},
   "outputs": [
    {
     "data": {
      "text/plain": [
       "['vectorizer.pkl']"
      ]
     },
     "execution_count": 32,
     "metadata": {},
     "output_type": "execute_result"
    }
   ],
   "source": [
    "# saving vectorizer for later use\n",
    "joblib.dump(vectorizer_instance, 'vectorizer.pkl')"
   ]
  },
  {
   "cell_type": "code",
   "execution_count": 63,
   "id": "9db0d7c9-f080-4bfa-824a-6da19c765a51",
   "metadata": {},
   "outputs": [],
   "source": [
    "# Encode meal type\n",
    "meal_type_encoder = OneHotEncoder(sparse_output=True)\n",
    "meal_type_matrix = meal_type_encoder.fit_transform(recipe_df_filtered[['Meal_Type']])"
   ]
  },
  {
   "cell_type": "code",
   "execution_count": 13,
   "id": "daf9e1b8-6e4c-4db5-b0e0-644c1d7e5d37",
   "metadata": {},
   "outputs": [],
   "source": [
    "def create_combined_matrix(data):\n",
    "    # Vectorize the ingredients\n",
    "    vectorizer = CountVectorizer()\n",
    "    ingredients_matrix = vectorizer.fit_transform(recipe_df_filtered['ingredient_list'])\n",
    "\n",
    "    # One-hot encode meal types\n",
    "    encoder = OneHotEncoder(sparse_output=True)  # Use sparse_output\n",
    "    meal_type_matrix = encoder.fit_transform(recipe_df_filtered[['Meal_Type']])\n",
    "\n",
    "    # Combine both matrices\n",
    "    combined_matrix = hstack([ingredients_matrix, meal_type_matrix])\n",
    "\n",
    "    return combined_matrix, vectorizer, encoder"
   ]
  },
  {
   "cell_type": "code",
   "execution_count": 15,
   "id": "4f017caa-a1d1-482f-9dbe-dc392e00d0b5",
   "metadata": {},
   "outputs": [],
   "source": [
    "recipe_df_filtered.reset_index(drop=True, inplace=True)"
   ]
  },
  {
   "cell_type": "code",
   "execution_count": 17,
   "id": "10c262e4-d566-44c6-a6ad-ffa3c56c0a29",
   "metadata": {},
   "outputs": [],
   "source": [
    "combined_matrix, vectorizer, encoder = create_combined_matrix(recipe_df_filtered)"
   ]
  },
  {
   "cell_type": "code",
   "execution_count": 19,
   "id": "ab290c70-779c-43ca-a7e8-741d53009983",
   "metadata": {},
   "outputs": [
    {
     "data": {
      "text/plain": [
       "['meal_type_encoder.pkl']"
      ]
     },
     "execution_count": 19,
     "metadata": {},
     "output_type": "execute_result"
    }
   ],
   "source": [
    "joblib.dump(combined_matrix, 'combined_matrix.pkl')\n",
    "joblib.dump(vectorizer, 'ingredients_vectorizer.pkl')\n",
    "joblib.dump(encoder, 'meal_type_encoder.pkl')"
   ]
  },
  {
   "cell_type": "code",
   "execution_count": 21,
   "id": "7926c6fd-457c-45f7-a399-de5a20cac73f",
   "metadata": {},
   "outputs": [],
   "source": [
    "# Test"
   ]
  },
  {
   "cell_type": "code",
   "execution_count": 23,
   "id": "a5333721-849b-4550-9b9b-564f88f2fc38",
   "metadata": {},
   "outputs": [],
   "source": [
    "combined_matrix = joblib.load('combined_matrix.pkl')"
   ]
  },
  {
   "cell_type": "code",
   "execution_count": 25,
   "id": "4ddda451-85d5-437c-ac32-7858ddb1e7a6",
   "metadata": {},
   "outputs": [],
   "source": [
    "loaded_vectorizer = joblib.load('ingredients_vectorizer.pkl')"
   ]
  },
  {
   "cell_type": "code",
   "execution_count": 27,
   "id": "66c49468-2749-452a-9da4-125a1b75d2cb",
   "metadata": {},
   "outputs": [],
   "source": [
    "loaded_encoder = joblib.load('meal_type_encoder.pkl')"
   ]
  },
  {
   "cell_type": "code",
   "execution_count": 29,
   "id": "508ad3be-c978-4c30-ad80-807ca3858983",
   "metadata": {},
   "outputs": [],
   "source": [
    "user_input = ['beef, carrots, onion, potato']\n",
    "meal_type_selected = 'dinner'"
   ]
  },
  {
   "cell_type": "code",
   "execution_count": 31,
   "id": "adb5cffd-e293-4c1d-bbb4-9592ea07000c",
   "metadata": {},
   "outputs": [],
   "source": [
    "user_ingredients_vector = loaded_vectorizer.transform(user_input)"
   ]
  },
  {
   "cell_type": "code",
   "execution_count": 33,
   "id": "96a66e8e-159a-4e4b-99eb-e3029da4739f",
   "metadata": {},
   "outputs": [
    {
     "name": "stderr",
     "output_type": "stream",
     "text": [
      "C:\\Users\\cryst\\anaconda3\\envs\\capstone_env\\Lib\\site-packages\\sklearn\\base.py:493: UserWarning: X does not have valid feature names, but OneHotEncoder was fitted with feature names\n",
      "  warnings.warn(\n"
     ]
    }
   ],
   "source": [
    "meal_type_vector = loaded_encoder.transform([[meal_type_selected]])"
   ]
  },
  {
   "cell_type": "code",
   "execution_count": 35,
   "id": "84d108e9-a6f1-4c4c-8980-f7fa5ba2c67a",
   "metadata": {},
   "outputs": [],
   "source": [
    "user_vector = hstack([user_ingredients_vector, meal_type_vector])"
   ]
  },
  {
   "cell_type": "code",
   "execution_count": 37,
   "id": "ce12e195-739d-4004-9ebc-fee3d401a2e8",
   "metadata": {},
   "outputs": [],
   "source": [
    "filtered_recipes = recipe_df_filtered[recipe_df_filtered['Meal_Type'] == meal_type_selected]"
   ]
  },
  {
   "cell_type": "code",
   "execution_count": 39,
   "id": "5e53593f-51bb-4ce8-a381-509654336a97",
   "metadata": {},
   "outputs": [],
   "source": [
    "filtered_matrix = combined_matrix[filtered_recipes.index]"
   ]
  },
  {
   "cell_type": "code",
   "execution_count": 41,
   "id": "7195501e-2bbd-418d-980a-2d683365a285",
   "metadata": {},
   "outputs": [],
   "source": [
    "similarities = cosine_similarity(user_vector, filtered_matrix)"
   ]
  },
  {
   "cell_type": "code",
   "execution_count": 43,
   "id": "817a4e56-fdf7-41c4-a54e-b4daed607d89",
   "metadata": {},
   "outputs": [],
   "source": [
    "top_indices = similarities[0].argsort()[-5:][::-1]"
   ]
  },
  {
   "cell_type": "code",
   "execution_count": 45,
   "id": "cb3bd208-81d6-4974-9114-d016abd227aa",
   "metadata": {},
   "outputs": [],
   "source": [
    "recommended_recipes = filtered_recipes.iloc[top_indices]"
   ]
  },
  {
   "cell_type": "code",
   "execution_count": 47,
   "id": "6282a32f-f213-4fa9-bc6c-fbfc5450d2c1",
   "metadata": {},
   "outputs": [
    {
     "name": "stdout",
     "output_type": "stream",
     "text": [
      "- Tender Pot Roast\n",
      "- Mother's Lentil Soup Recipe\n",
      "- Lo-Cal, Low-Fat Hot Dog Stir-Fry\n",
      "- Easy Pattie Dish\n",
      "- Speedy Shepherd'S Pie\n"
     ]
    }
   ],
   "source": [
    "for index, row in recommended_recipes.iterrows():\n",
    "    print(f\"- {row['title']}\")"
   ]
  },
  {
   "cell_type": "code",
   "execution_count": null,
   "id": "ff733d70-8118-4a27-aed5-bef1149be57e",
   "metadata": {},
   "outputs": [],
   "source": [
    "# Same as above but displays the dataframe with more information"
   ]
  },
  {
   "cell_type": "code",
   "execution_count": 53,
   "id": "3b091b49-488d-435c-b729-ed4f2c84df10",
   "metadata": {},
   "outputs": [],
   "source": [
    "sim_df = pd.DataFrame({\n",
    "        'recipe': filtered_recipes['title'],\n",
    "        'ingredients list': filtered_recipes['ingredient_list'],\n",
    "        'serving size': filtered_recipes['serving_size'],\n",
    "        'instructions': filtered_recipes['preparation_instructions'],\n",
    "        'measures': filtered_recipes['ingredient_measures'],\n",
    "        'similarity': np.array(similarities).squeeze()\n",
    "    })"
   ]
  },
  {
   "cell_type": "code",
   "execution_count": 55,
   "id": "535319b5-7538-4123-9a2b-091ce7900cfb",
   "metadata": {},
   "outputs": [],
   "source": [
    "top_similar_recipes = sim_df.sort_values(by='similarity', ascending=False).head(5)"
   ]
  },
  {
   "cell_type": "code",
   "execution_count": 57,
   "id": "986d86d0-365c-4b9d-a7c9-0341f89bd3f2",
   "metadata": {},
   "outputs": [
    {
     "data": {
      "text/html": [
       "<div>\n",
       "<style scoped>\n",
       "    .dataframe tbody tr th:only-of-type {\n",
       "        vertical-align: middle;\n",
       "    }\n",
       "\n",
       "    .dataframe tbody tr th {\n",
       "        vertical-align: top;\n",
       "    }\n",
       "\n",
       "    .dataframe thead th {\n",
       "        text-align: right;\n",
       "    }\n",
       "</style>\n",
       "<table border=\"1\" class=\"dataframe\">\n",
       "  <thead>\n",
       "    <tr style=\"text-align: right;\">\n",
       "      <th></th>\n",
       "      <th>recipe</th>\n",
       "      <th>ingredients list</th>\n",
       "      <th>serving size</th>\n",
       "      <th>instructions</th>\n",
       "      <th>measures</th>\n",
       "      <th>similarity</th>\n",
       "    </tr>\n",
       "  </thead>\n",
       "  <tbody>\n",
       "    <tr>\n",
       "      <th>36624</th>\n",
       "      <td>Tender Pot Roast</td>\n",
       "      <td>beef, onion, carrots, potato, onion</td>\n",
       "      <td>5</td>\n",
       "      <td>Moisten both sides of the roast with water and...</td>\n",
       "      <td>3 lb. beef arm roast, Microshake onion and gar...</td>\n",
       "      <td>0.948683</td>\n",
       "    </tr>\n",
       "    <tr>\n",
       "      <th>53282</th>\n",
       "      <td>Mother's Lentil Soup Recipe</td>\n",
       "      <td>beef, onion, dry lentils, potato, carrots</td>\n",
       "      <td>4</td>\n",
       "      <td>Brown meat in a large saucepan., Add in salt, ...</td>\n",
       "      <td>1 1/2 pound beef (chuck), cut into sm. pcs, 1 ...</td>\n",
       "      <td>0.845154</td>\n",
       "    </tr>\n",
       "    <tr>\n",
       "      <th>41632</th>\n",
       "      <td>Lo-Cal, Low-Fat Hot Dog Stir-Fry</td>\n",
       "      <td>potato, zucchini, carrots, onion</td>\n",
       "      <td>1</td>\n",
       "      <td>Spray skillet or wok with Pam., Heat 1 teaspoo...</td>\n",
       "      <td>4 oz. baked potato, 1 c. zucchini, 1/2 c. carr...</td>\n",
       "      <td>0.800000</td>\n",
       "    </tr>\n",
       "    <tr>\n",
       "      <th>22826</th>\n",
       "      <td>Easy Pattie Dish</td>\n",
       "      <td>hamburger, potato, carrots, onion</td>\n",
       "      <td>6</td>\n",
       "      <td>Put patties in foil., Top with potatoes, onion...</td>\n",
       "      <td>6 hamburger patties, 1 large potato, sliced, c...</td>\n",
       "      <td>0.800000</td>\n",
       "    </tr>\n",
       "    <tr>\n",
       "      <th>29895</th>\n",
       "      <td>Speedy Shepherd'S Pie</td>\n",
       "      <td>lean ground beef, onion, carrots, beef broth, ...</td>\n",
       "      <td>4</td>\n",
       "      <td>In 10-inch nonstick skillet, cook beef over me...</td>\n",
       "      <td>12 oz. lean ground beef, 1/2 c. chopped onion,...</td>\n",
       "      <td>0.774597</td>\n",
       "    </tr>\n",
       "  </tbody>\n",
       "</table>\n",
       "</div>"
      ],
      "text/plain": [
       "                                 recipe  \\\n",
       "36624                  Tender Pot Roast   \n",
       "53282       Mother's Lentil Soup Recipe   \n",
       "41632  Lo-Cal, Low-Fat Hot Dog Stir-Fry   \n",
       "22826                  Easy Pattie Dish   \n",
       "29895             Speedy Shepherd'S Pie   \n",
       "\n",
       "                                        ingredients list  serving size  \\\n",
       "36624                beef, onion, carrots, potato, onion             5   \n",
       "53282          beef, onion, dry lentils, potato, carrots             4   \n",
       "41632                   potato, zucchini, carrots, onion             1   \n",
       "22826                  hamburger, potato, carrots, onion             6   \n",
       "29895  lean ground beef, onion, carrots, beef broth, ...             4   \n",
       "\n",
       "                                            instructions  \\\n",
       "36624  Moisten both sides of the roast with water and...   \n",
       "53282  Brown meat in a large saucepan., Add in salt, ...   \n",
       "41632  Spray skillet or wok with Pam., Heat 1 teaspoo...   \n",
       "22826  Put patties in foil., Top with potatoes, onion...   \n",
       "29895  In 10-inch nonstick skillet, cook beef over me...   \n",
       "\n",
       "                                                measures  similarity  \n",
       "36624  3 lb. beef arm roast, Microshake onion and gar...    0.948683  \n",
       "53282  1 1/2 pound beef (chuck), cut into sm. pcs, 1 ...    0.845154  \n",
       "41632  4 oz. baked potato, 1 c. zucchini, 1/2 c. carr...    0.800000  \n",
       "22826  6 hamburger patties, 1 large potato, sliced, c...    0.800000  \n",
       "29895  12 oz. lean ground beef, 1/2 c. chopped onion,...    0.774597  "
      ]
     },
     "execution_count": 57,
     "metadata": {},
     "output_type": "execute_result"
    }
   ],
   "source": [
    "top_similar_recipes"
   ]
  }
 ],
 "metadata": {
  "kernelspec": {
   "display_name": "capstone_env",
   "language": "python",
   "name": "capstone_env"
  },
  "language_info": {
   "codemirror_mode": {
    "name": "ipython",
    "version": 3
   },
   "file_extension": ".py",
   "mimetype": "text/x-python",
   "name": "python",
   "nbconvert_exporter": "python",
   "pygments_lexer": "ipython3",
   "version": "3.12.5"
  }
 },
 "nbformat": 4,
 "nbformat_minor": 5
}
